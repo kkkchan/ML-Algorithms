{
 "cells": [
  {
   "cell_type": "markdown",
   "metadata": {},
   "source": [
    "# HAN复现，使用tensorflow2\n",
    "\n",
    "HAN全称：Heterogeneous Graph Attention Network[^1]。本notebook中**使用数据集ACM按照论证中相同的数据预处理，然后进行实验**。\n",
    "\n",
    "[^1]: Wang X, Ji H, Shi C, et al. Heterogeneous graph attention network[C]//The World Wide Web Conference. 2019: 2022-2032."
   ]
  },
  {
   "cell_type": "markdown",
   "metadata": {},
   "source": [
    "# 基本思想\n",
    "\n",
    "分层式注意力机制。\n",
    "\n",
    "通过Meta-path，结合Random Walk进行边的采样，构建多组Meta-path，每组Meta-path中，对目标节点作为起始点采样邻接点(Random Walk下的邻接点)，通过注意力机制进行信息传递，这一层注意力机制称之为：**Node-level Attention**。\n",
    "\n",
    "对于多组Meta-path，也通过一层注意力机制进行消息传递，这一层注意力机制称之为：**Semantic-level Attention**。"
   ]
  },
  {
   "cell_type": "markdown",
   "metadata": {},
   "source": [
    "# 工作流\n",
    "\n",
    "1. 对于所有输入节点，先通过转移矩阵变换到同一空间（相同类型节点使用一个转移矩阵，不同类型节点使用不同转移矩阵）。\n",
    "2. 对于一条Meta-path上的一个节点，计算与Meta-path上邻接点的注意力系数。\n",
    "3. 分别按照每条Meta-path进行节点表示更新\n",
    "4. 聚合多条Meta-path上的节点表示。注：虽然这层引入了转移矩阵，只用于计算注意力系数，但是并不影响输出的维度。\n",
    "\n",
    "# 创新\n",
    "\n",
    "- 第一次尝试通过基于注意力机制的异质图神经网络研究。\n",
    "- 提出了一个新颖的双层注意力框架，同时考虑节点和Meta-path的重要性。\n",
    "- 复杂度是基于元路径节点对的线性。"
   ]
  },
  {
   "cell_type": "code",
   "execution_count": 1,
   "metadata": {},
   "outputs": [],
   "source": [
    "import numpy as np\n",
    "import matplotlib.pyplot as plt\n",
    "import gc\n",
    "import os\n",
    "import tensorflow as tf\n",
    "import scipy.io as sio\n",
    "import scipy.sparse as sp\n",
    "from tensorflow import keras\n",
    "import warnings\n",
    "from pathlib import Path\n",
    "import pickle"
   ]
  },
  {
   "cell_type": "markdown",
   "metadata": {},
   "source": [
    "# 1. 导入数据"
   ]
  },
  {
   "cell_type": "code",
   "execution_count": 2,
   "metadata": {},
   "outputs": [
    {
     "data": {
      "text/plain": [
       "True"
      ]
     },
     "execution_count": 2,
     "metadata": {},
     "output_type": "execute_result"
    }
   ],
   "source": [
    "data_path = Path('../datasets/ACM/ACM3025.mat')\n",
    "data_path.exists()"
   ]
  },
  {
   "cell_type": "code",
   "execution_count": 3,
   "metadata": {},
   "outputs": [
    {
     "data": {
      "text/plain": [
       "PosixPath('../datasets/ACM/ACM3025.mat')"
      ]
     },
     "execution_count": 3,
     "metadata": {},
     "output_type": "execute_result"
    }
   ],
   "source": [
    "data_path"
   ]
  },
  {
   "cell_type": "code",
   "execution_count": 4,
   "metadata": {},
   "outputs": [
    {
     "data": {
      "text/plain": [
       "dict_keys(['__header__', '__version__', '__globals__', 'PTP', 'PLP', 'PAP', 'feature', 'label', 'train_idx', 'val_idx', 'test_idx'])"
      ]
     },
     "execution_count": 4,
     "metadata": {},
     "output_type": "execute_result"
    }
   ],
   "source": [
    "data = sio.loadmat(data_path)\n",
    "data.keys()"
   ]
  },
  {
   "cell_type": "code",
   "execution_count": 5,
   "metadata": {},
   "outputs": [],
   "source": [
    "features = data['feature'].astype(np.float32)\n",
    "# papers-subjects-papers\n",
    "PSP = data['PLP'].astype(np.float32)\n",
    "# papers-authors-papers\n",
    "PAP = data['PAP'].astype(np.float32)\n",
    "labels = data['label'].astype(np.float32)\n",
    "train_idx, val_idx, test_idx = data['train_idx'], data['val_idx'], data['test_idx']"
   ]
  },
  {
   "cell_type": "code",
   "execution_count": 6,
   "metadata": {},
   "outputs": [],
   "source": [
    "labels = np.argmax(labels, axis=1)"
   ]
  },
  {
   "cell_type": "code",
   "execution_count": 9,
   "metadata": {},
   "outputs": [],
   "source": [
    "node_num = features.shape[0]\n",
    "feature_dim = features.shape[1]\n",
    "num_classes = 3"
   ]
  },
  {
   "cell_type": "code",
   "execution_count": 10,
   "metadata": {},
   "outputs": [],
   "source": [
    "base = np.zeros(shape=(node_num, ), dtype=np.bool)\n",
    "train_mask = np.copy(base)\n",
    "val_mask = np.copy(base)\n",
    "test_mask = np.copy(base)\n",
    "\n",
    "train_mask[train_idx] = True\n",
    "val_mask[val_idx] = True\n",
    "test_mask[test_idx] = True"
   ]
  },
  {
   "cell_type": "code",
   "execution_count": 11,
   "metadata": {},
   "outputs": [],
   "source": [
    "data_path_ = data_path.parent / 'acm_data.pkl'"
   ]
  },
  {
   "cell_type": "code",
   "execution_count": 12,
   "metadata": {},
   "outputs": [],
   "source": [
    "data_ = {'features': features, 'labels':labels, 'PSP':PSP, \n",
    "         'PAP':PAP, 'train_mask':train_mask, 'val_mask':val_mask,\n",
    "        'test_mask': test_mask}\n",
    "pickle.dump(data_, data_path_.open('wb'))"
   ]
  },
  {
   "cell_type": "markdown",
   "metadata": {},
   "source": [
    "# 2. NodeAttention"
   ]
  },
  {
   "cell_type": "code",
   "execution_count": 13,
   "metadata": {},
   "outputs": [],
   "source": [
    "class NodeAttention(keras.layers.Layer):\n",
    "    '''\n",
    "    virtually a GAT layer\n",
    "    '''\n",
    "    def __init__(self, \n",
    "                 units, \n",
    "                 initializer='glorot_normal', \n",
    "                 regularizer='l2', \n",
    "                 heads=1, \n",
    "                 activation='elu', \n",
    "                 dropout_rate=0.6, \n",
    "                 use_bias=False, **kwargs):\n",
    "        super().__init__(**kwargs)\n",
    "        self.units = units\n",
    "        self.heads = heads\n",
    "        self.dropout_rate = dropout_rate\n",
    "        self.use_bias = use_bias\n",
    "        \n",
    "        self.kernel_initializer = keras.initializers.get(initializer)\n",
    "        self.regularizer = keras.regularizers.get(regularizer)\n",
    "        self.activation = keras.activations.get(activation)\n",
    "        \n",
    "        self.output_dim = self.units * self.heads\n",
    "        self.kernels = []\n",
    "        if use_bias:\n",
    "            self.bias = []\n",
    "        self.att_kernels = []\n",
    "    \n",
    "    \n",
    "    def build(self, input_shape):\n",
    "        for head in range(self.heads):\n",
    "            kernel = self.add_weight(shape=(input_shape[0][-1], self.units), \n",
    "                                     initializer=self.kernel_initializer,\n",
    "                                     regularizer=self.regularizer,)\n",
    "            self.kernels.append(kernel)\n",
    "            if self.use_bias:\n",
    "                bias = self.add_weight(shape=(self.units, ), \n",
    "                                       regularizer=self.regularizer,\n",
    "                                      initializer='zeros')\n",
    "                self.bias.append(bias)\n",
    "            att_kernel_self = self.add_weight(shape=(self.units, 1), \n",
    "                                         initializer=self.kernel_initializer,\n",
    "                                         regularizer=self.regularizer)\n",
    "            att_kernel_neighbors = self.add_weight(shape=(self.units, 1), \n",
    "                                         initializer=self.kernel_initializer,\n",
    "                                         regularizer=self.regularizer)\n",
    "            self.att_kernels.append([att_kernel_self, att_kernel_neighbors])\n",
    "        super().__init__()\n",
    "    \n",
    "    \n",
    "    def call(self, inputs, training=False):\n",
    "        X, A = inputs\n",
    "        outputs = []\n",
    "        for head in range(self.heads):\n",
    "            kernel = self.kernels[head]\n",
    "            att_kernel = self.att_kernels[head]\n",
    "            \n",
    "            X_ = X @ kernel\n",
    "            att_self = X_ @ att_kernel[0]\n",
    "            att_neighbors = X_ @ att_kernel[1]\n",
    "            \n",
    "            a_weight = att_self + tf.transpose(att_neighbors)\n",
    "            a_weight = tf.nn.leaky_relu(a_weight, alpha=0.2)\n",
    "            a_weight += -10e9 * (1-A)\n",
    "            a_weight = tf.nn.softmax(a_weight)\n",
    "            \n",
    "            if training:\n",
    "                dropout_att = tf.nn.dropout(a_weight, \n",
    "                                            rate=self.dropout_rate)\n",
    "#                 dropout_X_ = tf.nn.dropout(X_, \n",
    "#                                            rate=self.dropout_rate)\n",
    "                dropout_X_ = tf.nn.dropout(X_, \n",
    "                                           rate=0.0)\n",
    "                node_features = dropout_att @ dropout_X_\n",
    "            else:\n",
    "                node_features = a_weight @ X_\n",
    "            \n",
    "            if self.use_bias:\n",
    "                node_features += self.bias[head]\n",
    "            outputs.append(node_features)\n",
    "        \n",
    "        output = tf.concat(outputs, axis=1)\n",
    "        return self.activation(output)\n",
    "    \n",
    "    def compute_output_shape(self, input_shape):\n",
    "        output_shape = input_shape[0][0], self.output_dim\n",
    "        return tf.TensorShape(output_shape)"
   ]
  },
  {
   "cell_type": "markdown",
   "metadata": {},
   "source": [
    "# 3. SemanticAttention"
   ]
  },
  {
   "cell_type": "code",
   "execution_count": 14,
   "metadata": {},
   "outputs": [],
   "source": [
    "class SemanticAttention(keras.layers.Layer):\n",
    "    def __init__(self, \n",
    "                 units,\n",
    "                 meta_paths_num,\n",
    "                 activation='linear',\n",
    "                 regularizer='l2',\n",
    "                 initializer='glorot_normal',\n",
    "                 use_bias=True):\n",
    "        super().__init__()\n",
    "        self.units = units\n",
    "        self.use_bias = use_bias\n",
    "        self.meta_paths_num = meta_paths_num\n",
    "        self.activation = keras.activations.get(activation)\n",
    "        self.regularizer = keras.regularizers.get(regularizer)\n",
    "        self.initializer = keras.initializers.get(initializer)\n",
    "    \n",
    "    def build(self, input_shape):\n",
    "        self.kernel = self.add_weight(shape=(input_shape[0][-1], self.units),\n",
    "                                 initializer=self.initializer,\n",
    "                                 regularizer=self.regularizer,)\n",
    "        if self.use_bias:\n",
    "            self.bias = self.add_weight(shape=(self.units, ),\n",
    "                                  initializer='zeros',\n",
    "                                  regularizer=self.regularizer)\n",
    "        self.att_kernel = self.add_weight(shape=(self.units, 1),\n",
    "                                    initializer=self.initializer,\n",
    "                                    regularizer=self.regularizer)\n",
    "        super().__init__()\n",
    "        \n",
    "    def call(self, inputs, training=False):\n",
    "        assert len(inputs) == self.meta_paths_num\n",
    "        \n",
    "        att_weights = [None for i in range(self.meta_paths_num)]\n",
    "        for idx in range(self.meta_paths_num):            \n",
    "            tmp = inputs[idx] @ self.kernel\n",
    "            if self.use_bias:\n",
    "                tmp += self.bias\n",
    "            tmp = tf.nn.tanh(tmp)\n",
    "            tmp = tmp @ self.att_kernel\n",
    "            tmp = tf.reduce_mean(tmp)\n",
    "            \n",
    "            att_weights[idx] = tmp\n",
    "        \n",
    "        att_weights = tf.nn.softmax(att_weights)\n",
    "        output = 0\n",
    "        for i in range(self.meta_paths_num):\n",
    "            output += att_weights[i] * inputs[i]\n",
    "        return self.activation(output)"
   ]
  },
  {
   "cell_type": "markdown",
   "metadata": {},
   "source": [
    "# 4. 参数设置\n",
    "\n",
    "- 优化器：Adam，学习率0.005\n",
    "- 参数正则化：0.001\n",
    "- semantic层注意力向量维数：128\n",
    "- 多头注意力个数：8\n",
    "- dropout rate：0.6\n",
    "- early-stopping：patience(valid loss) 100\n",
    "- loss：category crossentropy\n",
    "- metrics：Macro-F1，Micro-F1\n",
    "- activation：elu"
   ]
  },
  {
   "cell_type": "code",
   "execution_count": 26,
   "metadata": {},
   "outputs": [],
   "source": [
    "# model parameters\n",
    "batch_size  = 1\n",
    "semantic_hidden_size = 128\n",
    "att_heads   = 8\n",
    "hidden_size = 64 # hidden_size * att_heads = 64\n",
    "lr          = 0.005\n",
    "patience    = 100\n",
    "l2_coef     = 0.001\n",
    "dropout_rate= 0.6\n",
    "activation  = 'elu'\n",
    "optimizer   = keras.optimizers.Adam(learning_rate=lr)\n",
    "regularizer = keras.regularizers.L2(l2=l2_coef)\n",
    "loss        = keras.losses.SparseCategoricalCrossentropy()"
   ]
  },
  {
   "cell_type": "code",
   "execution_count": 16,
   "metadata": {},
   "outputs": [
    {
     "data": {
      "text/plain": [
       "(3025, 1870, 3)"
      ]
     },
     "execution_count": 16,
     "metadata": {},
     "output_type": "execute_result"
    }
   ],
   "source": [
    "node_num, feature_dim, num_classes"
   ]
  },
  {
   "cell_type": "markdown",
   "metadata": {},
   "source": [
    "# 5. 构建模型"
   ]
  },
  {
   "cell_type": "code",
   "execution_count": 86,
   "metadata": {},
   "outputs": [],
   "source": [
    "def HAN(node_num=node_num, \n",
    "        feature_dim=feature_dim, \n",
    "        dropout_rate=dropout_rate, \n",
    "        hidden_size=hidden_size,\n",
    "        regularizer=regularizer,\n",
    "        att_heads=att_heads,\n",
    "        semantic_hidden_size=semantic_hidden_size,\n",
    "        num_classes=num_classes\n",
    "       ):\n",
    "    X = keras.Input(shape=(feature_dim, ))\n",
    "    dropout1 = keras.layers.Dropout(dropout_rate)(X)\n",
    "    dropout2 = keras.layers.Dropout(dropout_rate)(X)\n",
    "    PSP = keras.Input(shape=(node_num, ))\n",
    "    PAP = keras.Input(shape=(node_num, ))\n",
    "    node_layer1 = NodeAttention(units=hidden_size, \n",
    "                                regularizer=regularizer, \n",
    "                                heads=att_heads, dropout_rate=dropout_rate)([dropout1, PSP])\n",
    "    node_layer2 = NodeAttention(units=hidden_size,\n",
    "                                regularizer=regularizer,\n",
    "                                heads=att_heads, dropout_rate=dropout_rate)([dropout2, PAP])\n",
    "    semantic_layer1 = SemanticAttention(units=semantic_hidden_size, \n",
    "                                       meta_paths_num=2)([node_layer1, \n",
    "                                                          node_layer2])\n",
    "    dropout3 = keras.layers.Dropout(dropout_rate)(semantic_layer1)\n",
    "    dropout4 = keras.layers.Dropout(dropout_rate)(semantic_layer1)\n",
    "    node_layer3 = NodeAttention(units=num_classes, heads=1, dropout_rate=dropout_rate, \n",
    "                                regularizer=regularizer)([dropout3, PSP])\n",
    "    node_layer4 = NodeAttention(units=num_classes, heads=1, dropout_rate=dropout_rate,\n",
    "                                regularizer=regularizer)([dropout4, PAP])\n",
    "    semantic_layer2 = SemanticAttention(units=num_classes,\n",
    "                                        meta_paths_num=2,\n",
    "                                        regularizer=regularizer,\n",
    "                                        activation='softmax' )([node_layer3, \n",
    "                                                               node_layer4])\n",
    "    model = keras.Model(inputs=[X, PSP, PAP], outputs=semantic_layer2)\n",
    "    return model"
   ]
  },
  {
   "cell_type": "markdown",
   "metadata": {},
   "source": [
    "# 6. 训练与评估"
   ]
  },
  {
   "cell_type": "markdown",
   "metadata": {},
   "source": [
    "## 6.1 采用Accuracy作为指标训练\n",
    "\n",
    "输入数据tf化，此处**仅使用Accuracy**作为评估指标"
   ]
  },
  {
   "cell_type": "code",
   "execution_count": 18,
   "metadata": {},
   "outputs": [],
   "source": [
    "labels = tf.convert_to_tensor(labels, dtype=tf.int32)\n",
    "features = tf.convert_to_tensor(features, dtype=tf.float32)\n",
    "PSP = tf.convert_to_tensor(PSP, dtype=tf.float32)\n",
    "PAP = tf.convert_to_tensor(PAP, dtype=tf.float32)\n",
    "\n",
    "train_mask = tf.convert_to_tensor(train_mask, dtype=tf.float32)\n",
    "val_mask = tf.convert_to_tensor(val_mask, dtype=tf.float32)\n",
    "test_mask = tf.convert_to_tensor(test_mask, dtype=tf.float32)"
   ]
  },
  {
   "cell_type": "code",
   "execution_count": 94,
   "metadata": {},
   "outputs": [
    {
     "name": "stdout",
     "output_type": "stream",
     "text": [
      "Epoch 1/1000\n",
      "1/1 - 1s - loss: 0.2211 - acc: 0.3500 - val_loss: 0.1023 - val_acc: 0.6567\n",
      "Epoch 2/1000\n",
      "1/1 - 0s - loss: 0.2058 - acc: 0.5750 - val_loss: 0.0851 - val_acc: 0.7933\n",
      "Epoch 3/1000\n",
      "1/1 - 0s - loss: 0.1737 - acc: 0.7150 - val_loss: 0.0788 - val_acc: 0.6467\n",
      "Epoch 4/1000\n",
      "1/1 - 0s - loss: 0.1588 - acc: 0.6850 - val_loss: 0.0642 - val_acc: 0.9500\n",
      "Epoch 5/1000\n",
      "1/1 - 0s - loss: 0.1307 - acc: 0.8533 - val_loss: 0.0498 - val_acc: 0.9467\n",
      "Epoch 6/1000\n",
      "1/1 - 0s - loss: 0.1124 - acc: 0.8833 - val_loss: 0.0365 - val_acc: 0.9533\n",
      "Epoch 7/1000\n",
      "1/1 - 0s - loss: 0.0932 - acc: 0.9017 - val_loss: 0.0319 - val_acc: 0.9400\n",
      "Epoch 8/1000\n",
      "1/1 - 0s - loss: 0.0820 - acc: 0.8933 - val_loss: 0.0330 - val_acc: 0.8200\n",
      "Epoch 9/1000\n",
      "1/1 - 0s - loss: 0.1270 - acc: 0.7667 - val_loss: 0.0305 - val_acc: 0.9200\n",
      "Epoch 10/1000\n",
      "1/1 - 0s - loss: 0.0798 - acc: 0.8617 - val_loss: 0.0294 - val_acc: 0.9133\n",
      "Epoch 11/1000\n",
      "1/1 - 0s - loss: 0.0893 - acc: 0.8383 - val_loss: 0.0203 - val_acc: 0.9467\n",
      "Epoch 12/1000\n",
      "1/1 - 0s - loss: 0.0793 - acc: 0.8817 - val_loss: 0.0174 - val_acc: 0.9767\n",
      "Epoch 13/1000\n",
      "1/1 - 0s - loss: 0.0664 - acc: 0.8967 - val_loss: 0.0200 - val_acc: 0.9633\n",
      "Epoch 14/1000\n",
      "1/1 - 0s - loss: 0.0761 - acc: 0.8833 - val_loss: 0.0208 - val_acc: 0.9600\n",
      "Epoch 15/1000\n",
      "1/1 - 0s - loss: 0.0738 - acc: 0.8867 - val_loss: 0.0181 - val_acc: 0.9667\n",
      "Epoch 16/1000\n",
      "1/1 - 0s - loss: 0.0661 - acc: 0.9017 - val_loss: 0.0154 - val_acc: 0.9733\n",
      "Epoch 17/1000\n",
      "1/1 - 0s - loss: 0.0618 - acc: 0.9017 - val_loss: 0.0150 - val_acc: 0.9667\n",
      "Epoch 18/1000\n",
      "1/1 - 0s - loss: 0.0460 - acc: 0.9233 - val_loss: 0.0164 - val_acc: 0.9433\n",
      "Epoch 19/1000\n",
      "1/1 - 0s - loss: 0.0577 - acc: 0.8850 - val_loss: 0.0180 - val_acc: 0.9400\n",
      "Epoch 20/1000\n",
      "1/1 - 0s - loss: 0.0602 - acc: 0.8750 - val_loss: 0.0170 - val_acc: 0.9433\n",
      "Epoch 21/1000\n",
      "1/1 - 0s - loss: 0.0527 - acc: 0.9100 - val_loss: 0.0146 - val_acc: 0.9500\n",
      "Epoch 22/1000\n",
      "1/1 - 0s - loss: 0.0587 - acc: 0.8900 - val_loss: 0.0118 - val_acc: 0.9600\n",
      "Epoch 23/1000\n",
      "1/1 - 0s - loss: 0.0492 - acc: 0.9133 - val_loss: 0.0105 - val_acc: 0.9700\n",
      "Epoch 24/1000\n",
      "1/1 - 0s - loss: 0.0479 - acc: 0.9350 - val_loss: 0.0101 - val_acc: 0.9700\n",
      "Epoch 25/1000\n",
      "1/1 - 0s - loss: 0.0448 - acc: 0.9333 - val_loss: 0.0117 - val_acc: 0.9700\n",
      "Epoch 26/1000\n",
      "1/1 - 0s - loss: 0.0534 - acc: 0.9183 - val_loss: 0.0117 - val_acc: 0.9700\n",
      "Epoch 27/1000\n",
      "1/1 - 0s - loss: 0.0523 - acc: 0.9150 - val_loss: 0.0097 - val_acc: 0.9667\n",
      "Epoch 28/1000\n",
      "1/1 - 0s - loss: 0.0460 - acc: 0.9217 - val_loss: 0.0090 - val_acc: 0.9700\n",
      "Epoch 29/1000\n",
      "1/1 - 0s - loss: 0.0496 - acc: 0.9233 - val_loss: 0.0089 - val_acc: 0.9700\n",
      "Epoch 30/1000\n",
      "1/1 - 0s - loss: 0.0408 - acc: 0.9367 - val_loss: 0.0088 - val_acc: 0.9767\n",
      "Epoch 31/1000\n",
      "1/1 - 0s - loss: 0.0419 - acc: 0.9500 - val_loss: 0.0087 - val_acc: 0.9767\n",
      "Epoch 32/1000\n",
      "1/1 - 0s - loss: 0.0438 - acc: 0.9400 - val_loss: 0.0084 - val_acc: 0.9733\n",
      "Epoch 33/1000\n",
      "1/1 - 0s - loss: 0.0437 - acc: 0.9267 - val_loss: 0.0086 - val_acc: 0.9667\n",
      "Epoch 34/1000\n",
      "1/1 - 0s - loss: 0.0402 - acc: 0.9400 - val_loss: 0.0105 - val_acc: 0.9667\n",
      "Epoch 35/1000\n",
      "1/1 - 0s - loss: 0.0346 - acc: 0.9417 - val_loss: 0.0126 - val_acc: 0.9667\n",
      "Epoch 36/1000\n",
      "1/1 - 0s - loss: 0.0404 - acc: 0.9283 - val_loss: 0.0093 - val_acc: 0.9767\n",
      "Epoch 37/1000\n",
      "1/1 - 0s - loss: 0.0394 - acc: 0.9367 - val_loss: 0.0092 - val_acc: 0.9767\n",
      "Epoch 38/1000\n",
      "1/1 - 0s - loss: 0.0399 - acc: 0.9417 - val_loss: 0.0096 - val_acc: 0.9700\n",
      "Epoch 39/1000\n",
      "1/1 - 0s - loss: 0.0373 - acc: 0.9433 - val_loss: 0.0094 - val_acc: 0.9700\n",
      "Epoch 40/1000\n",
      "1/1 - 0s - loss: 0.0381 - acc: 0.9350 - val_loss: 0.0088 - val_acc: 0.9767\n",
      "Epoch 41/1000\n",
      "1/1 - 0s - loss: 0.0367 - acc: 0.9500 - val_loss: 0.0083 - val_acc: 0.9767\n",
      "Epoch 42/1000\n",
      "1/1 - 0s - loss: 0.0386 - acc: 0.9350 - val_loss: 0.0092 - val_acc: 0.9633\n",
      "Epoch 43/1000\n",
      "1/1 - 0s - loss: 0.0315 - acc: 0.9583 - val_loss: 0.0124 - val_acc: 0.9667\n",
      "Epoch 44/1000\n",
      "1/1 - 0s - loss: 0.0391 - acc: 0.9450 - val_loss: 0.0125 - val_acc: 0.9633\n",
      "Epoch 45/1000\n",
      "1/1 - 0s - loss: 0.0320 - acc: 0.9483 - val_loss: 0.0101 - val_acc: 0.9633\n",
      "Epoch 46/1000\n",
      "1/1 - 0s - loss: 0.0386 - acc: 0.9400 - val_loss: 0.0088 - val_acc: 0.9633\n",
      "Epoch 47/1000\n",
      "1/1 - 0s - loss: 0.0299 - acc: 0.9633 - val_loss: 0.0084 - val_acc: 0.9700\n",
      "Epoch 48/1000\n",
      "1/1 - 0s - loss: 0.0388 - acc: 0.9500 - val_loss: 0.0083 - val_acc: 0.9800\n",
      "Epoch 49/1000\n",
      "1/1 - 0s - loss: 0.0389 - acc: 0.9517 - val_loss: 0.0084 - val_acc: 0.9767\n",
      "Epoch 50/1000\n",
      "1/1 - 0s - loss: 0.0321 - acc: 0.9567 - val_loss: 0.0085 - val_acc: 0.9800\n",
      "Epoch 51/1000\n",
      "1/1 - 0s - loss: 0.0312 - acc: 0.9517 - val_loss: 0.0085 - val_acc: 0.9800\n",
      "Epoch 52/1000\n",
      "1/1 - 0s - loss: 0.0298 - acc: 0.9633 - val_loss: 0.0082 - val_acc: 0.9800\n",
      "Epoch 53/1000\n",
      "1/1 - 0s - loss: 0.0347 - acc: 0.9550 - val_loss: 0.0079 - val_acc: 0.9833\n",
      "Epoch 54/1000\n",
      "1/1 - 0s - loss: 0.0289 - acc: 0.9583 - val_loss: 0.0078 - val_acc: 0.9833\n",
      "\n",
      "1/1 - 0s - loss: 0.0074 - acc: 0.9917\n",
      "[0.007422575727105141, 0.9916666746139526]\n",
      "1/1 - 0s - loss: 0.0078 - acc: 0.9833\n",
      "[0.007810815237462521, 0.9833333492279053]\n",
      "1/1 - 0s - loss: 0.2269 - acc: 0.8932\n",
      "[0.2269483357667923, 0.8931764960289001]\n"
     ]
    },
    {
     "data": {
      "image/png": "[encoded data removed]",
      "text/plain": [
       "<Figure size 432x288 with 1 Axes>"
      ]
     },
     "metadata": {
      "needs_background": "light"
     },
     "output_type": "display_data"
    }
   ],
   "source": [
    "optimizer   = keras.optimizers.Adam(learning_rate=0.005)\n",
    "regularizer = keras.regularizers.L2(l2=0.005)\n",
    "es_min_delta = 0.01\n",
    "es_patience = 30\n",
    "epochs = 1000\n",
    "dropout_rate = 0.55\n",
    "hidden_size = 8\n",
    "\n",
    "model = HAN(dropout_rate=dropout_rate, hidden_size=hidden_size)\n",
    "model.compile(optimizer=optimizer, \n",
    "              weighted_metrics=['acc'],\n",
    "              loss='sparse_categorical_crossentropy')\n",
    "\n",
    "es_callback = keras.callbacks.EarlyStopping(monitor='val_loss', \n",
    "                                            patience=es_patience, \n",
    "                                            min_delta=es_min_delta)\n",
    "\n",
    "val_data = ([features, PSP, PAP], labels, val_mask)\n",
    "history = model.fit([features, PSP, PAP], labels,\n",
    "          sample_weight=train_mask,\n",
    "          batch_size=node_num,\n",
    "          epochs=epochs,\n",
    "          validation_data=val_data,\n",
    "          shuffle=False, verbose=2, callbacks=es_callback)\n",
    "for i, item in history.history.items():\n",
    "    plt.plot(item, label=i)\n",
    "plt.legend()\n",
    "\n",
    "print()\n",
    "for i in [train_mask, val_mask, test_mask]:\n",
    "    print(model.evaluate([features, PSP, PAP], labels, sample_weight=i, batch_size=node_num, verbose=2))"
   ]
  },
  {
   "cell_type": "markdown",
   "metadata": {},
   "source": [
    "## 6.2 使用Macro F1和Micro F1作为指标进行训练\n",
    "\n",
    "自定义训练循环，并**使用Micro F1和Macro F1**作为评估指标。"
   ]
  },
  {
   "cell_type": "code",
   "execution_count": 24,
   "metadata": {},
   "outputs": [],
   "source": [
    "import tensorflow_addons as tfa"
   ]
  },
  {
   "cell_type": "code",
   "execution_count": 27,
   "metadata": {},
   "outputs": [],
   "source": [
    "# @tf.function\n",
    "def train_model(model, inputs, labels, \n",
    "                mask, f1_macro, f1_micro,\n",
    "                num_classes=num_classes,\n",
    "                optimizer=optimizer, loss=loss):\n",
    "    with tf.GradientTape() as tape:\n",
    "        y_preds = model(inputs, training=True)\n",
    "        cur_loss = loss(labels, y_preds, sample_weight=mask)\n",
    "\n",
    "    gradients = tape.gradient(cur_loss, model.trainable_variables)\n",
    "    optimizer.apply_gradients(zip(gradients, model.trainable_variables))\n",
    "    \n",
    "    f1_macro.update_state(tf.one_hot(labels, \n",
    "                                            depth=num_classes), \n",
    "                                 y_preds, sample_weight=mask)\n",
    "    f1_micro.update_state(tf.one_hot(labels, \n",
    "                                            depth=num_classes), \n",
    "                                 y_preds, sample_weight=mask)\n",
    "    \n",
    "    f1_macro_result = f1_macro.result()\n",
    "    f1_micro_result = f1_micro.result()\n",
    "    print(f'loss: {cur_loss.numpy()} - '\n",
    "          f'macro_f1: {f1_macro_result.numpy()} - '\n",
    "          f'micro_f1: {f1_micro_result.numpy()} - ', end='')\n",
    "    f1_macro.reset_states()\n",
    "    f1_micro.reset_states()\n",
    "    \n",
    "    # 用于Early Stopping\n",
    "    return cur_loss, f1_macro_result, f1_micro_result\n",
    "\n",
    "# @tf.function\n",
    "def evaluate_model(model, inputs, labels, \n",
    "                   mask, f1_macro, f1_micro, \n",
    "                   loss=loss, type_='val'):\n",
    "    y_preds = model(inputs, training=False)\n",
    "    cur_loss = loss(labels, y_preds, sample_weight=mask)\n",
    "    \n",
    "    f1_macro.update_state(tf.one_hot(labels, \n",
    "                                            depth=num_classes), \n",
    "                                 y_preds, sample_weight=mask)\n",
    "    f1_micro.update_state(tf.one_hot(labels, \n",
    "                                            depth=num_classes), \n",
    "                                 y_preds, sample_weight=mask)\n",
    "    \n",
    "    f1_macro_result = f1_macro.result()\n",
    "    f1_micro_result = f1_micro.result()\n",
    "    print(f'{type_}_loss: {cur_loss.numpy()} - '\n",
    "          f'{type_}_macro_f1: {f1_macro_result.numpy()} - '\n",
    "          f'{type_}_micro_f1: {f1_macro_result.numpy()}')\n",
    "    f1_macro.reset_states()\n",
    "    f1_micro.reset_states()\n",
    "    \n",
    "    # 用于Early Stopping\n",
    "    return cur_loss, f1_macro_result, f1_micro_result"
   ]
  },
  {
   "cell_type": "code",
   "execution_count": 95,
   "metadata": {},
   "outputs": [
    {
     "name": "stdout",
     "output_type": "stream",
     "text": [
      "epoch: 1 - loss: 0.2196810096502304 - macro_f1: 0.3249158561229706 - micro_f1: 0.3449999988079071 - val_loss: 0.07828947901725769 - val_macro_f1: 0.5615355372428894 - val_micro_f1: 0.5615355372428894\n",
      "epoch: 2 - loss: 0.16200777888298035 - macro_f1: 0.6232967972755432 - micro_f1: 0.653333306312561 - val_loss: 0.05558392405509949 - val_macro_f1: 0.5731135606765747 - val_micro_f1: 0.5731135606765747\n",
      "epoch: 3 - loss: 0.16570624709129333 - macro_f1: 0.5888868570327759 - micro_f1: 0.6666666865348816 - val_loss: 0.14208956062793732 - val_macro_f1: 0.4886143207550049 - val_micro_f1: 0.4886143207550049\n",
      "epoch: 4 - loss: 0.32567688822746277 - macro_f1: 0.49149179458618164 - micro_f1: 0.6029900908470154 - val_loss: 0.05089815333485603 - val_macro_f1: 0.7672169804573059 - val_micro_f1: 0.7672169804573059\n",
      "epoch: 5 - loss: 0.15552569925785065 - macro_f1: 0.6100510358810425 - micro_f1: 0.6600000262260437 - val_loss: 0.20504051446914673 - val_macro_f1: 0.1666666716337204 - val_micro_f1: 0.1666666716337204\n",
      "epoch: 6 - loss: 0.34311968088150024 - macro_f1: 0.25487425923347473 - micro_f1: 0.3566666841506958 - val_loss: 0.14110730588436127 - val_macro_f1: 0.5374525189399719 - val_micro_f1: 0.5374525189399719\n",
      "epoch: 7 - loss: 0.23047494888305664 - macro_f1: 0.5746392607688904 - micro_f1: 0.6433333158493042 - val_loss: 0.06490521132946014 - val_macro_f1: 0.5399467349052429 - val_micro_f1: 0.5399467349052429\n",
      "epoch: 8 - loss: 0.1429280787706375 - macro_f1: 0.6778650879859924 - micro_f1: 0.6955074667930603 - val_loss: 0.10354132950305939 - val_macro_f1: 0.5377609729766846 - val_micro_f1: 0.5377609729766846\n",
      "epoch: 9 - loss: 0.38719993829727173 - macro_f1: 0.47754982113838196 - micro_f1: 0.5512073040008545 - val_loss: 0.06140595301985741 - val_macro_f1: 0.5333061814308167 - val_micro_f1: 0.5333061814308167\n",
      "epoch: 10 - loss: 0.5382054448127747 - macro_f1: 0.4599705636501312 - micro_f1: 0.5182723999023438 - val_loss: 0.07415322214365005 - val_macro_f1: 0.5417754054069519 - val_micro_f1: 0.5417754054069519\n",
      "epoch: 11 - loss: 0.40357592701911926 - macro_f1: 0.4336613118648529 - micro_f1: 0.4583333432674408 - val_loss: 0.09349881857633591 - val_macro_f1: 0.5442272424697876 - val_micro_f1: 0.5442272424697876\n",
      "epoch: 12 - loss: 0.54566890001297 - macro_f1: 0.4959605634212494 - micro_f1: 0.5671641230583191 - val_loss: 0.09782575815916061 - val_macro_f1: 0.5442272424697876 - val_micro_f1: 0.5442272424697876\n",
      "epoch: 13 - loss: 0.7675319314002991 - macro_f1: 0.48189210891723633 - micro_f1: 0.49421486258506775 - val_loss: 0.102902851998806 - val_macro_f1: 0.5433333516120911 - val_micro_f1: 0.5433333516120911\n",
      "epoch: 14 - loss: 0.2664821445941925 - macro_f1: 0.5724771618843079 - micro_f1: 0.5960264801979065 - val_loss: 0.12482365220785141 - val_macro_f1: 0.5424605011940002 - val_micro_f1: 0.5424605011940002\n",
      "epoch: 15 - loss: 0.27425873279571533 - macro_f1: 0.6104004979133606 - micro_f1: 0.6411960124969482 - val_loss: 0.14822916686534882 - val_macro_f1: 0.5384083390235901 - val_micro_f1: 0.5384083390235901\n",
      "epoch: 16 - loss: 0.37582117319107056 - macro_f1: 0.601446807384491 - micro_f1: 0.5973377823829651 - val_loss: 0.16952084004878998 - val_macro_f1: 0.5391437411308289 - val_micro_f1: 0.5391437411308289\n",
      "epoch: 17 - loss: 0.3183499276638031 - macro_f1: 0.6136373281478882 - micro_f1: 0.6266666650772095 - val_loss: 0.1803189516067505 - val_macro_f1: 0.1862846165895462 - val_micro_f1: 0.1862846165895462\n",
      "epoch: 18 - loss: 0.23272734880447388 - macro_f1: 0.670930802822113 - micro_f1: 0.6783333420753479 - val_loss: 0.16311559081077576 - val_macro_f1: 0.19297270476818085 - val_micro_f1: 0.19297270476818085\n",
      "epoch: 19 - loss: 0.17563234269618988 - macro_f1: 0.7066102027893066 - micro_f1: 0.7166666388511658 - val_loss: 0.1346951425075531 - val_macro_f1: 0.19416020810604095 - val_micro_f1: 0.19416020810604095\n",
      "epoch: 20 - loss: 0.16912196576595306 - macro_f1: 0.7222254872322083 - micro_f1: 0.7283333539962769 - val_loss: 0.10356598347425461 - val_macro_f1: 0.2621378004550934 - val_micro_f1: 0.2621378004550934\n",
      "epoch: 21 - loss: 0.20740635693073273 - macro_f1: 0.6875098347663879 - micro_f1: 0.6998341083526611 - val_loss: 0.08572731912136078 - val_macro_f1: 0.31363096833229065 - val_micro_f1: 0.31363096833229065\n",
      "epoch: 22 - loss: 0.19944535195827484 - macro_f1: 0.7097787261009216 - micro_f1: 0.7204658389091492 - val_loss: 0.07129433006048203 - val_macro_f1: 0.4024830758571625 - val_micro_f1: 0.4024830758571625\n",
      "epoch: 23 - loss: 0.16326220333576202 - macro_f1: 0.7223207950592041 - micro_f1: 0.7280265688896179 - val_loss: 0.06636572629213333 - val_macro_f1: 0.8162294030189514 - val_micro_f1: 0.8162294030189514\n",
      "epoch: 24 - loss: 0.13516908884048462 - macro_f1: 0.7883467078208923 - micro_f1: 0.7916666865348816 - val_loss: 0.06313034892082214 - val_macro_f1: 0.8104627132415771 - val_micro_f1: 0.8104627132415771\n",
      "epoch: 25 - loss: 0.18761944770812988 - macro_f1: 0.7245553135871887 - micro_f1: 0.7266666889190674 - val_loss: 0.0625893622636795 - val_macro_f1: 0.787641704082489 - val_micro_f1: 0.787641704082489\n",
      "epoch: 26 - loss: 0.15927518904209137 - macro_f1: 0.7537243962287903 - micro_f1: 0.7570715546607971 - val_loss: 0.06162875145673752 - val_macro_f1: 0.783541202545166 - val_micro_f1: 0.783541202545166\n",
      "epoch: 27 - loss: 0.14043505489826202 - macro_f1: 0.7569471001625061 - micro_f1: 0.760399341583252 - val_loss: 0.06343426555395126 - val_macro_f1: 0.7563766837120056 - val_micro_f1: 0.7563766837120056\n",
      "epoch: 28 - loss: 0.12907573580741882 - macro_f1: 0.7827887535095215 - micro_f1: 0.7850000262260437 - val_loss: 0.06373240798711777 - val_macro_f1: 0.7370479702949524 - val_micro_f1: 0.7370479702949524\n",
      "epoch: 29 - loss: 0.1401556432247162 - macro_f1: 0.7892704010009766 - micro_f1: 0.7916666865348816 - val_loss: 0.06073259189724922 - val_macro_f1: 0.7505351901054382 - val_micro_f1: 0.7505351901054382\n",
      "epoch: 30 - loss: 0.12645724415779114 - macro_f1: 0.7709317803382874 - micro_f1: 0.7740863561630249 - val_loss: 0.057263899594545364 - val_macro_f1: 0.7685752511024475 - val_micro_f1: 0.7685752511024475\n",
      "epoch: 31 - loss: 0.12945988774299622 - macro_f1: 0.7817627787590027 - micro_f1: 0.7840532064437866 - val_loss: 0.053901419043540955 - val_macro_f1: 0.7863729596138 - val_micro_f1: 0.7863729596138\n",
      "epoch: 32 - loss: 0.12861651182174683 - macro_f1: 0.7900382876396179 - micro_f1: 0.7920132875442505 - val_loss: 0.048590049147605896 - val_macro_f1: 0.8368544578552246 - val_micro_f1: 0.8368544578552246\n",
      "epoch: 33 - loss: 0.10384327918291092 - macro_f1: 0.8140771389007568 - micro_f1: 0.8149999976158142 - val_loss: 0.04257243499159813 - val_macro_f1: 0.872821033000946 - val_micro_f1: 0.872821033000946\n",
      "epoch: 34 - loss: 0.11718448251485825 - macro_f1: 0.7964637875556946 - micro_f1: 0.7973422408103943 - val_loss: 0.03723253309726715 - val_macro_f1: 0.8867238163948059 - val_micro_f1: 0.8867238163948059\n",
      "epoch: 35 - loss: 0.10790687054395676 - macro_f1: 0.8017147183418274 - micro_f1: 0.8019967079162598 - val_loss: 0.03269767761230469 - val_macro_f1: 0.9108023643493652 - val_micro_f1: 0.9108023643493652\n",
      "epoch: 36 - loss: 0.11211030185222626 - macro_f1: 0.8117648959159851 - micro_f1: 0.81166672706604 - val_loss: 0.029528789222240448 - val_macro_f1: 0.9141401648521423 - val_micro_f1: 0.9141401648521423\n",
      "epoch: 37 - loss: 0.12649589776992798 - macro_f1: 0.810675859451294 - micro_f1: 0.8133333325386047 - val_loss: 0.0277467779815197 - val_macro_f1: 0.9241011738777161 - val_micro_f1: 0.9241011738777161\n",
      "epoch: 38 - loss: 0.1064106896519661 - macro_f1: 0.8216814398765564 - micro_f1: 0.8236272931098938 - val_loss: 0.026535639539361 - val_macro_f1: 0.9338839650154114 - val_micro_f1: 0.9338839650154114\n",
      "epoch: 39 - loss: 0.09963513165712357 - macro_f1: 0.8069294095039368 - micro_f1: 0.809999942779541 - val_loss: 0.025844085961580276 - val_macro_f1: 0.9404871463775635 - val_micro_f1: 0.9404871463775635\n",
      "epoch: 40 - loss: 0.10682733356952667 - macro_f1: 0.8082765936851501 - micro_f1: 0.8119800090789795 - val_loss: 0.025337141007184982 - val_macro_f1: 0.9404871463775635 - val_micro_f1: 0.9404871463775635\n",
      "epoch: 41 - loss: 0.09350333362817764 - macro_f1: 0.8336222767829895 - micro_f1: 0.8336106538772583 - val_loss: 0.02481946535408497 - val_macro_f1: 0.9404871463775635 - val_micro_f1: 0.9404871463775635\n",
      "epoch: 42 - loss: 0.10192350298166275 - macro_f1: 0.8432612419128418 - micro_f1: 0.8435940742492676 - val_loss: 0.024074487388134003 - val_macro_f1: 0.9404871463775635 - val_micro_f1: 0.9404871463775635\n",
      "epoch: 43 - loss: 0.10160103440284729 - macro_f1: 0.8116119503974915 - micro_f1: 0.8133333325386047 - val_loss: 0.023056356236338615 - val_macro_f1: 0.9404871463775635 - val_micro_f1: 0.9404871463775635\n",
      "epoch: 44 - loss: 0.13117530941963196 - macro_f1: 0.8205652236938477 - micro_f1: 0.8222590684890747 - val_loss: 0.022443974390625954 - val_macro_f1: 0.9437804818153381 - val_micro_f1: 0.9437804818153381\n",
      "epoch: 45 - loss: 0.0966142863035202 - macro_f1: 0.8345145583152771 - micro_f1: 0.8352745175361633 - val_loss: 0.021828467026352882 - val_macro_f1: 0.9437804818153381 - val_micro_f1: 0.9437804818153381\n",
      "epoch: 46 - loss: 0.09560345113277435 - macro_f1: 0.8529350757598877 - micro_f1: 0.8535773158073425 - val_loss: 0.021118996664881706 - val_macro_f1: 0.9437804818153381 - val_micro_f1: 0.9437804818153381\n",
      "epoch: 47 - loss: 0.10733172297477722 - macro_f1: 0.8368061184883118 - micro_f1: 0.8386023044586182 - val_loss: 0.02055414393544197 - val_macro_f1: 0.947068989276886 - val_micro_f1: 0.947068989276886\n",
      "epoch: 48 - loss: 0.09759774059057236 - macro_f1: 0.8671675324440002 - micro_f1: 0.8668885827064514 - val_loss: 0.01990916021168232 - val_macro_f1: 0.947068989276886 - val_micro_f1: 0.947068989276886\n",
      "epoch: 49 - loss: 0.14583911001682281 - macro_f1: 0.8335759043693542 - micro_f1: 0.8349999785423279 - val_loss: 0.019514914602041245 - val_macro_f1: 0.947068989276886 - val_micro_f1: 0.947068989276886\n",
      "epoch: 50 - loss: 0.08243083953857422 - macro_f1: 0.8578002452850342 - micro_f1: 0.8585690855979919 - val_loss: 0.019020093604922295 - val_macro_f1: 0.947068989276886 - val_micro_f1: 0.947068989276886\n",
      "epoch: 51 - loss: 0.09345310926437378 - macro_f1: 0.8738815784454346 - micro_f1: 0.8737541437149048 - val_loss: 0.01850595325231552 - val_macro_f1: 0.95035320520401 - val_micro_f1: 0.95035320520401\n",
      "epoch: 52 - loss: 0.11437270045280457 - macro_f1: 0.8218441009521484 - micro_f1: 0.8225538730621338 - val_loss: 0.018021583557128906 - val_macro_f1: 0.9535989761352539 - val_micro_f1: 0.9535989761352539\n",
      "epoch: 53 - loss: 0.08656740188598633 - macro_f1: 0.8465943336486816 - micro_f1: 0.8471761345863342 - val_loss: 0.01747271977365017 - val_macro_f1: 0.9535989761352539 - val_micro_f1: 0.9535989761352539\n",
      "epoch: 54 - loss: 0.07977832108736038 - macro_f1: 0.8758842945098877 - micro_f1: 0.8766666650772095 - val_loss: 0.01690053567290306 - val_macro_f1: 0.9535989761352539 - val_micro_f1: 0.9535989761352539\n",
      "epoch: 55 - loss: 0.09421376883983612 - macro_f1: 0.8554975986480713 - micro_f1: 0.8550000190734863 - val_loss: 0.016386792063713074 - val_macro_f1: 0.9568938612937927 - val_micro_f1: 0.9568938612937927\n",
      "epoch: 56 - loss: 0.0892326831817627 - macro_f1: 0.8511603474617004 - micro_f1: 0.8516666889190674 - val_loss: 0.015936022624373436 - val_macro_f1: 0.9568938612937927 - val_micro_f1: 0.9568938612937927\n",
      "epoch: 57 - loss: 0.08144478499889374 - macro_f1: 0.8681313991546631 - micro_f1: 0.8685524463653564 - val_loss: 0.015531038865447044 - val_macro_f1: 0.9601514339447021 - val_micro_f1: 0.9601514339447021\n",
      "epoch: 58 - loss: 0.07239431142807007 - macro_f1: 0.8730504512786865 - micro_f1: 0.8733333349227905 - val_loss: 0.015135529451072216 - val_macro_f1: 0.9568231105804443 - val_micro_f1: 0.9568231105804443\n",
      "epoch: 59 - loss: 0.06927851587533951 - macro_f1: 0.8815383911132812 - micro_f1: 0.8818635940551758 - val_loss: 0.014797156676650047 - val_macro_f1: 0.9600774645805359 - val_micro_f1: 0.9600774645805359\n",
      "epoch: 60 - loss: 0.068986676633358 - macro_f1: 0.8881627917289734 - micro_f1: 0.8883333206176758 - val_loss: 0.014485088177025318 - val_macro_f1: 0.9600774645805359 - val_micro_f1: 0.9600774645805359\n",
      "epoch: 61 - loss: 0.06261622160673141 - macro_f1: 0.8915970325469971 - micro_f1: 0.8918468952178955 - val_loss: 0.014245514757931232 - val_macro_f1: 0.9600774645805359 - val_micro_f1: 0.9600774645805359\n",
      "epoch: 62 - loss: 0.07873018085956573 - macro_f1: 0.8767655491828918 - micro_f1: 0.8768718242645264 - val_loss: 0.013938751071691513 - val_macro_f1: 0.9600774645805359 - val_micro_f1: 0.9600774645805359\n",
      "epoch: 63 - loss: 0.060356736183166504 - macro_f1: 0.8946003913879395 - micro_f1: 0.8951747417449951 - val_loss: 0.013607291504740715 - val_macro_f1: 0.9600774645805359 - val_micro_f1: 0.9600774645805359\n",
      "epoch: 64 - loss: 0.086832195520401 - macro_f1: 0.8511452078819275 - micro_f1: 0.8519135117530823 - val_loss: 0.013342809863388538 - val_macro_f1: 0.9600774645805359 - val_micro_f1: 0.9600774645805359\n",
      "epoch: 65 - loss: 0.06112947687506676 - macro_f1: 0.8749659657478333 - micro_f1: 0.8754152655601501 - val_loss: 0.013107738457620144 - val_macro_f1: 0.9567545056343079 - val_micro_f1: 0.9567545056343079\n",
      "epoch: 66 - loss: 0.08007882535457611 - macro_f1: 0.8786125779151917 - micro_f1: 0.878333330154419 - val_loss: 0.012909170240163803 - val_macro_f1: 0.9567545056343079 - val_micro_f1: 0.9567545056343079\n",
      "epoch: 67 - loss: 0.0670027881860733 - macro_f1: 0.8915589451789856 - micro_f1: 0.8916666507720947 - val_loss: 0.012636315077543259 - val_macro_f1: 0.9567545056343079 - val_micro_f1: 0.9567545056343079\n",
      "epoch: 68 - loss: 0.06634128838777542 - macro_f1: 0.8835160732269287 - micro_f1: 0.883527398109436 - val_loss: 0.012450280599296093 - val_macro_f1: 0.9567545056343079 - val_micro_f1: 0.9567545056343079\n",
      "epoch: 69 - loss: 0.08063029497861862 - macro_f1: 0.8608343005180359 - micro_f1: 0.861896812915802 - val_loss: 0.012189381755888462 - val_macro_f1: 0.9567545056343079 - val_micro_f1: 0.9567545056343079\n",
      "epoch: 70 - loss: 0.05484643206000328 - macro_f1: 0.9047229886054993 - micro_f1: 0.9051581025123596 - val_loss: 0.011953800916671753 - val_macro_f1: 0.9599917531013489 - val_micro_f1: 0.9599917531013489\n",
      "epoch: 71 - loss: 0.06607827544212341 - macro_f1: 0.8909122347831726 - micro_f1: 0.8918468952178955 - val_loss: 0.011785399168729782 - val_macro_f1: 0.9599917531013489 - val_micro_f1: 0.9599917531013489\n",
      "epoch: 72 - loss: 0.06203150376677513 - macro_f1: 0.8956829905509949 - micro_f1: 0.8953489065170288 - val_loss: 0.011583828367292881 - val_macro_f1: 0.9599917531013489 - val_micro_f1: 0.9599917531013489\n",
      "epoch: 73 - loss: 0.0654878243803978 - macro_f1: 0.8944962620735168 - micro_f1: 0.8951747417449951 - val_loss: 0.011408932507038116 - val_macro_f1: 0.9599917531013489 - val_micro_f1: 0.9599917531013489\n",
      "epoch: 74 - loss: 0.06323663890361786 - macro_f1: 0.8882144093513489 - micro_f1: 0.8885191679000854 - val_loss: 0.011221524327993393 - val_macro_f1: 0.9599917531013489 - val_micro_f1: 0.9599917531013489\n",
      "epoch: 75 - loss: 0.05453861877322197 - macro_f1: 0.891538143157959 - micro_f1: 0.8920265436172485 - val_loss: 0.011041439138352871 - val_macro_f1: 0.9599917531013489 - val_micro_f1: 0.9599917531013489\n",
      "epoch: 76 - loss: 0.07502731680870056 - macro_f1: 0.8685079216957092 - micro_f1: 0.8687707185745239 - val_loss: 0.010865031741559505 - val_macro_f1: 0.9599917531013489 - val_micro_f1: 0.9599917531013489\n",
      "epoch: 77 - loss: 0.08036795258522034 - macro_f1: 0.8797643780708313 - micro_f1: 0.8805970549583435 - val_loss: 0.010839210823178291 - val_macro_f1: 0.9599917531013489 - val_micro_f1: 0.9599917531013489\n",
      "epoch: 78 - loss: 0.061672866344451904 - macro_f1: 0.8944088816642761 - micro_f1: 0.8949999809265137 - val_loss: 0.01087413914501667 - val_macro_f1: 0.9599917531013489 - val_micro_f1: 0.9599917531013489\n",
      "epoch: 79 - loss: 0.05802050977945328 - macro_f1: 0.9058844447135925 - micro_f1: 0.9066666960716248 - val_loss: 0.010934100486338139 - val_macro_f1: 0.9599917531013489 - val_micro_f1: 0.9599917531013489\n",
      "epoch: 80 - loss: 0.055322710424661636 - macro_f1: 0.9002018570899963 - micro_f1: 0.9003322124481201 - val_loss: 0.010916316881775856 - val_macro_f1: 0.9599917531013489 - val_micro_f1: 0.9599917531013489\n",
      "epoch: 81 - loss: 0.06833658367395401 - macro_f1: 0.8799812197685242 - micro_f1: 0.880199670791626 - val_loss: 0.010641437955200672 - val_macro_f1: 0.9599917531013489 - val_micro_f1: 0.9599917531013489\n",
      "epoch: 82 - loss: 0.05922956019639969 - macro_f1: 0.8934141993522644 - micro_f1: 0.8935108184814453 - val_loss: 0.010338443331420422 - val_macro_f1: 0.9599917531013489 - val_micro_f1: 0.9599917531013489\n",
      "epoch: 83 - loss: 0.05102630704641342 - macro_f1: 0.9049130082130432 - micro_f1: 0.9051581025123596 - val_loss: 0.01008018758147955 - val_macro_f1: 0.9599917531013489 - val_micro_f1: 0.9599917531013489\n",
      "epoch: 84 - loss: 0.07186882942914963 - macro_f1: 0.8842206001281738 - micro_f1: 0.8851913213729858 - val_loss: 0.009861477650702 - val_macro_f1: 0.9599917531013489 - val_micro_f1: 0.9599917531013489\n",
      "epoch: 85 - loss: 0.045914508402347565 - macro_f1: 0.9148364067077637 - micro_f1: 0.9150000214576721 - val_loss: 0.00964963436126709 - val_macro_f1: 0.9599917531013489 - val_micro_f1: 0.9599917531013489\n",
      "epoch: 86 - loss: 0.05979377031326294 - macro_f1: 0.8965368866920471 - micro_f1: 0.8968386650085449 - val_loss: 0.009476691484451294 - val_macro_f1: 0.9666659235954285 - val_micro_f1: 0.9666659235954285\n",
      "epoch: 87 - loss: 0.05310499295592308 - macro_f1: 0.8968326449394226 - micro_f1: 0.8970099687576294 - val_loss: 0.009322999976575375 - val_macro_f1: 0.9733327031135559 - val_micro_f1: 0.9733327031135559\n",
      "epoch: 88 - loss: 0.0548284649848938 - macro_f1: 0.9091401696205139 - micro_f1: 0.9101496934890747 - val_loss: 0.009261508472263813 - val_macro_f1: 0.9733327031135559 - val_micro_f1: 0.9733327031135559\n",
      "epoch: 89 - loss: 0.06628330051898956 - macro_f1: 0.8809272646903992 - micro_f1: 0.8818635940551758 - val_loss: 0.009251479059457779 - val_macro_f1: 0.9700000286102295 - val_micro_f1: 0.9700000286102295\n",
      "epoch: 90 - loss: 0.05736376717686653 - macro_f1: 0.9048641324043274 - micro_f1: 0.9051581025123596 - val_loss: 0.009262409061193466 - val_macro_f1: 0.9700000286102295 - val_micro_f1: 0.9700000286102295\n",
      "epoch: 91 - loss: 0.09320661425590515 - macro_f1: 0.8881285786628723 - micro_f1: 0.8883333206176758 - val_loss: 0.009405326098203659 - val_macro_f1: 0.9700000286102295 - val_micro_f1: 0.9700000286102295\n",
      "epoch: 92 - loss: 0.051097381860017776 - macro_f1: 0.9017729759216309 - micro_f1: 0.90183025598526 - val_loss: 0.009538104757666588 - val_macro_f1: 0.9699973464012146 - val_micro_f1: 0.9699973464012146\n",
      "epoch: 93 - loss: 0.05652068182826042 - macro_f1: 0.9067931175231934 - micro_f1: 0.9068220257759094 - val_loss: 0.009709903970360756 - val_macro_f1: 0.9634065628051758 - val_micro_f1: 0.9634065628051758\n",
      "epoch: 94 - loss: 0.04779326170682907 - macro_f1: 0.9099669456481934 - micro_f1: 0.9101496934890747 - val_loss: 0.009828226640820503 - val_macro_f1: 0.9601514339447021 - val_micro_f1: 0.9601514339447021\n",
      "epoch: 95 - loss: 0.0609503835439682 - macro_f1: 0.8847121596336365 - micro_f1: 0.8851913213729858 - val_loss: 0.009916054084897041 - val_macro_f1: 0.9601514339447021 - val_micro_f1: 0.9601514339447021\n",
      "epoch: 96 - loss: 0.04809284210205078 - macro_f1: 0.8999567627906799 - micro_f1: 0.8999999761581421 - val_loss: 0.009855397045612335 - val_macro_f1: 0.9601514339447021 - val_micro_f1: 0.9601514339447021\n",
      "epoch: 97 - loss: 0.05809567868709564 - macro_f1: 0.9000151753425598 - micro_f1: 0.9001663327217102 - val_loss: 0.009762829169631004 - val_macro_f1: 0.9601514339447021 - val_micro_f1: 0.9601514339447021\n",
      "epoch: 98 - loss: 0.04659448191523552 - macro_f1: 0.9035153985023499 - micro_f1: 0.903333306312561 - val_loss: 0.009647686965763569 - val_macro_f1: 0.9601514339447021 - val_micro_f1: 0.9601514339447021\n",
      "epoch: 99 - loss: 0.06572673469781876 - macro_f1: 0.9018245339393616 - micro_f1: 0.90183025598526 - val_loss: 0.009451014921069145 - val_macro_f1: 0.9601514339447021 - val_micro_f1: 0.9601514339447021\n",
      "epoch: 100 - loss: 0.047389086335897446 - macro_f1: 0.9169377684593201 - micro_f1: 0.9168052673339844 - val_loss: 0.009045176208019257 - val_macro_f1: 0.9700482487678528 - val_micro_f1: 0.9700482487678528\n",
      "\n",
      "Evaluating on test data:\n",
      "test_loss: 0.28369224071502686 - test_macro_f1: 0.8846240639686584 - test_micro_f1: 0.8846240639686584\n"
     ]
    },
    {
     "data": {
      "text/plain": [
       "<matplotlib.legend.Legend at 0x7fc284629760>"
      ]
     },
     "execution_count": 95,
     "metadata": {},
     "output_type": "execute_result"
    },
    {
     "data": {
      "image/png": "[encoded data removed]",
      "text/plain": [
       "<Figure size 432x288 with 1 Axes>"
      ]
     },
     "metadata": {
      "needs_background": "light"
     },
     "output_type": "display_data"
    }
   ],
   "source": [
    "epoches = 50\n",
    "dropout_rate = 0.55\n",
    "hidden_size = 8\n",
    "optimizer   = keras.optimizers.Adam(learning_rate=0.005)\n",
    "regularizer = keras.regularizers.L2(l2=0.005)\n",
    "es_min_delta = 0.01\n",
    "es_patience = 30\n",
    "epochs = 1000\n",
    "dropout_rate = 0.55\n",
    "hidden_size = 8\n",
    "\n",
    "f1_macro = tfa.metrics.F1Score(num_classes, average='macro')\n",
    "f1_micro = tfa.metrics.F1Score(num_classes, average='micro')\n",
    "model = HAN(node_num=node_num, feature_dim=feature_dim, \n",
    "            dropout_rate=dropout_rate, \n",
    "            hidden_size=hidden_size,\n",
    "           )\n",
    "loss = keras.losses.SparseCategoricalCrossentropy()\n",
    "\n",
    "history = {'loss': [], \n",
    "           'macro_f1': [], \n",
    "           'micro_f1': [], \n",
    "           'val_loss':[], \n",
    "           'val_macro_f1':[], \n",
    "           'val_micro_f1':[]}\n",
    "\n",
    "for epoch in range(epoches):\n",
    "    print(f'epoch: {epoch+1} - ', end='')\n",
    "    loss_, f1_macro_, f1_micro_ = train_model(model, [features, PSP, PAP], labels, train_mask,\n",
    "               f1_macro, f1_micro)\n",
    "    history['loss'].append(loss_)\n",
    "    history['macro_f1'].append(f1_macro_)\n",
    "    history['micro_f1'].append(f1_micro_)\n",
    "    \n",
    "    loss_, f1_macro_, f1_micro_ = evaluate_model(model, [features, PSP, PAP], labels, val_mask,\n",
    "               f1_macro, f1_micro, type_='val')\n",
    "    history['val_loss'].append(loss_)\n",
    "    history['val_macro_f1'].append(f1_macro_)\n",
    "    history['val_micro_f1'].append(f1_micro_)\n",
    "\n",
    "print('\\nEvaluating on test data:')\n",
    "evaluate_model(model, [features, PSP, PAP], labels, test_mask,\n",
    "           f1_macro, f1_micro, type_='test')\n",
    "\n",
    "for i, item in history.items():\n",
    "    plt.plot(item, label=i)\n",
    "plt.legend()"
   ]
  },
  {
   "cell_type": "code",
   "execution_count": 96,
   "metadata": {},
   "outputs": [
    {
     "name": "stdout",
     "output_type": "stream",
     "text": [
      "Model: \"functional_107\"\n",
      "__________________________________________________________________________________________________\n",
      "Layer (type)                    Output Shape         Param #     Connected to                     \n",
      "==================================================================================================\n",
      "input_166 (InputLayer)          [(None, 1870)]       0                                            \n",
      "__________________________________________________________________________________________________\n",
      "dropout_184 (Dropout)           (None, 1870)         0           input_166[0][0]                  \n",
      "__________________________________________________________________________________________________\n",
      "input_167 (InputLayer)          [(None, 3025)]       0                                            \n",
      "__________________________________________________________________________________________________\n",
      "dropout_185 (Dropout)           (None, 1870)         0           input_166[0][0]                  \n",
      "__________________________________________________________________________________________________\n",
      "input_168 (InputLayer)          [(None, 3025)]       0                                            \n",
      "__________________________________________________________________________________________________\n",
      "node_attention_212 (NodeAttenti (None, 64)           119808      dropout_184[0][0]                \n",
      "                                                                 input_167[0][0]                  \n",
      "__________________________________________________________________________________________________\n",
      "node_attention_213 (NodeAttenti (None, 64)           119808      dropout_185[0][0]                \n",
      "                                                                 input_168[0][0]                  \n",
      "__________________________________________________________________________________________________\n",
      "semantic_attention_106 (Semanti (None, 64)           8448        node_attention_212[0][0]         \n",
      "                                                                 node_attention_213[0][0]         \n",
      "__________________________________________________________________________________________________\n",
      "dropout_186 (Dropout)           (None, 64)           0           semantic_attention_106[0][0]     \n",
      "__________________________________________________________________________________________________\n",
      "dropout_187 (Dropout)           (None, 64)           0           semantic_attention_106[0][0]     \n",
      "__________________________________________________________________________________________________\n",
      "node_attention_214 (NodeAttenti (None, 3)            198         dropout_186[0][0]                \n",
      "                                                                 input_167[0][0]                  \n",
      "__________________________________________________________________________________________________\n",
      "node_attention_215 (NodeAttenti (None, 3)            198         dropout_187[0][0]                \n",
      "                                                                 input_168[0][0]                  \n",
      "__________________________________________________________________________________________________\n",
      "semantic_attention_107 (Semanti (None, 3)            15          node_attention_214[0][0]         \n",
      "                                                                 node_attention_215[0][0]         \n",
      "==================================================================================================\n",
      "Total params: 248,475\n",
      "Trainable params: 248,475\n",
      "Non-trainable params: 0\n",
      "__________________________________________________________________________________________________\n"
     ]
    }
   ],
   "source": [
    "model.summary()"
   ]
  }
 ],
 "metadata": {
  "kernelspec": {
   "display_name": "Python 3",
   "language": "python",
   "name": "python3"
  },
  "language_info": {
   "codemirror_mode": {
    "name": "ipython",
    "version": 3
   },
   "file_extension": ".py",
   "mimetype": "text/x-python",
   "name": "python",
   "nbconvert_exporter": "python",
   "pygments_lexer": "ipython3",
   "version": "3.8.3"
  }
 },
 "nbformat": 4,
 "nbformat_minor": 4
}
