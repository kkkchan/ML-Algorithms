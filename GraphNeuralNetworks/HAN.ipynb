{
 "cells": [
  {
   "cell_type": "markdown",
   "metadata": {},
   "source": [
    "# HAN复现，使用tensorflow2\n",
    "\n",
    "HAN全称：Heterogeneous Graph Attention Network[^1]。本notebook中**使用数据集ACM按照论证中相同的数据预处理，然后进行实验**。\n",
    "\n",
    "[^1]: Wang X, Ji H, Shi C, et al. Heterogeneous graph attention network[C]//The World Wide Web Conference. 2019: 2022-2032."
   ]
  },
  {
   "cell_type": "markdown",
   "metadata": {},
   "source": [
    "# 基本思想\n",
    "\n",
    "分层式注意力机制。\n",
    "\n",
    "通过Meta-path，结合Random Walk进行边的采样，构建多组Meta-path，每组Meta-path中，对目标节点作为起始点采样邻接点(Random Walk下的邻接点)，通过注意力机制进行信息传递，这一层注意力机制称之为：**Node-level Attention**。\n",
    "\n",
    "对于多组Meta-path，也通过一层注意力机制进行消息传递，这一层注意力机制称之为：**Semantic-level Attention**。"
   ]
  },
  {
   "cell_type": "markdown",
   "metadata": {},
   "source": [
    "# 工作流\n",
    "\n",
    "1. 对于所有输入节点，先通过转移矩阵变换到同一空间（相同类型节点使用一个转移矩阵，不同类型节点使用不同转移矩阵）。\n",
    "2. 对于一条Meta-path上的一个节点，计算与Meta-path上邻接点的注意力系数。\n",
    "3. 分别按照每条Meta-path进行节点表示更新\n",
    "4. 聚合多条Meta-path上的节点表示。注：虽然这层引入了转移矩阵，只用于计算注意力系数，但是并不影响输出的维度。\n",
    "\n",
    "# 创新\n",
    "\n",
    "- 第一次尝试通过基于注意力机制的异质图神经网络研究。\n",
    "- 提出了一个新颖的双层注意力框架，同时考虑节点和Meta-path的重要性。\n",
    "- 复杂度是基于元路径节点对的线性。"
   ]
  },
  {
   "cell_type": "code",
   "execution_count": 1,
   "metadata": {},
   "outputs": [],
   "source": [
    "import numpy as np\n",
    "import matplotlib.pyplot as plt\n",
    "import gc\n",
    "import os\n",
    "import tensorflow as tf\n",
    "import scipy.io as sio\n",
    "import scipy.sparse as sp\n",
    "from tensorflow import keras\n",
    "import warnings\n",
    "from pathlib import Path\n",
    "import pickle"
   ]
  },
  {
   "cell_type": "markdown",
   "metadata": {},
   "source": [
    "# 1. 导入数据"
   ]
  },
  {
   "cell_type": "code",
   "execution_count": 11,
   "metadata": {},
   "outputs": [
    {
     "data": {
      "text/plain": [
       "True"
      ]
     },
     "execution_count": 11,
     "metadata": {},
     "output_type": "execute_result"
    }
   ],
   "source": [
    "data_path = Path('../datasets/ACM/ACM3025.mat')\n",
    "data_path.exists()"
   ]
  },
  {
   "cell_type": "code",
   "execution_count": 8,
   "metadata": {},
   "outputs": [
    {
     "data": {
      "text/plain": [
       "PosixPath('../datasets/ACM/ACM3025.mat')"
      ]
     },
     "execution_count": 8,
     "metadata": {},
     "output_type": "execute_result"
    }
   ],
   "source": [
    "data_path"
   ]
  },
  {
   "cell_type": "code",
   "execution_count": 10,
   "metadata": {},
   "outputs": [
    {
     "data": {
      "text/plain": [
       "dict_keys(['__header__', '__version__', '__globals__', 'PTP', 'PLP', 'PAP', 'feature', 'label', 'train_idx', 'val_idx', 'test_idx'])"
      ]
     },
     "execution_count": 10,
     "metadata": {},
     "output_type": "execute_result"
    }
   ],
   "source": [
    "data = sio.loadmat(data_path)\n",
    "data.keys()"
   ]
  },
  {
   "cell_type": "code",
   "execution_count": 57,
   "metadata": {},
   "outputs": [],
   "source": [
    "features = data['feature'].astype(np.float32)\n",
    "# papers-subjects-papers\n",
    "PSP = data['PLP'].astype(np.float32)\n",
    "# papers-authors-papers\n",
    "PAP = data['PAP'].astype(np.float32)\n",
    "labels = data['label'].astype(np.float32)\n",
    "train_idx, val_idx, test_idx = data['train_idx'], data['val_idx'], data['test_idx']"
   ]
  },
  {
   "cell_type": "code",
   "execution_count": 193,
   "metadata": {},
   "outputs": [],
   "source": [
    "labels = np.argmax(labels, axis=1)"
   ]
  },
  {
   "cell_type": "code",
   "execution_count": 59,
   "metadata": {},
   "outputs": [],
   "source": [
    "base = np.zeros(shape=(node_num, ), dtype=np.bool)\n",
    "train_mask = np.copy(base)\n",
    "val_mask = np.copy(base)\n",
    "test_mask = np.copy(base)\n",
    "\n",
    "train_mask[train_idx] = True\n",
    "val_mask[val_idx] = True\n",
    "test_mask[test_idx] = True"
   ]
  },
  {
   "cell_type": "code",
   "execution_count": 60,
   "metadata": {},
   "outputs": [],
   "source": [
    "data_path_ = data_path.parent / 'acm_data.pkl'"
   ]
  },
  {
   "cell_type": "code",
   "execution_count": 194,
   "metadata": {},
   "outputs": [],
   "source": [
    "data_ = {'features': features, 'labels':labels, 'PSP':PSP, \n",
    "         'PAP':PAP, 'train_mask':train_mask, 'val_mask':val_mask,\n",
    "        'test_mask': test_mask}\n",
    "pickle.dump(data_, data_path_.open('wb'))"
   ]
  },
  {
   "cell_type": "code",
   "execution_count": 539,
   "metadata": {},
   "outputs": [],
   "source": [
    "node_num = features.shape[0]\n",
    "feature_dim = features.shape[1]\n",
    "num_classes = 3"
   ]
  },
  {
   "cell_type": "markdown",
   "metadata": {},
   "source": [
    "# 2. NodeAttention"
   ]
  },
  {
   "cell_type": "code",
   "execution_count": 47,
   "metadata": {},
   "outputs": [],
   "source": [
    "class NodeAttention(keras.layers.Layer):\n",
    "    '''\n",
    "    virtually a GAT layer\n",
    "    '''\n",
    "    def __init__(self, \n",
    "                 units, \n",
    "                 initializer='glorot_normal', \n",
    "                 regularizer='l2', \n",
    "                 heads=1, \n",
    "                 activation='elu', \n",
    "                 dropout_rate=0.6, \n",
    "                 use_bias=False, **kwargs):\n",
    "        super().__init__(**kwargs)\n",
    "        self.units = units\n",
    "        self.heads = heads\n",
    "        self.dropout_rate = dropout_rate\n",
    "        self.use_bias = use_bias\n",
    "        \n",
    "        self.kernel_initializer = keras.initializers.get(initializer)\n",
    "        self.regularizer = keras.regularizers.get(regularizer)\n",
    "        self.activation = keras.activations.get(activation)\n",
    "        \n",
    "        self.output_dim = self.units * self.heads\n",
    "        self.kernels = []\n",
    "        if use_bias:\n",
    "            self.bias = []\n",
    "        self.att_kernels = []\n",
    "    \n",
    "    \n",
    "    def build(self, input_shape):\n",
    "        for head in range(self.heads):\n",
    "            kernel = self.add_weight(shape=(input_shape[0][-1], self.units), \n",
    "                                     initializer=self.kernel_initializer,\n",
    "                                     regularizer=self.regularizer,)\n",
    "            self.kernels.append(kernel)\n",
    "            if self.use_bias:\n",
    "                bias = self.add_weight(shape=(self.units, ), \n",
    "                                       regularizer=self.regularizer,\n",
    "                                      initializer='zeros')\n",
    "                self.bias.append(bias)\n",
    "            att_kernel_self = self.add_weight(shape=(self.units, 1), \n",
    "                                         initializer=self.kernel_initializer,\n",
    "                                         regularizer=self.regularizer)\n",
    "            att_kernel_neighbors = self.add_weight(shape=(self.units, 1), \n",
    "                                         initializer=self.kernel_initializer,\n",
    "                                         regularizer=self.regularizer)\n",
    "            self.att_kernels.append([att_kernel_self, att_kernel_neighbors])\n",
    "        super().__init__()\n",
    "    \n",
    "    \n",
    "    def call(self, inputs, training=False):\n",
    "        X, A = inputs\n",
    "        outputs = []\n",
    "        for head in range(self.heads):\n",
    "            kernel = self.kernels[head]\n",
    "            att_kernel = self.att_kernels[head]\n",
    "            \n",
    "            X_ = X @ kernel\n",
    "            att_self = X_ @ att_kernel[0]\n",
    "            att_neighbors = X_ @ att_kernel[1]\n",
    "            \n",
    "            a_weight = att_self + tf.transpose(att_neighbors)\n",
    "            a_weight = tf.nn.leaky_relu(a_weight, alpha=0.2)\n",
    "            a_weight += -10e9 * (1-A)\n",
    "            a_weight = tf.nn.softmax(a_weight)\n",
    "            \n",
    "            if training:\n",
    "                dropout_att = tf.nn.dropout(a_weight, \n",
    "                                            rate=self.dropout_rate)\n",
    "                dropout_X_ = tf.nn.dropout(X_, \n",
    "                                           rate=self.dropout_rate)\n",
    "                node_features = dropout_att @ dropout_X_\n",
    "            else:\n",
    "                node_features = a_weight @ X_\n",
    "            \n",
    "            if self.use_bias:\n",
    "                node_features += self.bias[head]\n",
    "            outputs.append(node_features)\n",
    "        \n",
    "        output = tf.concat(outputs, axis=1)\n",
    "        return self.activation(output)\n",
    "    \n",
    "    def compute_output_shape(self, input_shape):\n",
    "        output_shape = input_shape[0][0], self.output_dim\n",
    "        return tf.TensorShape(output_shape)"
   ]
  },
  {
   "cell_type": "markdown",
   "metadata": {},
   "source": [
    "# 3. SemanticAttention"
   ]
  },
  {
   "cell_type": "code",
   "execution_count": 188,
   "metadata": {},
   "outputs": [],
   "source": [
    "class SemanticAttention(keras.layers.Layer):\n",
    "    def __init__(self, \n",
    "                 units,\n",
    "                 meta_paths_num,\n",
    "                 activation='linear',\n",
    "                 regularizer='l2',\n",
    "                 initializer='glorot_normal',\n",
    "                 use_bias=True):\n",
    "        super().__init__()\n",
    "        self.units = units\n",
    "        self.use_bias = use_bias\n",
    "        self.meta_paths_num = meta_paths_num\n",
    "        self.activation = keras.activations.get(activation)\n",
    "        self.regularizer = keras.regularizers.get(regularizer)\n",
    "        self.initializer = keras.initializers.get(initializer)\n",
    "    \n",
    "    def build(self, input_shape):\n",
    "        self.kernel = self.add_weight(shape=(input_shape[0][-1], self.units),\n",
    "                                 initializer=self.initializer,\n",
    "                                 regularizer=self.regularizer,)\n",
    "        if self.use_bias:\n",
    "            self.bias = self.add_weight(shape=(self.units, ),\n",
    "                                  initializer='zeros',\n",
    "                                  regularizer=self.regularizer)\n",
    "        self.att_kernel = self.add_weight(shape=(self.units, 1),\n",
    "                                    initializer=self.initializer,\n",
    "                                    regularizer=self.regularizer)\n",
    "        super().__init__()\n",
    "        \n",
    "    def call(self, inputs, training=False):\n",
    "        assert len(inputs) == self.meta_paths_num\n",
    "        \n",
    "        att_weights = [None for i in range(self.meta_paths_num)]\n",
    "        for idx in range(self.meta_paths_num):            \n",
    "            tmp = inputs[idx] @ self.kernel\n",
    "            if self.use_bias:\n",
    "                tmp += self.bias\n",
    "            tmp = tf.nn.tanh(tmp)\n",
    "            tmp = tmp @ self.att_kernel\n",
    "            tmp = tf.reduce_mean(tmp)\n",
    "            \n",
    "            att_weights[idx] = tmp\n",
    "        \n",
    "        att_weights = tf.nn.softmax(att_weights)\n",
    "        output = 0\n",
    "        for i in range(self.meta_paths_num):\n",
    "            output += att_weights[i] * inputs[i]\n",
    "        return self.activation(output)"
   ]
  },
  {
   "cell_type": "markdown",
   "metadata": {},
   "source": [
    "# 4. 参数设置\n",
    "\n",
    "- 优化器：Adam，学习率0.005\n",
    "- 参数正则化：0.001\n",
    "- semantic层注意力向量维数：128\n",
    "- 多头注意力个数：8\n",
    "- dropout rate：0.6\n",
    "- early-stopping：patience(valid loss) 100\n",
    "- loss：category crossentropy\n",
    "- metrics：Macro-F1，Micro-F1\n",
    "- activation：elu"
   ]
  },
  {
   "cell_type": "code",
   "execution_count": 439,
   "metadata": {},
   "outputs": [],
   "source": [
    "# model parameters\n",
    "batch_size  = 1\n",
    "semantic_hidden_size = 128\n",
    "att_heads   = 8\n",
    "hidden_size = 8 # hidden_size * att_heads = 64\n",
    "lr          = 0.005\n",
    "patience    = 100\n",
    "l2_coef     = 0.001\n",
    "dropout_rate= 0.6\n",
    "activation  = 'elu'\n",
    "optimizer   = keras.optimizers.Adam(learning_rate=lr)\n",
    "regularizer = keras.regularizers.L2(l2=l2_coef)"
   ]
  },
  {
   "cell_type": "code",
   "execution_count": 441,
   "metadata": {},
   "outputs": [
    {
     "data": {
      "text/plain": [
       "(3025, 1870)"
      ]
     },
     "execution_count": 441,
     "metadata": {},
     "output_type": "execute_result"
    }
   ],
   "source": [
    "node_num, feature_dim"
   ]
  },
  {
   "cell_type": "markdown",
   "metadata": {},
   "source": [
    "# 5. 构建模型"
   ]
  },
  {
   "cell_type": "code",
   "execution_count": 239,
   "metadata": {},
   "outputs": [],
   "source": [
    "def HAN(node_num=node_num, \n",
    "        feature_dim=feature_dim, \n",
    "        dropout=dropout_rate, \n",
    "        hidden_size=hidden_size,\n",
    "        regularizer=regularizer,\n",
    "        att_heads=att_heads,\n",
    "       ):\n",
    "    X = keras.Input(shape=(feature_dim, ))\n",
    "    PSP = keras.Input(shape=(node_num, ))\n",
    "    PAP = keras.Input(shape=(node_num, ))\n",
    "    node_layer1 = NodeAttention(units=hidden_size, \n",
    "                                regularizer=regularizer, \n",
    "                                heads=att_heads[0], dropoutout_rate=dropout)([X, PSP])\n",
    "    node_layer2 = NodeAttention(units=8,\n",
    "                                regularizer=regularizer,\n",
    "                                heads=8, dropout_rate=dropout)([X, PAP])\n",
    "    semantic_layer1 = SemanticAttention(units=16, \n",
    "                                       meta_paths_num=2)([node_layer1, \n",
    "                                                          node_layer2])\n",
    "    node_layer3 = NodeAttention(units=3, heads=1, dropout_rate=dropout, \n",
    "                                regularizer=regularizer)([semantic_layer1, PSP])\n",
    "    node_layer4 = NodeAttention(units=3, heads=1, dropout_rate=dropout,\n",
    "                                regularizer=regularizer)([semantic_layer1, PAP])\n",
    "    semantic_layer2 = SemanticAttention(units=2,\n",
    "                                        meta_paths_num=2,\n",
    "                                        regularizer=regularizer,\n",
    "                                        activation='softmax' )([node_layer3, \n",
    "                                                               node_layer4])\n",
    "    model = keras.Model(inputs=[X, PSP, PAP], outputs=semantic_layer2)\n",
    "    return model"
   ]
  },
  {
   "cell_type": "markdown",
   "metadata": {},
   "source": [
    "# 6. 训练与评估"
   ]
  },
  {
   "cell_type": "markdown",
   "metadata": {},
   "source": [
    "输入数据tf化，此处**仅使用Accuracy**作为评估指标"
   ]
  },
  {
   "cell_type": "code",
   "execution_count": 510,
   "metadata": {},
   "outputs": [],
   "source": [
    "labels = tf.convert_to_tensor(labels, dtype=tf.int32)\n",
    "features = tf.convert_to_tensor(features, dtype=tf.float32)\n",
    "PSP = tf.convert_to_tensor(PSP, dtype=tf.float32)\n",
    "PAP = tf.convert_to_tensor(PAP, dtype=tf.float32)\n",
    "\n",
    "train_mask = tf.convert_to_tensor(train_mask, dtype=tf.float32)\n",
    "val_mask = tf.convert_to_tensor(val_mask, dtype=tf.float32)\n",
    "test_mask = tf.convert_to_tensor(test_mask, dtype=tf.float32)"
   ]
  },
  {
   "cell_type": "code",
   "execution_count": 437,
   "metadata": {},
   "outputs": [
    {
     "name": "stdout",
     "output_type": "stream",
     "text": [
      "Epoch 1/100\n",
      "1/1 - 1s - loss: 0.2254 - acc: 0.3050 - val_loss: 0.1050 - val_acc: 0.3333\n",
      "Epoch 2/100\n",
      "1/1 - 0s - loss: 0.2099 - acc: 0.3833 - val_loss: 0.0952 - val_acc: 0.6433\n",
      "Epoch 3/100\n",
      "1/1 - 0s - loss: 0.1898 - acc: 0.5950 - val_loss: 0.0856 - val_acc: 0.6533\n",
      "Epoch 4/100\n",
      "1/1 - 0s - loss: 0.1738 - acc: 0.6583 - val_loss: 0.0744 - val_acc: 0.6600\n",
      "Epoch 5/100\n",
      "1/1 - 0s - loss: 0.1592 - acc: 0.6650 - val_loss: 0.0636 - val_acc: 0.9133\n",
      "Epoch 6/100\n",
      "1/1 - 0s - loss: 0.1397 - acc: 0.7700 - val_loss: 0.0581 - val_acc: 0.6433\n",
      "Epoch 7/100\n",
      "1/1 - 0s - loss: 0.1242 - acc: 0.7283 - val_loss: 0.0578 - val_acc: 0.6433\n",
      "Epoch 8/100\n",
      "1/1 - 0s - loss: 0.1266 - acc: 0.7200 - val_loss: 0.0514 - val_acc: 0.8867\n",
      "Epoch 9/100\n",
      "1/1 - 0s - loss: 0.1183 - acc: 0.7200 - val_loss: 0.0496 - val_acc: 0.6667\n",
      "Epoch 10/100\n",
      "1/1 - 0s - loss: 0.1074 - acc: 0.7450 - val_loss: 0.0424 - val_acc: 0.8633\n",
      "Epoch 11/100\n",
      "1/1 - 0s - loss: 0.1060 - acc: 0.7767 - val_loss: 0.0348 - val_acc: 0.9333\n",
      "Epoch 12/100\n",
      "1/1 - 0s - loss: 0.0924 - acc: 0.8133 - val_loss: 0.0295 - val_acc: 0.9500\n",
      "Epoch 13/100\n",
      "1/1 - 0s - loss: 0.1032 - acc: 0.8150 - val_loss: 0.0281 - val_acc: 0.9467\n",
      "Epoch 14/100\n",
      "1/1 - 0s - loss: 0.0957 - acc: 0.8650 - val_loss: 0.0296 - val_acc: 0.9333\n",
      "Epoch 15/100\n",
      "1/1 - 0s - loss: 0.1020 - acc: 0.8517 - val_loss: 0.0278 - val_acc: 0.9500\n",
      "Epoch 16/100\n",
      "1/1 - 0s - loss: 0.0949 - acc: 0.8433 - val_loss: 0.0251 - val_acc: 0.9567\n",
      "Epoch 17/100\n",
      "1/1 - 0s - loss: 0.0809 - acc: 0.8700 - val_loss: 0.0262 - val_acc: 0.9600\n",
      "Epoch 18/100\n",
      "1/1 - 0s - loss: 0.0808 - acc: 0.8517 - val_loss: 0.0266 - val_acc: 0.9433\n",
      "Epoch 19/100\n",
      "1/1 - 0s - loss: 0.0794 - acc: 0.8433 - val_loss: 0.0253 - val_acc: 0.9367\n",
      "Epoch 20/100\n",
      "1/1 - 0s - loss: 0.0784 - acc: 0.8517 - val_loss: 0.0240 - val_acc: 0.9367\n",
      "Epoch 21/100\n",
      "1/1 - 0s - loss: 0.0730 - acc: 0.8317 - val_loss: 0.0220 - val_acc: 0.9400\n",
      "Epoch 22/100\n",
      "1/1 - 0s - loss: 0.0693 - acc: 0.8367 - val_loss: 0.0192 - val_acc: 0.9500\n",
      "Epoch 23/100\n",
      "1/1 - 0s - loss: 0.0714 - acc: 0.8667 - val_loss: 0.0176 - val_acc: 0.9600\n",
      "Epoch 24/100\n",
      "1/1 - 0s - loss: 0.0706 - acc: 0.8817 - val_loss: 0.0169 - val_acc: 0.9600\n",
      "Epoch 25/100\n",
      "1/1 - 0s - loss: 0.0700 - acc: 0.8850 - val_loss: 0.0163 - val_acc: 0.9600\n",
      "Epoch 26/100\n",
      "1/1 - 0s - loss: 0.0732 - acc: 0.8750 - val_loss: 0.0159 - val_acc: 0.9600\n",
      "Epoch 27/100\n",
      "1/1 - 0s - loss: 0.0726 - acc: 0.8850 - val_loss: 0.0159 - val_acc: 0.9633\n",
      "Epoch 28/100\n",
      "1/1 - 0s - loss: 0.0701 - acc: 0.8717 - val_loss: 0.0168 - val_acc: 0.9567\n",
      "Epoch 29/100\n",
      "1/1 - 0s - loss: 0.0653 - acc: 0.8900 - val_loss: 0.0187 - val_acc: 0.9467\n",
      "Epoch 30/100\n",
      "1/1 - 0s - loss: 0.0899 - acc: 0.8800 - val_loss: 0.0190 - val_acc: 0.9433\n",
      "Epoch 31/100\n",
      "1/1 - 0s - loss: 0.0656 - acc: 0.8917 - val_loss: 0.0184 - val_acc: 0.9467\n",
      "Epoch 32/100\n",
      "1/1 - 0s - loss: 0.0648 - acc: 0.8883 - val_loss: 0.0176 - val_acc: 0.9600\n",
      "Epoch 33/100\n",
      "1/1 - 0s - loss: 0.0753 - acc: 0.8617 - val_loss: 0.0181 - val_acc: 0.9600\n",
      "Epoch 34/100\n",
      "1/1 - 0s - loss: 0.0668 - acc: 0.8850 - val_loss: 0.0184 - val_acc: 0.9633\n",
      "Epoch 35/100\n",
      "1/1 - 0s - loss: 0.0656 - acc: 0.8783 - val_loss: 0.0163 - val_acc: 0.9633\n",
      "Epoch 36/100\n",
      "1/1 - 0s - loss: 0.0661 - acc: 0.8900 - val_loss: 0.0151 - val_acc: 0.9633\n",
      "Epoch 37/100\n",
      "1/1 - 0s - loss: 0.0614 - acc: 0.8950 - val_loss: 0.0144 - val_acc: 0.9633\n",
      "Epoch 38/100\n",
      "1/1 - 0s - loss: 0.0677 - acc: 0.9100 - val_loss: 0.0140 - val_acc: 0.9600\n",
      "Epoch 39/100\n",
      "1/1 - 0s - loss: 0.0758 - acc: 0.8667 - val_loss: 0.0136 - val_acc: 0.9667\n",
      "Epoch 40/100\n",
      "1/1 - 0s - loss: 0.0660 - acc: 0.8800 - val_loss: 0.0141 - val_acc: 0.9600\n",
      "Epoch 41/100\n",
      "1/1 - 0s - loss: 0.0647 - acc: 0.8950 - val_loss: 0.0160 - val_acc: 0.9600\n",
      "Epoch 42/100\n",
      "1/1 - 0s - loss: 0.0561 - acc: 0.9050 - val_loss: 0.0181 - val_acc: 0.9500\n",
      "Epoch 43/100\n",
      "1/1 - 0s - loss: 0.0557 - acc: 0.9100 - val_loss: 0.0197 - val_acc: 0.9400\n",
      "Epoch 44/100\n",
      "1/1 - 0s - loss: 0.1231 - acc: 0.7883 - val_loss: 0.0140 - val_acc: 0.9600\n",
      "Epoch 45/100\n",
      "1/1 - 0s - loss: 0.0662 - acc: 0.8817 - val_loss: 0.0143 - val_acc: 0.9633\n",
      "Epoch 46/100\n",
      "1/1 - 0s - loss: 0.0635 - acc: 0.9000 - val_loss: 0.0171 - val_acc: 0.9467\n",
      "Epoch 47/100\n",
      "1/1 - 0s - loss: 0.0656 - acc: 0.8683 - val_loss: 0.0183 - val_acc: 0.9433\n",
      "Epoch 48/100\n",
      "1/1 - 0s - loss: 0.0968 - acc: 0.8400 - val_loss: 0.0163 - val_acc: 0.9500\n",
      "Epoch 49/100\n",
      "1/1 - 0s - loss: 0.0703 - acc: 0.8650 - val_loss: 0.0133 - val_acc: 0.9700\n",
      "Epoch 50/100\n",
      "1/1 - 0s - loss: 0.0592 - acc: 0.9117 - val_loss: 0.0115 - val_acc: 0.9800\n",
      "Epoch 51/100\n",
      "1/1 - 0s - loss: 0.0666 - acc: 0.8917 - val_loss: 0.0110 - val_acc: 0.9633\n",
      "Epoch 52/100\n",
      "1/1 - 0s - loss: 0.0727 - acc: 0.8767 - val_loss: 0.0110 - val_acc: 0.9600\n",
      "Epoch 53/100\n",
      "1/1 - 0s - loss: 0.0856 - acc: 0.8883 - val_loss: 0.0109 - val_acc: 0.9567\n",
      "Epoch 54/100\n",
      "1/1 - 0s - loss: 0.0583 - acc: 0.9050 - val_loss: 0.0109 - val_acc: 0.9700\n",
      "Epoch 55/100\n",
      "1/1 - 0s - loss: 0.0726 - acc: 0.8767 - val_loss: 0.0112 - val_acc: 0.9667\n",
      "Epoch 56/100\n",
      "1/1 - 0s - loss: 0.0549 - acc: 0.8900 - val_loss: 0.0115 - val_acc: 0.9633\n",
      "Epoch 57/100\n",
      "1/1 - 0s - loss: 0.0650 - acc: 0.9033 - val_loss: 0.0122 - val_acc: 0.9633\n",
      "Epoch 58/100\n",
      "1/1 - 0s - loss: 0.0641 - acc: 0.8833 - val_loss: 0.0134 - val_acc: 0.9633\n",
      "Epoch 59/100\n",
      "1/1 - 0s - loss: 0.0628 - acc: 0.8800 - val_loss: 0.0149 - val_acc: 0.9533\n",
      "Epoch 60/100\n",
      "1/1 - 0s - loss: 0.0635 - acc: 0.8850 - val_loss: 0.0162 - val_acc: 0.9533\n",
      "Epoch 61/100\n",
      "1/1 - 0s - loss: 0.0698 - acc: 0.8617 - val_loss: 0.0169 - val_acc: 0.9533\n",
      "Epoch 62/100\n",
      "1/1 - 0s - loss: 0.0601 - acc: 0.8983 - val_loss: 0.0171 - val_acc: 0.9533\n",
      "Epoch 63/100\n",
      "1/1 - 0s - loss: 0.0604 - acc: 0.8817 - val_loss: 0.0169 - val_acc: 0.9533\n",
      "Epoch 64/100\n",
      "1/1 - 0s - loss: 0.0633 - acc: 0.8883 - val_loss: 0.0161 - val_acc: 0.9533\n",
      "Epoch 65/100\n",
      "1/1 - 0s - loss: 0.0620 - acc: 0.8867 - val_loss: 0.0153 - val_acc: 0.9567\n",
      "Epoch 66/100\n",
      "1/1 - 0s - loss: 0.0553 - acc: 0.9067 - val_loss: 0.0144 - val_acc: 0.9633\n",
      "Epoch 67/100\n",
      "1/1 - 0s - loss: 0.0531 - acc: 0.9000 - val_loss: 0.0133 - val_acc: 0.9633\n",
      "Epoch 68/100\n",
      "1/1 - 0s - loss: 0.0549 - acc: 0.9100 - val_loss: 0.0125 - val_acc: 0.9633\n",
      "Epoch 69/100\n",
      "1/1 - 0s - loss: 0.0575 - acc: 0.8967 - val_loss: 0.0121 - val_acc: 0.9667\n",
      "Epoch 70/100\n",
      "1/1 - 0s - loss: 0.0617 - acc: 0.8850 - val_loss: 0.0119 - val_acc: 0.9667\n",
      "Epoch 71/100\n",
      "1/1 - 0s - loss: 0.0551 - acc: 0.8950 - val_loss: 0.0116 - val_acc: 0.9667\n",
      "Epoch 72/100\n",
      "1/1 - 0s - loss: 0.0611 - acc: 0.8767 - val_loss: 0.0113 - val_acc: 0.9700\n",
      "Epoch 73/100\n",
      "1/1 - 0s - loss: 0.0544 - acc: 0.9033 - val_loss: 0.0110 - val_acc: 0.9700\n",
      "Epoch 74/100\n",
      "1/1 - 0s - loss: 0.0572 - acc: 0.8833 - val_loss: 0.0110 - val_acc: 0.9700\n",
      "Epoch 75/100\n",
      "1/1 - 0s - loss: 0.0517 - acc: 0.9017 - val_loss: 0.0113 - val_acc: 0.9700\n",
      "Epoch 76/100\n",
      "1/1 - 0s - loss: 0.0543 - acc: 0.8883 - val_loss: 0.0118 - val_acc: 0.9667\n",
      "Epoch 77/100\n",
      "1/1 - 0s - loss: 0.0592 - acc: 0.8900 - val_loss: 0.0126 - val_acc: 0.9667\n",
      "Epoch 78/100\n",
      "1/1 - 0s - loss: 0.0543 - acc: 0.8900 - val_loss: 0.0132 - val_acc: 0.9667\n",
      "Epoch 79/100\n",
      "1/1 - 0s - loss: 0.0519 - acc: 0.8817 - val_loss: 0.0135 - val_acc: 0.9700\n",
      "Epoch 80/100\n",
      "1/1 - 0s - loss: 0.0568 - acc: 0.8917 - val_loss: 0.0134 - val_acc: 0.9700\n",
      "Epoch 81/100\n",
      "1/1 - 0s - loss: 0.0511 - acc: 0.9017 - val_loss: 0.0128 - val_acc: 0.9667\n",
      "Epoch 82/100\n",
      "1/1 - 0s - loss: 0.0512 - acc: 0.9017 - val_loss: 0.0124 - val_acc: 0.9633\n",
      "Epoch 83/100\n",
      "1/1 - 0s - loss: 0.0530 - acc: 0.8950 - val_loss: 0.0120 - val_acc: 0.9633\n",
      "Epoch 84/100\n",
      "1/1 - 0s - loss: 0.0506 - acc: 0.8933 - val_loss: 0.0117 - val_acc: 0.9633\n",
      "Epoch 85/100\n",
      "1/1 - 0s - loss: 0.0533 - acc: 0.9067 - val_loss: 0.0115 - val_acc: 0.9633\n",
      "Epoch 86/100\n",
      "1/1 - 0s - loss: 0.0518 - acc: 0.9067 - val_loss: 0.0113 - val_acc: 0.9667\n",
      "Epoch 87/100\n",
      "1/1 - 0s - loss: 0.0536 - acc: 0.8783 - val_loss: 0.0111 - val_acc: 0.9667\n",
      "Epoch 88/100\n",
      "1/1 - 0s - loss: 0.0487 - acc: 0.9033 - val_loss: 0.0109 - val_acc: 0.9667\n",
      "Epoch 89/100\n",
      "1/1 - 0s - loss: 0.0543 - acc: 0.8817 - val_loss: 0.0108 - val_acc: 0.9700\n",
      "Epoch 90/100\n",
      "1/1 - 0s - loss: 0.0491 - acc: 0.9033 - val_loss: 0.0109 - val_acc: 0.9700\n",
      "Epoch 91/100\n",
      "1/1 - 0s - loss: 0.0517 - acc: 0.8967 - val_loss: 0.0113 - val_acc: 0.9733\n",
      "Epoch 92/100\n",
      "1/1 - 0s - loss: 0.0469 - acc: 0.8983 - val_loss: 0.0120 - val_acc: 0.9667\n",
      "Epoch 93/100\n",
      "1/1 - 0s - loss: 0.0553 - acc: 0.9017 - val_loss: 0.0122 - val_acc: 0.9667\n",
      "Epoch 94/100\n",
      "1/1 - 0s - loss: 0.0522 - acc: 0.8950 - val_loss: 0.0119 - val_acc: 0.9700\n",
      "Epoch 95/100\n",
      "1/1 - 0s - loss: 0.0484 - acc: 0.9017 - val_loss: 0.0110 - val_acc: 0.9733\n",
      "Epoch 96/100\n",
      "1/1 - 0s - loss: 0.0471 - acc: 0.9117 - val_loss: 0.0102 - val_acc: 0.9800\n",
      "Epoch 97/100\n",
      "1/1 - 0s - loss: 0.0494 - acc: 0.9067 - val_loss: 0.0098 - val_acc: 0.9767\n",
      "Epoch 98/100\n",
      "1/1 - 0s - loss: 0.0506 - acc: 0.8933 - val_loss: 0.0096 - val_acc: 0.9767\n",
      "Epoch 99/100\n",
      "1/1 - 0s - loss: 0.0510 - acc: 0.8850 - val_loss: 0.0100 - val_acc: 0.9767\n",
      "Epoch 100/100\n",
      "1/1 - 0s - loss: 0.0529 - acc: 0.8817 - val_loss: 0.0105 - val_acc: 0.9767\n",
      "1/1 - 0s - loss: 0.0100 - acc: 0.9867\n",
      "[0.010035885497927666, 0.9866666793823242]\n",
      "1/1 - 0s - loss: 0.0105 - acc: 0.9767\n",
      "[0.010455704294145107, 0.9766666889190674]\n",
      "1/1 - 0s - loss: 0.3027 - acc: 0.8673\n",
      "[0.3026655614376068, 0.8672941327095032]\n"
     ]
    },
    {
     "data": {
      "image/png": "[encoded data removed]",
      "text/plain": [
       "<Figure size 432x288 with 1 Axes>"
      ]
     },
     "metadata": {
      "needs_background": "light"
     },
     "output_type": "display_data"
    }
   ],
   "source": [
    "optimizer   = keras.optimizers.Adam(learning_rate=0.005)\n",
    "regularizer = keras.regularizers.L2(l2=0.005)\n",
    "es_min_delta = 0.001\n",
    "es_patience = 20\n",
    "\n",
    "model = HAN(node_num=node_num, feature_dim=feature_dim, dropout=0.6)\n",
    "model.compile(optimizer=optimizer, \n",
    "              weighted_metrics=['acc'],\n",
    "              loss=keras.losses.SparseCategoricalCrossentropy(name='loss'))\n",
    "\n",
    "es_callback = keras.callbacks.EarlyStopping(monitor='loss', \n",
    "                                            patience=es_patience, \n",
    "                                            min_delta=es_min_delta)\n",
    "val_data = ([features, PSP, PAP], labels, val_mask)\n",
    "history = model.fit([features, PSP, PAP], labels,\n",
    "          batch_size=node_num,\n",
    "          epochs=100,\n",
    "          sample_weight=train_mask,\n",
    "          validation_data=val_data,\n",
    "          shuffle=False, verbose=2, callbacks=es_callback)\n",
    "for i, item in history.history.items():\n",
    "    plt.plot(item, label=i)\n",
    "plt.legend()\n",
    "\n",
    "for i in [train_mask, val_mask, test_mask]:\n",
    "    print(model.evaluate([features, PSP, PAP], labels, sample_weight=i, batch_size=node_num, verbose=2))"
   ]
  },
  {
   "cell_type": "markdown",
   "metadata": {},
   "source": [
    "自定义训练循环，并**使用Micro F1和Macro F1**作为评估指标。"
   ]
  },
  {
   "cell_type": "code",
   "execution_count": 316,
   "metadata": {},
   "outputs": [],
   "source": [
    "import tensorflow_addons as tfa"
   ]
  },
  {
   "cell_type": "code",
   "execution_count": 551,
   "metadata": {},
   "outputs": [],
   "source": [
    "# @tf.function\n",
    "def train_model(model, inputs, labels, \n",
    "                mask, f1_macro, f1_micro,\n",
    "                num_classes=num_classes,\n",
    "                optimizer=optimizer, loss=loss):\n",
    "    with tf.GradientTape() as tape:\n",
    "        y_preds = model(inputs, training=True)\n",
    "        cur_loss = loss(labels, y_preds, sample_weight=mask)\n",
    "\n",
    "    gradients = tape.gradient(cur_loss, model.trainable_variables)\n",
    "    optimizer.apply_gradients(zip(gradients, model.trainable_variables))\n",
    "    \n",
    "    f1_macro.update_state(tf.one_hot(labels, \n",
    "                                            depth=num_classes), \n",
    "                                 y_preds, sample_weight=mask)\n",
    "    f1_micro.update_state(tf.one_hot(labels, \n",
    "                                            depth=num_classes), \n",
    "                                 y_preds, sample_weight=mask)\n",
    "    \n",
    "    f1_macro_result = f1_macro.result()\n",
    "    f1_micro_result = f1_micro.result()\n",
    "    print(f'loss: {cur_loss.numpy()} - '\n",
    "          f'macro_f1: {f1_macro_result.numpy()} - '\n",
    "          f'micro_f1: {f1_micro_result.numpy()} - ', end='')\n",
    "    f1_macro.reset_states()\n",
    "    f1_micro.reset_states()\n",
    "    \n",
    "    # 用于Early Stopping\n",
    "    return cur_loss, f1_macro_result, f1_micro_result\n",
    "\n",
    "# @tf.function\n",
    "def evaluate_model(model, inputs, labels, \n",
    "                   mask, f1_macro, f1_micro, \n",
    "                   loss=loss, type_='val'):\n",
    "    y_preds = model(inputs, training=False)\n",
    "    cur_loss = loss(labels, y_preds, sample_weight=mask)\n",
    "    \n",
    "    f1_macro.update_state(tf.one_hot(labels, \n",
    "                                            depth=num_classes), \n",
    "                                 y_preds, sample_weight=mask)\n",
    "    f1_micro.update_state(tf.one_hot(labels, \n",
    "                                            depth=num_classes), \n",
    "                                 y_preds, sample_weight=mask)\n",
    "    \n",
    "    f1_macro_result = f1_macro.result()\n",
    "    f1_micro_result = f1_micro.result()\n",
    "    print(f'{type_}_loss: {cur_loss.numpy()} - '\n",
    "          f'{type_}_macro_f1: {f1_macro_result.numpy()} - '\n",
    "          f'{type_}_micro_f1: {f1_macro_result.numpy()}')\n",
    "    f1_macro.reset_states()\n",
    "    f1_micro.reset_states()\n",
    "    \n",
    "    # 用于Early Stopping\n",
    "    return cur_loss, f1_macro_result, f1_micro_result"
   ]
  },
  {
   "cell_type": "code",
   "execution_count": 507,
   "metadata": {},
   "outputs": [
    {
     "data": {
      "text/plain": [
       "<tf.Tensor: shape=(), dtype=float32, numpy=1.0>"
      ]
     },
     "execution_count": 507,
     "metadata": {},
     "output_type": "execute_result"
    }
   ],
   "source": [
    "f1_macro.update_state(tf.one_hot(labels, \n",
    "                        depth=num_classes), \n",
    "                    tf.one_hot(labels, depth=num_classes), sample_weight=tf.cast(train_mask, tf.float32))\n",
    "f1_macro.result()"
   ]
  },
  {
   "cell_type": "code",
   "execution_count": 557,
   "metadata": {},
   "outputs": [
    {
     "name": "stdout",
     "output_type": "stream",
     "text": [
      "epoch: 1 - loss: 0.2178962677717209 - macro_f1: 0.34985771775245667 - micro_f1: 0.3586776852607727 - val_loss: 0.09939515590667725 - val_macro_f1: 0.49500975012779236 - val_micro_f1: 0.49500975012779236\n",
      "epoch: 2 - loss: 0.20221661031246185 - macro_f1: 0.3601559102535248 - micro_f1: 0.4265560209751129 - val_loss: 0.0732942447066307 - val_macro_f1: 0.8730859756469727 - val_micro_f1: 0.8730859756469727\n",
      "epoch: 3 - loss: 0.16309307515621185 - macro_f1: 0.7257397174835205 - micro_f1: 0.7296849489212036 - val_loss: 0.10266143828630447 - val_macro_f1: 0.5399467349052429 - val_micro_f1: 0.5399467349052429\n",
      "epoch: 4 - loss: 0.19712042808532715 - macro_f1: 0.5267278552055359 - micro_f1: 0.6147472858428955 - val_loss: 0.05826795473694801 - val_macro_f1: 0.7759111523628235 - val_micro_f1: 0.7759111523628235\n",
      "epoch: 5 - loss: 0.1387525200843811 - macro_f1: 0.7254404425621033 - micro_f1: 0.7346600294113159 - val_loss: 0.04303715005517006 - val_macro_f1: 0.8816302418708801 - val_micro_f1: 0.8816302418708801\n",
      "epoch: 6 - loss: 0.12458554655313492 - macro_f1: 0.7168076634407043 - micro_f1: 0.7448388934135437 - val_loss: 0.03499460965394974 - val_macro_f1: 0.9367210865020752 - val_micro_f1: 0.9367210865020752\n",
      "epoch: 7 - loss: 0.1370151937007904 - macro_f1: 0.8143690228462219 - micro_f1: 0.8128606081008911 - val_loss: 0.02895965240895748 - val_macro_f1: 0.9435041546821594 - val_micro_f1: 0.9435041546821594\n",
      "epoch: 8 - loss: 0.10744219273328781 - macro_f1: 0.7786486744880676 - micro_f1: 0.7798013091087341 - val_loss: 0.07973986864089966 - val_macro_f1: 0.550000011920929 - val_micro_f1: 0.550000011920929\n",
      "epoch: 9 - loss: 0.14143870770931244 - macro_f1: 0.6672237515449524 - micro_f1: 0.6991735696792603 - val_loss: 0.036357153207063675 - val_macro_f1: 0.9224523901939392 - val_micro_f1: 0.9224523901939392\n",
      "epoch: 10 - loss: 0.11159270256757736 - macro_f1: 0.8400480151176453 - micro_f1: 0.8434134125709534 - val_loss: 0.04506722092628479 - val_macro_f1: 0.7476310133934021 - val_micro_f1: 0.7476310133934021\n",
      "epoch: 11 - loss: 0.12359978258609772 - macro_f1: 0.7276166081428528 - micro_f1: 0.735880434513092 - val_loss: 0.026134109124541283 - val_macro_f1: 0.9168296456336975 - val_micro_f1: 0.9168296456336975\n",
      "epoch: 12 - loss: 0.11724839359521866 - macro_f1: 0.8063616752624512 - micro_f1: 0.8053024411201477 - val_loss: 0.02963557280600071 - val_macro_f1: 0.8660889267921448 - val_micro_f1: 0.8660889267921448\n",
      "epoch: 13 - loss: 0.10580362379550934 - macro_f1: 0.7546505928039551 - micro_f1: 0.7692307829856873 - val_loss: 0.026313068345189095 - val_macro_f1: 0.9435147643089294 - val_micro_f1: 0.9435147643089294\n",
      "epoch: 14 - loss: 0.09466289728879929 - macro_f1: 0.796546459197998 - micro_f1: 0.800664484500885 - val_loss: 0.02474961429834366 - val_macro_f1: 0.9501439929008484 - val_micro_f1: 0.9501439929008484\n",
      "epoch: 15 - loss: 0.09950011968612671 - macro_f1: 0.8028101921081543 - micro_f1: 0.8049792051315308 - val_loss: 0.021189358085393906 - val_macro_f1: 0.953385055065155 - val_micro_f1: 0.953385055065155\n",
      "epoch: 16 - loss: 0.10087931901216507 - macro_f1: 0.7961191534996033 - micro_f1: 0.8016598224639893 - val_loss: 0.01969362609088421 - val_macro_f1: 0.953385055065155 - val_micro_f1: 0.953385055065155\n",
      "epoch: 17 - loss: 0.08293915539979935 - macro_f1: 0.8420398831367493 - micro_f1: 0.8421927094459534 - val_loss: 0.017669927328824997 - val_macro_f1: 0.963253915309906 - val_micro_f1: 0.963253915309906\n",
      "epoch: 18 - loss: 0.07969990372657776 - macro_f1: 0.8675283789634705 - micro_f1: 0.8684863448143005 - val_loss: 0.01571361906826496 - val_macro_f1: 0.963253915309906 - val_micro_f1: 0.963253915309906\n",
      "epoch: 19 - loss: 0.07219240069389343 - macro_f1: 0.8999856114387512 - micro_f1: 0.9003322124481201 - val_loss: 0.013981539756059647 - val_macro_f1: 0.9699578285217285 - val_micro_f1: 0.9699578285217285\n",
      "epoch: 20 - loss: 0.07989674806594849 - macro_f1: 0.8725734353065491 - micro_f1: 0.8732393980026245 - val_loss: 0.012728890404105186 - val_macro_f1: 0.9732829928398132 - val_micro_f1: 0.9732829928398132\n",
      "epoch: 21 - loss: 0.07486185431480408 - macro_f1: 0.8654279708862305 - micro_f1: 0.8661156892776489 - val_loss: 0.011684802360832691 - val_macro_f1: 0.9732649922370911 - val_micro_f1: 0.9732649922370911\n",
      "epoch: 22 - loss: 0.07105192542076111 - macro_f1: 0.8730620741844177 - micro_f1: 0.8741721510887146 - val_loss: 0.010425087995827198 - val_macro_f1: 0.9732649922370911 - val_micro_f1: 0.9732649922370911\n",
      "epoch: 23 - loss: 0.06868826597929001 - macro_f1: 0.8551804423332214 - micro_f1: 0.8559602499008179 - val_loss: 0.009070485830307007 - val_macro_f1: 0.9732829928398132 - val_micro_f1: 0.9732829928398132\n",
      "epoch: 24 - loss: 0.061502855271101 - macro_f1: 0.9035949110984802 - micro_f1: 0.9036544561386108 - val_loss: 0.008574085310101509 - val_macro_f1: 0.9766320586204529 - val_micro_f1: 0.9766320586204529\n",
      "epoch: 25 - loss: 0.06290377676486969 - macro_f1: 0.8872538208961487 - micro_f1: 0.887417197227478 - val_loss: 0.008776121772825718 - val_macro_f1: 0.9766320586204529 - val_micro_f1: 0.9766320586204529\n",
      "epoch: 26 - loss: 0.07195031642913818 - macro_f1: 0.8784950375556946 - micro_f1: 0.8782104253768921 - val_loss: 0.009393519721925259 - val_macro_f1: 0.9733906388282776 - val_micro_f1: 0.9733906388282776\n",
      "epoch: 27 - loss: 0.06781996786594391 - macro_f1: 0.868861198425293 - micro_f1: 0.8689884543418884 - val_loss: 0.009783237241208553 - val_macro_f1: 0.9701728820800781 - val_micro_f1: 0.9701728820800781\n",
      "epoch: 28 - loss: 0.06471849232912064 - macro_f1: 0.8884249329566956 - micro_f1: 0.8887056708335876 - val_loss: 0.00975448451936245 - val_macro_f1: 0.9701728820800781 - val_micro_f1: 0.9701728820800781\n",
      "epoch: 29 - loss: 0.07153965532779694 - macro_f1: 0.866389274597168 - micro_f1: 0.8663365840911865 - val_loss: 0.00929961632937193 - val_macro_f1: 0.9701728820800781 - val_micro_f1: 0.9701728820800781\n",
      "epoch: 30 - loss: 0.06520546227693558 - macro_f1: 0.86922687292099 - micro_f1: 0.8701406121253967 - val_loss: 0.008737203665077686 - val_macro_f1: 0.9800600409507751 - val_micro_f1: 0.9800600409507751\n",
      "epoch: 31 - loss: 0.08048829436302185 - macro_f1: 0.8455504775047302 - micro_f1: 0.8471761345863342 - val_loss: 0.008813404478132725 - val_macro_f1: 0.9734123349189758 - val_micro_f1: 0.9734123349189758\n",
      "epoch: 32 - loss: 0.06195918843150139 - macro_f1: 0.8958137631416321 - micro_f1: 0.8962655067443848 - val_loss: 0.008823956362903118 - val_macro_f1: 0.9734123349189758 - val_micro_f1: 0.9734123349189758\n",
      "epoch: 33 - loss: 0.07072710245847702 - macro_f1: 0.8804087042808533 - micro_f1: 0.881130576133728 - val_loss: 0.00888447929173708 - val_macro_f1: 0.9733906388282776 - val_micro_f1: 0.9733906388282776\n",
      "epoch: 34 - loss: 0.06091317534446716 - macro_f1: 0.8989103436470032 - micro_f1: 0.8995057940483093 - val_loss: 0.00872936099767685 - val_macro_f1: 0.969987154006958 - val_micro_f1: 0.969987154006958\n",
      "epoch: 35 - loss: 0.05774133279919624 - macro_f1: 0.8760337233543396 - micro_f1: 0.8765534162521362 - val_loss: 0.008790344931185246 - val_macro_f1: 0.9666411280632019 - val_micro_f1: 0.9666411280632019\n",
      "epoch: 36 - loss: 0.07044057548046112 - macro_f1: 0.8651540279388428 - micro_f1: 0.8656715750694275 - val_loss: 0.009118030779063702 - val_macro_f1: 0.9665817618370056 - val_micro_f1: 0.9665817618370056\n",
      "epoch: 37 - loss: 0.06609200686216354 - macro_f1: 0.869996964931488 - micro_f1: 0.8701406121253967 - val_loss: 0.009402278810739517 - val_macro_f1: 0.9699273705482483 - val_micro_f1: 0.9699273705482483\n",
      "epoch: 38 - loss: 0.07160025089979172 - macro_f1: 0.8679612278938293 - micro_f1: 0.8687034845352173 - val_loss: 0.009729046374559402 - val_macro_f1: 0.969990074634552 - val_micro_f1: 0.969990074634552\n",
      "epoch: 39 - loss: 0.06306590139865875 - macro_f1: 0.8893620371818542 - micro_f1: 0.8898094296455383 - val_loss: 0.00984156969934702 - val_macro_f1: 0.9734123349189758 - val_micro_f1: 0.9734123349189758\n",
      "epoch: 40 - loss: 0.0680461898446083 - macro_f1: 0.8713672757148743 - micro_f1: 0.8715824484825134 - val_loss: 0.009770991280674934 - val_macro_f1: 0.9700841307640076 - val_micro_f1: 0.9700841307640076\n",
      "epoch: 41 - loss: 0.06178024038672447 - macro_f1: 0.8839096426963806 - micro_f1: 0.884105920791626 - val_loss: 0.009733013808727264 - val_macro_f1: 0.9700841307640076 - val_micro_f1: 0.9700841307640076\n",
      "epoch: 42 - loss: 0.06351300328969955 - macro_f1: 0.8842788338661194 - micro_f1: 0.8842975497245789 - val_loss: 0.009768092073500156 - val_macro_f1: 0.9668594002723694 - val_micro_f1: 0.9668594002723694\n",
      "epoch: 43 - loss: 0.07162894308567047 - macro_f1: 0.8545276522636414 - micro_f1: 0.8554818034172058 - val_loss: 0.009937885217368603 - val_macro_f1: 0.9668594002723694 - val_micro_f1: 0.9668594002723694\n",
      "epoch: 44 - loss: 0.06255436688661575 - macro_f1: 0.8920075297355652 - micro_f1: 0.8922056555747986 - val_loss: 0.010062272660434246 - val_macro_f1: 0.9668594002723694 - val_micro_f1: 0.9668594002723694\n",
      "epoch: 45 - loss: 0.06046799197793007 - macro_f1: 0.8665780425071716 - micro_f1: 0.8666114211082458 - val_loss: 0.010244240052998066 - val_macro_f1: 0.9635421633720398 - val_micro_f1: 0.9635421633720398\n",
      "epoch: 46 - loss: 0.05794745683670044 - macro_f1: 0.8934914469718933 - micro_f1: 0.8933002352714539 - val_loss: 0.010163123719394207 - val_macro_f1: 0.9668594002723694 - val_micro_f1: 0.9668594002723694\n",
      "epoch: 47 - loss: 0.06444764882326126 - macro_f1: 0.8952522873878479 - micro_f1: 0.8955223560333252 - val_loss: 0.009809414856135845 - val_macro_f1: 0.9668074250221252 - val_micro_f1: 0.9668074250221252\n",
      "epoch: 48 - loss: 0.061961423605680466 - macro_f1: 0.8979023098945618 - micro_f1: 0.8980944752693176 - val_loss: 0.009535549208521843 - val_macro_f1: 0.9634793400764465 - val_micro_f1: 0.9634793400764465\n",
      "epoch: 49 - loss: 0.05841948091983795 - macro_f1: 0.9045855402946472 - micro_f1: 0.9047224521636963 - val_loss: 0.009495386853814125 - val_macro_f1: 0.9634793400764465 - val_micro_f1: 0.9634793400764465\n",
      "epoch: 50 - loss: 0.06111060827970505 - macro_f1: 0.8982439041137695 - micro_f1: 0.8977555632591248 - val_loss: 0.009796851314604282 - val_macro_f1: 0.966735303401947 - val_micro_f1: 0.966735303401947\n",
      "epoch: 51 - loss: 0.05474799871444702 - macro_f1: 0.8901066184043884 - micro_f1: 0.8899917006492615 - val_loss: 0.010005880147218704 - val_macro_f1: 0.9634089469909668 - val_micro_f1: 0.9634089469909668\n",
      "epoch: 52 - loss: 0.056611187756061554 - macro_f1: 0.9075892567634583 - micro_f1: 0.9072847962379456 - val_loss: 0.01027722842991352 - val_macro_f1: 0.9667364954948425 - val_micro_f1: 0.9667364954948425\n",
      "epoch: 53 - loss: 0.05257668346166611 - macro_f1: 0.9237510561943054 - micro_f1: 0.9237146973609924 - val_loss: 0.010529203340411186 - val_macro_f1: 0.963405191898346 - val_micro_f1: 0.963405191898346\n",
      "epoch: 54 - loss: 0.052416134625673294 - macro_f1: 0.9082357287406921 - micro_f1: 0.9081886410713196 - val_loss: 0.010568724945187569 - val_macro_f1: 0.963405191898346 - val_micro_f1: 0.963405191898346\n",
      "epoch: 55 - loss: 0.05898688733577728 - macro_f1: 0.8938586115837097 - micro_f1: 0.894605815410614 - val_loss: 0.010293086990714073 - val_macro_f1: 0.9634089469909668 - val_micro_f1: 0.9634089469909668\n",
      "epoch: 56 - loss: 0.05631144717335701 - macro_f1: 0.9058341383934021 - micro_f1: 0.9062240719795227 - val_loss: 0.00980747677385807 - val_macro_f1: 0.9634089469909668 - val_micro_f1: 0.9634089469909668\n",
      "epoch: 57 - loss: 0.06081487983465195 - macro_f1: 0.9080634117126465 - micro_f1: 0.9086378812789917 - val_loss: 0.00947906170040369 - val_macro_f1: 0.966735303401947 - val_micro_f1: 0.966735303401947\n",
      "epoch: 58 - loss: 0.05713558569550514 - macro_f1: 0.8953418135643005 - micro_f1: 0.8953489065170288 - val_loss: 0.009488076902925968 - val_macro_f1: 0.966735303401947 - val_micro_f1: 0.966735303401947\n",
      "epoch: 59 - loss: 0.0608157217502594 - macro_f1: 0.8793064951896667 - micro_f1: 0.8792672753334045 - val_loss: 0.00939212366938591 - val_macro_f1: 0.966735303401947 - val_micro_f1: 0.966735303401947\n",
      "epoch: 60 - loss: 0.05725882574915886 - macro_f1: 0.8911024928092957 - micro_f1: 0.891286313533783 - val_loss: 0.009580474346876144 - val_macro_f1: 0.966735303401947 - val_micro_f1: 0.966735303401947\n",
      "epoch: 61 - loss: 0.05777619779109955 - macro_f1: 0.8962026238441467 - micro_f1: 0.8960395455360413 - val_loss: 0.009766221977770329 - val_macro_f1: 0.966735303401947 - val_micro_f1: 0.966735303401947\n",
      "epoch: 62 - loss: 0.05057009682059288 - macro_f1: 0.9198986887931824 - micro_f1: 0.9199009537696838 - val_loss: 0.009869950823485851 - val_macro_f1: 0.966735303401947 - val_micro_f1: 0.966735303401947\n",
      "epoch: 63 - loss: 0.05506737902760506 - macro_f1: 0.9144172668457031 - micro_f1: 0.9146644473075867 - val_loss: 0.009785096161067486 - val_macro_f1: 0.966735303401947 - val_micro_f1: 0.966735303401947\n",
      "epoch: 64 - loss: 0.05409292131662369 - macro_f1: 0.8807951807975769 - micro_f1: 0.8813838362693787 - val_loss: 0.009648788720369339 - val_macro_f1: 0.966735303401947 - val_micro_f1: 0.966735303401947\n",
      "epoch: 65 - loss: 0.054106052964925766 - macro_f1: 0.8943016529083252 - micro_f1: 0.8940396904945374 - val_loss: 0.009694342501461506 - val_macro_f1: 0.966735303401947 - val_micro_f1: 0.966735303401947\n",
      "epoch: 66 - loss: 0.05377465486526489 - macro_f1: 0.8855612874031067 - micro_f1: 0.8859503865242004 - val_loss: 0.010001116432249546 - val_macro_f1: 0.966735303401947 - val_micro_f1: 0.966735303401947\n",
      "epoch: 67 - loss: 0.050210706889629364 - macro_f1: 0.9222855567932129 - micro_f1: 0.9226932525634766 - val_loss: 0.010153128765523434 - val_macro_f1: 0.9634089469909668 - val_micro_f1: 0.9634089469909668\n",
      "epoch: 68 - loss: 0.04983970522880554 - macro_f1: 0.9077408313751221 - micro_f1: 0.9081886410713196 - val_loss: 0.010349974036216736 - val_macro_f1: 0.9601680636405945 - val_micro_f1: 0.9601680636405945\n",
      "epoch: 69 - loss: 0.059703562408685684 - macro_f1: 0.8795156478881836 - micro_f1: 0.8797364234924316 - val_loss: 0.010575282387435436 - val_macro_f1: 0.9601680636405945 - val_micro_f1: 0.9601680636405945\n",
      "epoch: 70 - loss: 0.049162134528160095 - macro_f1: 0.9186195731163025 - micro_f1: 0.9187396764755249 - val_loss: 0.010590201243758202 - val_macro_f1: 0.9634089469909668 - val_micro_f1: 0.9634089469909668\n",
      "epoch: 71 - loss: 0.04446909576654434 - macro_f1: 0.9263220429420471 - micro_f1: 0.9262635111808777 - val_loss: 0.010443336330354214 - val_macro_f1: 0.9634089469909668 - val_micro_f1: 0.9634089469909668\n",
      "epoch: 72 - loss: 0.05555642768740654 - macro_f1: 0.9097809791564941 - micro_f1: 0.909842848777771 - val_loss: 0.010022313334047794 - val_macro_f1: 0.9634089469909668 - val_micro_f1: 0.9634089469909668\n",
      "epoch: 73 - loss: 0.04766751825809479 - macro_f1: 0.9162771105766296 - micro_f1: 0.9160432815551758 - val_loss: 0.009823352098464966 - val_macro_f1: 0.9634089469909668 - val_micro_f1: 0.9634089469909668\n",
      "epoch: 74 - loss: 0.04661111161112785 - macro_f1: 0.9273409247398376 - micro_f1: 0.9275123476982117 - val_loss: 0.00967441312968731 - val_macro_f1: 0.9634089469909668 - val_micro_f1: 0.9634089469909668\n",
      "epoch: 75 - loss: 0.048708878457546234 - macro_f1: 0.9142680764198303 - micro_f1: 0.9143807291984558 - val_loss: 0.009522629901766777 - val_macro_f1: 0.966735303401947 - val_micro_f1: 0.966735303401947\n",
      "epoch: 76 - loss: 0.047796279191970825 - macro_f1: 0.8967993855476379 - micro_f1: 0.8973509073257446 - val_loss: 0.009501238353550434 - val_macro_f1: 0.9634089469909668 - val_micro_f1: 0.9634089469909668\n",
      "epoch: 77 - loss: 0.0471334271132946 - macro_f1: 0.9063219428062439 - micro_f1: 0.9063794612884521 - val_loss: 0.009881749749183655 - val_macro_f1: 0.9634089469909668 - val_micro_f1: 0.9634089469909668\n",
      "epoch: 78 - loss: 0.04400347173213959 - macro_f1: 0.9285249710083008 - micro_f1: 0.9286898970603943 - val_loss: 0.010586476884782314 - val_macro_f1: 0.963405191898346 - val_micro_f1: 0.963405191898346\n",
      "epoch: 79 - loss: 0.04884942248463631 - macro_f1: 0.9095360636711121 - micro_f1: 0.909842848777771 - val_loss: 0.011186190880835056 - val_macro_f1: 0.963405191898346 - val_micro_f1: 0.963405191898346\n",
      "epoch: 80 - loss: 0.04339933395385742 - macro_f1: 0.921029806137085 - micro_f1: 0.9212924838066101 - val_loss: 0.011149690486490726 - val_macro_f1: 0.9667521119117737 - val_micro_f1: 0.9667521119117737\n",
      "epoch: 81 - loss: 0.044659312814474106 - macro_f1: 0.9370594620704651 - micro_f1: 0.9370861053466797 - val_loss: 0.01084603276103735 - val_macro_f1: 0.9700841307640076 - val_micro_f1: 0.9700841307640076\n",
      "epoch: 82 - loss: 0.047268010675907135 - macro_f1: 0.9192923903465271 - micro_f1: 0.9196354746818542 - val_loss: 0.01036109495908022 - val_macro_f1: 0.9667364954948425 - val_micro_f1: 0.9667364954948425\n",
      "epoch: 83 - loss: 0.04221048578619957 - macro_f1: 0.9255271553993225 - micro_f1: 0.9257426261901855 - val_loss: 0.009396711364388466 - val_macro_f1: 0.9634089469909668 - val_micro_f1: 0.9634089469909668\n",
      "epoch: 84 - loss: 0.045967213809490204 - macro_f1: 0.9161383509635925 - micro_f1: 0.916597843170166 - val_loss: 0.008805789984762669 - val_macro_f1: 0.9700586795806885 - val_micro_f1: 0.9700586795806885\n",
      "epoch: 85 - loss: 0.04602424055337906 - macro_f1: 0.8999435305595398 - micro_f1: 0.9000825881958008 - val_loss: 0.008755451068282127 - val_macro_f1: 0.9733796119689941 - val_micro_f1: 0.9733796119689941\n",
      "epoch: 86 - loss: 0.049350544810295105 - macro_f1: 0.9021973609924316 - micro_f1: 0.902479350566864 - val_loss: 0.008886430412530899 - val_macro_f1: 0.9700930714607239 - val_micro_f1: 0.9700930714607239\n",
      "epoch: 87 - loss: 0.05953057482838631 - macro_f1: 0.8690544962882996 - micro_f1: 0.8699254989624023 - val_loss: 0.008855345658957958 - val_macro_f1: 0.9667875170707703 - val_micro_f1: 0.9667875170707703\n",
      "epoch: 88 - loss: 0.04560146480798721 - macro_f1: 0.931884765625 - micro_f1: 0.9320065975189209 - val_loss: 0.009075969457626343 - val_macro_f1: 0.9601680636405945 - val_micro_f1: 0.9601680636405945\n",
      "epoch: 89 - loss: 0.05172247439622879 - macro_f1: 0.9086856245994568 - micro_f1: 0.909390389919281 - val_loss: 0.009156972169876099 - val_macro_f1: 0.9601680636405945 - val_micro_f1: 0.9601680636405945\n",
      "epoch: 90 - loss: 0.040679171681404114 - macro_f1: 0.9444527626037598 - micro_f1: 0.9444904327392578 - val_loss: 0.00920780561864376 - val_macro_f1: 0.9601680636405945 - val_micro_f1: 0.9601680636405945\n",
      "epoch: 91 - loss: 0.0517551451921463 - macro_f1: 0.9013034701347351 - micro_f1: 0.9015715718269348 - val_loss: 0.009757361374795437 - val_macro_f1: 0.963494598865509 - val_micro_f1: 0.963494598865509\n",
      "epoch: 92 - loss: 0.04952017217874527 - macro_f1: 0.9016739726066589 - micro_f1: 0.9021559357643127 - val_loss: 0.010519493371248245 - val_macro_f1: 0.963494598865509 - val_micro_f1: 0.963494598865509\n",
      "epoch: 93 - loss: 0.04392300546169281 - macro_f1: 0.9367871284484863 - micro_f1: 0.9369817972183228 - val_loss: 0.010690168477594852 - val_macro_f1: 0.963494598865509 - val_micro_f1: 0.963494598865509\n",
      "epoch: 94 - loss: 0.04491954296827316 - macro_f1: 0.9209568500518799 - micro_f1: 0.9215524196624756 - val_loss: 0.010507623665034771 - val_macro_f1: 0.963494598865509 - val_micro_f1: 0.963494598865509\n",
      "epoch: 95 - loss: 0.04920550063252449 - macro_f1: 0.923361599445343 - micro_f1: 0.9240924119949341 - val_loss: 0.00971043948084116 - val_macro_f1: 0.963494598865509 - val_micro_f1: 0.963494598865509\n",
      "epoch: 96 - loss: 0.04172535240650177 - macro_f1: 0.9214606285095215 - micro_f1: 0.9219268560409546 - val_loss: 0.008807046338915825 - val_macro_f1: 0.9667875170707703 - val_micro_f1: 0.9667875170707703\n",
      "epoch: 97 - loss: 0.037406910210847855 - macro_f1: 0.9210065007209778 - micro_f1: 0.9212924838066101 - val_loss: 0.008748774416744709 - val_macro_f1: 0.9667875170707703 - val_micro_f1: 0.9667875170707703\n",
      "epoch: 98 - loss: 0.045422278344631195 - macro_f1: 0.9053511619567871 - micro_f1: 0.9053155779838562 - val_loss: 0.008832666091620922 - val_macro_f1: 0.9667875170707703 - val_micro_f1: 0.9667875170707703\n",
      "epoch: 99 - loss: 0.040576301515102386 - macro_f1: 0.925483226776123 - micro_f1: 0.9252492189407349 - val_loss: 0.008902952075004578 - val_macro_f1: 0.9667875170707703 - val_micro_f1: 0.9667875170707703\n",
      "epoch: 100 - loss: 0.04188878461718559 - macro_f1: 0.9180006980895996 - micro_f1: 0.9178422689437866 - val_loss: 0.009588979184627533 - val_macro_f1: 0.963494598865509 - val_micro_f1: 0.963494598865509\n",
      "\n",
      "Evaluating on test data:\n",
      "test_loss: 0.009588979184627533 - test_macro_f1: 0.963494598865509 - test_micro_f1: 0.963494598865509\n"
     ]
    },
    {
     "data": {
      "text/plain": [
       "<matplotlib.legend.Legend at 0x7fb73cbdfdf0>"
      ]
     },
     "execution_count": 557,
     "metadata": {},
     "output_type": "execute_result"
    },
    {
     "data": {
      "image/png": "[encoded data removed]",
      "text/plain": [
       "<Figure size 432x288 with 1 Axes>"
      ]
     },
     "metadata": {
      "needs_background": "light"
     },
     "output_type": "display_data"
    }
   ],
   "source": [
    "epoches = 100\n",
    "\n",
    "f1_macro = tfa.metrics.F1Score(num_classes, average='macro')\n",
    "f1_micro = tfa.metrics.F1Score(num_classes, average='micro')\n",
    "model = HAN(node_num=node_num, feature_dim=feature_dim, dropout=0.6)\n",
    "loss = keras.losses.SparseCategoricalCrossentropy()\n",
    "\n",
    "history = {'loss': [], \n",
    "           'macro_f1': [], \n",
    "           'micro_f1': [], \n",
    "           'val_loss':[], \n",
    "           'val_macro_f1':[], \n",
    "           'val_micro_f1':[]}\n",
    "\n",
    "for epoch in range(epoches):\n",
    "    print(f'epoch: {epoch+1} - ', end='')\n",
    "    loss_, f1_macro_, f1_micro_ = train_model(model, [features, PSP, PAP], labels, train_mask,\n",
    "               f1_macro, f1_micro)\n",
    "    history['loss'].append(loss_)\n",
    "    history['macro_f1'].append(f1_macro_)\n",
    "    history['micro_f1'].append(f1_micro_)\n",
    "    \n",
    "    loss_, f1_macro_, f1_micro_ = evaluate_model(model, [features, PSP, PAP], labels, val_mask,\n",
    "               f1_macro, f1_micro, type_='val')\n",
    "    history['val_loss'].append(loss_)\n",
    "    history['val_macro_f1'].append(f1_macro_)\n",
    "    history['val_micro_f1'].append(f1_micro_)\n",
    "\n",
    "print('\\nEvaluating on test data:')\n",
    "evaluate_model(model, [features, PSP, PAP], labels, val_mask,\n",
    "           f1_macro, f1_micro, type_='test')\n",
    "\n",
    "for i, item in history.items():\n",
    "    plt.plot(item, label=i)\n",
    "plt.legend()"
   ]
  },
  {
   "cell_type": "code",
   "execution_count": 555,
   "metadata": {},
   "outputs": [
    {
     "name": "stdout",
     "output_type": "stream",
     "text": [
      "test_loss: 0.3617474436759949 - test_macro_f1: 0.866468608379364 - test_micro_f1: 0.866468608379364\n"
     ]
    },
    {
     "data": {
      "text/plain": [
       "(<tf.Tensor: shape=(), dtype=float32, numpy=0.36174744>,\n",
       " <tf.Tensor: shape=(), dtype=float32, numpy=0.8664686>,\n",
       " <tf.Tensor: shape=(), dtype=float32, numpy=0.8663529>)"
      ]
     },
     "execution_count": 555,
     "metadata": {},
     "output_type": "execute_result"
    }
   ],
   "source": [
    "evaluate_model(model, [features, PSP, PAP], labels, test_mask,\n",
    "               f1_macro, f1_micro, type_='test')\n"
   ]
  }
 ],
 "metadata": {
  "kernelspec": {
   "display_name": "Python 3",
   "language": "python",
   "name": "python3"
  },
  "language_info": {
   "codemirror_mode": {
    "name": "ipython",
    "version": 3
   },
   "file_extension": ".py",
   "mimetype": "text/x-python",
   "name": "python",
   "nbconvert_exporter": "python",
   "pygments_lexer": "ipython3",
   "version": "3.8.3"
  }
 },
 "nbformat": 4,
 "nbformat_minor": 4
}
