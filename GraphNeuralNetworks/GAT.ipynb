{
 "cells": [
  {
   "cell_type": "markdown",
   "metadata": {},
   "source": [
    "# 使用Tensoflow2实现GAT"
   ]
  },
  {
   "cell_type": "code",
   "execution_count": 1,
   "metadata": {},
   "outputs": [],
   "source": [
    "import os \n",
    "import numpy as np\n",
    "import matplotlib.pyplot as plt\n",
    "import scipy.sparse as sp\n",
    "import networkx as nx\n",
    "\n",
    "import tensorflow as tf\n",
    "from tensorflow import keras\n",
    "import warnings"
   ]
  },
  {
   "cell_type": "markdown",
   "metadata": {},
   "source": [
    "# 1. 数据导入\n",
    "\n",
    "依旧使用Cora数据集，跟GCN的实现中一样，所有这里仅仅只是把GCN实现中的代码搬了过来"
   ]
  },
  {
   "cell_type": "code",
   "execution_count": 2,
   "metadata": {},
   "outputs": [
    {
     "data": {
      "text/plain": [
       "(True, True)"
      ]
     },
     "execution_count": 2,
     "metadata": {},
     "output_type": "execute_result"
    }
   ],
   "source": [
    "content_path = '../datasets/cora/cora.content'\n",
    "cite_path = '../datasets/cora/cora.cites'\n",
    "data_dir = '../datasets/cora'\n",
    "os.path.exists(content_path), os.path.exists(cite_path)"
   ]
  },
  {
   "cell_type": "code",
   "execution_count": 3,
   "metadata": {},
   "outputs": [],
   "source": [
    "with open(content_path, 'r') as f:\n",
    "    contents = f.readlines()\n",
    "with open(cite_path, 'r') as f:\n",
    "    cites = f.readlines()\n",
    "contents = np.array([l.strip().split('\\t') for l in contents])\n",
    "cites_raw = np.array([i.strip().split('\\t') for i in cites])"
   ]
  },
  {
   "cell_type": "code",
   "execution_count": 4,
   "metadata": {},
   "outputs": [
    {
     "name": "stdout",
     "output_type": "stream",
     "text": [
      "============图数据信息=============\n",
      "节点数量： 2708\n",
      "边数量： 5429\n",
      "特征维数： 1433\n",
      "标签类别数量： 7\n",
      "标签类别：\n",
      "     - Case_Based\n",
      "     - Genetic_Algorithms\n",
      "     - Neural_Networks\n",
      "     - Probabilistic_Methods\n",
      "     - Reinforcement_Learning\n",
      "     - Rule_Learning\n",
      "     - Theory\n"
     ]
    }
   ],
   "source": [
    "papers_raw, features_raw, labels_raw = np.split(contents, [1, -1], axis=1)\n",
    "features = features_raw.astype(np.float32)\n",
    "\n",
    "paper_dict = {key:value for value, key in enumerate(np.squeeze(papers_raw))}\n",
    "label_dict = {key:value for value, key in enumerate(np.unique(np.squeeze(labels_raw)))}\n",
    "\n",
    "papers = np.array([[paper_dict[key]] for key in papers_raw.reshape(-1)])\n",
    "labels = np.array([[label_dict[key]] for key in labels_raw.reshape(-1)])\n",
    "\n",
    "cites = np.array([[paper_dict[i[0]], paper_dict[i[1]]] for i in cites_raw])\n",
    "node_num = len(papers)\n",
    "label_num = len(label_dict.keys())\n",
    "feature_dim = features.shape[1]\n",
    "edge_num = len(cites)\n",
    "\n",
    "print('{:=^30}'.format('图数据信息'))\n",
    "print('节点数量：', node_num)\n",
    "print('边数量：', edge_num)\n",
    "print('特征维数：', feature_dim)\n",
    "print('标签类别数量：', label_num)\n",
    "print('标签类别：')\n",
    "for label in label_dict.keys():\n",
    "    print('{: <5}- {:<}'.format('', label))"
   ]
  },
  {
   "cell_type": "code",
   "execution_count": 5,
   "metadata": {},
   "outputs": [
    {
     "data": {
      "text/plain": [
       "{'Case_Based': 0,\n",
       " 'Genetic_Algorithms': 1,\n",
       " 'Neural_Networks': 2,\n",
       " 'Probabilistic_Methods': 3,\n",
       " 'Reinforcement_Learning': 4,\n",
       " 'Rule_Learning': 5,\n",
       " 'Theory': 6}"
      ]
     },
     "execution_count": 5,
     "metadata": {},
     "output_type": "execute_result"
    }
   ],
   "source": [
    "label_dict"
   ]
  },
  {
   "cell_type": "code",
   "execution_count": 6,
   "metadata": {},
   "outputs": [
    {
     "data": {
      "text/plain": [
       "array([[0., 0., 0., ..., 0., 0., 0.],\n",
       "       [0., 0., 0., ..., 0., 0., 0.],\n",
       "       [0., 0., 0., ..., 0., 0., 0.],\n",
       "       ...,\n",
       "       [0., 0., 0., ..., 0., 0., 0.],\n",
       "       [0., 0., 0., ..., 0., 0., 0.],\n",
       "       [0., 0., 0., ..., 0., 0., 0.]], dtype=float32)"
      ]
     },
     "execution_count": 6,
     "metadata": {},
     "output_type": "execute_result"
    }
   ],
   "source": [
    "features"
   ]
  },
  {
   "cell_type": "code",
   "execution_count": 7,
   "metadata": {},
   "outputs": [
    {
     "data": {
      "text/plain": [
       "((2708, 1), (2708, 1), (5429, 2), (2708, 1433))"
      ]
     },
     "execution_count": 7,
     "metadata": {},
     "output_type": "execute_result"
    }
   ],
   "source": [
    "papers.shape, labels.shape, cites.shape, features.shape"
   ]
  },
  {
   "cell_type": "code",
   "execution_count": 8,
   "metadata": {},
   "outputs": [
    {
     "data": {
      "text/plain": [
       "(2708, 5429, 7, 1433)"
      ]
     },
     "execution_count": 8,
     "metadata": {},
     "output_type": "execute_result"
    }
   ],
   "source": [
    "node_num, edge_num, label_num, feature_dim"
   ]
  },
  {
   "cell_type": "markdown",
   "metadata": {},
   "source": [
    "# 2. 构造邻接矩阵"
   ]
  },
  {
   "cell_type": "code",
   "execution_count": 9,
   "metadata": {},
   "outputs": [],
   "source": [
    "G = nx.Graph()\n",
    "G.add_nodes_from(range(len(papers)))\n",
    "G.add_edges_from(cites)\n",
    "adj_matrix = nx.adjacency_matrix(G)"
   ]
  },
  {
   "cell_type": "code",
   "execution_count": 10,
   "metadata": {},
   "outputs": [
    {
     "data": {
      "text/plain": [
       "((2708, 2708), scipy.sparse.csr.csr_matrix)"
      ]
     },
     "execution_count": 10,
     "metadata": {},
     "output_type": "execute_result"
    }
   ],
   "source": [
    "adj_matrix.shape, type(adj_matrix)"
   ]
  },
  {
   "cell_type": "code",
   "execution_count": 11,
   "metadata": {},
   "outputs": [
    {
     "data": {
      "text/plain": [
       "array([[1., 0., 0., ..., 0., 0., 0.],\n",
       "       [0., 1., 0., ..., 0., 0., 0.],\n",
       "       [0., 0., 1., ..., 0., 0., 0.],\n",
       "       ...,\n",
       "       [0., 0., 0., ..., 1., 0., 0.],\n",
       "       [0., 0., 0., ..., 0., 1., 0.],\n",
       "       [0., 0., 0., ..., 0., 0., 1.]])"
      ]
     },
     "execution_count": 11,
     "metadata": {},
     "output_type": "execute_result"
    }
   ],
   "source": [
    "# 将稀疏矩阵转为普通矩阵，并引入自环边，构造带自环的邻接矩阵\n",
    "A = adj_matrix.toarray()\n",
    "A = A + np.eye(A.shape[0])\n",
    "A"
   ]
  },
  {
   "cell_type": "code",
   "execution_count": 12,
   "metadata": {},
   "outputs": [
    {
     "name": "stdout",
     "output_type": "stream",
     "text": [
      "节点数：2708\n"
     ]
    }
   ],
   "source": [
    "print(f'节点数：{node_num}')"
   ]
  },
  {
   "cell_type": "markdown",
   "metadata": {},
   "source": [
    "# 3. 数据集分割"
   ]
  },
  {
   "cell_type": "markdown",
   "metadata": {},
   "source": [
    "使用同论文中相同的数据集分割方式：\n",
    "- 训练集：**每个类别中取出20个**作为训练集（共140）\n",
    "- 验证集：剩下数据集中取出**500个**\n",
    "- 测试集：剩下数据集中取出**1000个**\n",
    "\n",
    "由于计算时是需要所有的图数据和特征，所以数据集分割采用的是mask数组，**只在算损失和准确率时使用**"
   ]
  },
  {
   "cell_type": "code",
   "execution_count": 13,
   "metadata": {},
   "outputs": [],
   "source": [
    "import gc\n",
    "import random\n",
    "\n",
    "from functools import reduce"
   ]
  },
  {
   "cell_type": "code",
   "execution_count": 14,
   "metadata": {},
   "outputs": [],
   "source": [
    "labels_ = labels.ravel()"
   ]
  },
  {
   "cell_type": "code",
   "execution_count": 15,
   "metadata": {},
   "outputs": [],
   "source": [
    "# 构建训练、验证、测试索引集合\n",
    "train_index, valid_index, test_index = [], [], []\n",
    "# 每类取出20个样本\n",
    "for cate in label_dict.values():\n",
    "    indexes = np.arange(node_num)\n",
    "    indexes = indexes[labels_ == cate]\n",
    "    indexes = np.random.choice(indexes, 20, replace=False)\n",
    "    train_index.append(indexes)\n",
    "train_index = np.hstack(train_index)\n",
    "np.random.shuffle(train_index)\n",
    "valid_index = np.random.choice(np.setdiff1d(np.arange(node_num), train_index), 500, replace=False)\n",
    "test_index = np.random.choice(reduce(np.setdiff1d, [np.arange(node_num), train_index, valid_index]), \n",
    "                             1000, replace=False)"
   ]
  },
  {
   "cell_type": "code",
   "execution_count": 16,
   "metadata": {},
   "outputs": [],
   "source": [
    "mask = np.zeros(shape=(node_num))\n",
    "train_mask = mask.copy()\n",
    "valid_mask = mask.copy()\n",
    "test_mask = mask.copy()\n",
    "\n",
    "train_mask[train_index] = 1\n",
    "valid_mask[valid_index] = 1\n",
    "test_mask[test_index] = 1"
   ]
  },
  {
   "cell_type": "markdown",
   "metadata": {},
   "source": [
    "----\n",
    "\n",
    "数据集分割完成\n",
    "\n",
    "---"
   ]
  },
  {
   "cell_type": "code",
   "execution_count": 17,
   "metadata": {},
   "outputs": [
    {
     "name": "stdout",
     "output_type": "stream",
     "text": [
      "======================数据导入完成======================\n"
     ]
    }
   ],
   "source": [
    "# 为方便后续使用，将处理好的数据进行离线保存\n",
    "cora_data = {'features': features, 'labels': labels, 'A': A,\n",
    "       'train_mask': train_mask, 'valid_mask': valid_mask, 'test_mask': test_mask, 'node_num': node_num, \n",
    "       'edge_num': edge_num, 'label_num': label_num, 'feature_dim': feature_dim}\n",
    "\n",
    "import pickle \n",
    "pickle.dump(cora_data, open(os.path.join(data_dir, 'cora_data.pkl'), 'wb'))\n",
    "print('{:=^50}'.format('数据导入完成'))"
   ]
  },
  {
   "cell_type": "code",
   "execution_count": 18,
   "metadata": {},
   "outputs": [
    {
     "data": {
      "text/plain": [
       "{'features': array([[0., 0., 0., ..., 0., 0., 0.],\n",
       "        [0., 0., 0., ..., 0., 0., 0.],\n",
       "        [0., 0., 0., ..., 0., 0., 0.],\n",
       "        ...,\n",
       "        [0., 0., 0., ..., 0., 0., 0.],\n",
       "        [0., 0., 0., ..., 0., 0., 0.],\n",
       "        [0., 0., 0., ..., 0., 0., 0.]], dtype=float32),\n",
       " 'labels': array([[2],\n",
       "        [5],\n",
       "        [4],\n",
       "        ...,\n",
       "        [1],\n",
       "        [0],\n",
       "        [2]]),\n",
       " 'A': array([[1., 0., 0., ..., 0., 0., 0.],\n",
       "        [0., 1., 0., ..., 0., 0., 0.],\n",
       "        [0., 0., 1., ..., 0., 0., 0.],\n",
       "        ...,\n",
       "        [0., 0., 0., ..., 1., 0., 0.],\n",
       "        [0., 0., 0., ..., 0., 1., 0.],\n",
       "        [0., 0., 0., ..., 0., 0., 1.]]),\n",
       " 'train_mask': array([0., 0., 0., ..., 0., 0., 0.]),\n",
       " 'valid_mask': array([0., 0., 0., ..., 0., 0., 1.]),\n",
       " 'test_mask': array([0., 0., 1., ..., 1., 1., 0.]),\n",
       " 'node_num': 2708,\n",
       " 'edge_num': 5429,\n",
       " 'label_num': 7,\n",
       " 'feature_dim': 1433}"
      ]
     },
     "execution_count": 18,
     "metadata": {},
     "output_type": "execute_result"
    }
   ],
   "source": [
    "cora_data"
   ]
  },
  {
   "cell_type": "markdown",
   "metadata": {},
   "source": [
    "# 4. 模型层构建"
   ]
  },
  {
   "cell_type": "markdown",
   "metadata": {},
   "source": [
    "GAT实验设置：\n",
    "\n",
    "- 参数初始化：Glorot\n",
    "- 优化算法：Adam\n",
    "- 学习率：0.005\n",
    "- 提早停止：True\n",
    "- epochs：100\n",
    "- 层数：2\n",
    "- 第一层：8heads，$F\\prime = 8$，64个输出特征，ELU作激活函数\n",
    "- 第二层：1heads，$F\\prime = classes$，$classes$个输出特征，softmax激活函数\n",
    "- 正则化：L2，$\\lambda = 0.0005$\n",
    "- Dropout：0.6，用在每层输入和**规范化注意力系数**\n",
    "\n",
    "GCN实验设置：\n",
    "\n",
    "计算公式：$$Z = softmax(\\hat A ReLU(\\hat A X W^{(0)})W^{(1)}))$$\n",
    "\n",
    "- Dropout：0.5，所有层\n",
    "- 正则化：L2，$\\lambda = 0.0005$，第一层\n",
    "- 隐层数：1\n",
    "- 隐层神经元数：16"
   ]
  },
  {
   "cell_type": "code",
   "execution_count": 19,
   "metadata": {},
   "outputs": [],
   "source": [
    "class GAT_conv(keras.layers.Layer):\n",
    "    def __init__(self, units, \n",
    "                 activation='elu', \n",
    "                 use_bias=False, \n",
    "                 attention_heads=1, \n",
    "                 attention_reduction='concat', \n",
    "                 kernel_regularizer=None,\n",
    "                 bias_regularizer=None, \n",
    "                 attn_kernel_regularizer=None, \n",
    "                 kernel_constraint=None,\n",
    "                 bias_constraint=None, \n",
    "                 attn_kernel_constraint=None,\n",
    "                 dropout_rate=0.6, \n",
    "                 kernel_initializer='glorot_uniform', \n",
    "                 bias_initializer='zeros', \n",
    "                 **kwargs):\n",
    "        self.units = units\n",
    "        self.attention_heads = attention_heads\n",
    "        self.attention_reduction = attention_reduction\n",
    "        self.dropout_rate = dropout_rate\n",
    "        self.kernel_initializer = kernel_initializer\n",
    "        self.use_bias = use_bias\n",
    "        self.bias_initializer = bias_initializer\n",
    "        self.activation = keras.activations.get(activation)\n",
    "        \n",
    "        self.kernel_regularizer = keras.regularizers.get(kernel_regularizer)\n",
    "        self.bias_regularizer = keras.regularizers.get(bias_regularizer)\n",
    "        self.attn_kernel_regularizer = keras.regularizers.get(attn_kernel_regularizer)\n",
    "\n",
    "        self.kernel_constraint = keras.constraints.get(kernel_constraint)\n",
    "        self.bias_constraint = keras.constraints.get(bias_constraint)\n",
    "        self.attn_kernel_constraint = keras.constraints.get(attn_kernel_constraint)\n",
    "        \n",
    "        \n",
    "        if attention_reduction == 'concat':\n",
    "            # concat multi-heads\n",
    "            self.output_dim = self.units * self.attention_heads\n",
    "        else:\n",
    "            # average multi-heads\n",
    "            self.output_dim = self.units\n",
    "        \n",
    "        self.kernels = []\n",
    "        self.bias = []\n",
    "        self.attention_kernels = []\n",
    "        \n",
    "        super().__init__(**kwargs)\n",
    "    \n",
    "    \n",
    "    def build(self, input_shape):\n",
    "        for head in range(self.attention_heads):\n",
    "            kernel = self.add_weight(shape=(input_shape[0][-1], self.units), \n",
    "                                     initializer=self.kernel_initializer,\n",
    "                                     regularizer=self.activity_regularizer,\n",
    "                                     name='kernel_head{}'.format(head))\n",
    "            self.kernels.append(kernel)\n",
    "            if self.use_bias:\n",
    "                bias = self.add_weight(shape=(self.units, ),\n",
    "                                      initializer=self.bias_initializer,\n",
    "                                      regularizer=self.activity_regularizer,\n",
    "                                      name='bias_head{}'.format(head))\n",
    "                self.bias.append(bias)\n",
    "            \n",
    "            attention_kernel_self = self.add_weight(shape=(self.units, 1),\n",
    "                                                   initializer=self.kernel_initializer,\n",
    "                                                   regularizer=self.attn_kernel_regularizer,\n",
    "                                                   constraint=self.attn_kernel_constraint,\n",
    "                                                   name='attention_kernel_self_head{}'.format(head))\n",
    "            attention_kernel_neighbors = self.add_weight(shape=(self.units, 1),\n",
    "                                                         initializer=self.kernel_initializer,\n",
    "                                                         regularizer=self.attn_kernel_regularizer,\n",
    "                                                         constraint=self.attn_kernel_constraint,\n",
    "                                                         name='attention_kernel_neighbors_head{}'.format(head))\n",
    "            self.attention_kernels.append([attention_kernel_self, attention_kernel_neighbors])\n",
    "            self.built = True\n",
    "        \n",
    "    def call(self, inputs, training=False):\n",
    "        X, A = inputs # [nxd, nxn]\n",
    "        outputs = []\n",
    "        for head in range(self.attention_heads):\n",
    "            kernel = self.kernels[head] # dxd'\n",
    "            attention_kernel = self.attention_kernels[head] # [d'x1, d'x1]\n",
    "            \n",
    "            features = X @ kernel # nxd'\n",
    "            attention_self = features @ attention_kernel[0] # nx1\n",
    "            attention_neighbors = features @ attention_kernel[1] # nx1\n",
    "            \n",
    "            \n",
    "            a_weight = attention_self + tf.transpose(attention_neighbors)\n",
    "            a_weight = tf.nn.leaky_relu(a_weight, alpha=0.2)\n",
    "            #  a_weight *= A # 掩码，去掉无连接关系的值\n",
    "            a_weight += -10e9 * (1.0-A) # 处理softmax中的无连接位置的值\n",
    "             \n",
    "            a_weight = tf.nn.softmax(a_weight)\n",
    "            \n",
    "            dropout_attention = keras.layers.Dropout(self.dropout_rate)(a_weight, training=training) # nxn\n",
    "            dropout_features = keras.layers.Dropout(self.dropout_rate)(features, training=training) # nxd'\n",
    "            \n",
    "            node_features = dropout_attention @ dropout_features # nxd'\n",
    "            \n",
    "            if self.use_bias:\n",
    "                node_features += self.bias[head] # nxd'\n",
    "            outputs.append(node_features)\n",
    "            \n",
    "        if self.attention_reduction == 'concat':\n",
    "            output = tf.concat(outputs, axis=1)\n",
    "        else:\n",
    "            output = tf.reduce_mean(outputs, axis=0)\n",
    "        return self.activation(output)\n",
    "    \n",
    "    def compute_output_shape(self, input_shape):\n",
    "        output_shape = input_shape[0][0], self.output_dim\n",
    "        return output_shape"
   ]
  },
  {
   "cell_type": "markdown",
   "metadata": {},
   "source": [
    "# 5. 模型层构建"
   ]
  },
  {
   "cell_type": "code",
   "execution_count": 20,
   "metadata": {},
   "outputs": [],
   "source": [
    "def gat(dropout_rate=0.0, att_heads=8, use_bias=True, l2_reg=tf.keras.regularizers.l2(5e-4/2)):\n",
    "    X_input = keras.Input(shape=(feature_dim, ))\n",
    "    A_input = keras.Input(shape=(node_num, ))\n",
    "    \n",
    "    dropout1 = keras.layers.Dropout(dropout_rate)(X_input)\n",
    "    z = GAT_conv(units=16, activation='elu', dropout_rate=dropout_rate, kernel_regularizer=l2_reg,\n",
    "                 attention_reduction='concat', \n",
    "                 attention_heads=att_heads)([dropout1, A_input])\n",
    "    dropout2 = keras.layers.Dropout(dropout_rate)(z)\n",
    "    z = GAT_conv(units=label_num, activation='softmax', kernel_regularizer=l2_reg,\n",
    "                 attention_reduction='mean', dropout_rate=dropout_rate, \n",
    "                 attention_heads=1)([dropout2, A_input])\n",
    "    model = keras.Model(inputs=[X_input, A_input], outputs=z, name='GAT_model')\n",
    "    return model"
   ]
  },
  {
   "cell_type": "markdown",
   "metadata": {},
   "source": [
    "# 6. 模型编译、训练、评估"
   ]
  },
  {
   "cell_type": "code",
   "execution_count": 21,
   "metadata": {},
   "outputs": [
    {
     "data": {
      "text/plain": [
       "dict_keys(['features', 'labels', 'A', 'train_mask', 'valid_mask', 'test_mask', 'node_num', 'edge_num', 'label_num', 'feature_dim'])"
      ]
     },
     "execution_count": 21,
     "metadata": {},
     "output_type": "execute_result"
    }
   ],
   "source": [
    "cora_data.keys()"
   ]
  },
  {
   "cell_type": "code",
   "execution_count": 22,
   "metadata": {},
   "outputs": [],
   "source": [
    "features = cora_data['features']\n",
    "labels = cora_data['labels']\n",
    "\n",
    "features = tf.convert_to_tensor(features, tf.float32)\n",
    "labels = tf.convert_to_tensor(labels, tf.int32)\n",
    "train_mask = tf.cast(cora_data['train_mask'], tf.float32)\n",
    "val_mask = tf.cast(cora_data['valid_mask'], tf.float32)\n",
    "test_mask = tf.cast(cora_data['test_mask'], tf.float32)"
   ]
  },
  {
   "cell_type": "code",
   "execution_count": 24,
   "metadata": {},
   "outputs": [
    {
     "name": "stdout",
     "output_type": "stream",
     "text": [
      "Epoch 1/1000\n",
      "1/1 - 1s - loss: 0.1094 - acc: 0.1714 - val_loss: 0.3551 - val_acc: 0.1540\n",
      "Epoch 2/1000\n",
      "1/1 - 0s - loss: 0.1087 - acc: 0.1571 - val_loss: 0.3501 - val_acc: 0.2880\n",
      "Epoch 3/1000\n",
      "1/1 - 0s - loss: 0.1060 - acc: 0.1571 - val_loss: 0.3439 - val_acc: 0.3800\n",
      "Epoch 4/1000\n",
      "1/1 - 0s - loss: 0.1130 - acc: 0.1857 - val_loss: 0.3375 - val_acc: 0.4260\n",
      "Epoch 5/1000\n",
      "1/1 - 0s - loss: 0.1014 - acc: 0.1929 - val_loss: 0.3309 - val_acc: 0.4580\n",
      "Epoch 6/1000\n",
      "1/1 - 0s - loss: 0.0990 - acc: 0.2286 - val_loss: 0.3249 - val_acc: 0.4960\n",
      "Epoch 7/1000\n",
      "1/1 - 0s - loss: 0.1025 - acc: 0.2571 - val_loss: 0.3189 - val_acc: 0.5260\n",
      "Epoch 8/1000\n",
      "1/1 - 0s - loss: 0.1095 - acc: 0.2857 - val_loss: 0.3128 - val_acc: 0.5560\n",
      "Epoch 9/1000\n",
      "1/1 - 0s - loss: 0.0974 - acc: 0.2857 - val_loss: 0.3068 - val_acc: 0.6000\n",
      "Epoch 10/1000\n",
      "1/1 - 0s - loss: 0.1028 - acc: 0.2929 - val_loss: 0.3009 - val_acc: 0.6500\n",
      "Epoch 11/1000\n",
      "1/1 - 0s - loss: 0.0953 - acc: 0.3286 - val_loss: 0.2951 - val_acc: 0.6620\n",
      "Epoch 12/1000\n",
      "1/1 - 0s - loss: 0.0947 - acc: 0.2857 - val_loss: 0.2892 - val_acc: 0.6820\n",
      "Epoch 13/1000\n",
      "1/1 - 0s - loss: 0.0926 - acc: 0.4500 - val_loss: 0.2836 - val_acc: 0.6880\n",
      "Epoch 14/1000\n",
      "1/1 - 0s - loss: 0.0941 - acc: 0.3071 - val_loss: 0.2781 - val_acc: 0.7060\n",
      "Epoch 15/1000\n",
      "1/1 - 0s - loss: 0.0886 - acc: 0.3286 - val_loss: 0.2729 - val_acc: 0.7260\n",
      "Epoch 16/1000\n",
      "1/1 - 0s - loss: 0.0835 - acc: 0.3929 - val_loss: 0.2678 - val_acc: 0.7420\n",
      "Epoch 17/1000\n",
      "1/1 - 0s - loss: 0.0828 - acc: 0.4071 - val_loss: 0.2628 - val_acc: 0.7600\n",
      "Epoch 18/1000\n",
      "1/1 - 0s - loss: 0.0842 - acc: 0.4071 - val_loss: 0.2582 - val_acc: 0.7620\n",
      "Epoch 19/1000\n",
      "1/1 - 0s - loss: 0.0790 - acc: 0.4929 - val_loss: 0.2537 - val_acc: 0.7660\n",
      "Epoch 20/1000\n",
      "1/1 - 0s - loss: 0.0799 - acc: 0.4071 - val_loss: 0.2494 - val_acc: 0.7700\n",
      "Epoch 21/1000\n",
      "1/1 - 0s - loss: 0.0917 - acc: 0.3714 - val_loss: 0.2454 - val_acc: 0.7720\n",
      "Epoch 22/1000\n",
      "1/1 - 0s - loss: 0.0775 - acc: 0.4786 - val_loss: 0.2415 - val_acc: 0.7660\n",
      "Epoch 23/1000\n",
      "1/1 - 0s - loss: 0.0818 - acc: 0.4214 - val_loss: 0.2379 - val_acc: 0.7720\n",
      "Epoch 24/1000\n",
      "1/1 - 0s - loss: 0.0907 - acc: 0.3714 - val_loss: 0.2345 - val_acc: 0.7800\n",
      "Epoch 25/1000\n",
      "1/1 - 0s - loss: 0.0782 - acc: 0.4357 - val_loss: 0.2312 - val_acc: 0.7820\n",
      "Epoch 26/1000\n",
      "1/1 - 0s - loss: 0.0776 - acc: 0.4857 - val_loss: 0.2282 - val_acc: 0.7840\n",
      "Epoch 27/1000\n",
      "1/1 - 0s - loss: 0.0859 - acc: 0.4286 - val_loss: 0.2253 - val_acc: 0.7880\n",
      "Epoch 28/1000\n",
      "1/1 - 0s - loss: 0.0679 - acc: 0.4857 - val_loss: 0.2224 - val_acc: 0.7940\n",
      "Epoch 29/1000\n",
      "1/1 - 0s - loss: 0.0765 - acc: 0.4857 - val_loss: 0.2196 - val_acc: 0.7960\n",
      "Epoch 30/1000\n",
      "1/1 - 0s - loss: 0.0806 - acc: 0.4143 - val_loss: 0.2168 - val_acc: 0.8000\n",
      "Epoch 31/1000\n",
      "1/1 - 0s - loss: 0.0779 - acc: 0.4429 - val_loss: 0.2140 - val_acc: 0.8060\n",
      "Epoch 32/1000\n",
      "1/1 - 0s - loss: 0.0808 - acc: 0.3786 - val_loss: 0.2114 - val_acc: 0.8060\n",
      "Epoch 33/1000\n",
      "1/1 - 0s - loss: 0.0722 - acc: 0.5143 - val_loss: 0.2088 - val_acc: 0.8040\n",
      "Epoch 34/1000\n",
      "1/1 - 0s - loss: 0.0766 - acc: 0.4429 - val_loss: 0.2063 - val_acc: 0.8040\n",
      "Epoch 35/1000\n",
      "1/1 - 0s - loss: 0.0688 - acc: 0.5286 - val_loss: 0.2040 - val_acc: 0.8020\n",
      "Epoch 36/1000\n",
      "1/1 - 0s - loss: 0.0728 - acc: 0.4714 - val_loss: 0.2020 - val_acc: 0.8000\n",
      "Epoch 37/1000\n",
      "1/1 - 0s - loss: 0.0693 - acc: 0.5143 - val_loss: 0.2000 - val_acc: 0.7980\n",
      "Epoch 38/1000\n",
      "1/1 - 0s - loss: 0.0691 - acc: 0.5429 - val_loss: 0.1981 - val_acc: 0.8000\n",
      "Epoch 39/1000\n",
      "1/1 - 0s - loss: 0.0636 - acc: 0.5571 - val_loss: 0.1962 - val_acc: 0.8020\n",
      "Epoch 40/1000\n",
      "1/1 - 0s - loss: 0.0714 - acc: 0.4786 - val_loss: 0.1944 - val_acc: 0.8040\n",
      "Epoch 41/1000\n",
      "1/1 - 0s - loss: 0.0664 - acc: 0.5071 - val_loss: 0.1926 - val_acc: 0.8020\n",
      "Epoch 42/1000\n",
      "1/1 - 0s - loss: 0.0706 - acc: 0.5429 - val_loss: 0.1910 - val_acc: 0.8020\n",
      "Epoch 43/1000\n",
      "1/1 - 0s - loss: 0.0799 - acc: 0.4714 - val_loss: 0.1897 - val_acc: 0.7980\n",
      "Epoch 44/1000\n",
      "1/1 - 0s - loss: 0.0709 - acc: 0.4929 - val_loss: 0.1883 - val_acc: 0.7980\n",
      "Epoch 45/1000\n",
      "1/1 - 0s - loss: 0.0699 - acc: 0.5143 - val_loss: 0.1870 - val_acc: 0.7940\n",
      "Epoch 46/1000\n",
      "1/1 - 0s - loss: 0.0696 - acc: 0.4929 - val_loss: 0.1858 - val_acc: 0.7980\n",
      "Epoch 47/1000\n",
      "1/1 - 0s - loss: 0.0655 - acc: 0.5286 - val_loss: 0.1848 - val_acc: 0.7980\n",
      "Epoch 48/1000\n",
      "1/1 - 0s - loss: 0.0772 - acc: 0.4214 - val_loss: 0.1838 - val_acc: 0.8000\n",
      "Epoch 49/1000\n",
      "1/1 - 0s - loss: 0.0739 - acc: 0.4643 - val_loss: 0.1828 - val_acc: 0.7980\n",
      "Epoch 50/1000\n",
      "1/1 - 0s - loss: 0.0672 - acc: 0.5571 - val_loss: 0.1819 - val_acc: 0.7960\n",
      "Epoch 51/1000\n",
      "1/1 - 0s - loss: 0.0698 - acc: 0.5214 - val_loss: 0.1810 - val_acc: 0.7980\n",
      "Epoch 52/1000\n",
      "1/1 - 0s - loss: 0.0644 - acc: 0.5429 - val_loss: 0.1801 - val_acc: 0.7980\n",
      "Epoch 53/1000\n",
      "1/1 - 0s - loss: 0.0668 - acc: 0.5786 - val_loss: 0.1792 - val_acc: 0.7920\n",
      "Epoch 54/1000\n",
      "1/1 - 0s - loss: 0.0661 - acc: 0.5286 - val_loss: 0.1781 - val_acc: 0.7900\n",
      "Epoch 55/1000\n",
      "1/1 - 0s - loss: 0.0622 - acc: 0.5214 - val_loss: 0.1770 - val_acc: 0.7980\n",
      "Epoch 56/1000\n",
      "1/1 - 0s - loss: 0.0744 - acc: 0.4500 - val_loss: 0.1757 - val_acc: 0.8020\n",
      "Epoch 57/1000\n",
      "1/1 - 0s - loss: 0.0658 - acc: 0.5357 - val_loss: 0.1745 - val_acc: 0.7980\n",
      "Epoch 58/1000\n",
      "1/1 - 0s - loss: 0.0664 - acc: 0.5000 - val_loss: 0.1734 - val_acc: 0.8000\n",
      "Epoch 59/1000\n",
      "1/1 - 0s - loss: 0.0685 - acc: 0.4714 - val_loss: 0.1724 - val_acc: 0.7980\n",
      "Epoch 60/1000\n",
      "1/1 - 0s - loss: 0.0656 - acc: 0.5500 - val_loss: 0.1713 - val_acc: 0.7980\n",
      "Epoch 61/1000\n",
      "1/1 - 0s - loss: 0.0705 - acc: 0.4714 - val_loss: 0.1702 - val_acc: 0.7980\n",
      "Epoch 62/1000\n",
      "1/1 - 0s - loss: 0.0612 - acc: 0.5357 - val_loss: 0.1691 - val_acc: 0.7980\n",
      "Epoch 63/1000\n",
      "1/1 - 0s - loss: 0.0692 - acc: 0.4786 - val_loss: 0.1681 - val_acc: 0.8000\n",
      "Epoch 64/1000\n",
      "1/1 - 0s - loss: 0.0650 - acc: 0.5214 - val_loss: 0.1675 - val_acc: 0.8000\n",
      "Epoch 65/1000\n",
      "1/1 - 0s - loss: 0.0638 - acc: 0.5000 - val_loss: 0.1669 - val_acc: 0.8020\n",
      "Epoch 66/1000\n",
      "1/1 - 0s - loss: 0.0626 - acc: 0.5143 - val_loss: 0.1664 - val_acc: 0.8040\n",
      "Epoch 67/1000\n",
      "1/1 - 0s - loss: 0.0729 - acc: 0.4929 - val_loss: 0.1657 - val_acc: 0.8020\n",
      "Epoch 68/1000\n",
      "1/1 - 0s - loss: 0.0627 - acc: 0.5643 - val_loss: 0.1649 - val_acc: 0.8000\n",
      "Epoch 69/1000\n",
      "1/1 - 0s - loss: 0.0671 - acc: 0.5429 - val_loss: 0.1640 - val_acc: 0.8020\n",
      "Epoch 70/1000\n",
      "1/1 - 0s - loss: 0.0683 - acc: 0.5071 - val_loss: 0.1631 - val_acc: 0.8080\n",
      "Epoch 71/1000\n",
      "1/1 - 0s - loss: 0.0571 - acc: 0.5500 - val_loss: 0.1622 - val_acc: 0.8080\n",
      "Epoch 72/1000\n",
      "1/1 - 0s - loss: 0.0650 - acc: 0.5857 - val_loss: 0.1612 - val_acc: 0.8060\n",
      "Epoch 73/1000\n",
      "1/1 - 0s - loss: 0.0607 - acc: 0.5714 - val_loss: 0.1600 - val_acc: 0.8060\n",
      "Epoch 74/1000\n",
      "1/1 - 0s - loss: 0.0660 - acc: 0.5071 - val_loss: 0.1587 - val_acc: 0.8060\n",
      "Epoch 75/1000\n",
      "1/1 - 0s - loss: 0.0635 - acc: 0.5500 - val_loss: 0.1573 - val_acc: 0.8060\n",
      "Epoch 76/1000\n",
      "1/1 - 0s - loss: 0.0624 - acc: 0.5357 - val_loss: 0.1560 - val_acc: 0.8020\n",
      "Epoch 77/1000\n",
      "1/1 - 0s - loss: 0.0650 - acc: 0.5500 - val_loss: 0.1549 - val_acc: 0.8040\n",
      "Epoch 78/1000\n",
      "1/1 - 0s - loss: 0.0610 - acc: 0.5429 - val_loss: 0.1537 - val_acc: 0.8060\n",
      "Epoch 79/1000\n",
      "1/1 - 0s - loss: 0.0584 - acc: 0.5357 - val_loss: 0.1526 - val_acc: 0.8100\n",
      "Epoch 80/1000\n",
      "1/1 - 0s - loss: 0.0544 - acc: 0.6071 - val_loss: 0.1516 - val_acc: 0.8140\n",
      "Epoch 81/1000\n",
      "1/1 - 0s - loss: 0.0645 - acc: 0.5286 - val_loss: 0.1506 - val_acc: 0.8160\n",
      "Epoch 82/1000\n",
      "1/1 - 0s - loss: 0.0668 - acc: 0.5071 - val_loss: 0.1496 - val_acc: 0.8160\n",
      "Epoch 83/1000\n",
      "1/1 - 0s - loss: 0.0656 - acc: 0.5500 - val_loss: 0.1489 - val_acc: 0.8160\n",
      "Epoch 84/1000\n",
      "1/1 - 0s - loss: 0.0670 - acc: 0.5571 - val_loss: 0.1482 - val_acc: 0.8140\n",
      "Epoch 85/1000\n",
      "1/1 - 0s - loss: 0.0682 - acc: 0.4929 - val_loss: 0.1476 - val_acc: 0.8120\n",
      "Epoch 86/1000\n",
      "1/1 - 0s - loss: 0.0589 - acc: 0.5786 - val_loss: 0.1471 - val_acc: 0.8120\n",
      "Epoch 87/1000\n",
      "1/1 - 0s - loss: 0.0662 - acc: 0.5357 - val_loss: 0.1466 - val_acc: 0.8100\n",
      "Epoch 88/1000\n",
      "1/1 - 0s - loss: 0.0611 - acc: 0.5357 - val_loss: 0.1462 - val_acc: 0.8100\n",
      "Epoch 89/1000\n",
      "1/1 - 0s - loss: 0.0618 - acc: 0.5429 - val_loss: 0.1460 - val_acc: 0.8100\n",
      "Epoch 90/1000\n",
      "1/1 - 0s - loss: 0.0631 - acc: 0.5214 - val_loss: 0.1457 - val_acc: 0.8100\n",
      "Epoch 91/1000\n",
      "1/1 - 0s - loss: 0.0565 - acc: 0.5929 - val_loss: 0.1455 - val_acc: 0.8040\n",
      "Epoch 92/1000\n",
      "1/1 - 0s - loss: 0.0582 - acc: 0.5429 - val_loss: 0.1453 - val_acc: 0.8020\n",
      "Epoch 93/1000\n",
      "1/1 - 0s - loss: 0.0623 - acc: 0.5643 - val_loss: 0.1450 - val_acc: 0.8020\n",
      "Epoch 94/1000\n",
      "1/1 - 0s - loss: 0.0563 - acc: 0.5357 - val_loss: 0.1447 - val_acc: 0.8000\n",
      "Epoch 95/1000\n",
      "1/1 - 0s - loss: 0.0528 - acc: 0.6214 - val_loss: 0.1444 - val_acc: 0.7980\n",
      "Epoch 96/1000\n",
      "1/1 - 0s - loss: 0.0673 - acc: 0.5357 - val_loss: 0.1441 - val_acc: 0.7940\n",
      "Epoch 97/1000\n",
      "1/1 - 0s - loss: 0.0653 - acc: 0.5000 - val_loss: 0.1437 - val_acc: 0.7960\n",
      "Epoch 98/1000\n",
      "1/1 - 0s - loss: 0.0541 - acc: 0.6286 - val_loss: 0.1432 - val_acc: 0.7940\n",
      "Epoch 99/1000\n",
      "1/1 - 0s - loss: 0.0641 - acc: 0.5286 - val_loss: 0.1428 - val_acc: 0.7940\n",
      "Epoch 100/1000\n",
      "1/1 - 0s - loss: 0.0657 - acc: 0.5143 - val_loss: 0.1425 - val_acc: 0.7940\n",
      "Epoch 101/1000\n",
      "1/1 - 0s - loss: 0.0628 - acc: 0.5571 - val_loss: 0.1422 - val_acc: 0.7940\n",
      "Epoch 102/1000\n",
      "1/1 - 0s - loss: 0.0600 - acc: 0.5857 - val_loss: 0.1418 - val_acc: 0.7940\n",
      "Epoch 103/1000\n",
      "1/1 - 0s - loss: 0.0559 - acc: 0.6143 - val_loss: 0.1415 - val_acc: 0.7940\n",
      "Epoch 104/1000\n",
      "1/1 - 0s - loss: 0.0571 - acc: 0.5500 - val_loss: 0.1411 - val_acc: 0.7960\n",
      "Epoch 105/1000\n",
      "1/1 - 0s - loss: 0.0587 - acc: 0.5643 - val_loss: 0.1409 - val_acc: 0.7940\n",
      "Epoch 106/1000\n",
      "1/1 - 0s - loss: 0.0624 - acc: 0.5643 - val_loss: 0.1405 - val_acc: 0.8000\n",
      "Epoch 107/1000\n",
      "1/1 - 0s - loss: 0.0630 - acc: 0.5357 - val_loss: 0.1402 - val_acc: 0.7980\n",
      "Epoch 108/1000\n",
      "1/1 - 0s - loss: 0.0600 - acc: 0.5500 - val_loss: 0.1398 - val_acc: 0.7980\n",
      "Epoch 109/1000\n",
      "1/1 - 0s - loss: 0.0653 - acc: 0.5071 - val_loss: 0.1395 - val_acc: 0.7960\n",
      "Epoch 110/1000\n",
      "1/1 - 0s - loss: 0.0691 - acc: 0.5429 - val_loss: 0.1392 - val_acc: 0.8000\n",
      "Epoch 111/1000\n",
      "1/1 - 0s - loss: 0.0599 - acc: 0.5357 - val_loss: 0.1389 - val_acc: 0.7960\n",
      "Epoch 112/1000\n",
      "1/1 - 0s - loss: 0.0698 - acc: 0.5071 - val_loss: 0.1387 - val_acc: 0.7940\n",
      "Epoch 113/1000\n",
      "1/1 - 0s - loss: 0.0551 - acc: 0.5857 - val_loss: 0.1385 - val_acc: 0.7920\n",
      "Epoch 114/1000\n",
      "1/1 - 0s - loss: 0.0618 - acc: 0.5786 - val_loss: 0.1382 - val_acc: 0.7940\n",
      "Epoch 115/1000\n",
      "1/1 - 0s - loss: 0.0598 - acc: 0.5714 - val_loss: 0.1381 - val_acc: 0.7960\n",
      "Epoch 116/1000\n",
      "1/1 - 0s - loss: 0.0713 - acc: 0.4929 - val_loss: 0.1380 - val_acc: 0.7980\n",
      "Epoch 117/1000\n",
      "1/1 - 0s - loss: 0.0620 - acc: 0.5357 - val_loss: 0.1377 - val_acc: 0.8000\n",
      "Epoch 118/1000\n",
      "1/1 - 0s - loss: 0.0721 - acc: 0.4857 - val_loss: 0.1375 - val_acc: 0.8020\n",
      "Epoch 119/1000\n",
      "1/1 - 0s - loss: 0.0641 - acc: 0.4857 - val_loss: 0.1372 - val_acc: 0.8020\n",
      "Epoch 120/1000\n",
      "1/1 - 0s - loss: 0.0549 - acc: 0.5714 - val_loss: 0.1367 - val_acc: 0.8020\n",
      "Epoch 121/1000\n",
      "1/1 - 0s - loss: 0.0621 - acc: 0.5357 - val_loss: 0.1363 - val_acc: 0.8000\n",
      "Epoch 122/1000\n",
      "1/1 - 0s - loss: 0.0612 - acc: 0.5429 - val_loss: 0.1358 - val_acc: 0.8020\n",
      "Epoch 123/1000\n",
      "1/1 - 0s - loss: 0.0650 - acc: 0.5071 - val_loss: 0.1354 - val_acc: 0.8020\n",
      "Epoch 124/1000\n",
      "1/1 - 0s - loss: 0.0642 - acc: 0.5143 - val_loss: 0.1350 - val_acc: 0.8040\n",
      "Epoch 125/1000\n",
      "1/1 - 0s - loss: 0.0609 - acc: 0.5214 - val_loss: 0.1346 - val_acc: 0.8020\n",
      "Epoch 126/1000\n",
      "1/1 - 0s - loss: 0.0608 - acc: 0.5500 - val_loss: 0.1345 - val_acc: 0.8000\n",
      "Epoch 127/1000\n",
      "1/1 - 0s - loss: 0.0635 - acc: 0.4714 - val_loss: 0.1344 - val_acc: 0.7980\n",
      "Epoch 128/1000\n",
      "1/1 - 0s - loss: 0.0459 - acc: 0.6643 - val_loss: 0.1342 - val_acc: 0.7980\n",
      "Epoch 129/1000\n",
      "1/1 - 0s - loss: 0.0631 - acc: 0.5214 - val_loss: 0.1342 - val_acc: 0.7980\n",
      "Epoch 130/1000\n",
      "1/1 - 0s - loss: 0.0587 - acc: 0.5143 - val_loss: 0.1342 - val_acc: 0.7980\n",
      "Epoch 131/1000\n",
      "1/1 - 0s - loss: 0.0608 - acc: 0.5786 - val_loss: 0.1341 - val_acc: 0.8000\n",
      "Epoch 132/1000\n",
      "1/1 - 0s - loss: 0.0583 - acc: 0.5571 - val_loss: 0.1340 - val_acc: 0.8020\n",
      "Epoch 133/1000\n",
      "1/1 - 0s - loss: 0.0601 - acc: 0.5714 - val_loss: 0.1340 - val_acc: 0.8020\n",
      "Epoch 134/1000\n",
      "1/1 - 0s - loss: 0.0594 - acc: 0.5286 - val_loss: 0.1339 - val_acc: 0.8020\n",
      "Epoch 135/1000\n",
      "1/1 - 0s - loss: 0.0559 - acc: 0.6143 - val_loss: 0.1337 - val_acc: 0.8040\n",
      "Epoch 136/1000\n",
      "1/1 - 0s - loss: 0.0537 - acc: 0.6286 - val_loss: 0.1336 - val_acc: 0.8020\n",
      "Epoch 137/1000\n",
      "1/1 - 0s - loss: 0.0576 - acc: 0.5643 - val_loss: 0.1337 - val_acc: 0.8000\n",
      "Epoch 138/1000\n",
      "1/1 - 0s - loss: 0.0559 - acc: 0.6000 - val_loss: 0.1338 - val_acc: 0.8020\n",
      "Epoch 139/1000\n",
      "1/1 - 0s - loss: 0.0625 - acc: 0.5857 - val_loss: 0.1338 - val_acc: 0.8000\n",
      "Epoch 140/1000\n",
      "1/1 - 0s - loss: 0.0690 - acc: 0.4857 - val_loss: 0.1339 - val_acc: 0.8000\n",
      "Epoch 141/1000\n",
      "1/1 - 0s - loss: 0.0517 - acc: 0.6071 - val_loss: 0.1337 - val_acc: 0.8000\n",
      "Epoch 142/1000\n",
      "1/1 - 0s - loss: 0.0611 - acc: 0.5571 - val_loss: 0.1337 - val_acc: 0.7960\n",
      "Epoch 143/1000\n",
      "1/1 - 0s - loss: 0.0554 - acc: 0.6000 - val_loss: 0.1334 - val_acc: 0.7980\n",
      "Epoch 144/1000\n",
      "1/1 - 0s - loss: 0.0490 - acc: 0.6357 - val_loss: 0.1333 - val_acc: 0.7980\n",
      "Epoch 145/1000\n",
      "1/1 - 0s - loss: 0.0596 - acc: 0.5286 - val_loss: 0.1333 - val_acc: 0.7980\n",
      "Epoch 146/1000\n",
      "1/1 - 0s - loss: 0.0564 - acc: 0.5643 - val_loss: 0.1332 - val_acc: 0.7980\n",
      "Epoch 147/1000\n",
      "1/1 - 0s - loss: 0.0580 - acc: 0.5714 - val_loss: 0.1331 - val_acc: 0.7940\n",
      "Epoch 148/1000\n",
      "1/1 - 0s - loss: 0.0558 - acc: 0.5929 - val_loss: 0.1329 - val_acc: 0.7960\n",
      "Epoch 149/1000\n",
      "1/1 - 0s - loss: 0.0532 - acc: 0.6143 - val_loss: 0.1328 - val_acc: 0.7940\n",
      "Epoch 150/1000\n",
      "1/1 - 0s - loss: 0.0537 - acc: 0.5643 - val_loss: 0.1325 - val_acc: 0.7940\n",
      "Epoch 151/1000\n",
      "1/1 - 0s - loss: 0.0562 - acc: 0.5714 - val_loss: 0.1321 - val_acc: 0.7940\n",
      "Epoch 152/1000\n",
      "1/1 - 0s - loss: 0.0570 - acc: 0.5429 - val_loss: 0.1317 - val_acc: 0.7940\n",
      "Epoch 153/1000\n",
      "1/1 - 0s - loss: 0.0516 - acc: 0.5857 - val_loss: 0.1313 - val_acc: 0.7940\n",
      "Epoch 154/1000\n",
      "1/1 - 0s - loss: 0.0495 - acc: 0.6143 - val_loss: 0.1307 - val_acc: 0.7920\n",
      "Epoch 155/1000\n",
      "1/1 - 0s - loss: 0.0578 - acc: 0.5643 - val_loss: 0.1303 - val_acc: 0.7920\n",
      "Epoch 156/1000\n",
      "1/1 - 0s - loss: 0.0543 - acc: 0.5571 - val_loss: 0.1296 - val_acc: 0.7940\n",
      "Epoch 157/1000\n",
      "1/1 - 0s - loss: 0.0672 - acc: 0.5214 - val_loss: 0.1289 - val_acc: 0.7960\n",
      "Epoch 158/1000\n",
      "1/1 - 0s - loss: 0.0521 - acc: 0.6571 - val_loss: 0.1284 - val_acc: 0.7940\n",
      "Epoch 159/1000\n",
      "1/1 - 0s - loss: 0.0455 - acc: 0.6500 - val_loss: 0.1279 - val_acc: 0.7980\n",
      "Epoch 160/1000\n",
      "1/1 - 0s - loss: 0.0519 - acc: 0.6214 - val_loss: 0.1274 - val_acc: 0.7980\n",
      "Epoch 161/1000\n",
      "1/1 - 0s - loss: 0.0506 - acc: 0.6429 - val_loss: 0.1269 - val_acc: 0.7960\n",
      "Epoch 162/1000\n",
      "1/1 - 0s - loss: 0.0502 - acc: 0.6000 - val_loss: 0.1264 - val_acc: 0.7960\n",
      "Epoch 163/1000\n",
      "1/1 - 0s - loss: 0.0594 - acc: 0.4857 - val_loss: 0.1259 - val_acc: 0.7960\n",
      "Epoch 164/1000\n",
      "1/1 - 0s - loss: 0.0610 - acc: 0.5286 - val_loss: 0.1254 - val_acc: 0.7980\n",
      "Epoch 165/1000\n",
      "1/1 - 0s - loss: 0.0581 - acc: 0.5643 - val_loss: 0.1248 - val_acc: 0.8000\n",
      "Epoch 166/1000\n",
      "1/1 - 0s - loss: 0.0652 - acc: 0.4786 - val_loss: 0.1244 - val_acc: 0.8000\n",
      "Epoch 167/1000\n",
      "1/1 - 0s - loss: 0.0581 - acc: 0.5429 - val_loss: 0.1240 - val_acc: 0.8020\n",
      "Epoch 168/1000\n",
      "1/1 - 0s - loss: 0.0575 - acc: 0.5857 - val_loss: 0.1235 - val_acc: 0.8020\n",
      "Epoch 169/1000\n",
      "1/1 - 0s - loss: 0.0503 - acc: 0.6214 - val_loss: 0.1231 - val_acc: 0.8020\n",
      "Epoch 170/1000\n",
      "1/1 - 0s - loss: 0.0548 - acc: 0.6071 - val_loss: 0.1229 - val_acc: 0.7980\n",
      "Epoch 171/1000\n",
      "1/1 - 0s - loss: 0.0567 - acc: 0.6143 - val_loss: 0.1226 - val_acc: 0.7980\n",
      "Epoch 172/1000\n",
      "1/1 - 0s - loss: 0.0564 - acc: 0.5786 - val_loss: 0.1225 - val_acc: 0.7960\n",
      "Epoch 173/1000\n",
      "1/1 - 0s - loss: 0.0594 - acc: 0.5571 - val_loss: 0.1223 - val_acc: 0.7940\n",
      "Epoch 174/1000\n",
      "1/1 - 0s - loss: 0.0565 - acc: 0.5571 - val_loss: 0.1222 - val_acc: 0.8020\n",
      "Epoch 175/1000\n",
      "1/1 - 0s - loss: 0.0651 - acc: 0.5000 - val_loss: 0.1221 - val_acc: 0.8000\n",
      "Epoch 176/1000\n",
      "1/1 - 0s - loss: 0.0626 - acc: 0.5429 - val_loss: 0.1221 - val_acc: 0.8000\n",
      "Epoch 177/1000\n",
      "1/1 - 0s - loss: 0.0588 - acc: 0.5000 - val_loss: 0.1222 - val_acc: 0.7980\n",
      "Epoch 178/1000\n",
      "1/1 - 0s - loss: 0.0527 - acc: 0.6143 - val_loss: 0.1223 - val_acc: 0.7960\n",
      "Epoch 179/1000\n",
      "1/1 - 0s - loss: 0.0538 - acc: 0.5571 - val_loss: 0.1223 - val_acc: 0.7940\n",
      "Epoch 180/1000\n",
      "1/1 - 0s - loss: 0.0665 - acc: 0.5357 - val_loss: 0.1224 - val_acc: 0.7940\n",
      "Epoch 181/1000\n",
      "1/1 - 0s - loss: 0.0519 - acc: 0.6143 - val_loss: 0.1225 - val_acc: 0.7920\n",
      "Epoch 182/1000\n",
      "1/1 - 0s - loss: 0.0511 - acc: 0.6143 - val_loss: 0.1226 - val_acc: 0.7920\n",
      "Epoch 183/1000\n",
      "1/1 - 0s - loss: 0.0530 - acc: 0.5714 - val_loss: 0.1226 - val_acc: 0.7920\n",
      "Epoch 184/1000\n",
      "1/1 - 0s - loss: 0.0496 - acc: 0.6286 - val_loss: 0.1225 - val_acc: 0.7940\n",
      "Epoch 185/1000\n",
      "1/1 - 0s - loss: 0.0546 - acc: 0.6143 - val_loss: 0.1226 - val_acc: 0.7960\n",
      "Epoch 186/1000\n",
      "1/1 - 0s - loss: 0.0554 - acc: 0.5857 - val_loss: 0.1228 - val_acc: 0.8000\n",
      "Epoch 187/1000\n",
      "1/1 - 0s - loss: 0.0578 - acc: 0.5929 - val_loss: 0.1229 - val_acc: 0.7900\n",
      "Epoch 188/1000\n",
      "1/1 - 0s - loss: 0.0539 - acc: 0.5714 - val_loss: 0.1231 - val_acc: 0.7900\n",
      "Epoch 189/1000\n",
      "1/1 - 0s - loss: 0.0621 - acc: 0.5857 - val_loss: 0.1234 - val_acc: 0.7860\n",
      "Epoch 190/1000\n",
      "1/1 - 0s - loss: 0.0574 - acc: 0.5714 - val_loss: 0.1238 - val_acc: 0.7840\n"
     ]
    },
    {
     "data": {
      "text/plain": [
       "<matplotlib.legend.Legend at 0x7f0f73e70760>"
      ]
     },
     "execution_count": 24,
     "metadata": {},
     "output_type": "execute_result"
    },
    {
     "data": {
      "image/png": "[encoded data removed]",
      "text/plain": [
       "<Figure size 432x288 with 1 Axes>"
      ]
     },
     "metadata": {
      "needs_background": "light"
     },
     "output_type": "display_data"
    }
   ],
   "source": [
    "dropout_rate = 0.6\n",
    "epochs = 1000\n",
    "es_patience = 20\n",
    "es_min_delta = 0.001\n",
    "lr=0.005\n",
    "\n",
    "model = gat(dropout_rate=dropout_rate, use_bias=False)\n",
    "\n",
    "optimizer = keras.optimizers.Adam(lr=lr)\n",
    "model.compile(optimizer=optimizer,\n",
    "              loss='sparse_categorical_crossentropy',\n",
    "              weighted_metrics=['acc'])\n",
    "\n",
    "es_callback = keras.callbacks.EarlyStopping(monitor='val_loss', \n",
    "                                            patience=es_patience, \n",
    "                                            min_delta=es_min_delta)\n",
    "\n",
    "val_data = ([features, A], labels, val_mask)\n",
    "history = model.fit([features, A], labels, sample_weight=train_mask, validation_data=val_data,\n",
    "          batch_size=node_num, epochs=epochs, verbose=2, shuffle=False, callbacks=es_callback)\n",
    "for i, item in history.history.items():\n",
    "    plt.plot(item, label=i)\n",
    "plt.legend()"
   ]
  },
  {
   "cell_type": "code",
   "execution_count": 25,
   "metadata": {},
   "outputs": [
    {
     "name": "stdout",
     "output_type": "stream",
     "text": [
      "1/1 - 0s - loss: 0.0068 - acc: 0.9929\n",
      "[0.006791509222239256, 0.9928571581840515]\n",
      "1/1 - 0s - loss: 0.1238 - acc: 0.7840\n",
      "[0.12378958612680435, 0.7839999794960022]\n",
      "1/1 - 0s - loss: 0.2731 - acc: 0.7630\n",
      "[0.2731455862522125, 0.7630000114440918]\n"
     ]
    }
   ],
   "source": [
    "for i in [train_mask, val_mask, test_mask]:\n",
    "    print(model.evaluate([features, A], labels, sample_weight=i, batch_size=node_num, verbose=2))"
   ]
  },
  {
   "cell_type": "markdown",
   "metadata": {},
   "source": [
    "----\n",
    "\n",
    "自定义损失函数、评估函数和训练\n",
    "\n",
    "-----"
   ]
  },
  {
   "cell_type": "code",
   "execution_count": 32,
   "metadata": {},
   "outputs": [
    {
     "data": {
      "text/plain": [
       "<tf.Tensor: shape=(2708, 1), dtype=int32, numpy=\n",
       "array([[2],\n",
       "       [5],\n",
       "       [4],\n",
       "       ...,\n",
       "       [1],\n",
       "       [0],\n",
       "       [2]], dtype=int32)>"
      ]
     },
     "execution_count": 32,
     "metadata": {},
     "output_type": "execute_result"
    }
   ],
   "source": [
    "labels"
   ]
  },
  {
   "cell_type": "code",
   "execution_count": 37,
   "metadata": {},
   "outputs": [],
   "source": [
    "# 构建损失函数、评估（准确率）函数\n",
    "def masked_sparse_cross_entropy(preds, labels, mask):\n",
    "    \"\"\"预测结果是概率形式，标签是正确类型，计算\"\"\"\n",
    "    mask = tf.cast(mask, tf.bool)\n",
    "    loss = - tf.math.log(tf.clip_by_value(preds[mask], 1e-7, 1)) * tf.one_hot(tf.reshape(labels[mask], shape=(-1, )), 7)\n",
    "    loss = tf.reduce_sum(loss, axis=1)\n",
    "    loss = tf.reduce_mean(loss)\n",
    "    '''\n",
    "    或者\n",
    "    keras.losses.SparseCategoricalCrossentropy(from_logits=False)(labels[mask], preds[mask])\n",
    "    '''\n",
    "    return loss\n",
    "\n",
    "def masked_accuracy(preds, labels, mask):\n",
    "    \"\"\"Accuracy with masking.\"\"\"\n",
    "    mask = tf.cast(mask, tf.bool)\n",
    "    correct = tf.equal(tf.cast(tf.argmax(preds[mask], axis=1), dtype=tf.int32), tf.reshape(labels[mask], shape=(-1, )))\n",
    "    correct = tf.cast(correct, tf.float32)\n",
    "    return tf.reduce_mean(correct)"
   ]
  },
  {
   "cell_type": "code",
   "execution_count": 38,
   "metadata": {},
   "outputs": [
    {
     "name": "stdout",
     "output_type": "stream",
     "text": [
      "====================Start of 1====================\n",
      "训练集准确率： 0.2642857; 验证集准确率： 0.216\n",
      "====================Start of 2====================\n",
      "训练集准确率： 0.37857142; 验证集准确率： 0.302\n",
      "====================Start of 3====================\n",
      "训练集准确率： 0.4857143; 验证集准确率： 0.356\n",
      "====================Start of 4====================\n",
      "训练集准确率： 0.54285717; 验证集准确率： 0.418\n",
      "====================Start of 5====================\n",
      "训练集准确率： 0.62142855; 验证集准确率： 0.446\n",
      "====================Start of 6====================\n",
      "训练集准确率： 0.6642857; 验证集准确率： 0.47\n",
      "====================Start of 7====================\n",
      "训练集准确率： 0.71428573; 验证集准确率： 0.484\n",
      "====================Start of 8====================\n",
      "训练集准确率： 0.75714284; 验证集准确率： 0.51\n",
      "====================Start of 9====================\n",
      "训练集准确率： 0.7714286; 验证集准确率： 0.534\n",
      "===================Start of 10====================\n",
      "训练集准确率： 0.79285717; 验证集准确率： 0.564\n",
      "===================Start of 11====================\n",
      "训练集准确率： 0.8142857; 验证集准确率： 0.582\n",
      "===================Start of 12====================\n",
      "训练集准确率： 0.8214286; 验证集准确率： 0.614\n",
      "===================Start of 13====================\n",
      "训练集准确率： 0.8357143; 验证集准确率： 0.62\n",
      "===================Start of 14====================\n",
      "训练集准确率： 0.8428571; 验证集准确率： 0.632\n",
      "===================Start of 15====================\n",
      "训练集准确率： 0.85714287; 验证集准确率： 0.662\n",
      "===================Start of 16====================\n",
      "训练集准确率： 0.87142855; 验证集准确率： 0.688\n",
      "===================Start of 17====================\n",
      "训练集准确率： 0.8857143; 验证集准确率： 0.704\n",
      "===================Start of 18====================\n",
      "训练集准确率： 0.9; 验证集准确率： 0.734\n",
      "===================Start of 19====================\n",
      "训练集准确率： 0.9; 验证集准确率： 0.75\n",
      "===================Start of 20====================\n",
      "训练集准确率： 0.9071429; 验证集准确率： 0.768\n",
      "===================Start of 21====================\n",
      "训练集准确率： 0.9071429; 验证集准确率： 0.77\n",
      "===================Start of 22====================\n",
      "训练集准确率： 0.9071429; 验证集准确率： 0.772\n",
      "===================Start of 23====================\n",
      "训练集准确率： 0.9142857; 验证集准确率： 0.768\n",
      "===================Start of 24====================\n",
      "训练集准确率： 0.92142856; 验证集准确率： 0.764\n",
      "===================Start of 25====================\n",
      "训练集准确率： 0.92142856; 验证集准确率： 0.764\n",
      "===================Start of 26====================\n",
      "训练集准确率： 0.92142856; 验证集准确率： 0.772\n",
      "===================Start of 27====================\n",
      "训练集准确率： 0.92142856; 验证集准确率： 0.772\n",
      "===================Start of 28====================\n",
      "训练集准确率： 0.9285714; 验证集准确率： 0.78\n",
      "===================Start of 29====================\n",
      "训练集准确率： 0.9285714; 验证集准确率： 0.78\n",
      "===================Start of 30====================\n",
      "训练集准确率： 0.9285714; 验证集准确率： 0.782\n",
      "===================Start of 31====================\n",
      "训练集准确率： 0.9285714; 验证集准确率： 0.788\n",
      "===================Start of 32====================\n",
      "训练集准确率： 0.9357143; 验证集准确率： 0.792\n",
      "===================Start of 33====================\n",
      "训练集准确率： 0.94285715; 验证集准确率： 0.794\n",
      "===================Start of 34====================\n",
      "训练集准确率： 0.94285715; 验证集准确率： 0.794\n",
      "===================Start of 35====================\n",
      "训练集准确率： 0.94285715; 验证集准确率： 0.794\n",
      "===================Start of 36====================\n",
      "训练集准确率： 0.94285715; 验证集准确率： 0.796\n",
      "===================Start of 37====================\n",
      "训练集准确率： 0.94285715; 验证集准确率： 0.794\n",
      "===================Start of 38====================\n",
      "训练集准确率： 0.94285715; 验证集准确率： 0.796\n",
      "===================Start of 39====================\n",
      "训练集准确率： 0.94285715; 验证集准确率： 0.8\n",
      "===================Start of 40====================\n",
      "训练集准确率： 0.94285715; 验证集准确率： 0.8\n",
      "===================Start of 41====================\n",
      "训练集准确率： 0.9357143; 验证集准确率： 0.798\n",
      "===================Start of 42====================\n",
      "训练集准确率： 0.9357143; 验证集准确率： 0.798\n",
      "===================Start of 43====================\n",
      "训练集准确率： 0.94285715; 验证集准确率： 0.798\n",
      "===================Start of 44====================\n",
      "训练集准确率： 0.94285715; 验证集准确率： 0.8\n",
      "===================Start of 45====================\n",
      "训练集准确率： 0.94285715; 验证集准确率： 0.8\n",
      "===================Start of 46====================\n",
      "训练集准确率： 0.94285715; 验证集准确率： 0.798\n",
      "===================Start of 47====================\n",
      "训练集准确率： 0.94285715; 验证集准确率： 0.798\n",
      "===================Start of 48====================\n",
      "训练集准确率： 0.94285715; 验证集准确率： 0.796\n",
      "===================Start of 49====================\n",
      "训练集准确率： 0.94285715; 验证集准确率： 0.794\n",
      "===================Start of 50====================\n",
      "训练集准确率： 0.95714283; 验证集准确率： 0.794\n",
      "===================Start of 51====================\n",
      "训练集准确率： 0.95714283; 验证集准确率： 0.794\n",
      "===================Start of 52====================\n",
      "训练集准确率： 0.95714283; 验证集准确率： 0.794\n",
      "===================Start of 53====================\n",
      "训练集准确率： 0.95714283; 验证集准确率： 0.794\n",
      "===================Start of 54====================\n",
      "训练集准确率： 0.95714283; 验证集准确率： 0.794\n",
      "===================Start of 55====================\n",
      "训练集准确率： 0.95714283; 验证集准确率： 0.796\n",
      "===================Start of 56====================\n",
      "训练集准确率： 0.95714283; 验证集准确率： 0.794\n",
      "===================Start of 57====================\n",
      "训练集准确率： 0.95714283; 验证集准确率： 0.794\n",
      "===================Start of 58====================\n",
      "训练集准确率： 0.95714283; 验证集准确率： 0.796\n",
      "===================Start of 59====================\n",
      "训练集准确率： 0.95714283; 验证集准确率： 0.796\n",
      "===================Start of 60====================\n",
      "训练集准确率： 0.95714283; 验证集准确率： 0.796\n",
      "===================Start of 61====================\n",
      "训练集准确率： 0.95714283; 验证集准确率： 0.798\n",
      "===================Start of 62====================\n",
      "训练集准确率： 0.95714283; 验证集准确率： 0.796\n",
      "===================Start of 63====================\n",
      "训练集准确率： 0.95714283; 验证集准确率： 0.796\n",
      "===================Start of 64====================\n",
      "训练集准确率： 0.95714283; 验证集准确率： 0.798\n",
      "===================Start of 65====================\n",
      "训练集准确率： 0.95714283; 验证集准确率： 0.798\n",
      "===================Start of 66====================\n",
      "训练集准确率： 0.95714283; 验证集准确率： 0.798\n",
      "===================Start of 67====================\n",
      "训练集准确率： 0.95714283; 验证集准确率： 0.8\n",
      "===================Start of 68====================\n",
      "训练集准确率： 0.95714283; 验证集准确率： 0.798\n",
      "===================Start of 69====================\n",
      "训练集准确率： 0.95714283; 验证集准确率： 0.8\n",
      "===================Start of 70====================\n",
      "训练集准确率： 0.96428573; 验证集准确率： 0.8\n",
      "===================Start of 71====================\n",
      "训练集准确率： 0.96428573; 验证集准确率： 0.8\n",
      "===================Start of 72====================\n",
      "训练集准确率： 0.96428573; 验证集准确率： 0.802\n",
      "===================Start of 73====================\n",
      "训练集准确率： 0.96428573; 验证集准确率： 0.802\n",
      "===================Start of 74====================\n",
      "训练集准确率： 0.9714286; 验证集准确率： 0.802\n",
      "===================Start of 75====================\n",
      "训练集准确率： 0.9714286; 验证集准确率： 0.804\n",
      "===================Start of 76====================\n",
      "训练集准确率： 0.9714286; 验证集准确率： 0.806\n",
      "===================Start of 77====================\n",
      "训练集准确率： 0.9714286; 验证集准确率： 0.808\n",
      "===================Start of 78====================\n",
      "训练集准确率： 0.9714286; 验证集准确率： 0.808\n",
      "===================Start of 79====================\n",
      "训练集准确率： 0.9714286; 验证集准确率： 0.804\n",
      "===================Start of 80====================\n",
      "训练集准确率： 0.9714286; 验证集准确率： 0.804\n",
      "===================Start of 81====================\n",
      "训练集准确率： 0.9714286; 验证集准确率： 0.806\n",
      "===================Start of 82====================\n",
      "训练集准确率： 0.9714286; 验证集准确率： 0.806\n",
      "===================Start of 83====================\n",
      "训练集准确率： 0.9714286; 验证集准确率： 0.806\n",
      "===================Start of 84====================\n",
      "训练集准确率： 0.9714286; 验证集准确率： 0.808\n",
      "===================Start of 85====================\n",
      "训练集准确率： 0.9714286; 验证集准确率： 0.808\n",
      "===================Start of 86====================\n",
      "训练集准确率： 0.9714286; 验证集准确率： 0.81\n",
      "===================Start of 87====================\n",
      "训练集准确率： 0.9785714; 验证集准确率： 0.81\n",
      "===================Start of 88====================\n",
      "训练集准确率： 0.9785714; 验证集准确率： 0.808\n",
      "===================Start of 89====================\n",
      "训练集准确率： 0.9785714; 验证集准确率： 0.808\n",
      "===================Start of 90====================\n",
      "训练集准确率： 0.9785714; 验证集准确率： 0.806\n",
      "===================Start of 91====================\n",
      "训练集准确率： 0.9785714; 验证集准确率： 0.806\n",
      "===================Start of 92====================\n",
      "训练集准确率： 0.9785714; 验证集准确率： 0.806\n",
      "===================Start of 93====================\n",
      "训练集准确率： 0.9785714; 验证集准确率： 0.804\n",
      "===================Start of 94====================\n",
      "训练集准确率： 0.9785714; 验证集准确率： 0.796\n",
      "===================Start of 95====================\n",
      "训练集准确率： 0.9785714; 验证集准确率： 0.794\n",
      "===================Start of 96====================\n",
      "训练集准确率： 0.9785714; 验证集准确率： 0.794\n",
      "===================Start of 97====================\n",
      "训练集准确率： 0.9785714; 验证集准确率： 0.794\n",
      "===================Start of 98====================\n",
      "训练集准确率： 0.9785714; 验证集准确率： 0.792\n",
      "===================Start of 99====================\n",
      "训练集准确率： 0.9785714; 验证集准确率： 0.79\n",
      "===================Start of 100===================\n",
      "训练集准确率： 0.9785714; 验证集准确率： 0.788\n",
      "测试集准确率： 0.768\n"
     ]
    },
    {
     "data": {
      "text/plain": [
       "<matplotlib.legend.Legend at 0x7f0e6c097520>"
      ]
     },
     "execution_count": 38,
     "metadata": {},
     "output_type": "execute_result"
    },
    {
     "data": {
      "image/png": "[encoded data removed]",
      "text/plain": [
       "<Figure size 432x288 with 1 Axes>"
      ]
     },
     "metadata": {
      "needs_background": "light"
     },
     "output_type": "display_data"
    }
   ],
   "source": [
    "dropout_rate = 0.6\n",
    "attention_heads = 8\n",
    "\n",
    "\n",
    "X_input = keras.Input(shape=(feature_dim, ))\n",
    "A_input = keras.Input(shape=(node_num, ))\n",
    "\n",
    "dropout1 = tf.keras.layers.Dropout(dropout_rate)(X_input)\n",
    "z = GAT_conv(units=8, activation='elu', \n",
    "             dropout_rate=dropout_rate, \n",
    "             activity_regularizer=tf.keras.regularizers.l2(5e-4/2),\n",
    "             attention_reduction='concat', \n",
    "             attention_heads=attention_heads)([dropout1, A_input])\n",
    "z = tf.keras.layers.Dropout(dropout_rate)(z)\n",
    "z = GAT_conv(units=label_num, activation='softmax', \n",
    "             activity_regularizer=tf.keras.regularizers.l2(5e-4/2),\n",
    "             attention_reduction='mean', dropout_rate=dropout_rate, \n",
    "             attention_heads=1)([z, A_input])\n",
    "model = keras.Model(inputs=[X_input, A_input], outputs=z, name='GAT_model')\n",
    "\n",
    "optimizer = keras.optimizers.Adam(learning_rate=0.005)\n",
    "train_accs = []\n",
    "val_accs = []\n",
    "for epoch in range(100):\n",
    "    with tf.GradientTape() as tape:\n",
    "        logits = model([features, A], training=True)\n",
    "        loss = masked_sparse_cross_entropy(logits, labels, train_mask)\n",
    "    grads = tape.gradient(loss, model.trainable_weights)\n",
    "    optimizer.apply_gradients(zip(grads, model.trainable_weights))\n",
    "#     if epoch % 10 == 0:\n",
    "    print('{:=^50}'.format(f'Start of {epoch+1}'))\n",
    "    \n",
    "    \n",
    "    # 计算准确率时，关掉dropout\n",
    "    logits = model([features, A], training=False)\n",
    "    acc_train = masked_accuracy(logits, labels, train_mask)\n",
    "    acc_val = masked_accuracy(logits, labels, val_mask)\n",
    "    train_accs.append(acc_train.numpy())\n",
    "    val_accs.append(acc_val.numpy())\n",
    "    print('训练集准确率：', acc_train.numpy(), end='')\n",
    "    print('; 验证集准确率：', acc_val.numpy())\n",
    "logits = model([features, A], training=False)\n",
    "acc_test = masked_accuracy(logits, labels, test_mask)\n",
    "print('测试集准确率：', acc_test.numpy())\n",
    "\n",
    "import matplotlib.pyplot as plt\n",
    "plt.plot(train_accs)\n",
    "plt.plot(val_accs)\n",
    "plt.legend(['train_acc', 'val_acc'], loc='best')"
   ]
  },
  {
   "cell_type": "code",
   "execution_count": 39,
   "metadata": {},
   "outputs": [
    {
     "name": "stdout",
     "output_type": "stream",
     "text": [
      "Model: \"GAT_model\"\n",
      "__________________________________________________________________________________________________\n",
      "Layer (type)                    Output Shape         Param #     Connected to                     \n",
      "==================================================================================================\n",
      "input_13 (InputLayer)           [(None, 1433)]       0                                            \n",
      "__________________________________________________________________________________________________\n",
      "dropout_174 (Dropout)           (None, 1433)         0           input_13[0][0]                   \n",
      "__________________________________________________________________________________________________\n",
      "input_14 (InputLayer)           [(None, 2708)]       0                                            \n",
      "__________________________________________________________________________________________________\n",
      "gat_conv_12 (GAT_conv)          (None, 64)           91840       dropout_174[0][0]                \n",
      "                                                                 input_14[0][0]                   \n",
      "__________________________________________________________________________________________________\n",
      "dropout_175 (Dropout)           (None, 64)           0           gat_conv_12[0][0]                \n",
      "__________________________________________________________________________________________________\n",
      "gat_conv_13 (GAT_conv)          (None, 7)            462         dropout_175[0][0]                \n",
      "                                                                 input_14[0][0]                   \n",
      "==================================================================================================\n",
      "Total params: 92,302\n",
      "Trainable params: 92,302\n",
      "Non-trainable params: 0\n",
      "__________________________________________________________________________________________________\n"
     ]
    }
   ],
   "source": [
    "model.summary()"
   ]
  }
 ],
 "metadata": {
  "kernelspec": {
   "display_name": "Python 3",
   "language": "python",
   "name": "python3"
  },
  "language_info": {
   "codemirror_mode": {
    "name": "ipython",
    "version": 3
   },
   "file_extension": ".py",
   "mimetype": "text/x-python",
   "name": "python",
   "nbconvert_exporter": "python",
   "pygments_lexer": "ipython3",
   "version": "3.8.3"
  }
 },
 "nbformat": 4,
 "nbformat_minor": 4
}
