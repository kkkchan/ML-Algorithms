{
 "cells": [
  {
   "cell_type": "markdown",
   "metadata": {},
   "source": [
    "# 使用Tensoflow2实现GAT"
   ]
  },
  {
   "cell_type": "code",
   "execution_count": 1,
   "metadata": {},
   "outputs": [],
   "source": [
    "import os \n",
    "import numpy as np\n",
    "import matplotlib.pyplot as plt\n",
    "import scipy.sparse as sp\n",
    "import networkx as nx\n",
    "import pickle\n",
    "\n",
    "import tensorflow as tf\n",
    "from tensorflow import keras\n",
    "import warnings"
   ]
  },
  {
   "cell_type": "markdown",
   "metadata": {},
   "source": [
    "# 1. 数据导入\n",
    "\n",
    "依旧使用Cora数据集，跟GCN的实现中一样，所有这里仅仅只是把GCN实现中的代码搬了过来"
   ]
  },
  {
   "cell_type": "code",
   "execution_count": 2,
   "metadata": {},
   "outputs": [
    {
     "data": {
      "text/plain": [
       "(True, True)"
      ]
     },
     "execution_count": 2,
     "metadata": {},
     "output_type": "execute_result"
    }
   ],
   "source": [
    "content_path = '../datasets/cora/cora.content'\n",
    "cite_path = '../datasets/cora/cora.cites'\n",
    "data_dir = '../datasets/cora'\n",
    "os.path.exists(content_path), os.path.exists(cite_path)"
   ]
  },
  {
   "cell_type": "code",
   "execution_count": 3,
   "metadata": {},
   "outputs": [],
   "source": [
    "with open(content_path, 'r') as f:\n",
    "    contents = f.readlines()\n",
    "with open(cite_path, 'r') as f:\n",
    "    cites = f.readlines()\n",
    "contents = np.array([l.strip().split('\\t') for l in contents])\n",
    "cites_raw = np.array([i.strip().split('\\t') for i in cites])"
   ]
  },
  {
   "cell_type": "code",
   "execution_count": 4,
   "metadata": {},
   "outputs": [
    {
     "name": "stdout",
     "output_type": "stream",
     "text": [
      "============图数据信息=============\n",
      "节点数量： 2708\n",
      "边数量： 5429\n",
      "特征维数： 1433\n",
      "标签类别数量： 7\n",
      "标签类别：\n",
      "     - Case_Based\n",
      "     - Genetic_Algorithms\n",
      "     - Neural_Networks\n",
      "     - Probabilistic_Methods\n",
      "     - Reinforcement_Learning\n",
      "     - Rule_Learning\n",
      "     - Theory\n"
     ]
    }
   ],
   "source": [
    "papers_raw, features_raw, labels_raw = np.split(contents, [1, -1], axis=1)\n",
    "features = features_raw.astype(np.float32)\n",
    "\n",
    "paper_dict = {key:value for value, key in enumerate(np.squeeze(papers_raw))}\n",
    "label_dict = {key:value for value, key in enumerate(np.unique(np.squeeze(labels_raw)))}\n",
    "\n",
    "papers = np.array([[paper_dict[key]] for key in papers_raw.reshape(-1)])\n",
    "labels = np.array([[label_dict[key]] for key in labels_raw.reshape(-1)])\n",
    "\n",
    "cites = np.array([[paper_dict[i[0]], paper_dict[i[1]]] for i in cites_raw])\n",
    "node_num = len(papers)\n",
    "label_num = len(label_dict.keys())\n",
    "feature_dim = features.shape[1]\n",
    "edge_num = len(cites)\n",
    "\n",
    "print('{:=^30}'.format('图数据信息'))\n",
    "print('节点数量：', node_num)\n",
    "print('边数量：', edge_num)\n",
    "print('特征维数：', feature_dim)\n",
    "print('标签类别数量：', label_num)\n",
    "print('标签类别：')\n",
    "for label in label_dict.keys():\n",
    "    print('{: <5}- {:<}'.format('', label))"
   ]
  },
  {
   "cell_type": "code",
   "execution_count": 5,
   "metadata": {},
   "outputs": [
    {
     "data": {
      "text/plain": [
       "{'Case_Based': 0,\n",
       " 'Genetic_Algorithms': 1,\n",
       " 'Neural_Networks': 2,\n",
       " 'Probabilistic_Methods': 3,\n",
       " 'Reinforcement_Learning': 4,\n",
       " 'Rule_Learning': 5,\n",
       " 'Theory': 6}"
      ]
     },
     "execution_count": 5,
     "metadata": {},
     "output_type": "execute_result"
    }
   ],
   "source": [
    "label_dict"
   ]
  },
  {
   "cell_type": "code",
   "execution_count": 6,
   "metadata": {},
   "outputs": [
    {
     "data": {
      "text/plain": [
       "array([[0., 0., 0., ..., 0., 0., 0.],\n",
       "       [0., 0., 0., ..., 0., 0., 0.],\n",
       "       [0., 0., 0., ..., 0., 0., 0.],\n",
       "       ...,\n",
       "       [0., 0., 0., ..., 0., 0., 0.],\n",
       "       [0., 0., 0., ..., 0., 0., 0.],\n",
       "       [0., 0., 0., ..., 0., 0., 0.]], dtype=float32)"
      ]
     },
     "execution_count": 6,
     "metadata": {},
     "output_type": "execute_result"
    }
   ],
   "source": [
    "features"
   ]
  },
  {
   "cell_type": "code",
   "execution_count": 7,
   "metadata": {},
   "outputs": [
    {
     "data": {
      "text/plain": [
       "((2708, 1), (2708, 1), (5429, 2), (2708, 1433))"
      ]
     },
     "execution_count": 7,
     "metadata": {},
     "output_type": "execute_result"
    }
   ],
   "source": [
    "papers.shape, labels.shape, cites.shape, features.shape"
   ]
  },
  {
   "cell_type": "code",
   "execution_count": 8,
   "metadata": {},
   "outputs": [
    {
     "data": {
      "text/plain": [
       "(2708, 5429, 7, 1433)"
      ]
     },
     "execution_count": 8,
     "metadata": {},
     "output_type": "execute_result"
    }
   ],
   "source": [
    "node_num, edge_num, label_num, feature_dim"
   ]
  },
  {
   "cell_type": "markdown",
   "metadata": {},
   "source": [
    "# 2. 构造邻接矩阵"
   ]
  },
  {
   "cell_type": "code",
   "execution_count": 9,
   "metadata": {},
   "outputs": [],
   "source": [
    "G = nx.Graph()\n",
    "G.add_nodes_from(range(len(papers)))\n",
    "G.add_edges_from(cites)\n",
    "adj_matrix = nx.adjacency_matrix(G)"
   ]
  },
  {
   "cell_type": "code",
   "execution_count": 10,
   "metadata": {},
   "outputs": [
    {
     "data": {
      "text/plain": [
       "((2708, 2708), scipy.sparse.csr.csr_matrix)"
      ]
     },
     "execution_count": 10,
     "metadata": {},
     "output_type": "execute_result"
    }
   ],
   "source": [
    "adj_matrix.shape, type(adj_matrix)"
   ]
  },
  {
   "cell_type": "code",
   "execution_count": 11,
   "metadata": {},
   "outputs": [
    {
     "data": {
      "text/plain": [
       "array([[1., 0., 0., ..., 0., 0., 0.],\n",
       "       [0., 1., 0., ..., 0., 0., 0.],\n",
       "       [0., 0., 1., ..., 0., 0., 0.],\n",
       "       ...,\n",
       "       [0., 0., 0., ..., 1., 0., 0.],\n",
       "       [0., 0., 0., ..., 0., 1., 0.],\n",
       "       [0., 0., 0., ..., 0., 0., 1.]])"
      ]
     },
     "execution_count": 11,
     "metadata": {},
     "output_type": "execute_result"
    }
   ],
   "source": [
    "# 将稀疏矩阵转为普通矩阵，并引入自环边，构造带自环的邻接矩阵\n",
    "A = adj_matrix.toarray()\n",
    "A = A + np.eye(A.shape[0])\n",
    "A"
   ]
  },
  {
   "cell_type": "code",
   "execution_count": 12,
   "metadata": {},
   "outputs": [
    {
     "name": "stdout",
     "output_type": "stream",
     "text": [
      "节点数：2708\n"
     ]
    }
   ],
   "source": [
    "print(f'节点数：{node_num}')"
   ]
  },
  {
   "cell_type": "markdown",
   "metadata": {},
   "source": [
    "# 3. 数据集分割"
   ]
  },
  {
   "cell_type": "markdown",
   "metadata": {},
   "source": [
    "使用同论文中相同的数据集分割方式：\n",
    "- 训练集：**每个类别中取出20个**作为训练集（共140）\n",
    "- 验证集：剩下数据集中取出**500个**\n",
    "- 测试集：剩下数据集中取出**1000个**\n",
    "\n",
    "由于计算时是需要所有的图数据和特征，所以数据集分割采用的是mask数组，**只在算损失和准确率时使用**"
   ]
  },
  {
   "cell_type": "code",
   "execution_count": 13,
   "metadata": {},
   "outputs": [],
   "source": [
    "import gc\n",
    "import random\n",
    "\n",
    "from functools import reduce"
   ]
  },
  {
   "cell_type": "code",
   "execution_count": 14,
   "metadata": {},
   "outputs": [],
   "source": [
    "labels_ = labels.ravel()"
   ]
  },
  {
   "cell_type": "code",
   "execution_count": 15,
   "metadata": {},
   "outputs": [],
   "source": [
    "# 构建训练、验证、测试索引集合\n",
    "train_index, valid_index, test_index = [], [], []\n",
    "# 每类取出20个样本\n",
    "for cate in label_dict.values():\n",
    "    indexes = np.arange(node_num)\n",
    "    indexes = indexes[labels_ == cate]\n",
    "    indexes = np.random.choice(indexes, 20, replace=False)\n",
    "    train_index.append(indexes)\n",
    "train_index = np.hstack(train_index)\n",
    "np.random.shuffle(train_index)\n",
    "valid_index = np.random.choice(np.setdiff1d(np.arange(node_num), train_index), 500, replace=False)\n",
    "test_index = np.random.choice(reduce(np.setdiff1d, [np.arange(node_num), train_index, valid_index]), \n",
    "                             1000, replace=False)"
   ]
  },
  {
   "cell_type": "code",
   "execution_count": 16,
   "metadata": {},
   "outputs": [],
   "source": [
    "mask = np.zeros(shape=(node_num))\n",
    "train_mask = mask.copy()\n",
    "valid_mask = mask.copy()\n",
    "test_mask = mask.copy()\n",
    "\n",
    "train_mask[train_index] = 1\n",
    "valid_mask[valid_index] = 1\n",
    "test_mask[test_index] = 1"
   ]
  },
  {
   "cell_type": "markdown",
   "metadata": {},
   "source": [
    "----\n",
    "\n",
    "数据集分割完成\n",
    "\n",
    "---"
   ]
  },
  {
   "cell_type": "code",
   "execution_count": 17,
   "metadata": {},
   "outputs": [
    {
     "name": "stdout",
     "output_type": "stream",
     "text": [
      "======================数据导入完成======================\n"
     ]
    }
   ],
   "source": [
    "# 为方便后续使用，将处理好的数据进行离线保存\n",
    "cora_data = {'features': features, 'labels': labels, 'A': A,\n",
    "       'train_mask': train_mask, 'valid_mask': valid_mask, 'test_mask': test_mask, 'node_num': node_num, \n",
    "       'edge_num': edge_num, 'label_num': label_num, 'feature_dim': feature_dim}\n",
    "\n",
    "import pickle \n",
    "pickle.dump(cora_data, open(os.path.join(data_dir, 'cora_data.pkl'), 'wb'))\n",
    "print('{:=^50}'.format('数据导入完成'))"
   ]
  },
  {
   "cell_type": "code",
   "execution_count": 18,
   "metadata": {},
   "outputs": [
    {
     "data": {
      "text/plain": [
       "{'features': array([[0., 0., 0., ..., 0., 0., 0.],\n",
       "        [0., 0., 0., ..., 0., 0., 0.],\n",
       "        [0., 0., 0., ..., 0., 0., 0.],\n",
       "        ...,\n",
       "        [0., 0., 0., ..., 0., 0., 0.],\n",
       "        [0., 0., 0., ..., 0., 0., 0.],\n",
       "        [0., 0., 0., ..., 0., 0., 0.]], dtype=float32),\n",
       " 'labels': array([[2],\n",
       "        [5],\n",
       "        [4],\n",
       "        ...,\n",
       "        [1],\n",
       "        [0],\n",
       "        [2]]),\n",
       " 'A': array([[1., 0., 0., ..., 0., 0., 0.],\n",
       "        [0., 1., 0., ..., 0., 0., 0.],\n",
       "        [0., 0., 1., ..., 0., 0., 0.],\n",
       "        ...,\n",
       "        [0., 0., 0., ..., 1., 0., 0.],\n",
       "        [0., 0., 0., ..., 0., 1., 0.],\n",
       "        [0., 0., 0., ..., 0., 0., 1.]]),\n",
       " 'train_mask': array([0., 0., 0., ..., 0., 0., 0.]),\n",
       " 'valid_mask': array([0., 0., 0., ..., 1., 0., 0.]),\n",
       " 'test_mask': array([1., 1., 0., ..., 0., 0., 0.]),\n",
       " 'node_num': 2708,\n",
       " 'edge_num': 5429,\n",
       " 'label_num': 7,\n",
       " 'feature_dim': 1433}"
      ]
     },
     "execution_count": 18,
     "metadata": {},
     "output_type": "execute_result"
    }
   ],
   "source": [
    "cora_data"
   ]
  },
  {
   "cell_type": "markdown",
   "metadata": {},
   "source": [
    "# 4. 模型层构建"
   ]
  },
  {
   "cell_type": "markdown",
   "metadata": {},
   "source": [
    "GAT实验设置：\n",
    "\n",
    "- 参数初始化：Glorot\n",
    "- 优化算法：Adam\n",
    "- 学习率：0.005\n",
    "- 提早停止：True\n",
    "- epochs：100\n",
    "- 层数：2\n",
    "- 第一层：8heads，$F\\prime = 8$，64个输出特征，ELU作激活函数\n",
    "- 第二层：1heads，$F\\prime = classes$，$classes$个输出特征，softmax激活函数\n",
    "- 正则化：L2，$\\lambda = 0.0005$\n",
    "- Dropout：0.6，用在每层输入和**规范化注意力系数**\n",
    "\n",
    "GCN实验设置：\n",
    "\n",
    "计算公式：$$Z = softmax(\\hat A ReLU(\\hat A X W^{(0)})W^{(1)}))$$\n",
    "\n",
    "- Dropout：0.5，所有层\n",
    "- 正则化：L2，$\\lambda = 0.0005$，第一层\n",
    "- 隐层数：1\n",
    "- 隐层神经元数：16"
   ]
  },
  {
   "cell_type": "code",
   "execution_count": 29,
   "metadata": {},
   "outputs": [],
   "source": [
    "class GAT_conv(keras.layers.Layer):\n",
    "    def __init__(self, units, \n",
    "                 activation='elu', \n",
    "                 use_bias=False, \n",
    "                 attention_heads=1, \n",
    "                 attention_reduction='concat', \n",
    "                 kernel_regularizer=None,\n",
    "                 bias_regularizer=None, \n",
    "                 attn_kernel_regularizer=None, \n",
    "                 kernel_constraint=None,\n",
    "                 bias_constraint=None, \n",
    "                 attn_kernel_constraint=None,\n",
    "                 dropout_rate=0.6, \n",
    "                 kernel_initializer='glorot_uniform', \n",
    "                 bias_initializer='zeros', \n",
    "                 **kwargs):\n",
    "        self.units = units\n",
    "        self.attention_heads = attention_heads\n",
    "        self.attention_reduction = attention_reduction\n",
    "        self.dropout_rate = dropout_rate\n",
    "        self.kernel_initializer = kernel_initializer\n",
    "        self.use_bias = use_bias\n",
    "        self.bias_initializer = bias_initializer\n",
    "        self.activation = keras.activations.get(activation)\n",
    "        \n",
    "        self.kernel_regularizer = keras.regularizers.get(kernel_regularizer)\n",
    "        self.bias_regularizer = keras.regularizers.get(bias_regularizer)\n",
    "        self.attn_kernel_regularizer = keras.regularizers.get(attn_kernel_regularizer)\n",
    "\n",
    "        self.kernel_constraint = keras.constraints.get(kernel_constraint)\n",
    "        self.bias_constraint = keras.constraints.get(bias_constraint)\n",
    "        self.attn_kernel_constraint = keras.constraints.get(attn_kernel_constraint)\n",
    "        \n",
    "        \n",
    "        if attention_reduction == 'concat':\n",
    "            # concat multi-heads\n",
    "            self.output_dim = self.units * self.attention_heads\n",
    "        else:\n",
    "            # average multi-heads\n",
    "            self.output_dim = self.units\n",
    "        \n",
    "        self.kernels = []\n",
    "        self.bias = []\n",
    "        self.attention_kernels = []\n",
    "        \n",
    "        super().__init__(**kwargs)\n",
    "    \n",
    "    \n",
    "    def build(self, input_shape):\n",
    "        for head in range(self.attention_heads):\n",
    "            kernel = self.add_weight(shape=(input_shape[0][-1], self.units), \n",
    "                                     initializer=self.kernel_initializer,\n",
    "                                     regularizer=self.activity_regularizer,\n",
    "                                     name='kernel_head{}'.format(head))\n",
    "            self.kernels.append(kernel)\n",
    "            if self.use_bias:\n",
    "                bias = self.add_weight(shape=(self.units, ),\n",
    "                                      initializer=self.bias_initializer,\n",
    "                                      regularizer=self.activity_regularizer,\n",
    "                                      name='bias_head{}'.format(head))\n",
    "                self.bias.append(bias)\n",
    "            \n",
    "            attention_kernel_self = self.add_weight(shape=(self.units, 1),\n",
    "                                                   initializer=self.kernel_initializer,\n",
    "                                                   regularizer=self.attn_kernel_regularizer,\n",
    "                                                   constraint=self.attn_kernel_constraint,\n",
    "                                                   name='attention_kernel_self_head{}'.format(head))\n",
    "            attention_kernel_neighbors = self.add_weight(shape=(self.units, 1),\n",
    "                                                         initializer=self.kernel_initializer,\n",
    "                                                         regularizer=self.attn_kernel_regularizer,\n",
    "                                                         constraint=self.attn_kernel_constraint,\n",
    "                                                         name='attention_kernel_neighbors_head{}'.format(head))\n",
    "            self.attention_kernels.append([attention_kernel_self, attention_kernel_neighbors])\n",
    "            self.built = True\n",
    "        \n",
    "    def call(self, inputs, training=False):\n",
    "        X, A = inputs # [nxd, nxn]\n",
    "        outputs = []\n",
    "        for head in range(self.attention_heads):\n",
    "            kernel = self.kernels[head] # dxd'\n",
    "            attention_kernel = self.attention_kernels[head] # [d'x1, d'x1]\n",
    "            \n",
    "            features = X @ kernel # nxd'\n",
    "            attention_self = features @ attention_kernel[0] # nx1\n",
    "            attention_neighbors = features @ attention_kernel[1] # nx1\n",
    "            \n",
    "            \n",
    "            a_weight = attention_self + tf.transpose(attention_neighbors)\n",
    "            a_weight = tf.nn.leaky_relu(a_weight, alpha=0.2)\n",
    "            #  a_weight *= A # 掩码，去掉无连接关系的值\n",
    "            a_weight += -10e9 * (1.0-A) # 处理softmax中的无连接位置的值\n",
    "             \n",
    "            a_weight = tf.nn.softmax(a_weight)\n",
    "            \n",
    "            dropout_attention = keras.layers.Dropout(self.dropout_rate)(a_weight, training=training) # nxn\n",
    "#             dropout_features = keras.layers.Dropout(self.dropout_rate)(features, training=training) # nxd'\n",
    "            dropout_features = keras.layers.Dropout(0.0)(features, training=training) # nxd'\n",
    "\n",
    "            \n",
    "            \n",
    "            node_features = dropout_attention @ dropout_features # nxd'\n",
    "            \n",
    "            if self.use_bias:\n",
    "                node_features += self.bias[head] # nxd'\n",
    "            outputs.append(node_features)\n",
    "            \n",
    "        if self.attention_reduction == 'concat':\n",
    "            output = tf.concat(outputs, axis=1)\n",
    "        else:\n",
    "            output = tf.reduce_mean(outputs, axis=0)\n",
    "        return self.activation(output)\n",
    "    \n",
    "    def compute_output_shape(self, input_shape):\n",
    "        output_shape = input_shape[0][0], self.output_dim\n",
    "        return output_shape"
   ]
  },
  {
   "cell_type": "markdown",
   "metadata": {},
   "source": [
    "# 5. 模型层构建"
   ]
  },
  {
   "cell_type": "code",
   "execution_count": 30,
   "metadata": {},
   "outputs": [],
   "source": [
    "def gat(hidden_size=64, dropout_rate=0.0, att_heads=8, use_bias=True, l2_reg=tf.keras.regularizers.l2(5e-4/2)):\n",
    "    X_input = keras.Input(shape=(feature_dim, ))\n",
    "    A_input = keras.Input(shape=(node_num, ))\n",
    "    \n",
    "    dropout1 = keras.layers.Dropout(dropout_rate)(X_input)\n",
    "    z = GAT_conv(units=hidden_size, activation='elu', dropout_rate=dropout_rate, kernel_regularizer=l2_reg,\n",
    "                 attention_reduction='concat', \n",
    "                 attention_heads=att_heads)([dropout1, A_input])\n",
    "    dropout2 = keras.layers.Dropout(dropout_rate)(z)\n",
    "    z = GAT_conv(units=label_num, activation='softmax', kernel_regularizer=l2_reg,\n",
    "                 attention_reduction='mean', dropout_rate=dropout_rate, \n",
    "                 attention_heads=1)([dropout2, A_input])\n",
    "    model = keras.Model(inputs=[X_input, A_input], outputs=z, name='GAT_model')\n",
    "    return model"
   ]
  },
  {
   "cell_type": "markdown",
   "metadata": {},
   "source": [
    "# 6. 模型编译、训练、评估"
   ]
  },
  {
   "cell_type": "code",
   "execution_count": 21,
   "metadata": {},
   "outputs": [
    {
     "data": {
      "text/plain": [
       "dict_keys(['features', 'labels', 'A', 'train_mask', 'valid_mask', 'test_mask', 'node_num', 'edge_num', 'label_num', 'feature_dim'])"
      ]
     },
     "execution_count": 21,
     "metadata": {},
     "output_type": "execute_result"
    }
   ],
   "source": [
    "cora_data.keys()"
   ]
  },
  {
   "cell_type": "code",
   "execution_count": 22,
   "metadata": {},
   "outputs": [],
   "source": [
    "features = cora_data['features']\n",
    "labels = cora_data['labels']\n",
    "\n",
    "features = tf.convert_to_tensor(features, tf.float32)\n",
    "labels = tf.convert_to_tensor(labels, tf.int32)\n",
    "train_mask = tf.cast(cora_data['train_mask'], tf.float32)\n",
    "val_mask = tf.cast(cora_data['valid_mask'], tf.float32)\n",
    "test_mask = tf.cast(cora_data['test_mask'], tf.float32)"
   ]
  },
  {
   "cell_type": "code",
   "execution_count": 35,
   "metadata": {},
   "outputs": [
    {
     "name": "stdout",
     "output_type": "stream",
     "text": [
      "Epoch 1/1000\n",
      "1/1 - 1s - loss: 0.1102 - acc: 0.1786 - val_loss: 0.3437 - val_acc: 0.3960\n",
      "Epoch 2/1000\n",
      "1/1 - 0s - loss: 0.1030 - acc: 0.2500 - val_loss: 0.3255 - val_acc: 0.4960\n",
      "Epoch 3/1000\n",
      "1/1 - 0s - loss: 0.0951 - acc: 0.3000 - val_loss: 0.3075 - val_acc: 0.5680\n",
      "Epoch 4/1000\n",
      "1/1 - 0s - loss: 0.0922 - acc: 0.3714 - val_loss: 0.2902 - val_acc: 0.6500\n",
      "Epoch 5/1000\n",
      "1/1 - 0s - loss: 0.0881 - acc: 0.4214 - val_loss: 0.2745 - val_acc: 0.7140\n",
      "Epoch 6/1000\n",
      "1/1 - 0s - loss: 0.0864 - acc: 0.4500 - val_loss: 0.2578 - val_acc: 0.7740\n",
      "Epoch 7/1000\n",
      "1/1 - 0s - loss: 0.0795 - acc: 0.5286 - val_loss: 0.2427 - val_acc: 0.7920\n",
      "Epoch 8/1000\n",
      "1/1 - 0s - loss: 0.0719 - acc: 0.5714 - val_loss: 0.2290 - val_acc: 0.7980\n",
      "Epoch 9/1000\n",
      "1/1 - 0s - loss: 0.0758 - acc: 0.5071 - val_loss: 0.2171 - val_acc: 0.7940\n",
      "Epoch 10/1000\n",
      "1/1 - 0s - loss: 0.0706 - acc: 0.5000 - val_loss: 0.2064 - val_acc: 0.7980\n",
      "Epoch 11/1000\n",
      "1/1 - 0s - loss: 0.0610 - acc: 0.6143 - val_loss: 0.1966 - val_acc: 0.7960\n",
      "Epoch 12/1000\n",
      "1/1 - 0s - loss: 0.0612 - acc: 0.5929 - val_loss: 0.1879 - val_acc: 0.8080\n",
      "Epoch 13/1000\n",
      "1/1 - 0s - loss: 0.0658 - acc: 0.5500 - val_loss: 0.1804 - val_acc: 0.8140\n",
      "Epoch 14/1000\n",
      "1/1 - 0s - loss: 0.0642 - acc: 0.5857 - val_loss: 0.1734 - val_acc: 0.8160\n",
      "Epoch 15/1000\n",
      "1/1 - 0s - loss: 0.0624 - acc: 0.5714 - val_loss: 0.1671 - val_acc: 0.8220\n",
      "Epoch 16/1000\n",
      "1/1 - 0s - loss: 0.0586 - acc: 0.6143 - val_loss: 0.1617 - val_acc: 0.8200\n",
      "Epoch 17/1000\n",
      "1/1 - 0s - loss: 0.0648 - acc: 0.5786 - val_loss: 0.1574 - val_acc: 0.8160\n",
      "Epoch 18/1000\n",
      "1/1 - 0s - loss: 0.0623 - acc: 0.6000 - val_loss: 0.1536 - val_acc: 0.8140\n",
      "Epoch 19/1000\n",
      "1/1 - 0s - loss: 0.0573 - acc: 0.5929 - val_loss: 0.1500 - val_acc: 0.8180\n",
      "Epoch 20/1000\n",
      "1/1 - 0s - loss: 0.0580 - acc: 0.6143 - val_loss: 0.1466 - val_acc: 0.8100\n",
      "Epoch 21/1000\n",
      "1/1 - 0s - loss: 0.0494 - acc: 0.7286 - val_loss: 0.1433 - val_acc: 0.8080\n",
      "Epoch 22/1000\n",
      "1/1 - 0s - loss: 0.0596 - acc: 0.6071 - val_loss: 0.1401 - val_acc: 0.8060\n",
      "Epoch 23/1000\n",
      "1/1 - 0s - loss: 0.0507 - acc: 0.6429 - val_loss: 0.1367 - val_acc: 0.8100\n",
      "Epoch 24/1000\n",
      "1/1 - 0s - loss: 0.0493 - acc: 0.6571 - val_loss: 0.1337 - val_acc: 0.8160\n",
      "Epoch 25/1000\n",
      "1/1 - 0s - loss: 0.0532 - acc: 0.6500 - val_loss: 0.1308 - val_acc: 0.8200\n",
      "Epoch 26/1000\n",
      "1/1 - 0s - loss: 0.0450 - acc: 0.7357 - val_loss: 0.1286 - val_acc: 0.8260\n",
      "Epoch 27/1000\n",
      "1/1 - 0s - loss: 0.0563 - acc: 0.6571 - val_loss: 0.1264 - val_acc: 0.8240\n",
      "Epoch 28/1000\n",
      "1/1 - 0s - loss: 0.0473 - acc: 0.7429 - val_loss: 0.1245 - val_acc: 0.8280\n",
      "Epoch 29/1000\n",
      "1/1 - 0s - loss: 0.0476 - acc: 0.6643 - val_loss: 0.1228 - val_acc: 0.8260\n",
      "Epoch 30/1000\n",
      "1/1 - 0s - loss: 0.0403 - acc: 0.7357 - val_loss: 0.1215 - val_acc: 0.8260\n",
      "Epoch 31/1000\n",
      "1/1 - 0s - loss: 0.0487 - acc: 0.6929 - val_loss: 0.1202 - val_acc: 0.8260\n",
      "Epoch 32/1000\n",
      "1/1 - 0s - loss: 0.0457 - acc: 0.7071 - val_loss: 0.1190 - val_acc: 0.8240\n",
      "Epoch 33/1000\n",
      "1/1 - 0s - loss: 0.0420 - acc: 0.6643 - val_loss: 0.1181 - val_acc: 0.8260\n",
      "Epoch 34/1000\n",
      "1/1 - 0s - loss: 0.0497 - acc: 0.6857 - val_loss: 0.1171 - val_acc: 0.8260\n",
      "Epoch 35/1000\n",
      "1/1 - 0s - loss: 0.0522 - acc: 0.6714 - val_loss: 0.1164 - val_acc: 0.8300\n",
      "Epoch 36/1000\n",
      "1/1 - 0s - loss: 0.0498 - acc: 0.7143 - val_loss: 0.1156 - val_acc: 0.8280\n",
      "Epoch 37/1000\n",
      "1/1 - 0s - loss: 0.0507 - acc: 0.6857 - val_loss: 0.1145 - val_acc: 0.8240\n",
      "Epoch 38/1000\n",
      "1/1 - 0s - loss: 0.0463 - acc: 0.6786 - val_loss: 0.1133 - val_acc: 0.8240\n",
      "Epoch 39/1000\n",
      "1/1 - 0s - loss: 0.0404 - acc: 0.7429 - val_loss: 0.1124 - val_acc: 0.8260\n",
      "Epoch 40/1000\n",
      "1/1 - 0s - loss: 0.0454 - acc: 0.6786 - val_loss: 0.1118 - val_acc: 0.8300\n",
      "Epoch 41/1000\n",
      "1/1 - 0s - loss: 0.0465 - acc: 0.6857 - val_loss: 0.1112 - val_acc: 0.8300\n",
      "Epoch 42/1000\n",
      "1/1 - 0s - loss: 0.0499 - acc: 0.6929 - val_loss: 0.1109 - val_acc: 0.8300\n",
      "Epoch 43/1000\n",
      "1/1 - 0s - loss: 0.0448 - acc: 0.6929 - val_loss: 0.1107 - val_acc: 0.8300\n",
      "Epoch 44/1000\n",
      "1/1 - 0s - loss: 0.0431 - acc: 0.7429 - val_loss: 0.1105 - val_acc: 0.8320\n",
      "Epoch 45/1000\n",
      "1/1 - 0s - loss: 0.0385 - acc: 0.7643 - val_loss: 0.1103 - val_acc: 0.8320\n",
      "\n",
      "1/1 - 0s - loss: 0.0080 - acc: 0.9714\n",
      "[0.00803146418184042, 0.9714285731315613]\n",
      "1/1 - 0s - loss: 0.1103 - acc: 0.8320\n",
      "[0.11029516160488129, 0.8320000171661377]\n",
      "1/1 - 0s - loss: 0.2293 - acc: 0.8210\n",
      "[0.22929000854492188, 0.8209999799728394]\n"
     ]
    },
    {
     "data": {
      "text/plain": [
       "<matplotlib.legend.Legend at 0x7fa86c7061f0>"
      ]
     },
     "execution_count": 35,
     "metadata": {},
     "output_type": "execute_result"
    },
    {
     "data": {
      "image/png": "[encoded data removed]",
      "text/plain": [
       "<Figure size 432x288 with 1 Axes>"
      ]
     },
     "metadata": {
      "needs_background": "light"
     },
     "output_type": "display_data"
    }
   ],
   "source": [
    "dropout_rate = 0.7\n",
    "epochs = 1000\n",
    "es_patience = 10\n",
    "es_min_delta = 0.01\n",
    "lr=0.005\n",
    "\n",
    "model = gat(dropout_rate=dropout_rate, use_bias=False)\n",
    "\n",
    "optimizer = keras.optimizers.Adam(lr=lr)\n",
    "model.compile(optimizer=optimizer,\n",
    "              loss='sparse_categorical_crossentropy',\n",
    "              weighted_metrics=['acc'])\n",
    "\n",
    "es_callback = keras.callbacks.EarlyStopping(monitor='val_loss', \n",
    "                                            patience=es_patience, \n",
    "                                            min_delta=es_min_delta)\n",
    "\n",
    "val_data = ([features, A], labels, val_mask)\n",
    "history = model.fit([features, A], labels, sample_weight=train_mask, validation_data=val_data,\n",
    "          batch_size=node_num, epochs=epochs, verbose=2, shuffle=False, callbacks=es_callback)\n",
    "print()\n",
    "for i in [train_mask, val_mask, test_mask]:\n",
    "    print(model.evaluate([features, A], labels, sample_weight=i, batch_size=node_num, verbose=2))\n",
    "\n",
    "for i, item in history.history.items():\n",
    "    plt.plot(item, label=i)\n",
    "plt.legend()"
   ]
  },
  {
   "cell_type": "code",
   "execution_count": 36,
   "metadata": {},
   "outputs": [
    {
     "name": "stdout",
     "output_type": "stream",
     "text": [
      "1/1 - 0s - loss: 0.0080 - acc: 0.9714\n",
      "[0.00803146418184042, 0.9714285731315613]\n",
      "1/1 - 0s - loss: 0.1103 - acc: 0.8320\n",
      "[0.11029516160488129, 0.8320000171661377]\n",
      "1/1 - 0s - loss: 0.2293 - acc: 0.8210\n",
      "[0.22929000854492188, 0.8209999799728394]\n"
     ]
    }
   ],
   "source": [
    "for i in [train_mask, val_mask, test_mask]:\n",
    "    print(model.evaluate([features, A], labels, sample_weight=i, batch_size=node_num, verbose=2))"
   ]
  },
  {
   "cell_type": "markdown",
   "metadata": {},
   "source": [
    "----\n",
    "\n",
    "自定义损失函数、评估函数和训练\n",
    "\n",
    "-----"
   ]
  },
  {
   "cell_type": "code",
   "execution_count": 37,
   "metadata": {},
   "outputs": [],
   "source": [
    "# 构建损失函数、评估（准确率）函数\n",
    "def masked_sparse_cross_entropy(preds, labels, mask):\n",
    "    \"\"\"预测结果是概率形式，标签是正确类型，计算\"\"\"\n",
    "    mask = tf.cast(mask, tf.bool)\n",
    "    loss = - tf.math.log(tf.clip_by_value(preds[mask], 1e-7, 1)) * tf.one_hot(tf.reshape(labels[mask], shape=(-1, )), 7)\n",
    "    loss = tf.reduce_sum(loss, axis=1)\n",
    "    loss = tf.reduce_mean(loss)\n",
    "    '''\n",
    "    或者\n",
    "    keras.losses.SparseCategoricalCrossentropy(from_logits=False)(labels[mask], preds[mask])\n",
    "    '''\n",
    "    return loss\n",
    "\n",
    "def masked_accuracy(preds, labels, mask):\n",
    "    \"\"\"Accuracy with masking.\"\"\"\n",
    "    mask = tf.cast(mask, tf.bool)\n",
    "    correct = tf.equal(tf.cast(tf.argmax(preds[mask], axis=1), dtype=tf.int32), tf.reshape(labels[mask], shape=(-1, )))\n",
    "    correct = tf.cast(correct, tf.float32)\n",
    "    return tf.reduce_mean(correct)"
   ]
  },
  {
   "cell_type": "code",
   "execution_count": 43,
   "metadata": {},
   "outputs": [
    {
     "name": "stdout",
     "output_type": "stream",
     "text": [
      "====================Start of 1====================\n",
      "acc: 0.3499999940395355 - loss: 1.802678108215332 - val_acc: 0.29600000381469727 - val_loss: 1.833546757698059\n",
      "====================Start of 2====================\n",
      "acc: 0.6428571343421936 - loss: 1.6457849740982056 - val_acc: 0.5600000023841858 - val_loss: 1.7034459114074707\n",
      "====================Start of 3====================\n",
      "acc: 0.800000011920929 - loss: 1.4932714700698853 - val_acc: 0.722000002861023 - val_loss: 1.5808579921722412\n",
      "====================Start of 4====================\n",
      "acc: 0.8285714387893677 - loss: 1.3525491952896118 - val_acc: 0.7480000257492065 - val_loss: 1.4678640365600586\n",
      "====================Start of 5====================\n",
      "acc: 0.8500000238418579 - loss: 1.2229682207107544 - val_acc: 0.7580000162124634 - val_loss: 1.364629864692688\n",
      "====================Start of 6====================\n",
      "acc: 0.8714285492897034 - loss: 1.1019967794418335 - val_acc: 0.7839999794960022 - val_loss: 1.2727385759353638\n",
      "====================Start of 7====================\n",
      "acc: 0.8857142925262451 - loss: 0.9938375353813171 - val_acc: 0.8040000200271606 - val_loss: 1.1935070753097534\n",
      "====================Start of 8====================\n",
      "acc: 0.8928571343421936 - loss: 0.8977862000465393 - val_acc: 0.8159999847412109 - val_loss: 1.1264190673828125\n",
      "====================Start of 9====================\n",
      "acc: 0.9142857193946838 - loss: 0.8147887587547302 - val_acc: 0.8100000023841858 - val_loss: 1.070949673652649\n",
      "===================Start of 10====================\n",
      "acc: 0.9142857193946838 - loss: 0.743135929107666 - val_acc: 0.8119999766349792 - val_loss: 1.0236412286758423\n",
      "===================Start of 11====================\n",
      "acc: 0.9142857193946838 - loss: 0.6813100576400757 - val_acc: 0.8140000104904175 - val_loss: 0.9829191565513611\n",
      "===================Start of 12====================\n",
      "acc: 0.9142857193946838 - loss: 0.6266961097717285 - val_acc: 0.8199999928474426 - val_loss: 0.9440868496894836\n",
      "===================Start of 13====================\n",
      "acc: 0.9142857193946838 - loss: 0.578193724155426 - val_acc: 0.8180000185966492 - val_loss: 0.9104682803153992\n",
      "===================Start of 14====================\n",
      "acc: 0.9142857193946838 - loss: 0.5344971418380737 - val_acc: 0.8220000267028809 - val_loss: 0.8757185935974121\n",
      "===================Start of 15====================\n",
      "acc: 0.9214285612106323 - loss: 0.49527183175086975 - val_acc: 0.8220000267028809 - val_loss: 0.8442755937576294\n",
      "===================Start of 16====================\n",
      "acc: 0.9214285612106323 - loss: 0.4603550434112549 - val_acc: 0.8259999752044678 - val_loss: 0.8146970868110657\n",
      "===================Start of 17====================\n",
      "acc: 0.9285714030265808 - loss: 0.42799079418182373 - val_acc: 0.828000009059906 - val_loss: 0.7852447032928467\n",
      "===================Start of 18====================\n",
      "acc: 0.9357143044471741 - loss: 0.4010937809944153 - val_acc: 0.8259999752044678 - val_loss: 0.7596809267997742\n",
      "===================Start of 19====================\n",
      "acc: 0.9428571462631226 - loss: 0.3779476583003998 - val_acc: 0.8299999833106995 - val_loss: 0.738214373588562\n",
      "===================Start of 20====================\n",
      "acc: 0.9428571462631226 - loss: 0.3590986132621765 - val_acc: 0.8299999833106995 - val_loss: 0.7209241986274719\n",
      "===================Start of 21====================\n",
      "acc: 0.949999988079071 - loss: 0.34284520149230957 - val_acc: 0.8259999752044678 - val_loss: 0.7052546143531799\n",
      "===================Start of 22====================\n",
      "acc: 0.949999988079071 - loss: 0.3280024528503418 - val_acc: 0.8259999752044678 - val_loss: 0.6922190189361572\n",
      "===================Start of 23====================\n",
      "acc: 0.949999988079071 - loss: 0.31467723846435547 - val_acc: 0.828000009059906 - val_loss: 0.6823118329048157\n",
      "===================Start of 24====================\n",
      "acc: 0.949999988079071 - loss: 0.30282825231552124 - val_acc: 0.8240000009536743 - val_loss: 0.6754551529884338\n",
      "===================Start of 25====================\n",
      "acc: 0.949999988079071 - loss: 0.29109206795692444 - val_acc: 0.8240000009536743 - val_loss: 0.6682265996932983\n",
      "===================Start of 26====================\n",
      "acc: 0.949999988079071 - loss: 0.2789943516254425 - val_acc: 0.8220000267028809 - val_loss: 0.6610673666000366\n",
      "===================Start of 27====================\n",
      "acc: 0.949999988079071 - loss: 0.2672204077243805 - val_acc: 0.8259999752044678 - val_loss: 0.6537761092185974\n",
      "===================Start of 28====================\n",
      "acc: 0.9571428298950195 - loss: 0.25533103942871094 - val_acc: 0.8220000267028809 - val_loss: 0.6458457112312317\n",
      "===================Start of 29====================\n",
      "acc: 0.9642857313156128 - loss: 0.24515356123447418 - val_acc: 0.8199999928474426 - val_loss: 0.6404195427894592\n",
      "===================Start of 30====================\n",
      "acc: 0.9642857313156128 - loss: 0.23539376258850098 - val_acc: 0.8240000009536743 - val_loss: 0.6356900930404663\n",
      "===================Start of 31====================\n",
      "acc: 0.9642857313156128 - loss: 0.22634708881378174 - val_acc: 0.8220000267028809 - val_loss: 0.6319555044174194\n",
      "===================Start of 32====================\n",
      "acc: 0.9714285731315613 - loss: 0.21846437454223633 - val_acc: 0.8240000009536743 - val_loss: 0.6293426752090454\n",
      "===================Start of 33====================\n",
      "acc: 0.9714285731315613 - loss: 0.21131084859371185 - val_acc: 0.8240000009536743 - val_loss: 0.6273075938224792\n",
      "===================Start of 34====================\n",
      "acc: 0.9714285731315613 - loss: 0.20428958535194397 - val_acc: 0.8240000009536743 - val_loss: 0.6271194815635681\n",
      "===================Start of 35====================\n",
      "acc: 0.9714285731315613 - loss: 0.19772924482822418 - val_acc: 0.8259999752044678 - val_loss: 0.6261724829673767\n",
      "===================Start of 36====================\n",
      "acc: 0.9714285731315613 - loss: 0.19134590029716492 - val_acc: 0.8220000267028809 - val_loss: 0.62605881690979\n",
      "===================Start of 37====================\n",
      "acc: 0.9714285731315613 - loss: 0.18454627692699432 - val_acc: 0.8220000267028809 - val_loss: 0.6240456700325012\n",
      "===================Start of 38====================\n",
      "acc: 0.9714285731315613 - loss: 0.17735174298286438 - val_acc: 0.8220000267028809 - val_loss: 0.6207413673400879\n",
      "===================Start of 39====================\n",
      "acc: 0.9714285731315613 - loss: 0.1701965481042862 - val_acc: 0.8199999928474426 - val_loss: 0.6156331300735474\n",
      "===================Start of 40====================\n",
      "acc: 0.9714285731315613 - loss: 0.16406677663326263 - val_acc: 0.8220000267028809 - val_loss: 0.6121153831481934\n",
      "===================Start of 41====================\n",
      "acc: 0.9714285731315613 - loss: 0.1592549979686737 - val_acc: 0.8220000267028809 - val_loss: 0.60965496301651\n",
      "===================Start of 42====================\n",
      "acc: 0.9714285731315613 - loss: 0.1544794738292694 - val_acc: 0.8240000009536743 - val_loss: 0.605790913105011\n",
      "===================Start of 43====================\n",
      "acc: 0.9714285731315613 - loss: 0.14982789754867554 - val_acc: 0.8240000009536743 - val_loss: 0.6017941236495972\n",
      "===================Start of 44====================\n",
      "acc: 0.9714285731315613 - loss: 0.1454673558473587 - val_acc: 0.8220000267028809 - val_loss: 0.6005094051361084\n",
      "===================Start of 45====================\n",
      "acc: 0.9714285731315613 - loss: 0.14107856154441833 - val_acc: 0.8199999928474426 - val_loss: 0.5985434651374817\n",
      "===================Start of 46====================\n",
      "acc: 0.9714285731315613 - loss: 0.13677695393562317 - val_acc: 0.8220000267028809 - val_loss: 0.5962916612625122\n",
      "===================Start of 47====================\n",
      "acc: 0.9714285731315613 - loss: 0.1327371895313263 - val_acc: 0.8220000267028809 - val_loss: 0.5947348475456238\n",
      "===================Start of 48====================\n",
      "acc: 0.9714285731315613 - loss: 0.12906962633132935 - val_acc: 0.8159999847412109 - val_loss: 0.5939707159996033\n",
      "===================Start of 49====================\n",
      "acc: 0.9714285731315613 - loss: 0.12557443976402283 - val_acc: 0.8180000185966492 - val_loss: 0.5936993360519409\n",
      "===================Start of 50====================\n",
      "acc: 0.9714285731315613 - loss: 0.12215553224086761 - val_acc: 0.8199999928474426 - val_loss: 0.5925429463386536\n",
      "test_acc： 0.816\n"
     ]
    },
    {
     "data": {
      "text/plain": [
       "<matplotlib.legend.Legend at 0x7fa83059db80>"
      ]
     },
     "execution_count": 43,
     "metadata": {},
     "output_type": "execute_result"
    },
    {
     "data": {
      "image/png": "[encoded data removed]",
      "text/plain": [
       "<Figure size 432x288 with 1 Axes>"
      ]
     },
     "metadata": {
      "needs_background": "light"
     },
     "output_type": "display_data"
    }
   ],
   "source": [
    "dropout_rate = 0.7\n",
    "\n",
    "model = gat(dropout_rate=dropout_rate, use_bias=False)\n",
    "\n",
    "optimizer = keras.optimizers.Adam(learning_rate=0.005)\n",
    "train_accs = []\n",
    "val_accs = []\n",
    "train_losses = []\n",
    "val_losses = []\n",
    "for epoch in range(50):\n",
    "    with tf.GradientTape() as tape:\n",
    "        logits = model([features, A], training=True)\n",
    "        loss = masked_sparse_cross_entropy(logits, labels, train_mask)\n",
    "    grads = tape.gradient(loss, model.trainable_weights)\n",
    "    optimizer.apply_gradients(zip(grads, model.trainable_weights))\n",
    "#     if epoch % 10 == 0:\n",
    "    print('{:=^50}'.format(f'Start of {epoch+1}'))\n",
    "    \n",
    "\n",
    "    # 计算准确率时，关掉dropout\n",
    "    logits = model([features, A], training=False)\n",
    "    loss = masked_sparse_cross_entropy(logits, labels, train_mask)\n",
    "    acc = masked_accuracy(logits, labels, train_mask)\n",
    "    train_accs.append(acc.numpy())\n",
    "    train_losses.append(loss.numpy())\n",
    "    val_acc = masked_accuracy(logits, labels, val_mask)\n",
    "    val_loss = masked_sparse_cross_entropy(logits, labels, val_mask)\n",
    "    val_accs.append(val_acc.numpy())\n",
    "    val_losses.append(val_loss.numpy())\n",
    "    print(f'acc: {acc.numpy()} - loss: {loss} - '\n",
    "          f'val_acc: {val_acc.numpy()} - val_loss: {val_loss}')\n",
    "\n",
    "logits = model([features, A], training=False)\n",
    "acc_test = masked_accuracy(logits, labels, test_mask)\n",
    "print('test_acc：', acc_test.numpy())\n",
    "\n",
    "import matplotlib.pyplot as plt\n",
    "plt.plot(train_accs)\n",
    "plt.plot(val_accs)\n",
    "plt.legend(['train_acc', 'val_acc'], loc='best')"
   ]
  },
  {
   "cell_type": "code",
   "execution_count": 44,
   "metadata": {},
   "outputs": [
    {
     "name": "stdout",
     "output_type": "stream",
     "text": [
      "Model: \"GAT_model\"\n",
      "__________________________________________________________________________________________________\n",
      "Layer (type)                    Output Shape         Param #     Connected to                     \n",
      "==================================================================================================\n",
      "input_25 (InputLayer)           [(None, 1433)]       0                                            \n",
      "__________________________________________________________________________________________________\n",
      "dropout_10748 (Dropout)         (None, 1433)         0           input_25[0][0]                   \n",
      "__________________________________________________________________________________________________\n",
      "input_26 (InputLayer)           [(None, 2708)]       0                                            \n",
      "__________________________________________________________________________________________________\n",
      "gat_conv_24 (GAT_conv)          (None, 512)          734720      dropout_10748[0][0]              \n",
      "                                                                 input_26[0][0]                   \n",
      "__________________________________________________________________________________________________\n",
      "dropout_10749 (Dropout)         (None, 512)          0           gat_conv_24[0][0]                \n",
      "__________________________________________________________________________________________________\n",
      "gat_conv_25 (GAT_conv)          (None, 7)            3598        dropout_10749[0][0]              \n",
      "                                                                 input_26[0][0]                   \n",
      "==================================================================================================\n",
      "Total params: 738,318\n",
      "Trainable params: 738,318\n",
      "Non-trainable params: 0\n",
      "__________________________________________________________________________________________________\n"
     ]
    }
   ],
   "source": [
    "model.summary()"
   ]
  }
 ],
 "metadata": {
  "kernelspec": {
   "display_name": "Python 3",
   "language": "python",
   "name": "python3"
  },
  "language_info": {
   "codemirror_mode": {
    "name": "ipython",
    "version": 3
   },
   "file_extension": ".py",
   "mimetype": "text/x-python",
   "name": "python",
   "nbconvert_exporter": "python",
   "pygments_lexer": "ipython3",
   "version": "3.8.3"
  }
 },
 "nbformat": 4,
 "nbformat_minor": 4
}
