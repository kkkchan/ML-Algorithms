{
 "cells": [
  {
   "cell_type": "markdown",
   "metadata": {},
   "source": [
    "# 用Tensorflow2实现GCN"
   ]
  },
  {
   "cell_type": "code",
   "execution_count": 1,
   "metadata": {},
   "outputs": [],
   "source": [
    "import os \n",
    "import numpy as np\n",
    "import matplotlib.pyplot as plt\n",
    "import scipy.sparse as sp\n",
    "import networkx as nx\n",
    "\n",
    "import tensorflow as tf\n",
    "from tensorflow import keras"
   ]
  },
  {
   "cell_type": "markdown",
   "metadata": {},
   "source": [
    "## 1. 导入数据（**同质有向属性图**）\n",
    "\n",
    "采用Cora数据集。该数据集是一个论文图，共2708个节点，，每个节点都是一篇论文，所有样本点被分为7类别：\n",
    "\n",
    "1. Case_Based\n",
    "2. Genetic_Algorithms\n",
    "3. Neural_Networks\n",
    "4. Probabilistic_Methods\n",
    "5. Reinforcement_Learning\n",
    "6. Rule_Learning\n",
    "7. Theory\n",
    "\n",
    "每篇论文都由一个**1433维的词向量表**示，即节点特征维度为1433。词向量的每个特征都对应一个词，取0表示该特征对应的词不在论文中，取1则表示在论文中。每篇论文都至少引用了一篇其他论文，或者被其他论文引用，这是一个连通图，不存在孤立点。\n",
    "\n",
    "**图属性**：\n",
    "\n",
    "- **节点数**：2708\n",
    "- **边数**：5429\n",
    "\n",
    "目的：通过GCN和图结构学习各节点的表示，然后进行**节点分类任务**"
   ]
  },
  {
   "cell_type": "code",
   "execution_count": 2,
   "metadata": {},
   "outputs": [],
   "source": [
    "content_path = '../datasets/cora/cora.content'\n",
    "cite_path = '../datasets/cora/cora.cites'"
   ]
  },
  {
   "cell_type": "code",
   "execution_count": 3,
   "metadata": {},
   "outputs": [
    {
     "data": {
      "text/plain": [
       "(True, True)"
      ]
     },
     "execution_count": 3,
     "metadata": {},
     "output_type": "execute_result"
    }
   ],
   "source": [
    "os.path.exists(content_path), os.path.exists(cite_path)"
   ]
  },
  {
   "cell_type": "markdown",
   "metadata": {},
   "source": [
    "原始数据分别存于变量`contents`, `cites`"
   ]
  },
  {
   "cell_type": "code",
   "execution_count": 20,
   "metadata": {},
   "outputs": [],
   "source": [
    "with open(content_path, 'r') as f:\n",
    "    contents = f.readlines()\n",
    "with open(cite_path, 'r') as f:\n",
    "    cites = f.readlines()\n",
    "contents = np.array([l.strip().split('\\t') for l in contents])\n",
    "cites_raw = np.array([i.strip().split('\\t') for i in cites])"
   ]
  },
  {
   "cell_type": "code",
   "execution_count": 21,
   "metadata": {
    "scrolled": true
   },
   "outputs": [
    {
     "data": {
      "text/plain": [
       "(array([['31336', '0', '0', ..., '0', '0', 'Neural_Networks'],\n",
       "        ['1061127', '0', '0', ..., '0', '0', 'Rule_Learning'],\n",
       "        ['1106406', '0', '0', ..., '0', '0', 'Reinforcement_Learning'],\n",
       "        ...,\n",
       "        ['1128978', '0', '0', ..., '0', '0', 'Genetic_Algorithms'],\n",
       "        ['117328', '0', '0', ..., '0', '0', 'Case_Based'],\n",
       "        ['24043', '0', '0', ..., '0', '0', 'Neural_Networks']],\n",
       "       dtype='<U22'),\n",
       " array([['35', '1033'],\n",
       "        ['35', '103482'],\n",
       "        ['35', '103515'],\n",
       "        ...,\n",
       "        ['853118', '1140289'],\n",
       "        ['853155', '853118'],\n",
       "        ['954315', '1155073']], dtype='<U7'))"
      ]
     },
     "execution_count": 21,
     "metadata": {},
     "output_type": "execute_result"
    }
   ],
   "source": [
    "contents, cites_raw"
   ]
  },
  {
   "cell_type": "code",
   "execution_count": 34,
   "metadata": {},
   "outputs": [
    {
     "data": {
      "text/plain": [
       "((2708, 1435), (5429, 2))"
      ]
     },
     "execution_count": 34,
     "metadata": {},
     "output_type": "execute_result"
    }
   ],
   "source": [
    "contents.shape, cites_raw.shape"
   ]
  },
  {
   "cell_type": "markdown",
   "metadata": {},
   "source": [
    "## 2. 数据预处理\n",
    "\n",
    "对原始数据进行预处理，提取有效信息"
   ]
  },
  {
   "cell_type": "code",
   "execution_count": 156,
   "metadata": {},
   "outputs": [],
   "source": [
    "# 分割数据，第二个参数是分割点，也可以使用np.hsplit，就不用指定axis\n",
    "papers_raw, features_raw, labels_raw = np.split(contents, [1, -1], axis=1)"
   ]
  },
  {
   "cell_type": "code",
   "execution_count": 157,
   "metadata": {},
   "outputs": [
    {
     "data": {
      "text/plain": [
       "((2708, 1), (2708, 1433), (2708, 1))"
      ]
     },
     "execution_count": 157,
     "metadata": {},
     "output_type": "execute_result"
    }
   ],
   "source": [
    "papers_raw.shape, features_raw.shape, labels_raw.shape"
   ]
  },
  {
   "cell_type": "code",
   "execution_count": 208,
   "metadata": {},
   "outputs": [],
   "source": [
    "features = features_raw.astype(np.float32)"
   ]
  },
  {
   "cell_type": "markdown",
   "metadata": {},
   "source": [
    "建立一个**映射字典**，值为自然序数，键为论文代号\n",
    "\n",
    "同样建立一个字典，值为自然序数，键为论文类别"
   ]
  },
  {
   "cell_type": "code",
   "execution_count": 18,
   "metadata": {},
   "outputs": [],
   "source": [
    "paper_dict = {key:value for value, key in enumerate(np.squeeze(papers_raw))}\n",
    "label_dict = {key:value for value, key in enumerate(np.unique(np.squeeze(labels_raw)))}"
   ]
  },
  {
   "cell_type": "markdown",
   "metadata": {},
   "source": [
    "将论文和论文类别通过字典进行映射，同时将引用中的论文也通过字典进行映射"
   ]
  },
  {
   "cell_type": "code",
   "execution_count": 443,
   "metadata": {},
   "outputs": [],
   "source": [
    "papers = np.array([[paper_dict[key]] for key in papers_raw.reshape(-1)])\n",
    "labels = np.array([[label_dict[key]] for key in labels_raw.reshape(-1)])"
   ]
  },
  {
   "cell_type": "code",
   "execution_count": 22,
   "metadata": {},
   "outputs": [],
   "source": [
    "cites = np.array([[paper_dict[i[0]], paper_dict[i[1]]] for i in cites_raw])"
   ]
  },
  {
   "cell_type": "markdown",
   "metadata": {},
   "source": [
    "引用数据为单向的，为了构建**双向边**，将引用数据反转一次边后连接起来，此时边数变为了原来的两倍"
   ]
  },
  {
   "cell_type": "code",
   "execution_count": 38,
   "metadata": {},
   "outputs": [],
   "source": [
    "node_num = len(papers)\n",
    "label_num = len(label_dict.keys())\n",
    "feature_dim = features.shape[1]\n",
    "edge_num = len(cites)"
   ]
  },
  {
   "cell_type": "code",
   "execution_count": 39,
   "metadata": {},
   "outputs": [
    {
     "name": "stdout",
     "output_type": "stream",
     "text": [
      "============图数据信息=============\n",
      "节点数量： 2708\n",
      "边数量： 5429\n",
      "特征维数： 1433\n",
      "标签种类数量： 7\n",
      "标签种类：\n",
      "     - Case_Based\n",
      "     - Genetic_Algorithms\n",
      "     - Neural_Networks\n",
      "     - Probabilistic_Methods\n",
      "     - Reinforcement_Learning\n",
      "     - Rule_Learning\n",
      "     - Theory\n"
     ]
    }
   ],
   "source": [
    "print('{:=^30}'.format('图数据信息'))\n",
    "print('节点数量：', node_num)\n",
    "print('边数量：', edge_num)\n",
    "print('特征维数：', feature_dim)\n",
    "print('标签类别数量：', label_num)\n",
    "print('标签类别：')\n",
    "for label in label_dict.keys():\n",
    "    print('{: <5}- {:<}'.format('', label))"
   ]
  },
  {
   "cell_type": "markdown",
   "metadata": {},
   "source": [
    "## 3. 构造特定数据\n",
    "\n",
    "### 3.1 构造图相关数据\n",
    "通过networx构建图数据，便于快速得到邻接矩阵和其它图上数据"
   ]
  },
  {
   "cell_type": "code",
   "execution_count": 40,
   "metadata": {},
   "outputs": [],
   "source": [
    "G = nx.Graph()\n",
    "G.add_nodes_from(range(len(papers)))\n",
    "G.add_edges_from(cites)\n",
    "adj_matrix = nx.adjacency_matrix(G)"
   ]
  },
  {
   "cell_type": "code",
   "execution_count": 44,
   "metadata": {
    "scrolled": true
   },
   "outputs": [
    {
     "data": {
      "text/plain": [
       "((2708, 2708), scipy.sparse.csr.csr_matrix)"
      ]
     },
     "execution_count": 44,
     "metadata": {},
     "output_type": "execute_result"
    }
   ],
   "source": [
    "adj_matrix.shape, type(adj_matrix)"
   ]
  },
  {
   "cell_type": "code",
   "execution_count": 42,
   "metadata": {},
   "outputs": [
    {
     "data": {
      "text/plain": [
       "array([5, 1, 4, ..., 4, 4, 3], dtype=int64)"
      ]
     },
     "execution_count": 42,
     "metadata": {},
     "output_type": "execute_result"
    }
   ],
   "source": [
    "np.array(adj_matrix.sum(axis=0)).flatten()"
   ]
  },
  {
   "cell_type": "markdown",
   "metadata": {},
   "source": [
    "### 3.2 构造正规化邻居矩阵\n",
    "\n",
    "邻接矩阵**正规化函数**，返回值对应论文中的：\n",
    "$$\n",
    "\\hat A = D^{-1/2}(A+I)D^{-1/2}\n",
    "$$"
   ]
  },
  {
   "cell_type": "code",
   "execution_count": 65,
   "metadata": {},
   "outputs": [],
   "source": [
    "A = adj_matrix.toarray()\n",
    "D_ = np.diag(np.power(A.sum(axis=0), -0.5))\n",
    "A_hat = D_ @ (A + np.eye(A.shape[0])) @ D_"
   ]
  },
  {
   "cell_type": "markdown",
   "metadata": {},
   "source": [
    "## 4. 数据分割\n",
    "\n",
    "由于图数据的特殊性，无法直接进行分割，需要通过掩码的方式，按照6:2:2分为训练集、验证集、测试集"
   ]
  },
  {
   "cell_type": "code",
   "execution_count": 82,
   "metadata": {},
   "outputs": [
    {
     "name": "stdout",
     "output_type": "stream",
     "text": [
      "节点数：2708\n"
     ]
    }
   ],
   "source": [
    "print(f'节点数：{node_num}')"
   ]
  },
  {
   "cell_type": "code",
   "execution_count": 560,
   "metadata": {},
   "outputs": [],
   "source": [
    "train_mask = np.zeros(node_num, dtype=np.uint8)\n",
    "val_mask = np.zeros(node_num, dtype=np.uint8)\n",
    "test_mask = np.zeros(node_num, dtype=np.uint8)\n",
    "pivot1, pivot2 = int(0.6 * node_num), int(0.8 * node_num)\n",
    "train_mask[:pivot1] = 1\n",
    "val_mask[pivot1:pivot2] = 1\n",
    "test_mask[pivot2:] = 1\n",
    "train_mask = tf.cast(train_mask, tf.bool)\n",
    "val_mask = tf.cast(val_mask, tf.bool)\n",
    "test_mask = tf.cast(test_mask, tf.bool)"
   ]
  },
  {
   "cell_type": "markdown",
   "metadata": {},
   "source": [
    "## 5. 模型构建\n",
    "\n",
    "Tensorflow中暂时没有图神经网络的调用层或模型，需要自己进行实现\n",
    "\n",
    "### 5.1 GCN模型层构造"
   ]
  },
  {
   "cell_type": "markdown",
   "metadata": {},
   "source": [
    "计算：\n",
    "状态转移方程\n",
    "$$\n",
    "H^n = \\sigma(\\hat A H^{n-1} W^{n-1})\n",
    "$$\n",
    "其中$\\hat A$为正规化邻接矩阵，计算如下：\n",
    "$$\n",
    "\\hat A = D^{-1/2}(A+I)D^{-1/2}\n",
    "$$"
   ]
  },
  {
   "cell_type": "code",
   "execution_count": 85,
   "metadata": {},
   "outputs": [],
   "source": [
    "class GCN_conv(keras.layers.Layer):\n",
    "    def __init__(self, units, activation, **kwargs):\n",
    "        super().__init__(**kwargs)\n",
    "        self.units = units\n",
    "        self.activation = keras.activations.get(activation)\n",
    "        \n",
    "    def build(self, input_shape):\n",
    "        self.W = self.add_weight(shape=(input_shape[-1], self.units),\n",
    "                                initializer='random_normal', trainable=True)\n",
    "        self.b = self.add_weight(shape=(self.units, ),\n",
    "                                initializer='random_normal', trainable=True)\n",
    "        \n",
    "    def call(self, inputs, A_hat):\n",
    "        return self.activation(A_hat @ inputs @ self.W + self.b)"
   ]
  },
  {
   "cell_type": "markdown",
   "metadata": {},
   "source": [
    "### 5.2 GCN模型构造\n",
    "\n",
    "通过keras的模型构造方式构造即可"
   ]
  },
  {
   "cell_type": "code",
   "execution_count": 628,
   "metadata": {},
   "outputs": [],
   "source": [
    "class GCN(keras.Model):\n",
    "    def __init__(self, A_hat, input_shape, output_units, hidden_nums, activations, **kwargs):\n",
    "        super().__init__(**kwargs)\n",
    "        self.A_hat = A_hat\n",
    "        self.input_layer = keras.layers.Input(shape=input_shape)\n",
    "        self.gcn_conv = []\n",
    "        self.drop_out = []\n",
    "        for units, activation in zip(hidden_nums, activations):\n",
    "            self.gcn_conv.append(GCN_conv(units, activation))\n",
    "            self.drop_out.append(keras.layers.Dropout(0.2))\n",
    "        self.dense = keras.layers.Dense(units=output_units, activation='softmax')\n",
    "        \n",
    "    def call(self, X):\n",
    "        z = X\n",
    "        for i in range(len(self.gcn_conv)):\n",
    "            z = self.gcn_conv[i](z, self.A_hat)\n",
    "            z = self.drop_out[i](z)\n",
    "        \n",
    "#         for gcn_conv, drop_out in zip(self.gcn_conv, self.drop_out):\n",
    "#             z = gcn_conv(z, self.A_hat)\n",
    "#             z = drop_out(z)\n",
    "        z = self.dense(z)\n",
    "        return z"
   ]
  },
  {
   "cell_type": "markdown",
   "metadata": {},
   "source": [
    "## 6. 模型训练与评估\n",
    "\n",
    "先构造两个函数，损失函数和准确率函数，之后简单的定义一下训练结构，进行训练、评估、可视化"
   ]
  },
  {
   "cell_type": "markdown",
   "metadata": {},
   "source": [
    "### 6.1 构建损失函数和评估指标\n",
    "\n",
    "损失函数选择多元交叉熵，评估指标为准确率"
   ]
  },
  {
   "cell_type": "code",
   "execution_count": 592,
   "metadata": {},
   "outputs": [],
   "source": [
    "def masked_sparse_cross_entropy(preds, labels, mask):\n",
    "    \"\"\"预测结果是概率形式，标签是正确类型，计算\"\"\"\n",
    "    loss = - tf.math.log(tf.clip_by_value(preds[mask], 1e-7, 1)) * tf.one_hot(labels[mask].ravel(), 7)\n",
    "    loss = tf.reduce_sum(loss, axis=1)\n",
    "    loss = tf.reduce_mean(loss)\n",
    "    '''\n",
    "    或者\n",
    "    keras.losses.SparseCategoricalCrossentropy(from_logits=False)(labels[mask], preds[mask])\n",
    "    '''\n",
    "    return loss\n",
    "\n",
    "def masked_accuracy(preds, labels, mask):\n",
    "    \"\"\"Accuracy with masking.\"\"\"\n",
    "    correct = tf.equal(tf.argmax(preds[mask], axis=1), labels[mask].ravel())\n",
    "    correct = tf.cast(correct, tf.float32)\n",
    "    return tf.reduce_mean(correct)"
   ]
  },
  {
   "cell_type": "code",
   "execution_count": 631,
   "metadata": {},
   "outputs": [
    {
     "name": "stdout",
     "output_type": "stream",
     "text": [
      "==========Start of 1==========\n",
      "训练集准确率： 0.18780789; 验证集准确率： 0.199262\n",
      "==========Start of 2==========\n",
      "训练集准确率： 0.30788177; 验证集准确率： 0.28597787\n",
      "==========Start of 3==========\n",
      "训练集准确率： 0.16502462; 验证集准确率： 0.19557196\n",
      "==========Start of 4==========\n",
      "训练集准确率： 0.38916257; 验证集准确率： 0.4298893\n",
      "==========Start of 5==========\n",
      "训练集准确率： 0.42179802; 验证集准确率： 0.4501845\n",
      "==========Start of 6==========\n",
      "训练集准确率： 0.5504926; 验证集准确率： 0.55535054\n",
      "==========Start of 7==========\n",
      "训练集准确率： 0.58928573; 验证集准确率： 0.5867159\n",
      "==========Start of 8==========\n",
      "训练集准确率： 0.6656404; 验证集准确率： 0.6715867\n",
      "==========Start of 9==========\n",
      "训练集准确率： 0.682266; 验证集准确率： 0.69926196\n",
      "=========Start of 10==========\n",
      "训练集准确率： 0.72167486; 验证集准确率： 0.71955717\n",
      "=========Start of 11==========\n",
      "训练集准确率： 0.7924877; 验证集准确率： 0.78044283\n",
      "=========Start of 12==========\n",
      "训练集准确率： 0.8368227; 验证集准确率： 0.7933579\n",
      "=========Start of 13==========\n",
      "训练集准确率： 0.8528325; 验证集准确率： 0.8173432\n",
      "=========Start of 14==========\n",
      "训练集准确率： 0.8756158; 验证集准确率： 0.82656825\n",
      "=========Start of 15==========\n",
      "训练集准确率： 0.8866995; 验证集准确率： 0.8302583\n",
      "=========Start of 16==========\n",
      "训练集准确率： 0.8934729; 验证集准确率： 0.8523985\n",
      "=========Start of 17==========\n",
      "训练集准确率： 0.90270936; 验证集准确率： 0.8505535\n",
      "=========Start of 18==========\n",
      "训练集准确率： 0.9082512; 验证集准确率： 0.8487085\n",
      "=========Start of 19==========\n",
      "训练集准确率： 0.9168719; 验证集准确率： 0.84317344\n",
      "=========Start of 20==========\n",
      "训练集准确率： 0.91440886; 验证集准确率： 0.8523985\n",
      "=========Start of 21==========\n",
      "训练集准确率： 0.91071427; 验证集准确率： 0.84132844\n",
      "=========Start of 22==========\n",
      "训练集准确率： 0.91502464; 验证集准确率： 0.84132844\n",
      "=========Start of 23==========\n",
      "训练集准确率： 0.92241377; 验证集准确率： 0.8394834\n",
      "=========Start of 24==========\n",
      "训练集准确率： 0.932266; 验证集准确率： 0.8302583\n",
      "=========Start of 25==========\n",
      "训练集准确率： 0.92610836; 验证集准确率： 0.82472324\n",
      "=========Start of 26==========\n",
      "训练集准确率： 0.9279557; 验证集准确率： 0.8321033\n",
      "=========Start of 27==========\n",
      "训练集准确率： 0.9341133; 验证集准确率： 0.8191882\n",
      "=========Start of 28==========\n",
      "训练集准确率： 0.93349755; 验证集准确率： 0.8284133\n",
      "=========Start of 29==========\n",
      "训练集准确率： 0.9396552; 验证集准确率： 0.84501845\n",
      "=========Start of 30==========\n",
      "训练集准确率： 0.9396552; 验证集准确率： 0.8339483\n",
      "训练集准确率： 0.8118081\n"
     ]
    }
   ],
   "source": [
    "model = GCN(A_hat.astype(np.float32), (feature_dim, ), label_num, [500, 200, 50], ['relu']*3)\n",
    "optimizer = keras.optimizers.Adam(learning_rate=0.01)\n",
    "train_accs = []\n",
    "val_accs = []\n",
    "for epoch in range(30):\n",
    "    with tf.GradientTape() as tape:\n",
    "        logits = model(features, training=True)\n",
    "        loss = masked_sparse_cross_entropy(logits, labels, train_mask)\n",
    "    grads = tape.gradient(loss, model.trainable_weights)\n",
    "    optimizer.apply_gradients(zip(grads, model.trainable_weights))\n",
    "#     if epoch % 10 == 0:\n",
    "    print('{:=^30}'.format(f'Start of {epoch+1}'))\n",
    "    acc_train = masked_accuracy(logits, labels, train_mask)\n",
    "    acc_val = masked_accuracy(logits, labels, val_mask)\n",
    "    train_accs.append(acc_train.numpy())\n",
    "    val_accs.append(acc_val.numpy())\n",
    "    print('训练集准确率：', acc_train.numpy(), end='')\n",
    "    print('; 验证集准确率：', acc_val.numpy())\n",
    "logits = model(features, training=False)\n",
    "acc_test = masked_accuracy(logits, labels, test_mask)\n",
    "print('训练集准确率：', acc_test.numpy())"
   ]
  },
  {
   "cell_type": "markdown",
   "metadata": {},
   "source": [
    "**注**：分类准确率达到了81.18%，GCN原文中在Cora数据集上正确率为81.5%，基本吻合"
   ]
  },
  {
   "cell_type": "markdown",
   "metadata": {},
   "source": [
    "### 6.1 训练结构可视化\n",
    "\n",
    "很简单的可视化了一下准确率曲线"
   ]
  },
  {
   "cell_type": "code",
   "execution_count": 632,
   "metadata": {},
   "outputs": [
    {
     "data": {
      "text/plain": [
       "<matplotlib.legend.Legend at 0x7f4b0110b130>"
      ]
     },
     "execution_count": 632,
     "metadata": {},
     "output_type": "execute_result"
    },
    {
     "data": {
      "image/png": "[encoded data removed]",
      "text/plain": [
       "<Figure size 432x288 with 1 Axes>"
      ]
     },
     "metadata": {
      "needs_background": "light"
     },
     "output_type": "display_data"
    }
   ],
   "source": [
    "import matplotlib.pyplot as plt\n",
    "plt.plot(train_accs)\n",
    "plt.plot(val_accs)\n",
    "plt.legend(['train_acc', 'val_acc'], loc='best')"
   ]
  },
  {
   "cell_type": "markdown",
   "metadata": {},
   "source": [
    "### 6.2 模型结构和参数\n",
    "\n",
    "数据节点只有2千多，参数就有了82万。\n",
    "\n",
    "注：虽然是先创建了三个GCN层，再创建的三个Dropout层，但实际上训练时是经过一个GCN随后就经过一个Dropout，下面的结构有些偏差。"
   ]
  },
  {
   "cell_type": "code",
   "execution_count": 633,
   "metadata": {},
   "outputs": [
    {
     "name": "stdout",
     "output_type": "stream",
     "text": [
      "Model: \"gcn_43\"\n",
      "_________________________________________________________________\n",
      "Layer (type)                 Output Shape              Param #   \n",
      "=================================================================\n",
      "gcn_conv_134 (GCN_conv)      multiple                  717000    \n",
      "_________________________________________________________________\n",
      "gcn_conv_135 (GCN_conv)      multiple                  100200    \n",
      "_________________________________________________________________\n",
      "gcn_conv_136 (GCN_conv)      multiple                  10050     \n",
      "_________________________________________________________________\n",
      "dropout_18 (Dropout)         multiple                  0         \n",
      "_________________________________________________________________\n",
      "dropout_19 (Dropout)         multiple                  0         \n",
      "_________________________________________________________________\n",
      "dropout_20 (Dropout)         multiple                  0         \n",
      "_________________________________________________________________\n",
      "dense_43 (Dense)             multiple                  357       \n",
      "=================================================================\n",
      "Total params: 827,607\n",
      "Trainable params: 827,607\n",
      "Non-trainable params: 0\n",
      "_________________________________________________________________\n"
     ]
    }
   ],
   "source": [
    "model.summary()"
   ]
  }
 ],
 "metadata": {
  "kernelspec": {
   "display_name": "Python 3",
   "language": "python",
   "name": "python3"
  },
  "language_info": {
   "codemirror_mode": {
    "name": "ipython",
    "version": 3
   },
   "file_extension": ".py",
   "mimetype": "text/x-python",
   "name": "python",
   "nbconvert_exporter": "python",
   "pygments_lexer": "ipython3",
   "version": "3.8.3"
  }
 },
 "nbformat": 4,
 "nbformat_minor": 4
}
