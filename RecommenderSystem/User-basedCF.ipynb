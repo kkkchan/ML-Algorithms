{
 "cells": [
  {
   "cell_type": "code",
   "execution_count": 1,
   "metadata": {},
   "outputs": [],
   "source": [
    "import os\n",
    "import math\n",
    "import random\n",
    "import pandas as pd\n",
    "import numpy as np"
   ]
  },
  {
   "cell_type": "markdown",
   "metadata": {},
   "source": [
    "# 数据集导入、处理"
   ]
  },
  {
   "cell_type": "code",
   "execution_count": 2,
   "metadata": {},
   "outputs": [],
   "source": [
    "path = '../datasets/ml-1m'"
   ]
  },
  {
   "cell_type": "markdown",
   "metadata": {},
   "source": [
    "`ratings.dat`格式为`user_id, movie_id, rating_score, timestamp`\n",
    "\n",
    "- `user_id`介于$(1 - 6040)$\n",
    "- `movie_id`介于$(1 - 3952)$\n",
    "- 评分为5分制\n",
    "- 每个用户有至少20个评分数据"
   ]
  },
  {
   "cell_type": "code",
   "execution_count": 3,
   "metadata": {},
   "outputs": [],
   "source": [
    "rating_path = os.path.join(path, 'ratings.dat')"
   ]
  },
  {
   "cell_type": "markdown",
   "metadata": {},
   "source": [
    "# 算法实现"
   ]
  },
  {
   "cell_type": "code",
   "execution_count": 48,
   "metadata": {},
   "outputs": [],
   "source": [
    "class UserBasedCF:\n",
    "    def __init__(self, path):\n",
    "        self.train = {}\n",
    "        self.test = {}\n",
    "        self.item_user_table = {}\n",
    "        self.S = {}\n",
    "        self.generate_dataset(path)\n",
    "    \n",
    "    def load_file(self, path):\n",
    "        # 直接使用f是迭代器，f.readlines是list\n",
    "        with open(path, 'r', encoding='utf-8') as f:\n",
    "            for line in f:\n",
    "                yield line.strip('\\r\\n')\n",
    "    \n",
    "    def generate_dataset(self, path, random_pivot=0.8):\n",
    "        i = 0\n",
    "        for line in self.load_file(path):\n",
    "            # user_id, movie_id, rating, timestamp\n",
    "            user, movie, rating, _ = line.split('::')\n",
    "            if i < 10:\n",
    "                print('No.{}: - user_id: {}; - movie_id: {}; - rating: {}'.format(\n",
    "                    i, user, movie, rating))\n",
    "            i += 1\n",
    "            if random.random() < random_pivot:\n",
    "                self.train.setdefault(user, {})\n",
    "                self.train[user][movie] = int(rating)\n",
    "            else:\n",
    "                self.test.setdefault(user, {})\n",
    "                self.test[user][movie] = int(rating)\n",
    "                \n",
    "    def compute_user_similarity(self):\n",
    "        # 建立倒排表\n",
    "        for user, items in self.train.items():\n",
    "            for item in items.keys():\n",
    "                self.item_user_table.setdefault(item, set())\n",
    "                self.item_user_table[item].add(user)\n",
    "        \n",
    "        # 计算共现矩阵\n",
    "        C = {}\n",
    "        # 用户产生行为的物品个数\n",
    "        N = {}\n",
    "        for users in self.item_user_table.values():\n",
    "            for u in users:\n",
    "                N.setdefault(u, 0)\n",
    "                N[u] += 1\n",
    "                C.setdefault(u, {})\n",
    "                for v in users:\n",
    "                    if u == v:\n",
    "                        continue\n",
    "                    else:\n",
    "                        C[u].setdefault(v, 0)\n",
    "                        C[u][v] += 1\n",
    "        \n",
    "        # 计算余弦相似度\n",
    "        for u, related_users in C.items():\n",
    "            self.S.setdefault(u, {})\n",
    "            for v, co_occurrence_time in related_users.items():\n",
    "                self.S[u][v] = co_occurrence_time / math.sqrt(N[u] * N[v])\n",
    "        \n",
    "        return self.S, C, N \n",
    "    \n",
    "    def recommend(self, u, K=3, N=10):\n",
    "        if not self.S:\n",
    "            print('还没有计算相似度矩阵!')\n",
    "            return\n",
    "        recommending_items = {}\n",
    "        rating_items = self.train[u].keys()\n",
    "        most_k_similar_users = sorted(self.S[u].items(), key=lambda x:x[1], reverse=True)[:K]\n",
    "        # 相似度归一化\n",
    "        total_similar_degree = sum(item[1] for item in most_k_similar_users)\n",
    "        most_k_similar_users = [(user, similar_degree/total_similar_degree)\n",
    "                                for user, similar_degree in most_k_similar_users]\n",
    "        for v, similar_degree in most_k_similar_users:\n",
    "            for i, r_vi in self.train[v].items():\n",
    "                if i in rating_items:\n",
    "                    continue\n",
    "                else:\n",
    "                    recommending_items.setdefault(i, 0)\n",
    "                    recommending_items[i] += r_vi * similar_degree\n",
    "        \n",
    "        # 字典化（可视为JSON化）\n",
    "        return dict(sorted(recommending_items.items(), key=lambda x:x[1], reverse=True)[:N])\n",
    "    \n",
    "    def evaluate(self, K=8, N=10):\n",
    "        if not self.S:\n",
    "            print('还没有计算相似度矩阵!')\n",
    "            return\n",
    "        hit, precision, recall = 0, 0, 0\n",
    "        for user, items in self.test.items():\n",
    "            recommended = self.recommend(user, K, N)\n",
    "            hit += len(set(recommended.keys()) & set(items.keys()))\n",
    "            precision += N\n",
    "            recall += len(items)\n",
    "        precision, recall = hit / (precision * 1.0), hit / (recall * 1.0)\n",
    "        return precision, recall"
   ]
  },
  {
   "cell_type": "code",
   "execution_count": 49,
   "metadata": {},
   "outputs": [
    {
     "name": "stdout",
     "output_type": "stream",
     "text": [
      "No.0: - user_id: 1; - movie_id: 1193; - rating: 5\n",
      "No.1: - user_id: 1; - movie_id: 661; - rating: 3\n",
      "No.2: - user_id: 1; - movie_id: 914; - rating: 3\n",
      "No.3: - user_id: 1; - movie_id: 3408; - rating: 4\n",
      "No.4: - user_id: 1; - movie_id: 2355; - rating: 5\n",
      "No.5: - user_id: 1; - movie_id: 1197; - rating: 3\n",
      "No.6: - user_id: 1; - movie_id: 1287; - rating: 5\n",
      "No.7: - user_id: 1; - movie_id: 2804; - rating: 5\n",
      "No.8: - user_id: 1; - movie_id: 594; - rating: 4\n",
      "No.9: - user_id: 1; - movie_id: 919; - rating: 4\n"
     ]
    }
   ],
   "source": [
    "user_cf = UserBasedCF(rating_path)"
   ]
  },
  {
   "cell_type": "code",
   "execution_count": 58,
   "metadata": {},
   "outputs": [],
   "source": [
    "S, C, N = user_cf.compute_user_similarity()"
   ]
  },
  {
   "cell_type": "markdown",
   "metadata": {},
   "source": [
    "# 推荐预测"
   ]
  },
  {
   "cell_type": "code",
   "execution_count": 53,
   "metadata": {},
   "outputs": [
    {
     "data": {
      "text/plain": [
       "{'2872': 4.337111895172112,\n",
       " '1210': 4.0,\n",
       " '1220': 3.996186198305362,\n",
       " '2105': 3.6628881048278883,\n",
       " '2001': 3.6628881048278883,\n",
       " '376': 3.34092569686675,\n",
       " '653': 3.325776209655776,\n",
       " '3704': 3.325776209655776,\n",
       " '377': 3.3029991190555266,\n",
       " '1801': 3.295371515666251}"
      ]
     },
     "execution_count": 53,
     "metadata": {},
     "output_type": "execute_result"
    }
   ],
   "source": [
    "user_cf.recommend('100')"
   ]
  },
  {
   "cell_type": "code",
   "execution_count": 74,
   "metadata": {},
   "outputs": [
    {
     "data": {
      "text/plain": [
       "{'1220': 3.9964167153425363,\n",
       " '2872': 3.6259916465489965,\n",
       " '1240': 3.5962303652904914,\n",
       " '733': 3.565695639052418,\n",
       " '1214': 3.5566428691877965,\n",
       " '1242': 3.344636733701157,\n",
       " '457': 3.344636733701157,\n",
       " '2105': 3.2178099473393598,\n",
       " '2571': 3.193377856456906,\n",
       " '1610': 3.1537903603542112,\n",
       " '2353': 3.147997786820545,\n",
       " '1196': 2.974662915653427,\n",
       " '2916': 2.953439072304082,\n",
       " '1222': 2.806545929921639,\n",
       " '1200': 2.7995790115806933,\n",
       " '3527': 2.7972350470329106,\n",
       " '10': 2.778548305953053,\n",
       " '377': 2.6062652363334387,\n",
       " '1801': 2.6052952675669174,\n",
       " '1377': 2.6032094160432413}"
      ]
     },
     "execution_count": 74,
     "metadata": {},
     "output_type": "execute_result"
    }
   ],
   "source": [
    "user_cf.recommend('100', K=5, N=20)"
   ]
  },
  {
   "cell_type": "markdown",
   "metadata": {},
   "source": [
    "# 评估"
   ]
  },
  {
   "cell_type": "code",
   "execution_count": 70,
   "metadata": {},
   "outputs": [],
   "source": [
    "precision, recall = user_cf.evaluate()"
   ]
  },
  {
   "cell_type": "code",
   "execution_count": 73,
   "metadata": {},
   "outputs": [
    {
     "name": "stdout",
     "output_type": "stream",
     "text": [
      "- 准确率：27.813121%\n",
      "- 召回率：8.402024%\n"
     ]
    }
   ],
   "source": [
    "print('- 准确率：{:%}\\n- 召回率：{:%}'.format(precision, recall))"
   ]
  },
  {
   "cell_type": "markdown",
   "metadata": {},
   "source": [
    "# 数据展示"
   ]
  },
  {
   "cell_type": "code",
   "execution_count": 63,
   "metadata": {},
   "outputs": [],
   "source": [
    "def dic2dataframe(dic):\n",
    "    return pd.DataFrame(dic).T.fillna(0)"
   ]
  },
  {
   "cell_type": "code",
   "execution_count": 65,
   "metadata": {},
   "outputs": [],
   "source": [
    "S_df = dic2dataframe(S)\n",
    "C_df = dic2dataframe(C)\n",
    "N_df = pd.Series(N)"
   ]
  },
  {
   "cell_type": "code",
   "execution_count": 83,
   "metadata": {},
   "outputs": [
    {
     "data": {
      "text/plain": [
       "((6040, 6040), (6040, 6040), (6040,))"
      ]
     },
     "execution_count": 83,
     "metadata": {},
     "output_type": "execute_result"
    }
   ],
   "source": [
    "S_df.shape, C_df.shape, N_df.shape"
   ]
  },
  {
   "cell_type": "code",
   "execution_count": 69,
   "metadata": {},
   "outputs": [
    {
     "data": {
      "text/html": [
       "<div>\n",
       "<style scoped>\n",
       "    .dataframe tbody tr th:only-of-type {\n",
       "        vertical-align: middle;\n",
       "    }\n",
       "\n",
       "    .dataframe tbody tr th {\n",
       "        vertical-align: top;\n",
       "    }\n",
       "\n",
       "    .dataframe thead th {\n",
       "        text-align: right;\n",
       "    }\n",
       "</style>\n",
       "<table border=\"1\" class=\"dataframe\">\n",
       "  <thead>\n",
       "    <tr style=\"text-align: right;\">\n",
       "      <th></th>\n",
       "      <th>5404</th>\n",
       "      <th>150</th>\n",
       "      <th>3550</th>\n",
       "      <th>3146</th>\n",
       "      <th>4950</th>\n",
       "      <th>227</th>\n",
       "      <th>3198</th>\n",
       "      <th>3281</th>\n",
       "      <th>5948</th>\n",
       "      <th>5636</th>\n",
       "      <th>...</th>\n",
       "      <th>46</th>\n",
       "      <th>4549</th>\n",
       "      <th>1341</th>\n",
       "      <th>3838</th>\n",
       "      <th>3893</th>\n",
       "      <th>2908</th>\n",
       "      <th>1615</th>\n",
       "      <th>986</th>\n",
       "      <th>3662</th>\n",
       "      <th>2204</th>\n",
       "    </tr>\n",
       "  </thead>\n",
       "  <tbody>\n",
       "    <tr>\n",
       "      <th>4361</th>\n",
       "      <td>0.264979</td>\n",
       "      <td>0.211407</td>\n",
       "      <td>0.198507</td>\n",
       "      <td>0.223408</td>\n",
       "      <td>0.185058</td>\n",
       "      <td>0.103098</td>\n",
       "      <td>0.065740</td>\n",
       "      <td>0.245803</td>\n",
       "      <td>0.131534</td>\n",
       "      <td>0.217783</td>\n",
       "      <td>...</td>\n",
       "      <td>0.000000</td>\n",
       "      <td>0.000000</td>\n",
       "      <td>0.000000</td>\n",
       "      <td>0.000000</td>\n",
       "      <td>0.000000</td>\n",
       "      <td>0.000000</td>\n",
       "      <td>0.000000</td>\n",
       "      <td>0.000000</td>\n",
       "      <td>0.000000</td>\n",
       "      <td>0.000000</td>\n",
       "    </tr>\n",
       "    <tr>\n",
       "      <th>5404</th>\n",
       "      <td>0.000000</td>\n",
       "      <td>0.271030</td>\n",
       "      <td>0.257282</td>\n",
       "      <td>0.193382</td>\n",
       "      <td>0.266528</td>\n",
       "      <td>0.188982</td>\n",
       "      <td>0.142261</td>\n",
       "      <td>0.275344</td>\n",
       "      <td>0.196553</td>\n",
       "      <td>0.300569</td>\n",
       "      <td>...</td>\n",
       "      <td>0.013231</td>\n",
       "      <td>0.018185</td>\n",
       "      <td>0.000000</td>\n",
       "      <td>0.000000</td>\n",
       "      <td>0.000000</td>\n",
       "      <td>0.000000</td>\n",
       "      <td>0.000000</td>\n",
       "      <td>0.000000</td>\n",
       "      <td>0.000000</td>\n",
       "      <td>0.000000</td>\n",
       "    </tr>\n",
       "    <tr>\n",
       "      <th>150</th>\n",
       "      <td>0.271030</td>\n",
       "      <td>0.000000</td>\n",
       "      <td>0.213644</td>\n",
       "      <td>0.242447</td>\n",
       "      <td>0.281682</td>\n",
       "      <td>0.152570</td>\n",
       "      <td>0.113499</td>\n",
       "      <td>0.157625</td>\n",
       "      <td>0.236965</td>\n",
       "      <td>0.282706</td>\n",
       "      <td>...</td>\n",
       "      <td>0.025637</td>\n",
       "      <td>0.035234</td>\n",
       "      <td>0.035734</td>\n",
       "      <td>0.018128</td>\n",
       "      <td>0.024250</td>\n",
       "      <td>0.039952</td>\n",
       "      <td>0.054384</td>\n",
       "      <td>0.018128</td>\n",
       "      <td>0.008689</td>\n",
       "      <td>0.000000</td>\n",
       "    </tr>\n",
       "    <tr>\n",
       "      <th>3550</th>\n",
       "      <td>0.257282</td>\n",
       "      <td>0.213644</td>\n",
       "      <td>0.000000</td>\n",
       "      <td>0.149261</td>\n",
       "      <td>0.286759</td>\n",
       "      <td>0.121554</td>\n",
       "      <td>0.167934</td>\n",
       "      <td>0.246334</td>\n",
       "      <td>0.148337</td>\n",
       "      <td>0.335601</td>\n",
       "      <td>...</td>\n",
       "      <td>0.030638</td>\n",
       "      <td>0.042108</td>\n",
       "      <td>0.028470</td>\n",
       "      <td>0.028886</td>\n",
       "      <td>0.067621</td>\n",
       "      <td>0.047746</td>\n",
       "      <td>0.057771</td>\n",
       "      <td>0.014443</td>\n",
       "      <td>0.034612</td>\n",
       "      <td>0.011254</td>\n",
       "    </tr>\n",
       "    <tr>\n",
       "      <th>3146</th>\n",
       "      <td>0.193382</td>\n",
       "      <td>0.242447</td>\n",
       "      <td>0.149261</td>\n",
       "      <td>0.000000</td>\n",
       "      <td>0.185219</td>\n",
       "      <td>0.030096</td>\n",
       "      <td>0.111946</td>\n",
       "      <td>0.203305</td>\n",
       "      <td>0.108514</td>\n",
       "      <td>0.167303</td>\n",
       "      <td>...</td>\n",
       "      <td>0.025286</td>\n",
       "      <td>0.034752</td>\n",
       "      <td>0.017623</td>\n",
       "      <td>0.071520</td>\n",
       "      <td>0.000000</td>\n",
       "      <td>0.000000</td>\n",
       "      <td>0.000000</td>\n",
       "      <td>0.000000</td>\n",
       "      <td>0.000000</td>\n",
       "      <td>0.000000</td>\n",
       "    </tr>\n",
       "  </tbody>\n",
       "</table>\n",
       "<p>5 rows × 6040 columns</p>\n",
       "</div>"
      ],
      "text/plain": [
       "          5404       150      3550      3146      4950       227      3198  \\\n",
       "4361  0.264979  0.211407  0.198507  0.223408  0.185058  0.103098  0.065740   \n",
       "5404  0.000000  0.271030  0.257282  0.193382  0.266528  0.188982  0.142261   \n",
       "150   0.271030  0.000000  0.213644  0.242447  0.281682  0.152570  0.113499   \n",
       "3550  0.257282  0.213644  0.000000  0.149261  0.286759  0.121554  0.167934   \n",
       "3146  0.193382  0.242447  0.149261  0.000000  0.185219  0.030096  0.111946   \n",
       "\n",
       "          3281      5948      5636  ...        46      4549      1341  \\\n",
       "4361  0.245803  0.131534  0.217783  ...  0.000000  0.000000  0.000000   \n",
       "5404  0.275344  0.196553  0.300569  ...  0.013231  0.018185  0.000000   \n",
       "150   0.157625  0.236965  0.282706  ...  0.025637  0.035234  0.035734   \n",
       "3550  0.246334  0.148337  0.335601  ...  0.030638  0.042108  0.028470   \n",
       "3146  0.203305  0.108514  0.167303  ...  0.025286  0.034752  0.017623   \n",
       "\n",
       "          3838      3893      2908      1615       986      3662      2204  \n",
       "4361  0.000000  0.000000  0.000000  0.000000  0.000000  0.000000  0.000000  \n",
       "5404  0.000000  0.000000  0.000000  0.000000  0.000000  0.000000  0.000000  \n",
       "150   0.018128  0.024250  0.039952  0.054384  0.018128  0.008689  0.000000  \n",
       "3550  0.028886  0.067621  0.047746  0.057771  0.014443  0.034612  0.011254  \n",
       "3146  0.071520  0.000000  0.000000  0.000000  0.000000  0.000000  0.000000  \n",
       "\n",
       "[5 rows x 6040 columns]"
      ]
     },
     "execution_count": 69,
     "metadata": {},
     "output_type": "execute_result"
    }
   ],
   "source": [
    "S_df.head()"
   ]
  },
  {
   "cell_type": "code",
   "execution_count": 84,
   "metadata": {},
   "outputs": [
    {
     "data": {
      "text/html": [
       "<div>\n",
       "<style scoped>\n",
       "    .dataframe tbody tr th:only-of-type {\n",
       "        vertical-align: middle;\n",
       "    }\n",
       "\n",
       "    .dataframe tbody tr th {\n",
       "        vertical-align: top;\n",
       "    }\n",
       "\n",
       "    .dataframe thead th {\n",
       "        text-align: right;\n",
       "    }\n",
       "</style>\n",
       "<table border=\"1\" class=\"dataframe\">\n",
       "  <thead>\n",
       "    <tr style=\"text-align: right;\">\n",
       "      <th></th>\n",
       "      <th>5404</th>\n",
       "      <th>150</th>\n",
       "      <th>3550</th>\n",
       "      <th>3146</th>\n",
       "      <th>4950</th>\n",
       "      <th>227</th>\n",
       "      <th>3198</th>\n",
       "      <th>3281</th>\n",
       "      <th>5948</th>\n",
       "      <th>5636</th>\n",
       "      <th>...</th>\n",
       "      <th>46</th>\n",
       "      <th>4549</th>\n",
       "      <th>1341</th>\n",
       "      <th>3838</th>\n",
       "      <th>3893</th>\n",
       "      <th>2908</th>\n",
       "      <th>1615</th>\n",
       "      <th>986</th>\n",
       "      <th>3662</th>\n",
       "      <th>2204</th>\n",
       "    </tr>\n",
       "  </thead>\n",
       "  <tbody>\n",
       "    <tr>\n",
       "      <th>4361</th>\n",
       "      <td>34.0</td>\n",
       "      <td>28.0</td>\n",
       "      <td>33.0</td>\n",
       "      <td>15.0</td>\n",
       "      <td>35.0</td>\n",
       "      <td>5.0</td>\n",
       "      <td>6.0</td>\n",
       "      <td>30.0</td>\n",
       "      <td>23.0</td>\n",
       "      <td>57.0</td>\n",
       "      <td>...</td>\n",
       "      <td>0.0</td>\n",
       "      <td>0.0</td>\n",
       "      <td>0.0</td>\n",
       "      <td>0.0</td>\n",
       "      <td>0.0</td>\n",
       "      <td>0.0</td>\n",
       "      <td>0.0</td>\n",
       "      <td>0.0</td>\n",
       "      <td>0.0</td>\n",
       "      <td>0.0</td>\n",
       "    </tr>\n",
       "    <tr>\n",
       "      <th>5404</th>\n",
       "      <td>0.0</td>\n",
       "      <td>47.0</td>\n",
       "      <td>56.0</td>\n",
       "      <td>17.0</td>\n",
       "      <td>66.0</td>\n",
       "      <td>12.0</td>\n",
       "      <td>17.0</td>\n",
       "      <td>44.0</td>\n",
       "      <td>45.0</td>\n",
       "      <td>103.0</td>\n",
       "      <td>...</td>\n",
       "      <td>1.0</td>\n",
       "      <td>1.0</td>\n",
       "      <td>0.0</td>\n",
       "      <td>0.0</td>\n",
       "      <td>0.0</td>\n",
       "      <td>0.0</td>\n",
       "      <td>0.0</td>\n",
       "      <td>0.0</td>\n",
       "      <td>0.0</td>\n",
       "      <td>0.0</td>\n",
       "    </tr>\n",
       "    <tr>\n",
       "      <th>150</th>\n",
       "      <td>47.0</td>\n",
       "      <td>0.0</td>\n",
       "      <td>48.0</td>\n",
       "      <td>22.0</td>\n",
       "      <td>72.0</td>\n",
       "      <td>10.0</td>\n",
       "      <td>14.0</td>\n",
       "      <td>26.0</td>\n",
       "      <td>56.0</td>\n",
       "      <td>100.0</td>\n",
       "      <td>...</td>\n",
       "      <td>2.0</td>\n",
       "      <td>2.0</td>\n",
       "      <td>4.0</td>\n",
       "      <td>1.0</td>\n",
       "      <td>2.0</td>\n",
       "      <td>2.0</td>\n",
       "      <td>3.0</td>\n",
       "      <td>1.0</td>\n",
       "      <td>1.0</td>\n",
       "      <td>0.0</td>\n",
       "    </tr>\n",
       "    <tr>\n",
       "      <th>3550</th>\n",
       "      <td>56.0</td>\n",
       "      <td>48.0</td>\n",
       "      <td>0.0</td>\n",
       "      <td>17.0</td>\n",
       "      <td>92.0</td>\n",
       "      <td>10.0</td>\n",
       "      <td>26.0</td>\n",
       "      <td>51.0</td>\n",
       "      <td>44.0</td>\n",
       "      <td>149.0</td>\n",
       "      <td>...</td>\n",
       "      <td>3.0</td>\n",
       "      <td>3.0</td>\n",
       "      <td>4.0</td>\n",
       "      <td>2.0</td>\n",
       "      <td>7.0</td>\n",
       "      <td>3.0</td>\n",
       "      <td>4.0</td>\n",
       "      <td>1.0</td>\n",
       "      <td>5.0</td>\n",
       "      <td>1.0</td>\n",
       "    </tr>\n",
       "    <tr>\n",
       "      <th>3146</th>\n",
       "      <td>17.0</td>\n",
       "      <td>22.0</td>\n",
       "      <td>17.0</td>\n",
       "      <td>0.0</td>\n",
       "      <td>24.0</td>\n",
       "      <td>1.0</td>\n",
       "      <td>7.0</td>\n",
       "      <td>17.0</td>\n",
       "      <td>13.0</td>\n",
       "      <td>30.0</td>\n",
       "      <td>...</td>\n",
       "      <td>1.0</td>\n",
       "      <td>1.0</td>\n",
       "      <td>1.0</td>\n",
       "      <td>2.0</td>\n",
       "      <td>0.0</td>\n",
       "      <td>0.0</td>\n",
       "      <td>0.0</td>\n",
       "      <td>0.0</td>\n",
       "      <td>0.0</td>\n",
       "      <td>0.0</td>\n",
       "    </tr>\n",
       "  </tbody>\n",
       "</table>\n",
       "<p>5 rows × 6040 columns</p>\n",
       "</div>"
      ],
      "text/plain": [
       "      5404   150  3550  3146  4950   227  3198  3281  5948   5636  ...   46  \\\n",
       "4361  34.0  28.0  33.0  15.0  35.0   5.0   6.0  30.0  23.0   57.0  ...  0.0   \n",
       "5404   0.0  47.0  56.0  17.0  66.0  12.0  17.0  44.0  45.0  103.0  ...  1.0   \n",
       "150   47.0   0.0  48.0  22.0  72.0  10.0  14.0  26.0  56.0  100.0  ...  2.0   \n",
       "3550  56.0  48.0   0.0  17.0  92.0  10.0  26.0  51.0  44.0  149.0  ...  3.0   \n",
       "3146  17.0  22.0  17.0   0.0  24.0   1.0   7.0  17.0  13.0   30.0  ...  1.0   \n",
       "\n",
       "      4549  1341  3838  3893  2908  1615  986  3662  2204  \n",
       "4361   0.0   0.0   0.0   0.0   0.0   0.0  0.0   0.0   0.0  \n",
       "5404   1.0   0.0   0.0   0.0   0.0   0.0  0.0   0.0   0.0  \n",
       "150    2.0   4.0   1.0   2.0   2.0   3.0  1.0   1.0   0.0  \n",
       "3550   3.0   4.0   2.0   7.0   3.0   4.0  1.0   5.0   1.0  \n",
       "3146   1.0   1.0   2.0   0.0   0.0   0.0  0.0   0.0   0.0  \n",
       "\n",
       "[5 rows x 6040 columns]"
      ]
     },
     "execution_count": 84,
     "metadata": {},
     "output_type": "execute_result"
    }
   ],
   "source": [
    "C_df.head()"
   ]
  },
  {
   "cell_type": "code",
   "execution_count": 85,
   "metadata": {},
   "outputs": [
    {
     "data": {
      "text/plain": [
       "4361     98\n",
       "5404    168\n",
       "150     179\n",
       "3550    282\n",
       "3146     46\n",
       "dtype: int64"
      ]
     },
     "execution_count": 85,
     "metadata": {},
     "output_type": "execute_result"
    }
   ],
   "source": [
    "N_df.head()"
   ]
  }
 ],
 "metadata": {
  "kernelspec": {
   "display_name": "Python 3",
   "language": "python",
   "name": "python3"
  },
  "language_info": {
   "codemirror_mode": {
    "name": "ipython",
    "version": 3
   },
   "file_extension": ".py",
   "mimetype": "text/x-python",
   "name": "python",
   "nbconvert_exporter": "python",
   "pygments_lexer": "ipython3",
   "version": "3.8.3"
  }
 },
 "nbformat": 4,
 "nbformat_minor": 4
}
