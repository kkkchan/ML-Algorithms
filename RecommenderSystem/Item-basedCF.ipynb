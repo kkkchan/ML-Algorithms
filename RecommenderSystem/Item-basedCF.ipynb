{
 "cells": [
  {
   "cell_type": "code",
   "execution_count": 1,
   "metadata": {},
   "outputs": [],
   "source": [
    "import os\n",
    "import math\n",
    "import random\n",
    "import pandas as pd\n",
    "import numpy as np\n",
    "import itertools"
   ]
  },
  {
   "cell_type": "markdown",
   "metadata": {},
   "source": [
    "# 1. 数据集导入、处理\n",
    "\n",
    "使用数据为[MovieLens-1M](https://grouplens.org/datasets/movielens/)"
   ]
  },
  {
   "cell_type": "code",
   "execution_count": 2,
   "metadata": {},
   "outputs": [],
   "source": [
    "path = '../datasets/ml-1m'"
   ]
  },
  {
   "cell_type": "markdown",
   "metadata": {},
   "source": [
    "`ratings.dat`格式为`user_id, movie_id, rating_score, timestamp`\n",
    "\n",
    "- `user_id`介于$(1 - 6040)$\n",
    "- `movie_id`介于$(1 - 3952)$\n",
    "- 评分为5分制\n",
    "- 每个用户有至少20个评分数据"
   ]
  },
  {
   "cell_type": "code",
   "execution_count": 3,
   "metadata": {},
   "outputs": [],
   "source": [
    "rating_path = os.path.join(path, 'ratings.dat')"
   ]
  },
  {
   "cell_type": "code",
   "execution_count": 4,
   "metadata": {},
   "outputs": [
    {
     "name": "stdout",
     "output_type": "stream",
     "text": [
      "路径是否存在：True\n"
     ]
    }
   ],
   "source": [
    "print('路径是否存在：', os.path.exists(rating_path), sep='')"
   ]
  },
  {
   "cell_type": "markdown",
   "metadata": {},
   "source": [
    "# 2. 思路\n",
    "\n",
    "## 2.1 计算物品间的相似度\n",
    "\n",
    "物品相似度：喜欢物品$i$的用户中同样喜欢物品$j$的个数。公式可进行如下定义（即是余弦相似度）：\n",
    "$$\n",
    "sim_{ij} = \\frac{\\vert N(i) \\cup N(j)\\vert}{\\vert N(i)\\vert \\vert N(j)\\vert}\n",
    "$$\n",
    "\n",
    "\n",
    "## 2.2 根据物品相似度和用户历史行为生成用户推荐列表"
   ]
  },
  {
   "cell_type": "markdown",
   "metadata": {},
   "source": [
    "# 3. 算法实现\n",
    "\n",
    "利用倒排表实现ItemBased CF"
   ]
  },
  {
   "cell_type": "code",
   "execution_count": 109,
   "metadata": {},
   "outputs": [],
   "source": [
    "class ItemBasedCF:\n",
    "    def __init__(self, path):\n",
    "        self.train = {}\n",
    "        self.test = {}\n",
    "        self.N = {}\n",
    "        self.S = {}\n",
    "        self.generate_data(path)\n",
    "        self.user_item_table = {} # 只统计正反馈物品\n",
    "        \n",
    "    def load_data(self, path):\n",
    "        with open(path, 'rt', encoding='utf-8') as f:\n",
    "            for line in f:\n",
    "                yield line.strip('\\n')\n",
    "    \n",
    "    def generate_data(self, path, random_pivot=0.8):\n",
    "        # 建立了user-item表\n",
    "        inx = 0\n",
    "        print('{:=^20}'.format('前10行展示'))\n",
    "        for line in self.load_data(path):\n",
    "            user, movie, rating, _ = line.split('::')\n",
    "            if inx < 10:\n",
    "                print('No. {}: User_id: {}; Movie_id: {}; Rating: {}'.format(inx, user, movie, rating))\n",
    "            inx += 1\n",
    "            if random.random() < random_pivot:\n",
    "                self.train.setdefault(user, {})\n",
    "                self.train[user][movie] = int(rating)\n",
    "            else:\n",
    "                self.test.setdefault(user, {})\n",
    "                self.test[user][movie] = int(rating)\n",
    "            \n",
    "    def compute_similarity(self):\n",
    "        \n",
    "        for user, items in self.train.items():\n",
    "            for item, rating in items.items():\n",
    "                # user_item倒排表中只统计正反馈物品，此处即评分>2分的电影\n",
    "                self.user_item_table.setdefault(user, set())\n",
    "                if rating > 2:\n",
    "                    self.user_item_table[user].add(item)\n",
    "                # 构造共现矩阵，不区分正反馈或负反馈物品，值存储在相似度矩阵中\n",
    "                for item_v in items.keys():\n",
    "                    if item != item_v:\n",
    "                        self.S.setdefault(item, {})\n",
    "                        self.S[item].setdefault(item_v, 0)\n",
    "                        self.S[item][item_v] += 1\n",
    "                # 构造物品被交互次数表\n",
    "                self.N.setdefault(item, 0)\n",
    "                self.N[item] += 1\n",
    "        \n",
    "        # 计算物品相似度矩阵，未出现在共现矩阵中的物品对无法计算相似度\n",
    "        for item, items in self.S.items():\n",
    "            for item_v in items.keys():\n",
    "                self.S[item][item_v] /= math.sqrt(self.N[item] * self.N[item_v])\n",
    "    \n",
    "    def recommend(self, user, K=10, N=10):\n",
    "        '''\n",
    "        基于历史感兴趣电影的相似电影进行推荐\n",
    "        '''\n",
    "        if not self.S:\n",
    "            print('先计算相似度矩阵！')\n",
    "            return\n",
    "        rank = {}\n",
    "        positive_action_items = set(self.user_item_table[user])\n",
    "        for item in positive_action_items:\n",
    "            similar_items = sorted(self.S[item].items(), key=lambda x:x[1], reverse=True)[:K]\n",
    "            for item_s, similar_degree in similar_items:\n",
    "                rank.setdefault(item_s, 0)\n",
    "                rank[item_s] += similar_degree * self.train[user][item]\n",
    "        return sorted(rank.items(), key=lambda x:x[1], reverse=True)[:N]\n",
    "    \n",
    "    def evaluate(self):\n",
    "        if not self.S:\n",
    "            print('先计算相似度矩阵！')\n",
    "            return\n",
    "        hits, precision, recall = 0, 0, 0\n",
    "        test_user_item = {}\n",
    "        for user, items in self.test.items():\n",
    "            for item, rating in items.items():\n",
    "                if rating > 2:\n",
    "                    test_user_item.setdefault(user, set())\n",
    "                    test_user_item[user].add(item)\n",
    "        for user, items in test_user_item.items():\n",
    "            recommended = self.recommend(user)\n",
    "            recommended = set(movie_simlar[0] for movie_simlar in recommended)\n",
    "#             print(user, recommended)\n",
    "#             print(test_user_item[user])\n",
    "            hits += len(recommended & items)\n",
    "            precision += len(recommended)\n",
    "            recall += len(items)\n",
    "        precision, recall = hits/precision, hits/recall\n",
    "        return precision, recall"
   ]
  },
  {
   "cell_type": "markdown",
   "metadata": {},
   "source": [
    "# 4. 模型测试\n",
    "\n",
    "## 4.1 初始化"
   ]
  },
  {
   "cell_type": "code",
   "execution_count": 56,
   "metadata": {},
   "outputs": [],
   "source": [
    "truncated_rating_path = os.path.join(path, 'small_ratings.dat')\n",
    "with open(truncated_rating_path, 'w') as f1:\n",
    "    with open(rating_path, 'r') as f2:\n",
    "        f1.writelines(f2.readlines()[:1000])"
   ]
  },
  {
   "cell_type": "code",
   "execution_count": 110,
   "metadata": {},
   "outputs": [
    {
     "name": "stdout",
     "output_type": "stream",
     "text": [
      "=======前10行展示=======\n",
      "No. 0: User_id: 1; Movie_id: 1193; Rating: 5\n",
      "No. 1: User_id: 1; Movie_id: 661; Rating: 3\n",
      "No. 2: User_id: 1; Movie_id: 914; Rating: 3\n",
      "No. 3: User_id: 1; Movie_id: 3408; Rating: 4\n",
      "No. 4: User_id: 1; Movie_id: 2355; Rating: 5\n",
      "No. 5: User_id: 1; Movie_id: 1197; Rating: 3\n",
      "No. 6: User_id: 1; Movie_id: 1287; Rating: 5\n",
      "No. 7: User_id: 1; Movie_id: 2804; Rating: 5\n",
      "No. 8: User_id: 1; Movie_id: 594; Rating: 4\n",
      "No. 9: User_id: 1; Movie_id: 919; Rating: 4\n"
     ]
    }
   ],
   "source": [
    "item_based_cf = ItemBasedCF(rating_path)"
   ]
  },
  {
   "cell_type": "markdown",
   "metadata": {},
   "source": [
    "## 4.2 用户推荐预测"
   ]
  },
  {
   "cell_type": "code",
   "execution_count": 111,
   "metadata": {},
   "outputs": [],
   "source": [
    "item_based_cf.compute_similarity()"
   ]
  },
  {
   "cell_type": "code",
   "execution_count": 112,
   "metadata": {},
   "outputs": [
    {
     "data": {
      "text/plain": [
       "[('296', 43.4770726105737),\n",
       " ('608', 31.62903370269824),\n",
       " ('318', 31.37654623483121),\n",
       " ('593', 26.72635003808475),\n",
       " ('2858', 26.561778432639496),\n",
       " ('2571', 25.099805839400652),\n",
       " ('1265', 22.74408018292296),\n",
       " ('1704', 21.79015850644589),\n",
       " ('50', 21.249847202695264),\n",
       " ('2762', 18.211974606450067)]"
      ]
     },
     "execution_count": 112,
     "metadata": {},
     "output_type": "execute_result"
    }
   ],
   "source": [
    "item_based_cf.recommend('9')"
   ]
  },
  {
   "cell_type": "code",
   "execution_count": 113,
   "metadata": {},
   "outputs": [
    {
     "data": {
      "text/plain": [
       "[('1270', 21.282871656584316),\n",
       " ('594', 18.517609204033416),\n",
       " ('588', 18.469911497981975),\n",
       " ('595', 17.348695261085076),\n",
       " ('1196', 15.027640610651009),\n",
       " ('1022', 14.0858795193513),\n",
       " ('296', 13.184266028847524),\n",
       " ('364', 12.9332284575607),\n",
       " ('2716', 12.689139697118302),\n",
       " ('2858', 11.99878315342696)]"
      ]
     },
     "execution_count": 113,
     "metadata": {},
     "output_type": "execute_result"
    }
   ],
   "source": [
    "item_based_cf.recommend('1')"
   ]
  },
  {
   "cell_type": "markdown",
   "metadata": {},
   "source": [
    "## 4.3 模型评估"
   ]
  },
  {
   "cell_type": "code",
   "execution_count": 115,
   "metadata": {},
   "outputs": [],
   "source": [
    "precision, recall = item_based_cf.evaluate()"
   ]
  },
  {
   "cell_type": "code",
   "execution_count": 116,
   "metadata": {},
   "outputs": [
    {
     "name": "stdout",
     "output_type": "stream",
     "text": [
      "- 准确率：12.745228%\n",
      "- 召回率：4.589848%\n"
     ]
    }
   ],
   "source": [
    "print('- 准确率：{:%}\\n- 召回率：{:%}'.format(precision, recall))"
   ]
  }
 ],
 "metadata": {
  "kernelspec": {
   "display_name": "Python 3",
   "language": "python",
   "name": "python3"
  },
  "language_info": {
   "codemirror_mode": {
    "name": "ipython",
    "version": 3
   },
   "file_extension": ".py",
   "mimetype": "text/x-python",
   "name": "python",
   "nbconvert_exporter": "python",
   "pygments_lexer": "ipython3",
   "version": "3.8.3"
  }
 },
 "nbformat": 4,
 "nbformat_minor": 4
}
