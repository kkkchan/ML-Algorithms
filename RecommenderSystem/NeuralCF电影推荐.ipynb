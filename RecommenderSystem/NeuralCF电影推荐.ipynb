{
 "cells": [
  {
   "cell_type": "markdown",
   "metadata": {},
   "source": [
    "# 利用NeuralCF进行电影推荐\n",
    "\n",
    "数据集为MovieLens 100K，包括用户、电影和用户对电影的评分，根据已有数据，为用户推荐**还未观看过的电影**\n",
    "\n",
    "PIPELINE：\n",
    "- 通过用户-电影评分数据训练模型\n",
    "- 将用户映射为低维向量表示\n",
    "- 将电影映射为低维向量表示\n",
    "- 计算两者的点积，获取两者的匹配程度（作为预测评分）"
   ]
  },
  {
   "cell_type": "code",
   "execution_count": 1,
   "metadata": {},
   "outputs": [],
   "source": [
    "import pandas as pd\n",
    "import numpy as np\n",
    "import matplotlib.pyplot as plt\n",
    "from zipfile import ZipFile\n",
    "import tensorflow as tf\n",
    "from tensorflow import keras\n",
    "from pathlib import Path"
   ]
  },
  {
   "cell_type": "markdown",
   "metadata": {},
   "source": [
    "## 1. 下载及导入数据"
   ]
  },
  {
   "cell_type": "code",
   "execution_count": 3,
   "metadata": {},
   "outputs": [
    {
     "name": "stdout",
     "output_type": "stream",
     "text": [
      "Downloading data from http://files.grouplens.org/datasets/movielens/ml-latest-small.zip\n",
      "983040/978202 [==============================] - 2s 2us/step\n"
     ]
    }
   ],
   "source": [
    "rawdata_url = \"http://files.grouplens.org/datasets/movielens/ml-latest-small.zip\"\n",
    "zipped_file = keras.utils.get_file('ml-latest-small.zip', rawdata_url, cache_dir='.')\n"
   ]
  },
  {
   "cell_type": "code",
   "execution_count": 23,
   "metadata": {},
   "outputs": [],
   "source": [
    "keras_datasets_path = Path(zipped_file).parents[0]\n",
    "movielens_dir = keras_datasets_path / 'ml-latest-small'"
   ]
  },
  {
   "cell_type": "code",
   "execution_count": 52,
   "metadata": {},
   "outputs": [
    {
     "name": "stdout",
     "output_type": "stream",
     "text": [
      "开始文件解压...\n",
      "解压完成！\n"
     ]
    }
   ],
   "source": [
    "if not movielens_dir.exists():\n",
    "    with ZipFile(zipped_file, 'r') as zip_file:\n",
    "        print('开始文件解压...')\n",
    "        zip_file.extractall(path=keras_datasets_path)\n",
    "        print('解压完成！')\n",
    "ratings_file = movielens_dir / 'ratings.csv'"
   ]
  },
  {
   "cell_type": "code",
   "execution_count": 53,
   "metadata": {},
   "outputs": [],
   "source": [
    "df = pd.read_csv(ratings_file)"
   ]
  },
  {
   "cell_type": "code",
   "execution_count": 54,
   "metadata": {},
   "outputs": [
    {
     "name": "stdout",
     "output_type": "stream",
     "text": [
      "<class 'pandas.core.frame.DataFrame'>\n",
      "RangeIndex: 100836 entries, 0 to 100835\n",
      "Data columns (total 4 columns):\n",
      " #   Column     Non-Null Count   Dtype  \n",
      "---  ------     --------------   -----  \n",
      " 0   userId     100836 non-null  int64  \n",
      " 1   movieId    100836 non-null  int64  \n",
      " 2   rating     100836 non-null  float64\n",
      " 3   timestamp  100836 non-null  int64  \n",
      "dtypes: float64(1), int64(3)\n",
      "memory usage: 3.1 MB\n"
     ]
    }
   ],
   "source": [
    "df.info()"
   ]
  },
  {
   "cell_type": "markdown",
   "metadata": {},
   "source": [
    "## 2. 数据预处理"
   ]
  },
  {
   "cell_type": "code",
   "execution_count": 61,
   "metadata": {},
   "outputs": [],
   "source": [
    "user_ids = df['userId'].unique().tolist()\n",
    "user2encoded_user = {x: i for i, x in enumerate(user_ids)}\n",
    "encoded_user2user = {i: x for i, x in enumerate(user_ids)}\n",
    "movie_ids = df['movieId'].unique().tolist()\n",
    "movie2encoded_movie = {x: i for i, x in enumerate(movie_ids)}\n",
    "encoded_movie2movie = {i: x for i, x in enumerate(movie_ids)}"
   ]
  },
  {
   "cell_type": "code",
   "execution_count": 71,
   "metadata": {},
   "outputs": [
    {
     "name": "stdout",
     "output_type": "stream",
     "text": [
      "用户总数：610\n",
      "电影总数：9724\n",
      "最低评分：0.5\n",
      "最高评分：5.0\n"
     ]
    }
   ],
   "source": [
    "df['user'] = df['userId'].map(user2encoded_user)\n",
    "df['movie'] = df['movieId'].map(movie2encoded_movie)\n",
    "\n",
    "num_users = len(user_ids)\n",
    "num_movies = len(movie_ids)\n",
    "df['rating'] = df['rating'].values.astype(np.float32)\n",
    "min_rating = df['rating'].min()\n",
    "max_rating = df['rating'].max()\n",
    "\n",
    "print('用户总数：{}\\n电影总数：{}\\n最低评分：{}\\n最高评分：{}'.format(\n",
    "    num_users, num_movies, min_rating, max_rating))"
   ]
  },
  {
   "cell_type": "markdown",
   "metadata": {},
   "source": [
    "## 3. 数据分割\n",
    "\n",
    "构造训练集和验证集"
   ]
  },
  {
   "cell_type": "code",
   "execution_count": 76,
   "metadata": {},
   "outputs": [],
   "source": [
    "# 整体采样，就执行了shuffle的作用\n",
    "df = df.sample(frac=1)"
   ]
  },
  {
   "cell_type": "code",
   "execution_count": 81,
   "metadata": {},
   "outputs": [],
   "source": [
    "x = df[['user', 'movie']].values\n",
    "# 将评分归一化\n",
    "y = df['rating'].apply(lambda x: (x - min_rating) / (max_rating - min_rating)).values\n",
    "train_nums = int(0.9 * df.shape[0])\n",
    "x_train, x_val, y_train, y_val = x[:train_nums], x[train_nums:], y[:train_nums], y[train_nums:]"
   ]
  },
  {
   "cell_type": "markdown",
   "metadata": {},
   "source": [
    "## 4. 构造模型及模型训练\n",
    "\n",
    "将数据映射到低维空间，设置低维空间维数为40，用户和电影都被映射到该空间。"
   ]
  },
  {
   "cell_type": "code",
   "execution_count": 97,
   "metadata": {},
   "outputs": [],
   "source": [
    "embedding_size = 40\n",
    "\n",
    "# 注：keras.models.Model和keras.Model是同一个东西\n",
    "class CF_NeuralNet(keras.models.Model):\n",
    "    def __init__(self, num_users, num_movies, embedding_size, **kwargs):\n",
    "        super().__init__(**kwargs)\n",
    "        self.num_users = num_users\n",
    "        self.num_movies = num_movies\n",
    "        self.embedding_size = embedding_size\n",
    "        self.user_embedding = keras.layers.Embedding(\n",
    "            num_users, embedding_size, embeddings_initializer='he_normal',\n",
    "            embeddings_regularizer=keras.regularizers.l2(1e-6))\n",
    "        self.user_bias = keras.layers.Embedding(num_users, 1)\n",
    "        self.movie_embedding = keras.layers.Embedding(\n",
    "            num_movies, embedding_size, embeddings_initializer='he_normal',\n",
    "            embeddings_regularizer=keras.regularizers.l2(1e-6)\n",
    "        )\n",
    "        self.movie_bias = keras.layers.Embedding(num_movies, 1)\n",
    "    \n",
    "    def call(self, inputs):\n",
    "        user_vector = self.user_embedding(inputs[:, 0])\n",
    "        user_bias = self.user_bias(inputs[:, 0])\n",
    "        movie_vector = self.movie_embedding(inputs[:, 1])\n",
    "        movie_bias = self.movie_bias(inputs[:, 1])\n",
    "        # 将用户向量最后两个纬度和电影向量的前两个纬度做点积\n",
    "        dot_user_movie = tf.tensordot(user_vector, movie_vector, 2)\n",
    "        x = dot_user_movie + user_bias + movie_bias\n",
    "        return tf.nn.sigmoid(x)"
   ]
  },
  {
   "cell_type": "code",
   "execution_count": 98,
   "metadata": {},
   "outputs": [],
   "source": [
    "model = CF_NeuralNet(num_users, num_movies, embedding_size)\n",
    "model.compile(loss='binary_crossentropy', optimizer='adam', me)"
   ]
  },
  {
   "cell_type": "code",
   "execution_count": 99,
   "metadata": {},
   "outputs": [
    {
     "name": "stdout",
     "output_type": "stream",
     "text": [
      "Epoch 1/10\n",
      "1418/1418 [==============================] - 8s 6ms/step - loss: 0.6361 - val_loss: 0.6194\n",
      "Epoch 2/10\n",
      "1418/1418 [==============================] - 8s 5ms/step - loss: 0.6126 - val_loss: 0.6141\n",
      "Epoch 3/10\n",
      "1418/1418 [==============================] - 8s 5ms/step - loss: 0.6069 - val_loss: 0.6119\n",
      "Epoch 4/10\n",
      "1418/1418 [==============================] - 8s 5ms/step - loss: 0.6051 - val_loss: 0.6090\n",
      "Epoch 5/10\n",
      "1418/1418 [==============================] - 8s 5ms/step - loss: 0.6041 - val_loss: 0.6095\n",
      "Epoch 6/10\n",
      "1418/1418 [==============================] - 8s 5ms/step - loss: 0.6031 - val_loss: 0.6079\n",
      "Epoch 7/10\n",
      "1418/1418 [==============================] - 8s 5ms/step - loss: 0.6023 - val_loss: 0.6080\n",
      "Epoch 8/10\n",
      "1418/1418 [==============================] - 8s 5ms/step - loss: 0.6013 - val_loss: 0.6071\n",
      "Epoch 9/10\n",
      "1418/1418 [==============================] - 8s 5ms/step - loss: 0.6006 - val_loss: 0.6073\n",
      "Epoch 10/10\n",
      "1418/1418 [==============================] - 8s 5ms/step - loss: 0.6001 - val_loss: 0.6077\n"
     ]
    }
   ],
   "source": [
    "history = model.fit(x_train, y_train, batch_size=64, \n",
    "                    epochs=10, verbose=1, use_multiprocessing=True,\n",
    "                   validation_data=(x_val, y_val))"
   ]
  },
  {
   "cell_type": "markdown",
   "metadata": {},
   "source": [
    "## 5. 绘制训练途中的损失图"
   ]
  },
  {
   "cell_type": "code",
   "execution_count": 102,
   "metadata": {},
   "outputs": [
    {
     "data": {
      "text/plain": [
       "<matplotlib.legend.Legend at 0x7fa510140700>"
      ]
     },
     "execution_count": 102,
     "metadata": {},
     "output_type": "execute_result"
    },
    {
     "data": {
      "image/png": "[encoded data removed]",
      "text/plain": [
       "<Figure size 864x576 with 1 Axes>"
      ]
     },
     "metadata": {
      "needs_background": "light"
     },
     "output_type": "display_data"
    }
   ],
   "source": [
    "plt.figure(figsize=(12, 8))\n",
    "plt.plot(history.history['loss'], '-b', label='loss')\n",
    "plt.plot(history.history['val_loss'], '--r', label='val_loss')\n",
    "plt.legend(loc='best')"
   ]
  },
  {
   "cell_type": "markdown",
   "metadata": {},
   "source": [
    "## 6. topk推荐\n",
    "\n",
    "从没看过的电影中推荐中预测评价最高的10个"
   ]
  },
  {
   "cell_type": "code",
   "execution_count": 111,
   "metadata": {},
   "outputs": [],
   "source": [
    "movie_df = pd.read_csv(movielens_dir / 'movies.csv')\n",
    "user_id = df['userId'].sample(1).iloc[0]"
   ]
  },
  {
   "cell_type": "code",
   "execution_count": 138,
   "metadata": {},
   "outputs": [],
   "source": [
    "movies_watched_by_user = df[df['userId'] == user_id]\n",
    "movies_not_watched = movie_df[~movie_df['movieId'].isin(movies_watched_by_user['movieId'].values)]['movieId']\n",
    "movies_not_watched = list(set(movies_not_watched) & (set(movie2encoded_movie.keys())))\n",
    "movies_not_watched = [[movie2encoded_movie.get(x)] for x in movies_not_watched]\n",
    "encoded_user = user2encoded_user.get(user_id)\n",
    "user_movie_matrix = np.hstack(([[encoded_user]] * len(movies_not_watched), movies_not_watched))"
   ]
  },
  {
   "cell_type": "code",
   "execution_count": 141,
   "metadata": {},
   "outputs": [],
   "source": [
    "ratings = model.predict(user_movie_matrix).flatten()"
   ]
  },
  {
   "cell_type": "code",
   "execution_count": 148,
   "metadata": {},
   "outputs": [
    {
     "name": "stdout",
     "output_type": "stream",
     "text": [
      "看过的电影数量：181\n",
      "没看过的电影数量：9543\n"
     ]
    }
   ],
   "source": [
    "print('看过的电影数量：{}\\n没看过的电影数量：{}'.format(num_movies-len(movies_not_watched), len(movies_not_watched)))"
   ]
  },
  {
   "cell_type": "code",
   "execution_count": 153,
   "metadata": {},
   "outputs": [],
   "source": [
    "top_ratings_indice = ratings.argsort()[-10:][::-1]\n",
    "recommend_movies_ids = [encoded_movie2movie.get(movies_not_watched[x][0]) for x in top_ratings_indice]"
   ]
  },
  {
   "cell_type": "code",
   "execution_count": 154,
   "metadata": {},
   "outputs": [
    {
     "name": "stdout",
     "output_type": "stream",
     "text": [
      "推荐的10部电影id为： [318, 1276, 2019, 1213, 2959, 1221, 1204, 1089, 48516, 750]\n"
     ]
    }
   ],
   "source": [
    "print('推荐的10部电影id为：', recommend_movies_ids)"
   ]
  },
  {
   "cell_type": "code",
   "execution_count": 190,
   "metadata": {},
   "outputs": [
    {
     "name": "stdout",
     "output_type": "stream",
     "text": [
      "目标用户： 479\n",
      "========================================\n",
      "该用户评分最高的5部电影（片名；类型）：\n",
      "----------------------------------------\n",
      "Blues Brothers, The (1980) ; Action|Comedy|Musical\n",
      "Groundhog Day (1993) ; Comedy|Fantasy|Romance\n",
      "Mrs. Miniver (1942) ; Drama|War\n",
      "Moulin Rouge (2001) ; Drama|Musical|Romance\n",
      "Monsters, Inc. (2001) ; Adventure|Animation|Children|Comedy|Fantasy\n",
      "----------------------------------------\n",
      "给该用户推荐的10部电影（片名；类型）：\n",
      "----------------------------------------\n",
      "Shawshank Redemption, The (1994) ; Crime|Drama\n",
      "Dr. Strangelove or: How I Learned to Stop Worrying and Love the Bomb (1964) ; Comedy|War\n",
      "Reservoir Dogs (1992) ; Crime|Mystery|Thriller\n",
      "Lawrence of Arabia (1962) ; Adventure|Drama|War\n",
      "Goodfellas (1990) ; Crime|Drama\n",
      "Godfather: Part II, The (1974) ; Crime|Drama\n",
      "Cool Hand Luke (1967) ; Drama\n",
      "Seven Samurai (Shichinin no samurai) (1954) ; Action|Adventure|Drama\n",
      "Fight Club (1999) ; Action|Crime|Drama|Thriller\n",
      "Departed, The (2006) ; Crime|Drama|Thriller\n"
     ]
    }
   ],
   "source": [
    "recommend_movies = movie_df[movie_df['movieId'].isin(recommend_movies_ids)]\n",
    "print('目标用户：', user_id)\n",
    "print('===='*10)\n",
    "num_top_rated = min(len(movies_watched_by_user), 5)\n",
    "top5_rated_movies = (movies_watched_by_user.sort_values(by='rating', ascending=False).head(num_top_rated)['movieId'].values)\n",
    "top5_rated_movies_df = movie_df[movie_df['movieId'].isin(top5_rated_movies)]\n",
    "print('该用户评分最高的5部电影（片名；类型）：')\n",
    "print('----'*10)\n",
    "for row in top5_rated_movies_df.itertuples():\n",
    "    print(row.title, ';', row.genres)\n",
    "print('----'*10)\n",
    "print('给该用户推荐的10部电影（片名；类型）：')\n",
    "print('----'*10)\n",
    "for row in recommend_movies.itertuples():\n",
    "    print(row.title, ';', row.genres)"
   ]
  },
  {
   "cell_type": "code",
   "execution_count": 201,
   "metadata": {},
   "outputs": [],
   "source": [
    "def recommend_to_user(user_id, show_top5_rated=True):\n",
    "    if user_id > 610 or user_id < 1:\n",
    "        print('不存在该用户，请输入介于1-610的用户id！')\n",
    "        return\n",
    "    movies_watched_by_user = df[df['userId'] == user_id]\n",
    "    movies_not_watched = movie_df[~movie_df['movieId'].isin(movies_watched_by_user['movieId'].values)]['movieId']\n",
    "    movies_not_watched = list(set(movies_not_watched) & (set(movie2encoded_movie.keys())))\n",
    "    movies_not_watched = [[movie2encoded_movie.get(x)] for x in movies_not_watched]\n",
    "    encoded_user = user2encoded_user.get(user_id)\n",
    "    user_movie_matrix = np.hstack(([[encoded_user]] * len(movies_not_watched), movies_not_watched))\n",
    "    ratings = model.predict(user_movie_matrix).flatten()\n",
    "    top_ratings_indice = ratings.argsort()[-10:][::-1]\n",
    "    recommend_movies_ids = [encoded_movie2movie.get(movies_not_watched[x][0]) for x in top_ratings_indice]\n",
    "    recommend_movies = movie_df[movie_df['movieId'].isin(recommend_movies_ids)]\n",
    "    print('目标用户：', user_id)\n",
    "    print('===='*10)\n",
    "    if show_top5_rated:\n",
    "        num_top_rated = min(len(movies_watched_by_user), 5)\n",
    "        top5_rated_movies = (movies_watched_by_user.sort_values(by='rating', ascending=False).head(num_top_rated)['movieId'].values)\n",
    "        top5_rated_movies_df = movie_df[movie_df['movieId'].isin(top5_rated_movies)]\n",
    "        print('该用户评分最高的5部电影（片名；类型）：')\n",
    "        print('----'*10)\n",
    "        for row in top5_rated_movies_df.itertuples():\n",
    "            print(row.title, ';', row.genres)\n",
    "        print('----'*10)\n",
    "    print('给该用户推荐的10部电影（片名；类型）：')\n",
    "    print('----'*10)\n",
    "    for row in recommend_movies.itertuples():\n",
    "        print(row.title, ';', row.genres)"
   ]
  },
  {
   "cell_type": "code",
   "execution_count": 203,
   "metadata": {},
   "outputs": [
    {
     "name": "stdout",
     "output_type": "stream",
     "text": [
      "目标用户： 1\n",
      "========================================\n",
      "给该用户推荐的10部电影（片名；类型）：\n",
      "----------------------------------------\n",
      "Shawshank Redemption, The (1994) ; Crime|Drama\n",
      "Dr. Strangelove or: How I Learned to Stop Worrying and Love the Bomb (1964) ; Comedy|War\n",
      "Godfather, The (1972) ; Crime|Drama\n",
      "One Flew Over the Cuckoo's Nest (1975) ; Drama\n",
      "Good, the Bad and the Ugly, The (Buono, il brutto, il cattivo, Il) (1966) ; Action|Adventure|Western\n",
      "12 Angry Men (1957) ; Drama\n",
      "Lawrence of Arabia (1962) ; Adventure|Drama|War\n",
      "Godfather: Part II, The (1974) ; Crime|Drama\n",
      "Boot, Das (Boat, The) (1981) ; Action|Drama|War\n",
      "Doctor Zhivago (1965) ; Drama|Romance|War\n"
     ]
    }
   ],
   "source": [
    "recommend_to_user(1, show_top5_rated=False)"
   ]
  },
  {
   "cell_type": "code",
   "execution_count": 204,
   "metadata": {},
   "outputs": [
    {
     "name": "stdout",
     "output_type": "stream",
     "text": [
      "目标用户： 1\n",
      "========================================\n",
      "该用户评分最高的5部电影（片名；类型）：\n",
      "----------------------------------------\n",
      "Black Cauldron, The (1985) ; Adventure|Animation|Children|Fantasy\n",
      "Charlotte's Web (1973) ; Animation|Children\n",
      "South Park: Bigger, Longer and Uncut (1999) ; Animation|Comedy|Musical\n",
      "Thunderball (1965) ; Action|Adventure|Thriller\n",
      "Blazing Saddles (1974) ; Comedy|Western\n",
      "----------------------------------------\n",
      "给该用户推荐的10部电影（片名；类型）：\n",
      "----------------------------------------\n",
      "Shawshank Redemption, The (1994) ; Crime|Drama\n",
      "Dr. Strangelove or: How I Learned to Stop Worrying and Love the Bomb (1964) ; Comedy|War\n",
      "Godfather, The (1972) ; Crime|Drama\n",
      "One Flew Over the Cuckoo's Nest (1975) ; Drama\n",
      "Good, the Bad and the Ugly, The (Buono, il brutto, il cattivo, Il) (1966) ; Action|Adventure|Western\n",
      "12 Angry Men (1957) ; Drama\n",
      "Lawrence of Arabia (1962) ; Adventure|Drama|War\n",
      "Godfather: Part II, The (1974) ; Crime|Drama\n",
      "Boot, Das (Boat, The) (1981) ; Action|Drama|War\n",
      "Doctor Zhivago (1965) ; Drama|Romance|War\n"
     ]
    }
   ],
   "source": [
    "recommend_to_user(1)"
   ]
  }
 ],
 "metadata": {
  "kernelspec": {
   "display_name": "Python 3",
   "language": "python",
   "name": "python3"
  },
  "language_info": {
   "codemirror_mode": {
    "name": "ipython",
    "version": 3
   },
   "file_extension": ".py",
   "mimetype": "text/x-python",
   "name": "python",
   "nbconvert_exporter": "python",
   "pygments_lexer": "ipython3",
   "version": "3.8.3"
  }
 },
 "nbformat": 4,
 "nbformat_minor": 4
}
