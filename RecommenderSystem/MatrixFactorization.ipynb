{
 "cells": [
  {
   "cell_type": "markdown",
   "metadata": {},
   "source": [
    "# Matrix Factorization\n",
    "\n",
    "通过矩阵分解将物品、用户协同矩阵，分解为两个低维空间矩阵，通过低维空间向量内积来作为相似度。"
   ]
  },
  {
   "cell_type": "code",
   "execution_count": 1,
   "metadata": {},
   "outputs": [],
   "source": [
    "import os\n",
    "import pandas as pd\n",
    "import numpy as np\n",
    "import itertools"
   ]
  },
  {
   "cell_type": "markdown",
   "metadata": {},
   "source": [
    "## 1. 导入数据文件路径"
   ]
  },
  {
   "cell_type": "code",
   "execution_count": 2,
   "metadata": {},
   "outputs": [],
   "source": [
    "path = '../datasets/ml-1m'\n",
    "rating_path = os.path.join(path, 'ratings.dat')\n",
    "movie_path = os.path.join(path, 'movies.dat')"
   ]
  },
  {
   "cell_type": "code",
   "execution_count": 3,
   "metadata": {},
   "outputs": [
    {
     "name": "stdout",
     "output_type": "stream",
     "text": [
      "评分文件路径是否存在：True\n",
      "电影参数路径是否存在：True\n"
     ]
    }
   ],
   "source": [
    "print('评分文件路径是否存在：%s' % (os.path.exists(rating_path)))\n",
    "print('电影参数路径是否存在：%s' % (os.path.exists(movie_path)))"
   ]
  },
  {
   "cell_type": "markdown",
   "metadata": {},
   "source": [
    "## 2. 构造电影ID到电影名的映射表"
   ]
  },
  {
   "cell_type": "code",
   "execution_count": 4,
   "metadata": {},
   "outputs": [],
   "source": [
    "movie_id2name = {}\n",
    "with open(movie_path, 'rt', errors='ignore') as f:\n",
    "    for line in f:\n",
    "        line = line.strip('\\n')\n",
    "        movie_id, movie_name, _ = line.split('::')\n",
    "        movie_id = int(movie_id)-1\n",
    "        movie_id2name[movie_id] = movie_name"
   ]
  },
  {
   "cell_type": "code",
   "execution_count": 5,
   "metadata": {},
   "outputs": [],
   "source": [
    "def id2name(ids):\n",
    "    return [movie_id2name.get(movie, '电影名信息缺失') for movie in ids]"
   ]
  },
  {
   "cell_type": "code",
   "execution_count": 6,
   "metadata": {},
   "outputs": [
    {
     "data": {
      "text/plain": [
       "3883"
      ]
     },
     "execution_count": 6,
     "metadata": {},
     "output_type": "execute_result"
    }
   ],
   "source": [
    "len(movie_id2name)"
   ]
  },
  {
   "cell_type": "markdown",
   "metadata": {},
   "source": [
    "发现`movies.dat`中有信息缺失"
   ]
  },
  {
   "cell_type": "code",
   "execution_count": 7,
   "metadata": {},
   "outputs": [
    {
     "name": "stdout",
     "output_type": "stream",
     "text": [
      "缺失电影数：69\n"
     ]
    }
   ],
   "source": [
    "print('缺失电影数：{}'.format(3952 - len(movie_id2name)))"
   ]
  },
  {
   "cell_type": "markdown",
   "metadata": {},
   "source": [
    "## 3.构造算法模型"
   ]
  },
  {
   "cell_type": "code",
   "execution_count": 8,
   "metadata": {},
   "outputs": [],
   "source": [
    "class MF:\n",
    "    def __init__(self, path, user_len, item_len, hidden_dim):\n",
    "        self.train = np.zeros(shape=(user_len, item_len), dtype=np.float32)\n",
    "        self.test = {}\n",
    "        self.train_mask = set()\n",
    "        self.test_mask = set()\n",
    "        self.Q = np.random.rand(user_len, hidden_dim)\n",
    "        self.V = np.random.rand(item_len, hidden_dim)\n",
    "        self.mu = 0\n",
    "        self.bu = np.random.rand(user_len)\n",
    "        self.bi = np.random.rand(item_len)\n",
    "        self.losses = []\n",
    "        self.generate_data(path)\n",
    "    \n",
    "    def load_data(self, path):\n",
    "        with open(path, 'rt', encoding='utf-8') as f:\n",
    "            for line in f:\n",
    "                yield line.strip('\\n')\n",
    "                \n",
    "    def generate_data(self, path, pivot=0.8):\n",
    "        for line in self.load_data(path):\n",
    "            user, movie, rating, _ = line.split('::')\n",
    "            user, movie, rating = int(user)-1, int(movie)-1, int(rating)\n",
    "            if np.random.rand() < pivot:\n",
    "                self.train[user][movie] = rating\n",
    "                self.train_mask.add((user, movie))\n",
    "            else:\n",
    "                self.test.setdefault(user, {})\n",
    "                self.test[user][movie] = rating\n",
    "                self.test_mask.add((user, movie))\n",
    "        print('{:=^40}'.format('数据装载完毕'))\n",
    "\n",
    "    def train_model(self, epochs=100, lamb=0.1, learning_rate=0.01):\n",
    "        epoch = 1\n",
    "        self.mu = self.train.mean()\n",
    "        while epoch <= epochs:\n",
    "            cum_loss = 0\n",
    "            for i, j in self.train_mask:\n",
    "                error = self.train[i][j] - self.Q[i] @ self.V[j].T - self.mu - self.bu[i] - self.bi[j]\n",
    "                loss = (error)**2 + lamb * (np.linalg.norm(self.Q[i], 2)**2 +\n",
    "                       np.linalg.norm(self.V[j], 2)**2 +\n",
    "                       self.bu[i]**2  + self.bi[j]**2)\n",
    "                loss *= 0.5\n",
    "                cum_loss += loss\n",
    "                self.Q[i] -= learning_rate * (-1 * error * self.V[j] + lamb * self.Q[i])\n",
    "                self.V[j] -= learning_rate * (-1 * error * self.Q[i] + lamb * self.V[j])\n",
    "                self.bu[i] -= learning_rate * (-1 * error + lamb * self.bu[i])\n",
    "                self.bi[j] -= learning_rate * (-1 * error + lamb * self.bi[j])\n",
    "            cum_loss /= len(self.train_mask)\n",
    "            if epoch % 5 == 0:\n",
    "                print('epoch:{}; loss:{}'.format(epoch, cum_loss))\n",
    "            self.losses.append(cum_loss)\n",
    "            epoch += 1\n",
    "        print('{:=^40}'.format('训练结束！'))        \n",
    "    \n",
    "    def predict(self, user, movie):\n",
    "        '''\n",
    "        预测用户对电影的评分\n",
    "        '''\n",
    "        return self.mu + self.bu[user] + self.bi[movie] + self.Q[user] @ self.V[movie].T\n",
    "    \n",
    "    def recommend(self, user, N=10):\n",
    "        '''\n",
    "        展示推荐结果，推荐结果中除掉已看电影，使用迭代器进行了优化\n",
    "        '''\n",
    "        watched = set(np.argwhere(self.train[user]).flatten())\n",
    "        similar = iter((self.Q[user] @ self.V.T).argsort()[::-1])\n",
    "        return list(itertools.islice(filter(lambda x:(x not in watched), similar), N))\n",
    "    \n",
    "    def evaluate(self):\n",
    "        '''\n",
    "        基于所有测试数据对模型进行评估，返回准确率和召回率\n",
    "        '''\n",
    "        hits, precision, recall = 0, 0, 0\n",
    "        for user,item_rating in self.test.items():\n",
    "            recommended = self.recommend(user)\n",
    "            hits += set(recommended) & set(item_rating.keys())\n",
    "            precision += len(recommended)\n",
    "            recall += len(item_rating.keys())\n",
    "        precision, recall = hits/precision, hits/recall\n",
    "        return precision, recall"
   ]
  },
  {
   "cell_type": "code",
   "execution_count": 9,
   "metadata": {},
   "outputs": [
    {
     "name": "stdout",
     "output_type": "stream",
     "text": [
      "=================数据装载完毕=================\n"
     ]
    }
   ],
   "source": [
    "mf = MF(path=rating_path, user_len=6040, item_len=3952, hidden_dim=64)"
   ]
  },
  {
   "cell_type": "code",
   "execution_count": 10,
   "metadata": {},
   "outputs": [
    {
     "data": {
      "text/plain": [
       "'训练集：801136'"
      ]
     },
     "execution_count": 10,
     "metadata": {},
     "output_type": "execute_result"
    }
   ],
   "source": [
    "'训练集：{}'.format(len(mf.train_mask))"
   ]
  },
  {
   "cell_type": "code",
   "execution_count": 11,
   "metadata": {},
   "outputs": [
    {
     "data": {
      "text/plain": [
       "'测试集：199073'"
      ]
     },
     "execution_count": 11,
     "metadata": {},
     "output_type": "execute_result"
    }
   ],
   "source": [
    "'测试集：{}'.format(len(mf.test_mask))"
   ]
  },
  {
   "cell_type": "code",
   "execution_count": 12,
   "metadata": {},
   "outputs": [
    {
     "data": {
      "text/plain": [
       "(6040, 3952)"
      ]
     },
     "execution_count": 12,
     "metadata": {},
     "output_type": "execute_result"
    }
   ],
   "source": [
    "mf.train.shape"
   ]
  },
  {
   "cell_type": "markdown",
   "metadata": {},
   "source": [
    "## 4. 模型训练"
   ]
  },
  {
   "cell_type": "code",
   "execution_count": 13,
   "metadata": {},
   "outputs": [
    {
     "name": "stdout",
     "output_type": "stream",
     "text": [
      "epoch:5; loss:0.7836267863857456\n",
      "epoch:10; loss:0.7069094899996432\n",
      "epoch:15; loss:0.6799557390593624\n",
      "epoch:20; loss:0.6661813055696568\n",
      "epoch:25; loss:0.6578836065660846\n",
      "epoch:30; loss:0.6524442541390613\n",
      "epoch:35; loss:0.648689917494726\n",
      "epoch:40; loss:0.6459977892389706\n",
      "epoch:45; loss:0.644006914957214\n",
      "epoch:50; loss:0.6424966247478808\n",
      "epoch:55; loss:0.6413263345502985\n",
      "epoch:60; loss:0.6404031716849529\n",
      "epoch:65; loss:0.6396637604097131\n",
      "epoch:70; loss:0.6390636151716823\n",
      "epoch:75; loss:0.6385707523070577\n",
      "epoch:80; loss:0.6381617075780774\n",
      "epoch:85; loss:0.6378189691646978\n",
      "epoch:90; loss:0.6375292724031959\n",
      "epoch:95; loss:0.6372824374202547\n",
      "epoch:100; loss:0.637070559559776\n",
      "=================训练结束！==================\n"
     ]
    }
   ],
   "source": [
    "mf.train_model()"
   ]
  },
  {
   "cell_type": "markdown",
   "metadata": {},
   "source": [
    "## 5. 评分预测"
   ]
  },
  {
   "cell_type": "code",
   "execution_count": 14,
   "metadata": {},
   "outputs": [
    {
     "name": "stdout",
     "output_type": "stream",
     "text": [
      "=============预测用户32对电影45评分：=============\n",
      "评分为： 3.1737573905023213\n"
     ]
    }
   ],
   "source": [
    "print('{:=^40}'.format('预测用户32对电影45评分：'))\n",
    "score = mf.predict(32, 20)\n",
    "print('评分为：', score)"
   ]
  },
  {
   "cell_type": "markdown",
   "metadata": {},
   "source": [
    "## 6. 推荐演示"
   ]
  },
  {
   "cell_type": "code",
   "execution_count": 15,
   "metadata": {},
   "outputs": [
    {
     "name": "stdout",
     "output_type": "stream",
     "text": [
      "=============给用户100推荐以下电影：==============\n",
      "No 1: Prerokbe Ognja (1995)\n",
      "No 2: Raining Stones (1993)\n",
      "No 3: Hellhounds on My Trail (1999)\n",
      "No 4: Happy Go Lovely (1951)\n",
      "No 5: 电影名信息缺失\n",
      "No 6: Pharaoh's Army (1995)\n",
      "No 7: Charm's Incidents (1996)\n",
      "No 8: Hostile Intentions (1994)\n",
      "No 9: 电影名信息缺失\n",
      "No 10: Every Other Weekend (1990)\n"
     ]
    }
   ],
   "source": [
    "print('{:=^40}'.format('给用户100推荐以下电影：'))\n",
    "rec = id2name(mf.recommend(100))\n",
    "for i, movie in enumerate(rec, 1):\n",
    "    print('No {}: {}'.format(i, movie))"
   ]
  }
 ],
 "metadata": {
  "kernelspec": {
   "display_name": "Python 3",
   "language": "python",
   "name": "python3"
  },
  "language_info": {
   "codemirror_mode": {
    "name": "ipython",
    "version": 3
   },
   "file_extension": ".py",
   "mimetype": "text/x-python",
   "name": "python",
   "nbconvert_exporter": "python",
   "pygments_lexer": "ipython3",
   "version": "3.8.3"
  }
 },
 "nbformat": 4,
 "nbformat_minor": 4
}
