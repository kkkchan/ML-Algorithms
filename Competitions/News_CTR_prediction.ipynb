{
 "cells": [
  {
   "cell_type": "code",
   "execution_count": 1,
   "metadata": {},
   "outputs": [],
   "source": [
    "import math, os, time\n",
    "from tqdm import tqdm\n",
    "import gc\n",
    "import pickle\n",
    "import random\n",
    "import datetime\n",
    "import operator\n",
    "import numpy as np\n",
    "import pandas as pd\n",
    "import warnings\n",
    "import collections\n",
    "import tensorflow as tf\n",
    "import matplotlib.pyplot as plt\n",
    "import faiss\n",
    "\n",
    "warnings.filterwarnings('ignore')"
   ]
  },
  {
   "cell_type": "markdown",
   "metadata": {},
   "source": [
    "# 1. 数据导入、数据分割"
   ]
  },
  {
   "cell_type": "code",
   "execution_count": 2,
   "metadata": {},
   "outputs": [
    {
     "data": {
      "text/plain": [
       "(True, True)"
      ]
     },
     "execution_count": 2,
     "metadata": {},
     "output_type": "execute_result"
    }
   ],
   "source": [
    "data_path = '../datasets/newrec_data_tianchi/'\n",
    "save_path = '.'\n",
    "os.path.exists(data_path), os.path.isdir(data_path)"
   ]
  },
  {
   "cell_type": "code",
   "execution_count": 5,
   "metadata": {},
   "outputs": [
    {
     "name": "stdout",
     "output_type": "stream",
     "text": [
      "<class 'pandas.core.frame.DataFrame'>\n",
      "RangeIndex: 1112623 entries, 0 to 1112622\n",
      "Data columns (total 9 columns):\n",
      " #   Column               Non-Null Count    Dtype\n",
      "---  ------               --------------    -----\n",
      " 0   user_id              1112623 non-null  int64\n",
      " 1   click_article_id     1112623 non-null  int64\n",
      " 2   click_timestamp      1112623 non-null  int64\n",
      " 3   click_environment    1112623 non-null  int64\n",
      " 4   click_deviceGroup    1112623 non-null  int64\n",
      " 5   click_os             1112623 non-null  int64\n",
      " 6   click_country        1112623 non-null  int64\n",
      " 7   click_region         1112623 non-null  int64\n",
      " 8   click_referrer_type  1112623 non-null  int64\n",
      "dtypes: int64(9)\n",
      "memory usage: 76.4 MB\n"
     ]
    }
   ],
   "source": [
    "train_all_clicks = pd.read_csv(os.path.join(data_path, 'train_click_log.csv'))\n",
    "train_all_clicks.info()"
   ]
  },
  {
   "cell_type": "code",
   "execution_count": 7,
   "metadata": {},
   "outputs": [
    {
     "data": {
      "text/html": [
       "<div>\n",
       "<style scoped>\n",
       "    .dataframe tbody tr th:only-of-type {\n",
       "        vertical-align: middle;\n",
       "    }\n",
       "\n",
       "    .dataframe tbody tr th {\n",
       "        vertical-align: top;\n",
       "    }\n",
       "\n",
       "    .dataframe thead th {\n",
       "        text-align: right;\n",
       "    }\n",
       "</style>\n",
       "<table border=\"1\" class=\"dataframe\">\n",
       "  <thead>\n",
       "    <tr style=\"text-align: right;\">\n",
       "      <th></th>\n",
       "      <th>user_id</th>\n",
       "      <th>click_article_id</th>\n",
       "      <th>click_timestamp</th>\n",
       "      <th>click_environment</th>\n",
       "      <th>click_deviceGroup</th>\n",
       "      <th>click_os</th>\n",
       "      <th>click_country</th>\n",
       "      <th>click_region</th>\n",
       "      <th>click_referrer_type</th>\n",
       "    </tr>\n",
       "  </thead>\n",
       "  <tbody>\n",
       "    <tr>\n",
       "      <th>0</th>\n",
       "      <td>199999</td>\n",
       "      <td>160417</td>\n",
       "      <td>1507029570190</td>\n",
       "      <td>4</td>\n",
       "      <td>1</td>\n",
       "      <td>17</td>\n",
       "      <td>1</td>\n",
       "      <td>13</td>\n",
       "      <td>1</td>\n",
       "    </tr>\n",
       "    <tr>\n",
       "      <th>1</th>\n",
       "      <td>199999</td>\n",
       "      <td>5408</td>\n",
       "      <td>1507029571478</td>\n",
       "      <td>4</td>\n",
       "      <td>1</td>\n",
       "      <td>17</td>\n",
       "      <td>1</td>\n",
       "      <td>13</td>\n",
       "      <td>1</td>\n",
       "    </tr>\n",
       "    <tr>\n",
       "      <th>2</th>\n",
       "      <td>199999</td>\n",
       "      <td>50823</td>\n",
       "      <td>1507029601478</td>\n",
       "      <td>4</td>\n",
       "      <td>1</td>\n",
       "      <td>17</td>\n",
       "      <td>1</td>\n",
       "      <td>13</td>\n",
       "      <td>1</td>\n",
       "    </tr>\n",
       "    <tr>\n",
       "      <th>3</th>\n",
       "      <td>199998</td>\n",
       "      <td>157770</td>\n",
       "      <td>1507029532200</td>\n",
       "      <td>4</td>\n",
       "      <td>1</td>\n",
       "      <td>17</td>\n",
       "      <td>1</td>\n",
       "      <td>25</td>\n",
       "      <td>5</td>\n",
       "    </tr>\n",
       "    <tr>\n",
       "      <th>4</th>\n",
       "      <td>199998</td>\n",
       "      <td>96613</td>\n",
       "      <td>1507029671831</td>\n",
       "      <td>4</td>\n",
       "      <td>1</td>\n",
       "      <td>17</td>\n",
       "      <td>1</td>\n",
       "      <td>25</td>\n",
       "      <td>5</td>\n",
       "    </tr>\n",
       "  </tbody>\n",
       "</table>\n",
       "</div>"
      ],
      "text/plain": [
       "   user_id  click_article_id  click_timestamp  click_environment  \\\n",
       "0   199999            160417    1507029570190                  4   \n",
       "1   199999              5408    1507029571478                  4   \n",
       "2   199999             50823    1507029601478                  4   \n",
       "3   199998            157770    1507029532200                  4   \n",
       "4   199998             96613    1507029671831                  4   \n",
       "\n",
       "   click_deviceGroup  click_os  click_country  click_region  \\\n",
       "0                  1        17              1            13   \n",
       "1                  1        17              1            13   \n",
       "2                  1        17              1            13   \n",
       "3                  1        17              1            25   \n",
       "4                  1        17              1            25   \n",
       "\n",
       "   click_referrer_type  \n",
       "0                    1  \n",
       "1                    1  \n",
       "2                    1  \n",
       "3                    5  \n",
       "4                    5  "
      ]
     },
     "execution_count": 7,
     "metadata": {},
     "output_type": "execute_result"
    }
   ],
   "source": [
    "train_all_clicks.head()"
   ]
  },
  {
   "cell_type": "code",
   "execution_count": 8,
   "metadata": {},
   "outputs": [
    {
     "data": {
      "text/plain": [
       "(Index(['user_id', 'click_article_id', 'click_timestamp', 'click_environment',\n",
       "        'click_deviceGroup', 'click_os', 'click_country', 'click_region',\n",
       "        'click_referrer_type'],\n",
       "       dtype='object'),\n",
       " RangeIndex(start=0, stop=1112623, step=1))"
      ]
     },
     "execution_count": 8,
     "metadata": {},
     "output_type": "execute_result"
    }
   ],
   "source": [
    "train_all_clicks.columns, train_all_clicks.index"
   ]
  },
  {
   "cell_type": "code",
   "execution_count": 9,
   "metadata": {},
   "outputs": [
    {
     "data": {
      "text/plain": [
       "(1112623, 9)"
      ]
     },
     "execution_count": 9,
     "metadata": {},
     "output_type": "execute_result"
    }
   ],
   "source": [
    "train_all_clicks.drop_duplicates(['user_id', 'click_article_id', 'click_timestamp'], inplace=True)\n",
    "train_all_clicks.shape"
   ]
  },
  {
   "cell_type": "code",
   "execution_count": 11,
   "metadata": {},
   "outputs": [
    {
     "data": {
      "text/plain": [
       "(1112623, 200000, 40000)"
      ]
     },
     "execution_count": 11,
     "metadata": {},
     "output_type": "execute_result"
    }
   ],
   "source": [
    "user_ids = train_all_clicks['user_id'].unique()[::-1]\n",
    "num_data = train_all_clicks.shape[0]\n",
    "num_users = user_ids.shape[0]\n",
    "num_data, num_users, num_samples"
   ]
  },
  {
   "cell_type": "code",
   "execution_count": 12,
   "metadata": {},
   "outputs": [
    {
     "data": {
      "text/plain": [
       "(1630633, 9)"
      ]
     },
     "execution_count": 12,
     "metadata": {},
     "output_type": "execute_result"
    }
   ],
   "source": [
    "# val_users = np.random.choice(user_ids, size=num_samples, replace=False)\n",
    "# train_all_clicks = all_clicks[~all_clicks['user_id'].isin(val_users)]\n",
    "# val_all_clicks = all_clicks[all_clicks['user_id'].isin(val_users)]\n",
    "\n",
    "test_all_clicks = pd.read_csv(os.path.join(data_path, 'testA_click_log.csv'))\n",
    "test_all_clicks.drop_duplicates(['user_id', 'click_article_id', 'click_timestamp'], inplace=True)\n",
    "\n",
    "all_clicks = train_all_clicks.append(test_all_clicks)\n",
    "all_clicks.shape"
   ]
  },
  {
   "cell_type": "code",
   "execution_count": 62,
   "metadata": {},
   "outputs": [],
   "source": [
    "# 获取所有的用户ID\n",
    "user_ids = np.sort(all_clicks['user_id'].unique())"
   ]
  },
  {
   "cell_type": "markdown",
   "metadata": {},
   "source": [
    "# 2. ItemCF操作\n",
    "\n",
    "只利用**用户ID、文章ID、点击时间**三个特征进行预测，采用最传统协同过滤中的ItemCF进行处理。"
   ]
  },
  {
   "cell_type": "code",
   "execution_count": 17,
   "metadata": {},
   "outputs": [],
   "source": [
    "# 建立倒排表\n",
    "def create_user_item_time_dict(df):\n",
    "    click_df = df.sort_values(by='click_timestamp')\n",
    "    click_df = click_df.groupby('user_id')\n",
    "\n",
    "    click_df = click_df['click_article_id', 'click_timestamp'].apply(lambda df: list(zip(df['click_article_id'], df['click_timestamp'])))\n",
    "    click_df = click_df.reset_index().rename(columns={0: 'item_time_list'})\n",
    "\n",
    "    user_item_time_dict = dict(zip(click_df['user_id'], click_df['item_time_list']))\n",
    "    \n",
    "    pickle.dump(user_item_time_dict, open(os.path.join(save_path, 'user_item_time_dict.pkl'), 'wb'))\n",
    "    print('{:=^40}'.format('用户-物品、时间倒排表生成结束，已写入到离线文件！'))\n",
    "    return user_item_time_dict"
   ]
  },
  {
   "cell_type": "code",
   "execution_count": 16,
   "metadata": {},
   "outputs": [],
   "source": [
    "# 计算商品间相似度矩阵\n",
    "def cal_item_item_sim(df, user_item_time_dict):\n",
    "    item_item_sim = {}\n",
    "    item_counts = collections.defaultdict(int)\n",
    "    \n",
    "    for user, item_time_list in tqdm(user_item_time_dict.items()):\n",
    "        for item, time in item_time_list:\n",
    "            item_counts[item] += 1\n",
    "            item_item_sim.setdefault(item, {})\n",
    "            for other_item, other_item_time in item_time_list:\n",
    "                if item == other_item:\n",
    "                    continue\n",
    "                item_item_sim[item].setdefault(other_item, 0)\n",
    "                item_item_sim[item][other_item] += 1\n",
    "\n",
    "    for item, sim_items in tqdm(item_item_sim.items()):\n",
    "        for other_item, coo_counts in sim_items.items():\n",
    "            item_item_sim[item][other_item] /= math.sqrt(item_counts[item] * item_counts[other_item])\n",
    "            \n",
    "    pickle.dump(item_item_sim, open(os.path.join(save_path, 'item_item_similarity.pkl'), 'wb'))\n",
    "    print('{:=^40}'.format('物品相似度矩阵计算成功，已写入到离线文件！'))\n",
    "    return item_item_sim"
   ]
  },
  {
   "cell_type": "code",
   "execution_count": 18,
   "metadata": {},
   "outputs": [
    {
     "name": "stderr",
     "output_type": "stream",
     "text": [
      "  9%|▉         | 22501/250000 [00:00<00:01, 218586.00it/s]"
     ]
    },
    {
     "name": "stdout",
     "output_type": "stream",
     "text": [
      "=======用户-物品、时间倒排表生成结束，已写入到离线文件！========\n"
     ]
    },
    {
     "name": "stderr",
     "output_type": "stream",
     "text": [
      "100%|██████████| 250000/250000 [00:14<00:00, 17836.88it/s]\n",
      "100%|██████████| 35380/35380 [00:03<00:00, 9070.25it/s] \n"
     ]
    },
    {
     "name": "stdout",
     "output_type": "stream",
     "text": [
      "=========物品相似度矩阵计算成功，已写入到离线文件！==========\n"
     ]
    }
   ],
   "source": [
    "user_item_time_dict = create_user_item_time_dict(all_clicks)\n",
    "item_item_sim = cal_item_item_sim(all_clicks, user_item_time_dict)"
   ]
  },
  {
   "cell_type": "code",
   "execution_count": 19,
   "metadata": {},
   "outputs": [],
   "source": [
    "# TopK热门商品\n",
    "def hot_k_items(df, top_k):\n",
    "    return df['click_article_id'].value_counts().index[:top_k]"
   ]
  },
  {
   "cell_type": "code",
   "execution_count": 20,
   "metadata": {},
   "outputs": [],
   "source": [
    "# 基于ItemCF的商品推荐\n",
    "def itemcf_rec(user_id, recall_top_k, sim_top_k, user_item_time_dict, item_item_sim, hot_top_k_items):\n",
    "    user_clicked_items_with_time = user_item_time_dict[user_id]\n",
    "    user_clicked_items = {item_id for item_id, _ in user_clicked_items_with_time}\n",
    "    \n",
    "    ranked_items = {}\n",
    "    # 计算未点击过商品的权重，计算方式为：与物品I的相似度 * 物品I被点击的次数\n",
    "    for index, (item, click_time) in enumerate(user_clicked_items_with_time):\n",
    "        for other_item, sim in sorted(item_item_sim[item].items(), \n",
    "                                      key=lambda x: x[1], \n",
    "                                      reverse=True)[:sim_top_k]:\n",
    "            if other_item not in user_clicked_items:\n",
    "                ranked_items.setdefault(other_item, 0)\n",
    "                ranked_items[other_item] += sim\n",
    "    \n",
    "    # 不足需要召回的数量，用热门商品填充\n",
    "    if len(ranked_items) < recall_top_k:\n",
    "        for index, item in enumerate(hot_top_k_items):\n",
    "            if item not in ranked_items:\n",
    "                ranked_items[item] = -index\n",
    "            if len(ranked_items) == recall_top_k:\n",
    "                break\n",
    "    \n",
    "    return sorted(ranked_items.items(), key=lambda x:x[1], reverse=True)[:recall_top_k]"
   ]
  },
  {
   "cell_type": "code",
   "execution_count": 67,
   "metadata": {},
   "outputs": [
    {
     "name": "stderr",
     "output_type": "stream",
     "text": [
      "100%|██████████| 250000/250000 [34:28<00:00, 120.86it/s]\n"
     ]
    },
    {
     "name": "stdout",
     "output_type": "stream",
     "text": [
      "========全用户的物品召回推荐计算成功，已写入到离线文件！========\n"
     ]
    }
   ],
   "source": [
    "def create_all_user_recall_items(user_ids, user_item_time_dict=None, item_item_sim=None):\n",
    "    if not user_item_time_dict:\n",
    "        user_item_time_dict = pickle.load(open(os.path.join(save_path, 'user_item_time_dict.pkl'), 'rb'))\n",
    "    if not item_item_sim:\n",
    "        item_item_sim = pickle.load(open(os.path.join(save_path, 'item_item_similarity.pkl'), 'rb'))\n",
    "\n",
    "    sim_top_k = 10\n",
    "    recall_top_k = 10\n",
    "    hot_top_k_items = hot_k_items(all_clicks, 50)\n",
    "\n",
    "    user_recall_items_dict = collections.defaultdict(dict)\n",
    "    for user in tqdm(user_ids):\n",
    "        user_recall_items_dict[user] = itemcf_rec(\n",
    "            user, recall_top_k, sim_top_k, user_item_time_dict, \n",
    "            item_item_sim, hot_top_k_items)\n",
    "    pickle.dump(user_recall_items_dict, open(os.path.join(save_path, 'user_recall_items_dict.pkl'), 'wb'))\n",
    "    print('{:=^40}'.format('全用户的物品召回推荐计算成功，已写入到离线文件！'))\n",
    "# create_all_user_recall_items(user_ids)"
   ]
  },
  {
   "cell_type": "code",
   "execution_count": 37,
   "metadata": {},
   "outputs": [],
   "source": [
    "test_recall_list = []\n",
    "for user in test_users:\n",
    "    top_k_items = [item for item, _ in test_user_recall_items_dict[user]][:5]\n",
    "    test_recall_list.append((user, *top_k_items))\n",
    "test_recall_df = pd.DataFrame(test_recall_list, \n",
    "                              columns=['user_id','article_1','article_2','article_3','article_4','article_5'])\n",
    "save_file(test_recall_df, save_path, 'itemcf')"
   ]
  },
  {
   "cell_type": "markdown",
   "metadata": {},
   "source": [
    "# 3. 数据分析\n",
    "\n",
    "对数据特征、特征含义进行了解"
   ]
  },
  {
   "cell_type": "code",
   "execution_count": 78,
   "metadata": {},
   "outputs": [],
   "source": [
    "import matplotlib.pyplot as plt\n",
    "import seaborn as sns\n",
    "plt.rc('font', family='SimHei', size=13)"
   ]
  },
  {
   "cell_type": "code",
   "execution_count": 84,
   "metadata": {},
   "outputs": [
    {
     "name": "stdout",
     "output_type": "stream",
     "text": [
      "<class 'pandas.core.frame.DataFrame'>\n",
      "RangeIndex: 364047 entries, 0 to 364046\n",
      "Data columns (total 4 columns):\n",
      " #   Column         Non-Null Count   Dtype\n",
      "---  ------         --------------   -----\n",
      " 0   article_id     364047 non-null  int64\n",
      " 1   category_id    364047 non-null  int64\n",
      " 2   created_at_ts  364047 non-null  int64\n",
      " 3   words_count    364047 non-null  int64\n",
      "dtypes: int64(4)\n",
      "memory usage: 11.1 MB\n",
      "<class 'pandas.core.frame.DataFrame'>\n",
      "RangeIndex: 364047 entries, 0 to 364046\n",
      "Columns: 251 entries, article_id to emb_249\n",
      "dtypes: float64(250), int64(1)\n",
      "memory usage: 697.1 MB\n"
     ]
    },
    {
     "data": {
      "text/plain": [
       "(None, None)"
      ]
     },
     "execution_count": 84,
     "metadata": {},
     "output_type": "execute_result"
    }
   ],
   "source": [
    "articles = pd.read_csv(os.path.join(data_path, 'articles.csv'))\n",
    "articles_embedding = pd.read_csv(os.path.join(data_path, 'articles_emb.csv'))\n",
    "articles.info(), articles_embedding.info()"
   ]
  },
  {
   "cell_type": "code",
   "execution_count": 97,
   "metadata": {},
   "outputs": [
    {
     "name": "stdout",
     "output_type": "stream",
     "text": [
      "<class 'pandas.core.frame.DataFrame'>\n",
      "RangeIndex: 364047 entries, 0 to 364046\n",
      "Columns: 251 entries, article_id to emb_249\n",
      "dtypes: float16(250), int16(1)\n",
      "memory usage: 174.3 MB\n"
     ]
    }
   ],
   "source": [
    "# articles_embedding确实占内存有点大，有近700M，调整一下数据类型，节省内存，降到了174M\n",
    "articles_embedding['article_id'] = articles_embedding['article_id'].astype(np.int16)\n",
    "articles_embedding.iloc[:, 1:] = articles_embedding.iloc[:, 1:].astype(np.float16)\n",
    "articles_embedding.info()"
   ]
  },
  {
   "cell_type": "markdown",
   "metadata": {},
   "source": [
    "目前数据以全部导入，共四个文件：\n",
    "- train_click_log.csv\n",
    "- testA_click_log.csv\n",
    "- articles.csv\n",
    "- articles_emb.csv\n",
    "\n",
    "导入后目前已有数据：\n",
    "- all_clicks.  将训练数据和测试数据结合到了一起\n",
    "- train_all_clicks\n",
    "- test_all_clicks\n",
    "- articles\n",
    "- articles_embedding.  250维"
   ]
  },
  {
   "cell_type": "code",
   "execution_count": 100,
   "metadata": {},
   "outputs": [
    {
     "data": {
      "text/plain": [
       "((1630633, 9), (1112623, 9), (518010, 9), (364047, 4), (364047, 251))"
      ]
     },
     "execution_count": 100,
     "metadata": {},
     "output_type": "execute_result"
    }
   ],
   "source": [
    "all_clicks.shape, train_all_clicks.shape, test_all_clicks.shape, articles.shape, articles_embedding.shape"
   ]
  },
  {
   "cell_type": "markdown",
   "metadata": {},
   "source": [
    "## 3.1 预处理\n",
    "\n",
    "计算用户每次点击是第多少次点击，并计算各用户的点击次数"
   ]
  },
  {
   "cell_type": "code",
   "execution_count": 127,
   "metadata": {},
   "outputs": [],
   "source": [
    "# 添加特征rank，表示是该用户第多少次点击\n",
    "train_all_clicks['rank'] = train_all_clicks.groupby(\n",
    "    ['user_id'])['click_timestamp'].rank(ascending=True).astype(np.int)\n",
    "test_all_clicks['rank'] = test_all_clicks.groupby(\n",
    "    ['user_id'])['click_timestamp'].rank(ascending=True).astype(np.int)"
   ]
  },
  {
   "cell_type": "code",
   "execution_count": 128,
   "metadata": {},
   "outputs": [],
   "source": [
    "# 添加特征click_counts，计算用户点击文章的总次数\n",
    "train_all_clicks['click_counts'] = train_all_clicks.groupby(\n",
    "    ['user_id'])['click_timestamp'].transform('count')\n",
    "test_all_clicks['click_counts'] = test_all_clicks.groupby(\n",
    "    ['user_id'])['click_timestamp'].transform('count')"
   ]
  },
  {
   "cell_type": "code",
   "execution_count": 147,
   "metadata": {},
   "outputs": [],
   "source": [
    "# 按照 文章名 连接articles中的特征：category_id, created_at_ts, words_count\n",
    "train_all_clicks =  train_all_clicks.merge(articles, \n",
    "                                           how='left', \n",
    "                                           left_on='click_article_id', \n",
    "                                           right_on='article_id')\n",
    "test_all_clicks = test_all_clicks.merge(articles, how='left', \n",
    "                                       left_on='click_article_id', \n",
    "                                        right_on='article_id')\n",
    "# 由于合并时两个表分别根据的字段是 click_article_id, article_id，\n",
    "# 导致合并后多出 article_id，需要进行删除\n",
    "train_all_clicks.drop('article_id', axis=1, inplace=True)\n",
    "test_all_clicks.drop('article_id', axis=1, inplace=True)"
   ]
  },
  {
   "cell_type": "code",
   "execution_count": 159,
   "metadata": {},
   "outputs": [
    {
     "data": {
      "text/plain": [
       "count    1.112623e+06\n",
       "mean     1.323704e+01\n",
       "std      1.631503e+01\n",
       "min      2.000000e+00\n",
       "25%      4.000000e+00\n",
       "50%      8.000000e+00\n",
       "75%      1.600000e+01\n",
       "max      2.410000e+02\n",
       "Name: click_counts, dtype: float64"
      ]
     },
     "execution_count": 159,
     "metadata": {},
     "output_type": "execute_result"
    }
   ],
   "source": [
    "# 查看点击次数\n",
    "# 训练集中 最少是2次，最多是241次，平均点击13.2次\n",
    "\n",
    "train_all_clicks['click_counts'].describe()"
   ]
  },
  {
   "cell_type": "code",
   "execution_count": 158,
   "metadata": {},
   "outputs": [
    {
     "data": {
      "text/plain": [
       "count    518010.000000\n",
       "mean         30.043586\n",
       "std          56.868021\n",
       "min           1.000000\n",
       "25%          10.000000\n",
       "50%          19.000000\n",
       "75%          35.000000\n",
       "max         938.000000\n",
       "Name: click_counts, dtype: float64"
      ]
     },
     "execution_count": 158,
     "metadata": {},
     "output_type": "execute_result"
    }
   ],
   "source": [
    "# 查看点击次数\n",
    "# 测试集中 最少是1次，最多是938次，平均是30次\n",
    "test_all_clicks['click_counts'].describe()"
   ]
  },
  {
   "cell_type": "code",
   "execution_count": 163,
   "metadata": {},
   "outputs": [
    {
     "data": {
      "text/plain": [
       "<Figure size 432x288 with 0 Axes>"
      ]
     },
     "metadata": {},
     "output_type": "display_data"
    },
    {
     "data": {
      "image/png": "[encoded data removed]",
      "text/plain": [
       "<Figure size 1080x1440 with 10 Axes>"
      ]
     },
     "metadata": {
      "needs_background": "light"
     },
     "output_type": "display_data"
    }
   ],
   "source": [
    "plt.figure()\n",
    "plt.figure(figsize=(15, 20))\n",
    "i = 1\n",
    "for col in ['click_article_id', 'click_timestamp', 'click_environment', 'click_deviceGroup', 'click_os', 'click_country', \n",
    "            'click_region', 'click_referrer_type', 'rank', 'click_counts']:\n",
    "    plot_envs = plt.subplot(5, 2, i)\n",
    "    i += 1\n",
    "    v = train_all_clicks[col].value_counts().reset_index()[:10]\n",
    "    fig = sns.barplot(x=v['index'], y=v[col])\n",
    "    for item in fig.get_xticklabels():\n",
    "        item.set_rotation(90)\n",
    "    plt.title(col)\n",
    "plt.tight_layout()\n",
    "plt.show()"
   ]
  },
  {
   "cell_type": "code",
   "execution_count": 169,
   "metadata": {},
   "outputs": [
    {
     "data": {
      "text/plain": [
       "(364047, 251)"
      ]
     },
     "execution_count": 169,
     "metadata": {},
     "output_type": "execute_result"
    }
   ],
   "source": [
    "articles_embedding.shape"
   ]
  },
  {
   "cell_type": "code",
   "execution_count": 175,
   "metadata": {},
   "outputs": [],
   "source": [
    "all_clicks = train_all_clicks.append(\n",
    "    test_all_clicks).sort_values(by='click_timestamp')"
   ]
  },
  {
   "cell_type": "code",
   "execution_count": 192,
   "metadata": {},
   "outputs": [
    {
     "data": {
      "text/plain": [
       "<matplotlib.axes._subplots.AxesSubplot at 0x7fdad31601f0>"
      ]
     },
     "execution_count": 192,
     "metadata": {},
     "output_type": "execute_result"
    },
    {
     "data": {
      "image/png": "[encoded data removed]",
      "text/plain": [
       "<Figure size 432x288 with 1 Axes>"
      ]
     },
     "metadata": {
      "needs_background": "light"
     },
     "output_type": "display_data"
    }
   ],
   "source": [
    "all_clicks.groupby(by='click_article_id')['click_counts'].count().plot()"
   ]
  },
  {
   "cell_type": "code",
   "execution_count": 193,
   "metadata": {},
   "outputs": [
    {
     "data": {
      "text/plain": [
       "<matplotlib.axes._subplots.AxesSubplot at 0x7fdad315e790>"
      ]
     },
     "execution_count": 193,
     "metadata": {},
     "output_type": "execute_result"
    },
    {
     "data": {
      "image/png": "[encoded data removed]",
      "text/plain": [
       "<Figure size 432x288 with 1 Axes>"
      ]
     },
     "metadata": {
      "needs_background": "light"
     },
     "output_type": "display_data"
    }
   ],
   "source": [
    "all_clicks.groupby(by='user_id')['click_counts'].count().plot()"
   ]
  },
  {
   "cell_type": "markdown",
   "metadata": {},
   "source": [
    "# 4. 多路召回"
   ]
  },
  {
   "cell_type": "markdown",
   "metadata": {},
   "source": [
    "构造三种模式：\n",
    "1. **Debug模式**。在训练集中分割出少量数据，构造验证集用于调式\n",
    "2. **线下验证模式**。使用训练集训练出模型，通过测试集进行评估，调整参数、超参数\n",
    "3. **线上提交模式**。使用所有的数据在选择的模型上进行训练，然后提交线上"
   ]
  },
  {
   "cell_type": "markdown",
   "metadata": {},
   "source": [
    "----\n",
    "\n",
    "**由于内存爆了导致内核重启，下面代码重新进行的运行**\n",
    "\n",
    "----"
   ]
  },
  {
   "cell_type": "markdown",
   "metadata": {},
   "source": [
    "## 4.1 数据读取、处理、功能性函数构建"
   ]
  },
  {
   "cell_type": "code",
   "execution_count": 3,
   "metadata": {},
   "outputs": [],
   "source": [
    "# Debug模式\n",
    "def get_debug_data(data_path, sample_nums=10000):\n",
    "    all_clicks = pd.read_csv(os.path.join(data_path, 'train_click_log.csv'))\n",
    "    all_user_ids = all_clicks['user_id'].unique()\n",
    "\n",
    "    sampled_users = np.random.choice(all_user_ids, size=sample_nums, replace=False)\n",
    "    all_clicks = all_clicks[all_clicks['user_id'].isin(sampled_users)]\n",
    "    \n",
    "    all_clicks = all_clicks.drop_duplicates(['user_id', 'click_article_id', 'click_timestamp'])\n",
    "    return all_clicks\n",
    "\n",
    "# 线下或线上模式\n",
    "def get_all_data(data_path, offline=False):\n",
    "    if offline:\n",
    "        all_clicks = pd.read_csv(os.path.join(data_path, 'train_click_log.csv'))\n",
    "    else:\n",
    "        train_clicks = pd.read_csv(os.path.join(data_path, 'train_click_log.csv'))\n",
    "        test_clicks = pd.read_csv(os.path.join(data_path, 'testA_click_log.csv'))\n",
    "        \n",
    "        all_clicks = train_clicks.append(test_clicks)\n",
    "        \n",
    "    all_clicks = all_clicks.drop_duplicates(['user_id', 'click_article_id', 'click_timestamp'])\n",
    "    return all_clicks"
   ]
  },
  {
   "cell_type": "code",
   "execution_count": 4,
   "metadata": {},
   "outputs": [],
   "source": [
    "# 读取文章基本属性\n",
    "def get_item_info(data_path):\n",
    "    item_info = pd.read_csv(os.path.join(data_path, 'articles.csv'))\n",
    "    item_info.rename(columns={'article_id': 'click_article_id'}, inplace=True)\n",
    "    \n",
    "    return item_info"
   ]
  },
  {
   "cell_type": "code",
   "execution_count": 5,
   "metadata": {},
   "outputs": [],
   "source": [
    "# 根据article_id，获取Embedding\n",
    "def get_embedding_by_id(item_embedding, article_id):\n",
    "    return item_embedding[item_embedding['article_id']==article_id].iloc[:, 1:].values.reshape(-1)"
   ]
  },
  {
   "cell_type": "code",
   "execution_count": 6,
   "metadata": {},
   "outputs": [],
   "source": [
    "# 导入全量数据（离线），并对时间戳归一化\n",
    "all_clicks = get_all_data(data_path, offline=False)\n",
    "from sklearn.preprocessing import MinMaxScaler\n",
    "min_max_scaler = MinMaxScaler()\n",
    "all_clicks['click_timestamp'] = min_max_scaler.fit_transform(all_clicks[['click_timestamp']])"
   ]
  },
  {
   "cell_type": "code",
   "execution_count": 7,
   "metadata": {},
   "outputs": [],
   "source": [
    "# 导入文章信息\n",
    "item_info = get_item_info(data_path)"
   ]
  },
  {
   "cell_type": "code",
   "execution_count": 8,
   "metadata": {},
   "outputs": [],
   "source": [
    "# 导入文章Embedding数据\n",
    "item_embedding = pd.read_csv(os.path.join(data_path, 'articles_emb.csv'))\n",
    "item_embedding['article_id'] = item_embedding['article_id'].astype(np.int32)\n",
    "item_embedding.iloc[:, 1:] = item_embedding.iloc[:, 1:].astype(np.float32)"
   ]
  },
  {
   "cell_type": "code",
   "execution_count": 9,
   "metadata": {},
   "outputs": [],
   "source": [
    "# 构造 {用户：[(物品，时间), (物品，时间)]} 格式的字典，用于物品协同过滤\n",
    "def get_user_item_time_dict(df):\n",
    "    def make_item_time_pair(df):\n",
    "        return list(zip(df['click_article_id'], df['click_timestamp']))\n",
    "    \n",
    "    df = df.sort_values('click_timestamp')\n",
    "    user_item_time_df = df.groupby('user_id')[\n",
    "        'click_article_id', 'click_timestamp'].apply(\n",
    "        lambda x: make_item_time_pair(x)).reset_index().rename(columns={0: 'item_time_list'})\n",
    "    user_item_time_dict = dict(zip(user_item_time_df['user_id'], user_item_time_df['item_time_list']))\n",
    "    \n",
    "    return user_item_time_dict\n",
    "# 经过测试，功能正常"
   ]
  },
  {
   "cell_type": "code",
   "execution_count": 10,
   "metadata": {},
   "outputs": [],
   "source": [
    "# 构造 {文章：[(用户，时间), (用户，时间)]} 格式的字典，用于用户协同过滤\n",
    "def get_item_user_time_dict(df):\n",
    "    def make_user_time_pair(df):\n",
    "        return list(zip(df['user_id'], df['click_timestamp']))\n",
    "    \n",
    "    df = df.sort_values('click_timestamp')\n",
    "    item_user_time_df = df.groupby('click_article_id')[\n",
    "        'user_id', 'click_timestamp'].apply(\n",
    "        lambda x:make_user_time_pair(x)).reset_index().rename(columns={0: 'user_time_list'})\n",
    "    item_user_time_dict = dict(zip(item_user_time_df['click_article_id'], item_user_time_df['user_time_list']))\n",
    "    return item_user_time_dict\n",
    "# 经过测试，功能正常"
   ]
  },
  {
   "cell_type": "code",
   "execution_count": 11,
   "metadata": {},
   "outputs": [],
   "source": [
    "# 获取当前数据的历史点击和最后一次点击\n",
    "def get_hist_and_last_click(df):\n",
    "    df = df.sort_values(by=['user_id', 'click_timestamp'])\n",
    "    # 筛选出最后一个点击记录\n",
    "    click_last_df = df.groupby(by='user_id').tail(1)\n",
    "    \n",
    "    # 如果用户只有一个点击，hist为空了，会导致训练的时候这个用户不可见，此时默认泄露一下\n",
    "    def hist_func(df):\n",
    "        if (len(df) == 1):\n",
    "            return df\n",
    "        else:\n",
    "            return df[:-1]\n",
    "    \n",
    "    click_hist_df = df.groupby(by='user_id').apply(hist_func).reset_index(drop=True)\n",
    "    return click_hist_df, click_last_df\n",
    "# 经过测试，功能正常"
   ]
  },
  {
   "cell_type": "code",
   "execution_count": 12,
   "metadata": {},
   "outputs": [],
   "source": [
    "# 获取近期点击最多的前K个文章\n",
    "def get_topk_clicked_items(df, k):\n",
    "    return df['click_article_id'].value_counts().index[:k]\n",
    "# 经过测试，功能正常"
   ]
  },
  {
   "cell_type": "code",
   "execution_count": 13,
   "metadata": {},
   "outputs": [
    {
     "data": {
      "text/plain": [
       "(35380,)"
      ]
     },
     "execution_count": 13,
     "metadata": {},
     "output_type": "execute_result"
    }
   ],
   "source": [
    "all_clicks['click_article_id'].unique().shape"
   ]
  },
  {
   "cell_type": "markdown",
   "metadata": {},
   "source": [
    "## 4.2 多路召回的相似性计算\n",
    "\n",
    "包括：\n",
    "- usercf\n",
    "- itemcf\n",
    "- embedding\n",
    "- youtube nn\n",
    "- cold start"
   ]
  },
  {
   "cell_type": "markdown",
   "metadata": {},
   "source": [
    "### 4.2.1 usercf\n",
    "\n",
    "基于用户的协同过滤，思想是给用户推荐相似用户喜欢的物品（自己未交互过的）\n",
    "\n",
    "流程：\n",
    "- 构建 **用户-用户** 相似度矩阵（余弦相似度，共同喜欢的物品除以各个的规范项）\n",
    "- 基于相似度矩阵选择相似用户进行推荐\n",
    "\n",
    "此处相似度计算加上了用户活跃度的权重"
   ]
  },
  {
   "cell_type": "code",
   "execution_count": 14,
   "metadata": {},
   "outputs": [
    {
     "data": {
      "text/plain": [
       "'\\n代码无误，但全用户下计算太慢，而且会导致内存溢出。\\n而item相似度矩阵不会，因为item相似度中的item数量是35380，其它item都为被点击\\n如果要计算用户相似度矩阵，应该进行活跃度筛选，以降低用户数量\\n'"
      ]
     },
     "execution_count": 14,
     "metadata": {},
     "output_type": "execute_result"
    }
   ],
   "source": [
    "# 构造用户活跃度，活跃度取值为归一化的新闻点击次数\n",
    "def get_user_activate_degree(df):\n",
    "    click_counts = df.groupby('user_id')['click_article_id'].count().reset_index()\n",
    "    \n",
    "    min_max_scaler = MinMaxScaler()\n",
    "    click_counts['activate_w'] = min_max_scaler.fit_transform(click_counts[['click_article_id']])\n",
    "    \n",
    "    user_counts = dict(zip(click_counts['user_id'], click_counts['click_article_id']))\n",
    "    user_activate_degree = dict(zip(click_counts['user_id'], click_counts['activate_w']))\n",
    "    \n",
    "    return user_counts, user_activate_degree\n",
    "\n",
    "\n",
    "# 计算usercf中的用户相似度矩阵\n",
    "def usercf_user2user_sim(df):\n",
    "    item_user_time_dict = get_item_user_time_dict(df)\n",
    "    user_counts, user_activate_degree = get_user_activate_degree(df)\n",
    "    \n",
    "    u2u_sim = {}\n",
    "    for item, user_time_list in tqdm(item_user_time_dict.items()):\n",
    "        for u, click_time in user_time_list:\n",
    "            u2u_sim.setdefault(u, {})\n",
    "            for v, click_time in user_time_list:\n",
    "                u2u_sim[u].setdefault(v, 0)\n",
    "                if u == v:\n",
    "                    continue\n",
    "                # 用户平均活跃度作为活跃度的权重\n",
    "                activate_w = 100 * 0.5 * (user_activate_degree[u] + user_activate_degree[v])\n",
    "                u2u_sim[u][v] += activate_w / math.log(len(user_time_list) + 1)\n",
    "    for u, related_users in u2u_sim.items():\n",
    "        for v in related_users.keys():\n",
    "            u2u_sim[u][v] /= math.sqrt(user_counts[u] + user_counts[v])\n",
    "            \n",
    "    # 存储到本地\n",
    "    pickle.dump(u2u_sim, open(os.path.join(save_path, 'usercf_u2u_sim.pkl'), 'wb'))\n",
    "    \n",
    "    return u2u_sim\n",
    "\n",
    "'''\n",
    "代码无误，但全用户下计算太慢，而且会导致内存溢出。\n",
    "而item相似度矩阵不会，因为item相似度中的item数量是35380，其它item都为被点击\n",
    "如果要计算用户相似度矩阵，应该进行活跃度筛选，以降低用户数量\n",
    "'''"
   ]
  },
  {
   "cell_type": "markdown",
   "metadata": {},
   "source": [
    "### 4.2.2 itemcf\n",
    "\n",
    "前面虽然已经进行了实现，但使用的是最基本的余弦相似度，只是构建一个baseline。\n",
    "\n",
    "再次计算item2item相似度时，引入了一些其它的优化:\n",
    "- 位置间隔权重 loc_weight\n",
    "- 点击间隔时间权重 click_time_weight\n",
    "- 创建时间间隔权重 created_time_weight\n",
    "- 流行度惩罚 N\n",
    "\n",
    "相似度计算公式为：\n",
    "$$\n",
    "sim = \\sum \\frac{LocWeight * ClickTimeWeight * CreatedTimeWeight}{\\log(N+1)\\sqrt{|N(i)||N(j)|}}\n",
    "$$"
   ]
  },
  {
   "cell_type": "code",
   "execution_count": 15,
   "metadata": {},
   "outputs": [],
   "source": [
    "# 计算itemcf中的物品相似度矩阵，采用协同过滤+关联规则\n",
    "def itemcf_item2item_sim(df):\n",
    "    # 获取倒排表\n",
    "    user_item_time_dict = get_user_item_time_dict(df)\n",
    "    # 计算物品出现次数，以Series形式存储\n",
    "    item_counts = df['click_article_id'].value_counts()\n",
    "    # 计算物品创建时间，以Series形式存储\n",
    "    max_min_scaler = lambda x : (x-np.min(x))/(np.max(x)-np.min(x))\n",
    "    item_created_time = item_info[['created_at_ts']].apply(max_min_scaler)['created_at_ts']\n",
    "    # 计算物品相似度\n",
    "    i2i_sim = {}\n",
    "    for user, item_time_list in tqdm(user_item_time_dict.items()):\n",
    "        for loc1, (item, item_click_time) in enumerate(item_time_list):\n",
    "            i2i_sim.setdefault(item, {})\n",
    "            for loc2, (item_, item__click_time) in enumerate(item_time_list):\n",
    "                if item == item_:\n",
    "                    continue\n",
    "                \n",
    "                loc_alpha = 1.0 if loc2 > loc1 else 0.7\n",
    "                loc_weight = loc_alpha * (0.9 ** (np.abs(loc2 - loc1) - 1))\n",
    "                click_time_weight = np.exp(0.7 ** np.abs(item_click_time - item__click_time))\n",
    "                created_time_weight = np.exp(0.8 ** np.abs(item_created_time[item] - item_created_time[item_]))\n",
    "                i2i_sim[item].setdefault(item_, 0)\n",
    "                i2i_sim[item][item_] += loc_weight * click_time_weight * created_time_weight / math.log(len(item_time_list) + 1)\n",
    "    for i, related_items in i2i_sim.items():\n",
    "        for j, w_ij in related_items.items():\n",
    "            i2i_sim[i][j] /= math.sqrt(item_counts[i] * item_counts[j])\n",
    "    \n",
    "    pickle.dump(i2i_sim, open(os.path.join(save_path, 'itemcf_item2item_sim.pkl'), 'wb'))\n",
    "    print('{:=^40}'.format('全用户的物品相似度矩阵计算成功，并已写入到离线文件！'))\n",
    "    return i2i_sim\n"
   ]
  },
  {
   "cell_type": "markdown",
   "metadata": {},
   "source": [
    "### 4.2.3 embedding\n",
    "\n",
    "通过物品的Embedding计算物品（文章）之间的相似度，因为点击数据中相似度仅仅只有活跃物品，共35380个，而实际物品数量是364047个，存在大量物品未被点击，而这些是可能被点击到的。\n",
    "\n",
    "通过embedding相似度计算，可以找到相似、但从未被点击的物品（冷启动物品）"
   ]
  },
  {
   "cell_type": "code",
   "execution_count": 16,
   "metadata": {},
   "outputs": [
    {
     "name": "stdout",
     "output_type": "stream",
     "text": [
      "<class 'pandas.core.frame.DataFrame'>\n",
      "RangeIndex: 364047 entries, 0 to 364046\n",
      "Columns: 251 entries, article_id to emb_249\n",
      "dtypes: float32(250), int32(1)\n",
      "memory usage: 348.6 MB\n"
     ]
    }
   ],
   "source": [
    "item_embedding.info()"
   ]
  },
  {
   "cell_type": "code",
   "execution_count": 81,
   "metadata": {},
   "outputs": [],
   "source": [
    "def get_embedding_sim(df, item_embedding, topk=10):\n",
    "    \"\"\"\n",
    "        基于内容的文章embedding相似性矩阵计算\n",
    "        :param df: 数据表\n",
    "        :param item_emb_df: 文章的embedding\n",
    "        :param save_path: 保存路径\n",
    "        :patam topk: 找最相似的topk篇\n",
    "        return 文章相似性矩阵\n",
    "        \n",
    "        思路: 对于每一篇文章， 基于embedding的相似性返回topk个与其最相似的文章， 只不过由于文章数量太多，这里用了faiss进行加速\n",
    "    \"\"\"\n",
    "    # 构建索引与文章的映射\n",
    "    item_index2_raw_id_dict = dict(zip(item_embedding.index, item_embedding['article_id']))\n",
    "    \n",
    "    item_embedding_cols = [x for x in item_embedding.columns if 'emb' in x]\n",
    "    item_embedding_np = np.ascontiguousarray(item_embedding[item_embedding_cols].values, dtype=np.float32)\n",
    "    item_embedding_np = item_embedding_np / np.linalg.norm(item_embedding_np, axis=1, keepdims=True)\n",
    "    \n",
    "    # 建立faiss索引\n",
    "    item_index = faiss.IndexFlatIP(item_embedding_np.shape[1])\n",
    "    item_index.add(item_embedding_np)\n",
    "    # 相似度查询，给每个索引位置的向量返回topk个item以及相似度 (返回的是列表)\n",
    "    sim, idx = item_index.search(item_embedding_np, topk+1)\n",
    "    \n",
    "    # 将向量检索的结果保存成原始id的对应关系\n",
    "    item_sim_dict = collections.defaultdict(dict)\n",
    "    for target_idx, sim_value_list, rele_idx_list in tqdm(zip(range(len(item_embedding_np)), sim, idx)):\n",
    "        target_raw_id = item_index2_raw_id_dict[target_idx]\n",
    "        # 从1开始是为了去掉商品本身, 所以最终获得的相似商品只有topk-1\n",
    "        for rele_idx, sim_value in zip(rele_idx_list[1:], sim_value_list[1:]): \n",
    "            rele_raw_id = item_index2_raw_id_dict[rele_idx]\n",
    "            item_sim_dict[target_raw_id][rele_raw_id] = item_sim_dict.get(target_raw_id, {}).get(rele_raw_id, 0) + sim_value\n",
    "    \n",
    "    # 保存i2i相似度矩阵\n",
    "    pickle.dump(item_sim_dict, open(os.path.join(save_path, 'emb_i2i_sim.pkl'), 'wb'))   \n",
    "    print('{:=^40}'.format('全用户的物品embedding相似度矩阵计算成功，并已写入到离线文件！'))\n",
    "    return item_sim_dict"
   ]
  },
  {
   "cell_type": "code",
   "execution_count": 82,
   "metadata": {},
   "outputs": [
    {
     "name": "stderr",
     "output_type": "stream",
     "text": [
      "364047it [00:13, 26788.68it/s]\n"
     ]
    },
    {
     "name": "stdout",
     "output_type": "stream",
     "text": [
      "==全用户的物品embedding相似度矩阵计算成功，并已写入到离线文件！===\n"
     ]
    }
   ],
   "source": [
    "embedding_i2i_sim = get_embedding_sim(all_clicks, item_embedding)"
   ]
  },
  {
   "cell_type": "code",
   "execution_count": 83,
   "metadata": {},
   "outputs": [
    {
     "data": {
      "text/plain": [
       "{3782: 0.8811300992965698,\n",
       " 3795: 0.8786486983299255,\n",
       " 2903: 0.875537097454071,\n",
       " 2038: 0.8748056292533875,\n",
       " 3193: 0.8691880702972412,\n",
       " 1967: 0.8674073219299316,\n",
       " 3807: 0.865835964679718,\n",
       " 3202: 0.8636599183082581,\n",
       " 3428: 0.8607038259506226,\n",
       " 4325: 0.8587755560874939}"
      ]
     },
     "execution_count": 83,
     "metadata": {},
     "output_type": "execute_result"
    }
   ],
   "source": [
    "embedding_i2i_sim[2]"
   ]
  },
  {
   "cell_type": "markdown",
   "metadata": {},
   "source": [
    "## 4.3 构建多路召回字典\n",
    "\n",
    "定义多路召回字典，将各路召回结果都放在里面"
   ]
  },
  {
   "cell_type": "code",
   "execution_count": 18,
   "metadata": {},
   "outputs": [],
   "source": [
    "multi_item_recall_dict = {'itemcf_sim_recall': {},\n",
    "                    'embedding_sim_recall': {},\n",
    "                    'youtubednn_recall': {},\n",
    "                    'youtubednn_usercf_recall': {},\n",
    "                    'cold_start_recall': {}}"
   ]
  },
  {
   "cell_type": "markdown",
   "metadata": {},
   "source": [
    "### 4.3.1 itemcf召回"
   ]
  },
  {
   "cell_type": "code",
   "execution_count": 19,
   "metadata": {},
   "outputs": [],
   "source": [
    "# itemcf根据user召回items\n",
    "def item_based_recommend(user_id, sim_item_topk, recall_item_num, \n",
    "                         user_item_time_dict, i2i_sim, \n",
    "                         item_topk_click, item_created_time, embedding_i2i_sim):\n",
    "    \"\"\"\n",
    "    基于文章协同过滤的召回\n",
    "    :param user_id: 用户id\n",
    "    :param user_item_time_dict: 字典, 根据点击时间获取用户的点击文章序列   {user1: [(item1, time1), (item2, time2)..]...}\n",
    "    :param i2i_sim: 字典，文章相似性矩阵\n",
    "    :param sim_item_topk: 整数， 选择与当前文章最相似的前k篇文章\n",
    "    :param recall_item_num: 整数， 最后的召回文章数量\n",
    "    :param item_topk_click: 列表，点击次数最多的文章列表，用户召回补全\n",
    "    :param emb_i2i_sim: 字典基于内容embedding算的文章相似矩阵\n",
    "\n",
    "    return: 召回的文章列表 [(item1, score1), (item2, score2)...]\n",
    "    \"\"\"\n",
    "    user_hist_items = user_item_time_dict[user_id]\n",
    "    user_hist_items_ = {user_id for user_id, _ in user_hist_items}\n",
    "    \n",
    "    item_rank = {}\n",
    "    for loc, (item_u, click_time) in enumerate(user_hist_items):\n",
    "        for item_v, w_ij in sorted(i2i_sim[item_u].items(), \n",
    "                                   key=lambda x: x[1], reverse=True)[: sim_item_topk]:\n",
    "            if item_v in user_hist_items_:\n",
    "                continue\n",
    "            # 创建文章时间差权重\n",
    "            created_time_weight = np.exp(0.8 ** np.abs(item_created_time[item_u] - item_created_time[item_v]))\n",
    "            # 相似文章和历史点击文章序列中文章所在的位置权重\n",
    "            loc_weight = 0.9 ** (len(user_hist_items) - loc)\n",
    "            \n",
    "            content_weight = 1.0\n",
    "            if embedding_i2i_sim.get(item_u, {}).get(item_v, None) is not None:\n",
    "                content_weight += embedding_i2i_sim[item_u][item_v]\n",
    "            if embedding_i2i_sim.get(item_v, {}).get(item_u, None) is not None:\n",
    "                content_weight += embedding_i2i_sim[item_v][item_u]\n",
    "            \n",
    "            item_rank.setdefault(item_v, 0)\n",
    "            item_rank[item_v] += created_time_weight * loc_weight * content_weight * w_ij\n",
    "    \n",
    "    # 不足个数，用热门商品补全\n",
    "    if len(item_rank) < recall_item_num:\n",
    "        for i, item in enumerate(item_topk_click):\n",
    "            if item in item_rank.items():\n",
    "                continue\n",
    "            item_rank[item] = -i\n",
    "            if len(item_rank) == recall_item_num:\n",
    "                break\n",
    "    item_rank = sorted(item_rank.items(), key=lambda x: x[1], reverse=True)[: recall_item_num]\n",
    "    return item_rank"
   ]
  },
  {
   "cell_type": "markdown",
   "metadata": {},
   "source": [
    "----\n",
    "\n",
    "**导入数据，开始召回**\n",
    "\n",
    "----"
   ]
  },
  {
   "cell_type": "code",
   "execution_count": 20,
   "metadata": {},
   "outputs": [],
   "source": [
    "user_item_time_dict = get_user_item_time_dict(all_clicks)\n",
    "max_min_scaler = lambda x : (x-np.min(x))/(np.max(x)-np.min(x))\n",
    "item_created_time = item_info[['created_at_ts']].apply(max_min_scaler)['created_at_ts']\n",
    "topk_clicked_items = get_topk_clicked_items(all_clicks, 20)\n",
    "i2i_sim = pickle.load(open(os.path.join(save_path, 'itemcf_item2item_sim.pkl'), 'rb'))\n",
    "embedding_i2i_sim = pickle.load(open(os.path.join(save_path, 'emb_i2i_sim.pkl'), 'rb'))\n",
    "sim_item_topk = 20\n",
    "recall_item_num = 10"
   ]
  },
  {
   "cell_type": "code",
   "execution_count": 21,
   "metadata": {},
   "outputs": [
    {
     "name": "stderr",
     "output_type": "stream",
     "text": [
      "100%|██████████| 250000/250000 [1:07:26<00:00, 61.79it/s]\n"
     ]
    }
   ],
   "source": [
    "# 召回所有用户的items\n",
    "def recall_itemcf_items():\n",
    "    train_hist_clicks, train_last_click = get_hist_and_last_click(all_clicks)\n",
    "    user_recall_items_dict = collections.defaultdict(dict)\n",
    "\n",
    "    user_item_time_dict = get_user_item_time_dict(train_hist_clicks)\n",
    "    sim_item_topk = 20\n",
    "    recall_item_num = 10\n",
    "    topk_clicked_items = get_topk_clicked_items(train_hist_clicks, k=50)\n",
    "\n",
    "    for user in tqdm(train_hist_clicks['user_id'].unique()):\n",
    "        user_recall_items_dict[user] = item_based_recommend(user, sim_item_topk, recall_item_num, user_item_time_dict, i2i_sim, topk_clicked_items, item_created_time, embedding_i2i_sim)\n",
    "\n",
    "    multi_item_recall_dict['itemcf_sim_recall'] = user_recall_items_dict\n",
    "    pickle.dump(user_recall_items_dict, open(os.path.join(save_path, 'itemcf_recall_dict.pkl'), 'wb'))"
   ]
  },
  {
   "cell_type": "code",
   "execution_count": 29,
   "metadata": {},
   "outputs": [
    {
     "data": {
      "text/plain": [
       "[(36162, 1.7879178848767796),\n",
       " (211442, 1.0236542288113257),\n",
       " (209122, 0.9643052935207357),\n",
       " (156279, 0.8202088277258655),\n",
       " (70986, 0.7307442352120328)]"
      ]
     },
     "execution_count": 29,
     "metadata": {},
     "output_type": "execute_result"
    }
   ],
   "source": [
    "item_based_recommend(10, 10, 5, user_item_time_dict, i2i_sim, None, item_created_time, embedding_i2i_sim)"
   ]
  },
  {
   "cell_type": "code",
   "execution_count": 55,
   "metadata": {},
   "outputs": [],
   "source": [
    "def save_file(df, save_path, model):\n",
    "    save_name = os.path.join(save_path, model + '_' + datetime.datetime.today().strftime('%y-%m-%d') + '.csv')\n",
    "    df.to_csv(save_name, index=False, header=True)"
   ]
  },
  {
   "cell_type": "code",
   "execution_count": 58,
   "metadata": {},
   "outputs": [],
   "source": [
    "# 输出用于提交线上测试的csv数据\n",
    "def test_items_predict(recall_dict, topk=5):\n",
    "    test_recall_list = []\n",
    "    test_clicks = pd.read_csv(os.path.join(data_path, 'testA_click_log.csv'))\n",
    "    for user in tqdm(test_clicks['user_id'].unique()):\n",
    "        top_k_items = [item for item, _ in recall_dict[user]][:topk]\n",
    "    #     top_k_items = [item for item, _ in item_based_recommend(user, 10, 5, user_item_time_dict, i2i_sim, topk_clicked_items, item_created_time, embedding_i2i_sim)]\n",
    "        test_recall_list.append((user, *top_k_items))\n",
    "    test_recall_df = pd.DataFrame(test_recall_list, \n",
    "                                  columns=['user_id','article_1','article_2','article_3','article_4','article_5'])\n",
    "    save_file(test_recall_df, save_path, 'itemcf')"
   ]
  },
  {
   "cell_type": "markdown",
   "metadata": {},
   "source": [
    "### 4.3.2 embedding sim召回"
   ]
  },
  {
   "cell_type": "code",
   "execution_count": 78,
   "metadata": {},
   "outputs": [
    {
     "data": {
      "text/plain": [
       "{77608: 0.8903070688247681,\n",
       " 77965: 0.8881016969680786,\n",
       " 77610: 0.8859948515892029,\n",
       " 77974: 0.8822700381278992,\n",
       " 83769: 0.8771183490753174,\n",
       " 77383: 0.8734965920448303,\n",
       " 77296: 0.8730965852737427,\n",
       " 77283: 0.8729653358459473,\n",
       " 77978: 0.8696216940879822}"
      ]
     },
     "execution_count": 78,
     "metadata": {},
     "output_type": "execute_result"
    }
   ],
   "source": [
    "embedding_i2i_sim[0]"
   ]
  },
  {
   "cell_type": "code",
   "execution_count": 208,
   "metadata": {},
   "outputs": [],
   "source": [
    "# 直接根据embedding内容根据用户id进行召回，即前面计算的Embedding相似度，\n",
    "def embedding_bases_recommend(user_id, user_item_time_dict, embedding_i2i_sim, \n",
    "                              sim_item_topk, recall_item_num, item_topk_click):\n",
    "    user_hist_items = user_item_time_dict[user_id]\n",
    "    user_hist_items_ = {user_id for user_id, _ in user_hist_items}\n",
    "    \n",
    "    item_rank = {}\n",
    "    for loc, (item_u, click_time) in enumerate(user_hist_items):\n",
    "        for item_v, w_ij in sorted(embedding_i2i_sim[item_u].items(), \n",
    "                                   key=lambda x: x[1], reverse=True)[: sim_item_topk]:\n",
    "            if item_v in user_hist_items_:\n",
    "                continue     \n",
    "            item_rank.setdefault(item_v, 0)\n",
    "            item_rank[item_v] += w_ij\n",
    "    \n",
    "    # 不足个数，用热门商品补全\n",
    "    if len(item_rank) < recall_item_num:\n",
    "        for i, item in enumerate(item_topk_click):\n",
    "            if item in item_rank.items():\n",
    "                continue\n",
    "            item_rank[item] = -i\n",
    "            if len(item_rank) == recall_item_num:\n",
    "                break\n",
    "    item_rank = sorted(item_rank.items(), key=lambda x: x[1], reverse=True)[: recall_item_num]\n",
    "    return item_rank\n",
    "\n",
    "def recall_itemembedding_items(embedding_i2i_sim, sim_item_topk=20, recall_item_num=10):\n",
    "    train_hist_clicks, train_last_click = get_hist_and_last_click(all_clicks)\n",
    "    user_recall_items_dict = collections.defaultdict(dict)\n",
    "\n",
    "    user_item_time_dict = get_user_item_time_dict(train_hist_clicks)\n",
    "\n",
    "    topk_clicked_items = get_topk_clicked_items(train_hist_clicks, k=50)\n",
    "\n",
    "    for user in tqdm(train_hist_clicks['user_id'].unique()):\n",
    "        user_recall_items_dict[user] = embedding_bases_recommend(user, user_item_time_dict,\n",
    "                                                                 embedding_i2i_sim, sim_item_topk, \n",
    "                                                                 recall_item_num, topk_clicked_items)\n",
    "    multi_item_recall_dict['embedding_sim_recall'] = user_recall_items_dict\n",
    "    pickle.dump(user_recall_items_dict, open(os.path.join(save_path, 'embedding_recall_dict.pkl'), 'wb'))\n",
    "    print('{:=^40}'.format('基于embedding的物品召回计算成功，并已写入到离线文件！'))"
   ]
  },
  {
   "cell_type": "code",
   "execution_count": 217,
   "metadata": {},
   "outputs": [
    {
     "name": "stderr",
     "output_type": "stream",
     "text": [
      "100%|██████████| 250000/250000 [00:15<00:00, 15816.99it/s]\n"
     ]
    },
    {
     "name": "stdout",
     "output_type": "stream",
     "text": [
      "====基于embedding的物品召回计算成功，并已写入到离线文件！=====\n"
     ]
    }
   ],
   "source": [
    "recall_itemembedding_items(embedding_i2i_sim)"
   ]
  },
  {
   "cell_type": "markdown",
   "metadata": {},
   "source": [
    "### 4.3.3 youtube模型与召回"
   ]
  },
  {
   "cell_type": "code",
   "execution_count": 91,
   "metadata": {},
   "outputs": [
    {
     "data": {
      "text/plain": [
       "dict_keys(['itemcf_sim_recall', 'embeddingg_sim_recall', 'cold_start_recall', 'embedding_sim_recall', 'youtubednn_recall'])"
      ]
     },
     "execution_count": 91,
     "metadata": {},
     "output_type": "execute_result"
    }
   ],
   "source": [
    "multi_item_recall_dict.keys()"
   ]
  },
  {
   "cell_type": "code",
   "execution_count": 100,
   "metadata": {},
   "outputs": [],
   "source": [
    "from deepmatch.models import *\n",
    "from deepmatch.utils import sampledsoftmaxloss\n",
    "from sklearn.preprocessing import LabelEncoder\n",
    "from deepctr.feature_column import SparseFeat, VarLenSparseFeat\n",
    "from tensorflow.keras import backend as K\n",
    "from tensorflow.keras.models import Model\n",
    "from tensorflow.keras.preprocessing.sequence import pad_sequences"
   ]
  },
  {
   "cell_type": "code",
   "execution_count": 101,
   "metadata": {},
   "outputs": [],
   "source": [
    "import random\n",
    "# 获取双塔召回时的训练验证数据\n",
    "# negsample指的是通过滑窗构建样本的时候，负样本的数量\n",
    "def gen_data_set(data, negsample=0):\n",
    "    data.sort_values(\"click_timestamp\", inplace=True)\n",
    "    item_ids = data['click_article_id'].unique()\n",
    "\n",
    "    train_set = []\n",
    "    test_set = []\n",
    "    for reviewerID, hist in tqdm(data.groupby('user_id')):\n",
    "        pos_list = hist['click_article_id'].tolist()\n",
    "        \n",
    "        if negsample > 0:\n",
    "            candidate_set = list(set(item_ids) - set(pos_list))   # 用户没看过的文章里面选择负样本\n",
    "            neg_list = np.random.choice(candidate_set,size=len(pos_list)*negsample,replace=True)  # 对于每个正样本，选择n个负样本\n",
    "            \n",
    "        # 长度只有一个的时候，需要把这条数据也放到训练集中，不然的话最终学到的embedding就会有缺失\n",
    "        if len(pos_list) == 1:\n",
    "            train_set.append((reviewerID, [pos_list[0]], pos_list[0],1,len(pos_list)))\n",
    "            test_set.append((reviewerID, [pos_list[0]], pos_list[0],1,len(pos_list)))\n",
    "            \n",
    "        # 滑窗构造正负样本\n",
    "        for i in range(1, len(pos_list)):\n",
    "            hist = pos_list[:i]\n",
    "            \n",
    "            if i != len(pos_list) - 1:\n",
    "                train_set.append((reviewerID, hist[::-1], pos_list[i], 1, len(hist[::-1])))  # 正样本 [user_id, his_item, pos_item, label, len(his_item)]\n",
    "                for negi in range(negsample):\n",
    "                    train_set.append((reviewerID, hist[::-1], neg_list[i*negsample+negi], 0,len(hist[::-1]))) # 负样本 [user_id, his_item, neg_item, label, len(his_item)]\n",
    "            else:\n",
    "                # 将最长的那一个序列长度作为测试数据\n",
    "                test_set.append((reviewerID, hist[::-1], pos_list[i],1,len(hist[::-1])))\n",
    "                \n",
    "    random.shuffle(train_set)\n",
    "    random.shuffle(test_set)\n",
    "    \n",
    "    return train_set, test_set\n",
    "\n",
    "# 将输入的数据进行padding，使得序列特征的长度都一致\n",
    "def gen_model_input(train_set,user_profile,seq_max_len):\n",
    "\n",
    "    train_uid = np.array([line[0] for line in train_set])\n",
    "    train_seq = [line[1] for line in train_set]\n",
    "    train_iid = np.array([line[2] for line in train_set])\n",
    "    train_label = np.array([line[3] for line in train_set])\n",
    "    train_hist_len = np.array([line[4] for line in train_set])\n",
    "\n",
    "    train_seq_pad = pad_sequences(train_seq, maxlen=seq_max_len, padding='post', truncating='post', value=0)\n",
    "    train_model_input = {\"user_id\": train_uid, \"click_article_id\": train_iid, \"hist_article_id\": train_seq_pad,\n",
    "                         \"hist_len\": train_hist_len}\n",
    "\n",
    "    return train_model_input, train_label"
   ]
  },
  {
   "cell_type": "code",
   "execution_count": 183,
   "metadata": {},
   "outputs": [],
   "source": [
    "def youtubednn_u2i_dict(data, topk=10):    \n",
    "    sparse_features = [\"click_article_id\", \"user_id\"]\n",
    "    SEQ_LEN = 20 # 用户点击序列的长度，短的填充，长的截断\n",
    "    \n",
    "    user_profile_ = data[[\"user_id\"]].drop_duplicates('user_id')\n",
    "    item_profile_ = data[[\"click_article_id\"]].drop_duplicates('click_article_id')  \n",
    "    \n",
    "    # 类别编码\n",
    "    features = [\"click_article_id\", \"user_id\"]\n",
    "    feature_max_idx = {}\n",
    "    \n",
    "    for feature in features:\n",
    "        lbe = LabelEncoder()\n",
    "        data[feature] = lbe.fit_transform(data[feature])\n",
    "        feature_max_idx[feature] = data[feature].max() + 1\n",
    "    \n",
    "    # 提取user和item的画像，这里具体选择哪些特征还需要进一步的分析和考虑\n",
    "    user_profile = data[[\"user_id\"]].drop_duplicates('user_id')\n",
    "    item_profile = data[[\"click_article_id\"]].drop_duplicates('click_article_id')  \n",
    "    \n",
    "    user_index_2_rawid = dict(zip(user_profile['user_id'], user_profile_['user_id']))\n",
    "    item_index_2_rawid = dict(zip(item_profile['click_article_id'], item_profile_['click_article_id']))\n",
    "    \n",
    "    # 划分训练和测试集\n",
    "    # 由于深度学习需要的数据量通常都是非常大的，所以为了保证召回的效果，往往会通过滑窗的形式扩充训练样本\n",
    "    train_set, test_set = gen_data_set(data, 0)\n",
    "    # 整理输入数据，具体的操作可以看上面的函数\n",
    "    train_model_input, train_label = gen_model_input(train_set, user_profile, SEQ_LEN)\n",
    "    test_model_input, test_label = gen_model_input(test_set, user_profile, SEQ_LEN)\n",
    "    \n",
    "    # 确定Embedding的维度\n",
    "    embedding_dim = 16\n",
    "    \n",
    "    # 将数据整理成模型可以直接输入的形式\n",
    "    user_feature_columns = [SparseFeat('user_id', feature_max_idx['user_id'], embedding_dim),\n",
    "                            VarLenSparseFeat(SparseFeat('hist_article_id', feature_max_idx['click_article_id'], embedding_dim,\n",
    "                                                        embedding_name=\"click_article_id\"), SEQ_LEN, 'mean', 'hist_len'),]\n",
    "    item_feature_columns = [SparseFeat('click_article_id', feature_max_idx['click_article_id'], embedding_dim)]\n",
    "    \n",
    "    # 模型的定义 \n",
    "    if tf.__version__ >= '2.0.0':\n",
    "        tf.compat.v1.disable_eager_execution()\n",
    "    # num_sampled: 负采样时的样本数量\n",
    "    model = YoutubeDNN(user_feature_columns, item_feature_columns, num_sampled=5, user_dnn_hidden_units=(64, embedding_dim))\n",
    "    # 模型编译\n",
    "    model.compile(optimizer=\"adam\", loss=sampledsoftmaxloss)  \n",
    "    \n",
    "    # 模型训练，这里可以定义验证集的比例，如果设置为0的话就是全量数据直接进行训练\n",
    "    history = model.fit(train_model_input, train_label, batch_size=256, epochs=1, verbose=1, validation_split=0.0)\n",
    "    \n",
    "    # 训练完模型之后,提取训练的Embedding，包括user端和item端\n",
    "    test_user_model_input = test_model_input\n",
    "    all_item_model_input = {\"click_article_id\": item_profile['click_article_id'].values}\n",
    "\n",
    "    user_embedding_model = Model(inputs=model.user_input, outputs=model.user_embedding)\n",
    "    item_embedding_model = Model(inputs=model.item_input, outputs=model.item_embedding)\n",
    "    \n",
    "    # 保存当前的item_embedding 和 user_embedding 排序的时候可能能够用到，但是需要注意保存的时候需要和原始的id对应\n",
    "    user_embs = user_embedding_model.predict(test_user_model_input, batch_size=2 ** 12)\n",
    "    item_embs = item_embedding_model.predict(all_item_model_input, batch_size=2 ** 12)\n",
    "    \n",
    "    # embedding保存之前归一化一下\n",
    "    user_embs = user_embs / np.linalg.norm(user_embs, axis=1, keepdims=True)\n",
    "    item_embs = item_embs / np.linalg.norm(item_embs, axis=1, keepdims=True)\n",
    "    \n",
    "    # 将Embedding转换成字典的形式方便查询\n",
    "    raw_user_id_emb_dict = {user_index_2_rawid[k]: \\\n",
    "                                v for k, v in zip(user_profile['user_id'], user_embs)}\n",
    "    raw_item_id_emb_dict = {item_index_2_rawid[k]: \\\n",
    "                                v for k, v in zip(item_profile['click_article_id'], item_embs)}\n",
    "    # 将Embedding保存到本地\n",
    "    pickle.dump(raw_user_id_emb_dict, open(save_path + 'user_youtube_emb.pkl', 'wb'))\n",
    "    print('{:=^40}'.format('YoutubeDNN召回模型用户Embedding计算成功，并已写入到离线文件！'))\n",
    "    pickle.dump(raw_item_id_emb_dict, open(save_path + 'item_youtube_emb.pkl', 'wb'))\n",
    "    print('{:=^40}'.format('YoutubeDNN召回模型物品Embedding计算成功，并已写入到离线文件！'))\n",
    "    # faiss紧邻搜索，通过user_embedding 搜索与其相似性最高的topk个item\n",
    "    index = faiss.IndexFlatIP(embedding_dim)\n",
    "    # 上面已经进行了归一化，这里可以不进行归一化了\n",
    "#     faiss.normalize_L2(user_embs)\n",
    "#     faiss.normalize_L2(item_embs)\n",
    "    index.add(item_embs) # 将item向量构建索引\n",
    "    sim, idx = index.search(np.ascontiguousarray(user_embs), topk) # 通过user去查询最相似的topk个item\n",
    "    \n",
    "    user_recall_items_dict = collections.defaultdict(dict)\n",
    "    for target_idx, sim_value_list, rele_idx_list in tqdm(zip(test_user_model_input['user_id'], sim, idx)):\n",
    "        target_raw_id = user_index_2_rawid[target_idx]\n",
    "        # 从1开始是为了去掉商品本身, 所以最终获得的相似商品只有topk-1\n",
    "        for rele_idx, sim_value in zip(rele_idx_list[1:], sim_value_list[1:]): \n",
    "            rele_raw_id = item_index_2_rawid[rele_idx]\n",
    "            user_recall_items_dict[target_raw_id][rele_raw_id] = user_recall_items_dict.get(target_raw_id, {})\\\n",
    "                                                                    .get(rele_raw_id, 0) + sim_value\n",
    "            \n",
    "    user_recall_items_dict = {k: sorted(v.items(), key=lambda x: x[1], reverse=True) for k, v in user_recall_items_dict.items()}\n",
    "    # 将召回的结果进行排序\n",
    "    \n",
    "    # 保存召回的结果\n",
    "    # 这里是直接通过向量的方式得到了召回结果，相比于上面的召回方法，上面的只是得到了i2i及u2u的相似性矩阵，还需要进行协同过滤召回才能得到召回结果\n",
    "    # 可以直接对这个召回结果进行评估，为了方便可以统一写一个评估函数对所有的召回结果进行评估\n",
    "    pickle.dump(user_recall_items_dict, open(save_path + 'youtube_u2i_dict.pkl', 'wb'))\n",
    "    print('{:=^40}'.format('YoutubeDNN召回结果计算成功，并已写入到离线文件！'))\n",
    "    \n",
    "    return user_recall_items_dict"
   ]
  },
  {
   "cell_type": "code",
   "execution_count": 184,
   "metadata": {},
   "outputs": [
    {
     "name": "stderr",
     "output_type": "stream",
     "text": [
      "100%|██████████| 250000/250000 [00:54<00:00, 4574.02it/s]\n"
     ]
    },
    {
     "name": "stdout",
     "output_type": "stream",
     "text": [
      "Train on 1077081 samples\n",
      "1077081/1077081 [==============================] - 185s 172us/sample - loss: 0.1556\n",
      "YoutubeDNN召回模型用户Embedding计算成功，并已写入到离线文件！\n",
      "YoutubeDNN召回模型物品Embedding计算成功，并已写入到离线文件！\n"
     ]
    },
    {
     "name": "stderr",
     "output_type": "stream",
     "text": [
      "250000it [00:08, 28968.84it/s]\n"
     ]
    },
    {
     "name": "stdout",
     "output_type": "stream",
     "text": [
      "=====YoutubeDNN召回结果计算成功，并已写入到离线文件！======\n"
     ]
    }
   ],
   "source": [
    "multi_item_recall_dict['youtubednn_recall'] = youtubednn_u2i_dict(train_hist_clicks)"
   ]
  },
  {
   "cell_type": "markdown",
   "metadata": {},
   "source": [
    "### 4.3.4 usercf（youtubednn embedding sim）召回"
   ]
  },
  {
   "cell_type": "code",
   "execution_count": 122,
   "metadata": {},
   "outputs": [
    {
     "name": "stderr",
     "output_type": "stream",
     "text": [
      "250000it [00:09, 25311.12it/s]\n"
     ]
    }
   ],
   "source": [
    "# 使用Embedding的方式获取u2u的相似性矩阵\n",
    "# topk指的是每个user, faiss搜索后返回最相似的topk个user\n",
    "def u2u_embdding_sim(click_df, user_emb_dict, save_path, topk):\n",
    "    \n",
    "    user_list = []\n",
    "    user_emb_list = []\n",
    "    for user_id, user_emb in user_emb_dict.items():\n",
    "        user_list.append(user_id)\n",
    "        user_emb_list.append(user_emb)\n",
    "        \n",
    "    user_index_2_rawid_dict = {k: v for k, v in zip(range(len(user_list)), user_list)}    \n",
    "    \n",
    "    user_emb_np = np.array(user_emb_list, dtype=np.float32)\n",
    "    \n",
    "    # 建立faiss索引\n",
    "    user_index = faiss.IndexFlatIP(user_emb_np.shape[1])\n",
    "    user_index.add(user_emb_np)\n",
    "    # 相似度查询，给每个索引位置上的向量返回topk个item以及相似度\n",
    "    sim, idx = user_index.search(user_emb_np, topk+1) # 返回的是列表\n",
    "   \n",
    "    # 将向量检索的结果保存成原始id的对应关系\n",
    "    user_sim_dict = collections.defaultdict(dict)\n",
    "    for target_idx, sim_value_list, rele_idx_list in tqdm(zip(range(len(user_emb_np)), sim, idx)):\n",
    "        target_raw_id = user_index_2_rawid_dict[target_idx]\n",
    "        # 从1开始是为了去掉商品本身, 所以最终获得的相似商品只有topk-1\n",
    "        for rele_idx, sim_value in zip(rele_idx_list[1:], sim_value_list[1:]): \n",
    "            rele_raw_id = user_index_2_rawid_dict[rele_idx]\n",
    "            user_sim_dict[target_raw_id][rele_raw_id] = user_sim_dict.get(target_raw_id, {}).get(rele_raw_id, 0) + sim_value\n",
    "    \n",
    "    # 保存i2i相似度矩阵\n",
    "    pickle.dump(user_sim_dict, open(save_path + 'youtube_u2u_sim.pkl', 'wb'))   \n",
    "    return user_sim_dict\n",
    "\n",
    "user_emb_dict = pickle.load(open(save_path + 'user_youtube_emb.pkl', 'rb'))\n",
    "u2u_sim = u2u_embdding_sim(all_clicks, user_emb_dict, save_path, topk=10)"
   ]
  },
  {
   "cell_type": "code",
   "execution_count": 124,
   "metadata": {},
   "outputs": [],
   "source": [
    "# 基于用户的召回 u2u2i\n",
    "def user_based_recommend(user_id, user_item_time_dict, u2u_sim, sim_user_topk, recall_item_num, \n",
    "                         item_topk_click, item_created_time_dict, emb_i2i_sim):\n",
    "    \"\"\"\n",
    "        基于文章协同过滤的召回\n",
    "        :param user_id: 用户id\n",
    "        :param user_item_time_dict: 字典, 根据点击时间获取用户的点击文章序列   {user1: [(item1, time1), (item2, time2)..]...}\n",
    "        :param u2u_sim: 字典，文章相似性矩阵\n",
    "        :param sim_user_topk: 整数， 选择与当前用户最相似的前k个用户\n",
    "        :param recall_item_num: 整数， 最后的召回文章数量\n",
    "        :param item_topk_click: 列表，点击次数最多的文章列表，用户召回补全\n",
    "        :param item_created_time_dict: 文章创建时间列表\n",
    "        :param emb_i2i_sim: 字典基于内容embedding算的文章相似矩阵\n",
    "        \n",
    "        return: 召回的文章列表 [(item1, score1), (item2, score2)...]\n",
    "    \"\"\"\n",
    "    # 历史交互\n",
    "    user_item_time_list = user_item_time_dict[user_id]    #  [(item1, time1), (item2, time2)..]\n",
    "    user_hist_items = set([i for i, t in user_item_time_list])   # 存在一个用户与某篇文章的多次交互， 这里得去重\n",
    "    \n",
    "    items_rank = {}\n",
    "    for sim_u, wuv in sorted(u2u_sim[user_id].items(), key=lambda x: x[1], reverse=True)[:sim_user_topk]:\n",
    "        for i, click_time in user_item_time_dict[sim_u]:\n",
    "            if i in user_hist_items:\n",
    "                continue\n",
    "            items_rank.setdefault(i, 0)\n",
    "            \n",
    "            loc_weight = 1.0\n",
    "            content_weight = 1.0\n",
    "            created_time_weight = 1.0\n",
    "            \n",
    "            # 当前文章与该用户看的历史文章进行一个权重交互\n",
    "            for loc, (j, click_time) in enumerate(user_item_time_list):\n",
    "                # 点击时的相对位置权重\n",
    "                loc_weight += 0.9 ** (len(user_item_time_list) - loc)\n",
    "                # 内容相似性权重\n",
    "                if emb_i2i_sim.get(i, {}).get(j, None) is not None:\n",
    "                    content_weight += emb_i2i_sim[i][j]\n",
    "                if emb_i2i_sim.get(j, {}).get(i, None) is not None:\n",
    "                    content_weight += emb_i2i_sim[j][i]\n",
    "                \n",
    "                # 创建时间差权重\n",
    "                created_time_weight += np.exp(0.8 * np.abs(item_created_time_dict[i] - item_created_time_dict[j]))\n",
    "                \n",
    "            items_rank[i] += loc_weight * content_weight * created_time_weight * wuv\n",
    "        \n",
    "    # 热度补全\n",
    "    if len(items_rank) < recall_item_num:\n",
    "        for i, item in enumerate(item_topk_click):\n",
    "            if item in items_rank.items(): # 填充的item应该不在原来的列表中\n",
    "                continue\n",
    "            items_rank[item] = - i - 100 # 随便给个复数就行\n",
    "            if len(items_rank) == recall_item_num:\n",
    "                break\n",
    "        \n",
    "    items_rank = sorted(items_rank.items(), key=lambda x: x[1], reverse=True)[:recall_item_num]    \n",
    "    \n",
    "    return items_rank"
   ]
  },
  {
   "cell_type": "code",
   "execution_count": 133,
   "metadata": {},
   "outputs": [
    {
     "name": "stderr",
     "output_type": "stream",
     "text": [
      "100%|██████████| 250000/250000 [38:51<00:00, 107.22it/s]\n"
     ]
    },
    {
     "name": "stdout",
     "output_type": "stream",
     "text": [
      "YoutubeDNN基于用户Embedding的物品召回结果计算成功，并已写入到离线文件！\n"
     ]
    }
   ],
   "source": [
    "user_recall_items_dict = collections.defaultdict(dict)\n",
    "# user_item_time_dict = get_user_item_time(trn_hist_click_df)\n",
    "# u2u_sim = pickle.load(open(save_path + 'youtube_u2u_sim.pkl', 'rb'))\n",
    "\n",
    "sim_user_topk = 20\n",
    "recall_item_num = 10\n",
    "\n",
    "for user in tqdm(train_hist_clicks['user_id'].unique()):\n",
    "    user_recall_items_dict[user] = user_based_recommend(user, user_item_time_dict, u2u_sim, sim_user_topk, \\\n",
    "                                                        recall_item_num, topk_clicked_items, item_created_time, embedding_i2i_sim)\n",
    "\n",
    "multi_item_recall_dict['youtubednn_usercf_recall'] = user_recall_items_dict\n",
    "pickle.dump(user_recall_items_dict, open(save_path + 'youtubednn_usercf_recall.pkl', 'wb'))\n",
    "print('{:=^40}'.format('YoutubeDNN基于用户Embedding的物品召回结果计算成功，并已写入到离线文件！'))"
   ]
  },
  {
   "cell_type": "markdown",
   "metadata": {},
   "source": [
    "### 4.3.5 冷启动召回"
   ]
  },
  {
   "cell_type": "code",
   "execution_count": 200,
   "metadata": {},
   "outputs": [],
   "source": [
    "# 基于规则进行文章过滤\n",
    "# 保留文章主题与用户历史浏览主题相似的文章\n",
    "# 保留文章字数与用户历史浏览文章字数相差不大的文章\n",
    "# 保留最后一次点击当天的文章\n",
    "# 按照相似度返回最终的结果\n",
    "\n",
    "def get_click_article_ids_set(all_click_df):\n",
    "    return set(all_click_df.click_article_id.values)\n",
    "\n",
    "def cold_start_items(user_recall_items_dict, user_hist_item_typs_dict, user_hist_item_words_dict, \\\n",
    "                     user_last_item_created_time_dict, item_type_dict, item_words_dict, \n",
    "                     item_created_time_dict, click_article_ids_set, recall_item_num):\n",
    "    \"\"\"\n",
    "        冷启动的情况下召回一些文章\n",
    "        :param user_recall_items_dict: 基于内容embedding相似性召回来的很多文章， 字典， {user1: [(item1, item2), ..], }\n",
    "        :param user_hist_item_typs_dict: 字典， 用户点击的文章的主题映射\n",
    "        :param user_hist_item_words_dict: 字典， 用户点击的历史文章的字数映射\n",
    "        :param user_last_item_created_time_idct: 字典，用户点击的历史文章创建时间映射\n",
    "        :param item_tpye_idct: 字典，文章主题映射\n",
    "        :param item_words_dict: 字典，文章字数映射\n",
    "        :param item_created_time_dict: 字典， 文章创建时间映射\n",
    "        :param click_article_ids_set: 集合，用户点击过得文章, 也就是日志里面出现过的文章\n",
    "        :param recall_item_num: 召回文章的数量， 这个指的是没有出现在日志里面的文章数量\n",
    "    \"\"\"\n",
    "    \n",
    "    cold_start_user_items_dict = {}\n",
    "    for user, item_list in tqdm(user_recall_items_dict.items()):\n",
    "        cold_start_user_items_dict.setdefault(user, [])\n",
    "        for item, score in item_list:\n",
    "            # 获取历史文章信息\n",
    "            hist_item_type_set = user_hist_item_typs_dict[user]\n",
    "            hist_mean_words = user_hist_item_words_dict[user]\n",
    "            hist_last_item_created_time = user_last_item_created_time_dict[user]\n",
    "            hist_last_item_created_time = datetime.datetime.fromtimestamp(hist_last_item_created_time)\n",
    "            \n",
    "            # 获取当前召回文章的信息\n",
    "            curr_item_type = item_type_dict[item]\n",
    "            curr_item_words = item_words_dict[item]\n",
    "            curr_item_created_time = item_created_time_dict[item]\n",
    "            curr_item_created_time = datetime.datetime.fromtimestamp(curr_item_created_time)\n",
    "\n",
    "            # 首先，文章不能出现在用户的历史点击中，然后根据文章主题，文章单词数，文章创建时间进行筛选\n",
    "            if curr_item_type not in hist_item_type_set or \\\n",
    "                item in click_article_ids_set or \\\n",
    "                abs(curr_item_words - hist_mean_words) > 200 or \\\n",
    "                abs((curr_item_created_time - hist_last_item_created_time).days) > 90: \n",
    "                continue\n",
    "                \n",
    "            cold_start_user_items_dict[user].append((item, score))      # {user1: [(item1, score1), (item2, score2)..]...}\n",
    "    \n",
    "    # 需要控制一下冷启动召回的数量\n",
    "    cold_start_user_items_dict = {k: sorted(v, key=lambda x:x[1], reverse=True)[:recall_item_num] \\\n",
    "                                  for k, v in cold_start_user_items_dict.items()}\n",
    "    \n",
    "    pickle.dump(cold_start_user_items_dict, open(save_path + 'cold_start_user_items_dict.pkl', 'wb'))\n",
    "    print('{:=^40}'.format('冷启动召回结果计算成功，并已写入到离线文件！'))\n",
    "    \n",
    "    return cold_start_user_items_dict"
   ]
  },
  {
   "cell_type": "code",
   "execution_count": 197,
   "metadata": {},
   "outputs": [
    {
     "name": "stderr",
     "output_type": "stream",
     "text": [
      "364047it [02:07, 2855.27it/s]\n"
     ]
    },
    {
     "name": "stdout",
     "output_type": "stream",
     "text": [
      "==全用户的物品embedding相似度矩阵计算成功，并已写入到离线文件！===\n"
     ]
    }
   ],
   "source": [
    "# 重新算embedding相似item，每个item召回100个用于冷启动筛选\n",
    "embedding_sim_with_topk_100 = get_embedding_sim(all_clicks, item_embedding, topk=100)"
   ]
  },
  {
   "cell_type": "code",
   "execution_count": 211,
   "metadata": {},
   "outputs": [
    {
     "name": "stderr",
     "output_type": "stream",
     "text": [
      "100%|██████████| 250000/250000 [02:17<00:00, 1820.15it/s]\n"
     ]
    },
    {
     "name": "stdout",
     "output_type": "stream",
     "text": [
      "====基于embedding的物品召回计算成功，并已写入到离线文件！=====\n"
     ]
    }
   ],
   "source": [
    "embedding_recall_items_with_topk_100 = recall_itemembedding_items(embedding_sim_with_topk_100, sim_item_topk=150, recall_item_num=50)"
   ]
  },
  {
   "cell_type": "code",
   "execution_count": 215,
   "metadata": {},
   "outputs": [
    {
     "name": "stderr",
     "output_type": "stream",
     "text": [
      "100%|██████████| 250000/250000 [00:34<00:00, 7331.78it/s]\n"
     ]
    },
    {
     "name": "stdout",
     "output_type": "stream",
     "text": [
      "=========冷启动召回结果计算成功，并已写入到离线文件！=========\n"
     ]
    }
   ],
   "source": [
    "# 获取文章id对应的基本属性，保存成字典的形式，方便后面召回阶段，冷启动阶段直接使用\n",
    "def get_item_info_dict(item_info_df):\n",
    "    max_min_scaler = lambda x : (x-np.min(x))/(np.max(x)-np.min(x))\n",
    "    item_info_df['created_at_ts'] = item_info_df[['created_at_ts']].apply(max_min_scaler)\n",
    "    \n",
    "    item_type_dict = dict(zip(item_info_df['click_article_id'], item_info_df['category_id']))\n",
    "    item_words_dict = dict(zip(item_info_df['click_article_id'], item_info_df['words_count']))\n",
    "    item_created_time_dict = dict(zip(item_info_df['click_article_id'], item_info_df['created_at_ts']))\n",
    "    \n",
    "    return item_type_dict, item_words_dict, item_created_time_dict\n",
    "\n",
    "def get_user_hist_item_info_dict(all_click):\n",
    "    \n",
    "    # 获取user_id对应的用户历史点击文章类型的集合字典\n",
    "    user_hist_item_typs = all_click.groupby('user_id')['category_id'].agg(set).reset_index()\n",
    "    user_hist_item_typs_dict = dict(zip(user_hist_item_typs['user_id'], user_hist_item_typs['category_id']))\n",
    "    \n",
    "    # 获取user_id对应的用户点击文章的集合\n",
    "    user_hist_item_ids_dict = all_click.groupby('user_id')['click_article_id'].agg(set).reset_index()\n",
    "    user_hist_item_ids_dict = dict(zip(user_hist_item_ids_dict['user_id'], user_hist_item_ids_dict['click_article_id']))\n",
    "    \n",
    "    # 获取user_id对应的用户历史点击的文章的平均字数字典\n",
    "    user_hist_item_words = all_click.groupby('user_id')['words_count'].agg('mean').reset_index()\n",
    "    user_hist_item_words_dict = dict(zip(user_hist_item_words['user_id'], user_hist_item_words['words_count']))\n",
    "    \n",
    "    # 获取user_id对应的用户最后一次点击的文章的创建时间\n",
    "    all_click_ = all_click.sort_values('click_timestamp')\n",
    "    user_last_item_created_time = all_click_.groupby('user_id')['created_at_ts'].apply(lambda x: x.iloc[-1]).reset_index()\n",
    "    \n",
    "    max_min_scaler = lambda x : (x-np.min(x))/(np.max(x)-np.min(x))\n",
    "    user_last_item_created_time['created_at_ts'] = user_last_item_created_time[['created_at_ts']].apply(max_min_scaler)\n",
    "    \n",
    "    user_last_item_created_time_dict = dict(zip(user_last_item_created_time['user_id'], \\\n",
    "                                                user_last_item_created_time['created_at_ts']))\n",
    "    \n",
    "    return user_hist_item_typs_dict, user_hist_item_ids_dict, user_hist_item_words_dict, user_last_item_created_time_dict\n",
    "\n",
    "all_click_df_ = all_clicks.copy()\n",
    "all_click_df_ = all_click_df_.merge(item_info, how='left', on='click_article_id')\n",
    "user_hist_item_typs_dict, user_hist_item_ids_dict, user_hist_item_words_dict, user_last_item_created_time_dict = get_user_hist_item_info_dict(all_click_df_)\n",
    "click_article_ids_set = get_click_article_ids_set(all_clicks)\n",
    "item_type_dict, item_words_dict, item_created_time_dict = get_item_info_dict(item_info)\n",
    "recall_item_num = 10\n",
    "# 需要注意的是\n",
    "# 这里使用了很多规则来筛选冷启动的文章，所以前面再召回的阶段就应该尽可能的多召回一些文章，否则很容易被删掉\n",
    "cold_start_user_items_dict = cold_start_items(multi_item_recall_dict['embedding_sim_recall'], user_hist_item_typs_dict, user_hist_item_words_dict, \\\n",
    "                                              user_last_item_created_time_dict, item_type_dict, item_words_dict, \\\n",
    "                                              item_created_time_dict, click_article_ids_set, recall_item_num)\n",
    "multi_item_recall_dict['cold_start_recall'] = cold_start_user_items_dict"
   ]
  },
  {
   "cell_type": "markdown",
   "metadata": {},
   "source": [
    "----\n",
    "\n",
    "**存储整体的多路召回结果**\n",
    "\n",
    "----\n"
   ]
  },
  {
   "cell_type": "code",
   "execution_count": 274,
   "metadata": {},
   "outputs": [
    {
     "name": "stdout",
     "output_type": "stream",
     "text": [
      "==================写入整体的多路召回结果成功！==================\n"
     ]
    }
   ],
   "source": [
    "pickle.dump(multi_item_recall_dict, open(os.path.join(save_path, 'multi_item_recall_dict.pkl'), 'wb'))\n",
    "print('{:=^50}'.format('写入整体的多路召回结果成功！'))"
   ]
  },
  {
   "cell_type": "markdown",
   "metadata": {},
   "source": [
    "## 4.4 各路策略召回值简要"
   ]
  },
  {
   "cell_type": "code",
   "execution_count": 219,
   "metadata": {},
   "outputs": [
    {
     "name": "stdout",
     "output_type": "stream",
     "text": [
      "从各策略中选择前3个进行打印，显示其基本情况\n",
      "====================\n",
      "itemcf_sim_recall\n",
      "====================\n",
      "0 [(36162, 0.9321428246898564), (211442, 0.6566031475179), (234481, 0.6140062711486199), (50644, 0.5774454064903907), (156279, 0.5284865850396532), (180441, 0.4924090764016992), (161082, 0.4559428186573778), (111338, 0.3757446517017974), (79851, 0.36052144846510803), (324426, 0.3309903651165815)]\n",
      "1 [(63746, 0.7329003901103817), (49405, 0.6040900831191256), (323677, 0.5717093975929701), (48401, 0.47288786717755543), (288827, 0.448541411058983), (30408, 0.4143680080864082), (168841, 0.293799930515658), (156279, 0.22908362501988008), (113918, 0.21442036108632095), (106598, 0.2136776280374881)]\n",
      "2 [(50644, 1.6597736493110413), (30760, 1.1482325058710092), (211442, 1.1181559850059646), (294107, 1.1014972912954695), (156279, 0.8745142193783866), (234481, 0.8164867413928374), (277107, 0.6527500338180052), (209122, 0.6015549344913013), (36385, 0.5560455294568655), (158772, 0.5469002679503202)]\n",
      "====================\n",
      "cold_start_recall\n",
      "====================\n",
      "0 [(29258, 0.9102631211280823), (31072, 0.9071680307388306), (31966, 0.9071161150932312), (28747, 0.900336742401123), (32540, 0.896740198135376), (31135, 0.8918106555938721), (29252, 0.8903085589408875), (31673, 0.8896620869636536), (31941, 0.8894060254096985), (27917, 0.8892284035682678)]\n",
      "1 [(288713, 0.9140233397483826), (288585, 0.9073477983474731), (289128, 0.9025238752365112), (288996, 0.9001721739768982), (288990, 0.8996055126190186), (289053, 0.8942107558250427), (288943, 0.8933309316635132), (289055, 0.8927220702171326), (288727, 0.8916355967521667), (288395, 0.8913614153862)]\n",
      "2 [(36291, 0.8842296004295349), (36214, 0.8596842288970947), (36319, 0.853745698928833), (36481, 0.8502893447875977), (36249, 0.8502088189125061), (168517, 0.8467103838920593), (36823, 0.8436770439147949), (36352, 0.8394272923469543), (36672, 0.8338910937309265), (36045, 0.8330274820327759)]\n",
      "====================\n",
      "embedding_sim_recall\n",
      "====================\n",
      "0 [(30955, 0.9253343939781189), (22024, 0.920993447303772), (22992, 0.9127038717269897), (29258, 0.9102631211280823), (23500, 0.908725380897522), (31072, 0.9071680307388306), (31966, 0.9071161150932312), (23759, 0.9027909636497498), (28747, 0.900336742401123), (32451, 0.8992213010787964)]\n",
      "1 [(288713, 0.9140233397483826), (288942, 0.910058856010437), (288585, 0.9073477983474731), (288827, 0.9064235687255859), (344384, 0.9038063883781433), (289128, 0.9025238752365112), (344211, 0.9023807048797607), (343471, 0.9011226296424866), (288996, 0.9001721739768982), (288990, 0.8996055126190186)]\n",
      "2 [(36291, 0.8842296004295349), (36214, 0.8596842288970947), (159996, 0.8547753691673279), (36319, 0.853745698928833), (36481, 0.8502893447875977), (36249, 0.8502088189125061), (35729, 0.8471119403839111), (168517, 0.8467103838920593), (36823, 0.8436770439147949), (152955, 0.8419159054756165)]\n",
      "====================\n",
      "youtubednn_recall\n",
      "====================\n",
      "28900 [(10436, inf), (22504, inf), (11527, inf), (14468, inf), (15175, inf), (27518, inf), (23665, inf), (15515, inf), (5468, inf)]\n",
      "221291 [(14468, inf), (22504, inf), (10436, inf), (11527, inf), (15515, inf), (27518, inf), (23665, inf), (12036, inf), (5468, inf)]\n",
      "89598 [(14468, inf), (22504, inf), (10436, inf), (5468, inf), (15515, inf), (27518, inf), (23665, inf), (12036, inf), (11527, inf)]\n",
      "====================\n",
      "youtubednn_usercf_recall\n",
      "====================\n",
      "249990 [(133160, 61.460704085152756), (124228, 61.45039652323442), (235616, 40.986382838373196), (119193, 40.981259576793946), (141004, 40.978898502628425), (16129, 40.966957312144935), (198817, 40.96692897144791), (278788, 24.76970275523276), (171628, 21.305179843337797), (181788, 20.51916445994189)]\n",
      "249998 [(20691, 41.006841594128446), (123909, 40.96132411428395), (168623, 40.96043387620054), (161100, 38.26506873670016), (162655, 37.822877809182344), (71596, 21.20923588775091), (73287, 20.53646018803955), (50644, 20.516346606676798), (35988, 20.51546708194803), (73506, 20.51539149114421)]\n",
      "249985 [(336221, 136.8147845455929), (199198, 129.4874815751408), (156560, 127.20658106541269), (234698, 91.2105448938928), (158906, 91.17698489329918), (336476, 91.17020312321525), (199197, 86.12080139283478), (166322, 45.643581583149555), (202355, 45.63923620489322), (158541, 45.63917994082474)]\n",
      "====================\n"
     ]
    }
   ],
   "source": [
    "print('从各策略中选择前3个进行打印，显示其基本情况')\n",
    "print('='*20)\n",
    "for clss, recall in multi_item_recall_dict.items():\n",
    "    print(clss)\n",
    "    print('='*20)\n",
    "    for i, (item, score) in enumerate(recall.items()):\n",
    "        print(item, score)\n",
    "        if i == 2:\n",
    "            print('='*20)\n",
    "            break"
   ]
  },
  {
   "cell_type": "markdown",
   "metadata": {},
   "source": [
    "## 4.5 召回效果评估\n",
    "\n",
    "对于多路召回结果，需要进行设置权重、排序，需要首先构建评估函数。\n",
    "\n",
    "然后**对各召回结果进行评估**。"
   ]
  },
  {
   "cell_type": "code",
   "execution_count": 244,
   "metadata": {},
   "outputs": [],
   "source": [
    "def recall_metrics(recall_items_dict, last_clicked_items, method, topk=5):\n",
    "    '''\n",
    "    测试方法同线上测试，取topk（默认为5个）预测值，然后依次计算是否命中，第一个命中为1分，第二个命中\n",
    "    为1/2，第三个命中为1/3，以此类推。最终算所有样本的平均预测分。\n",
    "    '''\n",
    "    last_clicked_item_dict = dict(zip(\n",
    "        last_clicked_items['user_id'], last_clicked_items['click_article_id']))\n",
    "    user_num = len(last_clicked_items)\n",
    "    \n",
    "    hit_num = 0\n",
    "    for user, item in last_clicked_item_dict.items():\n",
    "        preds = [x for x, _ in recall_items_dict[user][:topk]]\n",
    "        for i, pred_item in enumerate(preds):\n",
    "            if pred_item == item:\n",
    "                hit_num += round(1/(i+1), 5)\n",
    "    hit_rate = round(hit_num / user_num, 5)\n",
    "    print('method: ', method, '\\ntopk: ', topk, '\\nuser_num : ', user_num , '\\nhit_num: ', hit_num, '\\nhit_rate: ', hit_rate)"
   ]
  },
  {
   "cell_type": "code",
   "execution_count": 245,
   "metadata": {},
   "outputs": [
    {
     "name": "stdout",
     "output_type": "stream",
     "text": [
      "method:  itemcf \n",
      "topk:  5 \n",
      "user_num :  250000 \n",
      "hit_num:  46073.6930100045 \n",
      "hit_rate:  0.18429\n"
     ]
    }
   ],
   "source": [
    "# 测试itemcf单独的效果\n",
    "recall_metrics(multi_item_recall_dict['itemcf_sim_recall'], train_last_click, method='itemcf', topk=5)"
   ]
  },
  {
   "cell_type": "code",
   "execution_count": 252,
   "metadata": {},
   "outputs": [
    {
     "name": "stdout",
     "output_type": "stream",
     "text": [
      "method:  youtubednn \n",
      "topk:  5 \n",
      "user_num :  250000 \n",
      "hit_num:  0 \n",
      "hit_rate:  0.0\n"
     ]
    }
   ],
   "source": [
    "# 测试youtubednn单独的效果\n",
    "recall_metrics(multi_item_recall_dict['youtubednn_recall'], train_last_click, method='youtubednn', topk=5)"
   ]
  },
  {
   "cell_type": "code",
   "execution_count": 248,
   "metadata": {},
   "outputs": [
    {
     "name": "stdout",
     "output_type": "stream",
     "text": [
      "method:  embedding \n",
      "topk:  5 \n",
      "user_num :  250000 \n",
      "hit_num:  1438.615490000004 \n",
      "hit_rate:  0.00575\n"
     ]
    }
   ],
   "source": [
    "# 测试基于embedding的单独效果\n",
    "recall_metrics(multi_item_recall_dict['embedding_sim_recall'], train_last_click, method='embedding', topk=5)"
   ]
  },
  {
   "cell_type": "code",
   "execution_count": 249,
   "metadata": {},
   "outputs": [
    {
     "name": "stdout",
     "output_type": "stream",
     "text": [
      "method:  youtubednn user embedding \n",
      "topk:  5 \n",
      "user_num :  250000 \n",
      "hit_num:  1415.8315400000101 \n",
      "hit_rate:  0.00566\n"
     ]
    }
   ],
   "source": [
    "# 测试基于youtubednn user embedding的单独效果\n",
    "recall_metrics(multi_item_recall_dict['youtubednn_usercf_recall'], train_last_click, method='youtubednn user embedding', topk=5)"
   ]
  },
  {
   "cell_type": "code",
   "execution_count": 250,
   "metadata": {},
   "outputs": [
    {
     "name": "stdout",
     "output_type": "stream",
     "text": [
      "method:  cold start \n",
      "topk:  5 \n",
      "user_num :  250000 \n",
      "hit_num:  0 \n",
      "hit_rate:  0.0\n"
     ]
    }
   ],
   "source": [
    "# 测试基于冷启动的单独效果\n",
    "recall_metrics(multi_item_recall_dict['cold_start_recall'], train_last_click, method='cold start', topk=5)"
   ]
  },
  {
   "cell_type": "markdown",
   "metadata": {},
   "source": [
    "## 4.5 合并多路召回"
   ]
  },
  {
   "cell_type": "code",
   "execution_count": 253,
   "metadata": {},
   "outputs": [],
   "source": [
    "def combine_recall_results(user_multi_recall_dict, weight_dict=None, topk=25):\n",
    "    final_recall_items_dict = {}\n",
    "    \n",
    "    # 对每一种召回结果按照用户进行归一化，方便后面多种召回结果，相同用户的物品之间权重相加\n",
    "    def norm_user_recall_items_sim(sorted_item_list):\n",
    "        # 如果冷启动中没有文章或者只有一篇文章，直接返回，出现这种情况的原因可能是冷启动召回的文章数量太少了，\n",
    "        # 基于规则筛选之后就没有文章了, 这里还可以做一些其他的策略性的筛选\n",
    "        if len(sorted_item_list) < 2:\n",
    "            return sorted_item_list\n",
    "        \n",
    "        min_sim = sorted_item_list[-1][1]\n",
    "        max_sim = sorted_item_list[0][1]\n",
    "        \n",
    "        norm_sorted_item_list = []\n",
    "        for item, score in sorted_item_list:\n",
    "            if max_sim > 0:\n",
    "                norm_score = 1.0 * (score - min_sim) / (max_sim - min_sim) if max_sim > min_sim else 1.0\n",
    "            else:\n",
    "                norm_score = 0.0\n",
    "            norm_sorted_item_list.append((item, norm_score))\n",
    "            \n",
    "        return norm_sorted_item_list\n",
    "    \n",
    "    print('多路召回合并...')\n",
    "    for method, user_recall_items in tqdm(user_multi_recall_dict.items()):\n",
    "        print(method + '...')\n",
    "        # 在计算最终召回结果的时候，也可以为每一种召回结果设置一个权重\n",
    "        if weight_dict == None:\n",
    "            recall_method_weight = 1\n",
    "        else:\n",
    "            recall_method_weight = weight_dict[method]\n",
    "        \n",
    "        for user_id, sorted_item_list in user_recall_items.items(): # 进行归一化\n",
    "            user_recall_items[user_id] = norm_user_recall_items_sim(sorted_item_list)\n",
    "        \n",
    "        for user_id, sorted_item_list in user_recall_items.items():\n",
    "            # print('user_id')\n",
    "            final_recall_items_dict.setdefault(user_id, {})\n",
    "            for item, score in sorted_item_list:\n",
    "                final_recall_items_dict[user_id].setdefault(item, 0)\n",
    "                final_recall_items_dict[user_id][item] += recall_method_weight * score  \n",
    "    \n",
    "    final_recall_items_dict_rank = {}\n",
    "    # 多路召回时也可以控制最终的召回数量\n",
    "    for user, recall_item_dict in final_recall_items_dict.items():\n",
    "        final_recall_items_dict_rank[user] = sorted(recall_item_dict.items(), key=lambda x: x[1], reverse=True)[:topk]\n",
    "\n",
    "    # 将多路召回后的最终结果字典保存到本地\n",
    "    pickle.dump(final_recall_items_dict_rank, open(os.path.join(save_path, 'final_recall_items_dict.pkl'),'wb'))\n",
    "\n",
    "    return final_recall_items_dict_rank"
   ]
  },
  {
   "cell_type": "code",
   "execution_count": 258,
   "metadata": {},
   "outputs": [],
   "source": [
    "# 这里直接对多路召回的权重给了一个相同的值，其实可以根据前面召回的情况来调整参数的值\n",
    "weight_dict = {'itemcf_sim_recall': 1.0,\n",
    "               'embedding_sim_recall': 1.0,\n",
    "               'youtubednn_recall': 1.0,\n",
    "               'youtubednn_usercf_recall': 1.0, \n",
    "               'cold_start_recall': 1.0}"
   ]
  },
  {
   "cell_type": "code",
   "execution_count": 257,
   "metadata": {},
   "outputs": [
    {
     "data": {
      "text/plain": [
       "dict_keys(['itemcf_sim_recall', 'cold_start_recall', 'embedding_sim_recall', 'youtubednn_recall', 'youtubednn_usercf_recall'])"
      ]
     },
     "execution_count": 257,
     "metadata": {},
     "output_type": "execute_result"
    }
   ],
   "source": [
    "multi_item_recall_dict.keys()"
   ]
  },
  {
   "cell_type": "code",
   "execution_count": 259,
   "metadata": {},
   "outputs": [
    {
     "name": "stderr",
     "output_type": "stream",
     "text": [
      "  0%|          | 0/5 [00:00<?, ?it/s]"
     ]
    },
    {
     "name": "stdout",
     "output_type": "stream",
     "text": [
      "多路召回合并...\n",
      "itemcf_sim_recall...\n"
     ]
    },
    {
     "name": "stderr",
     "output_type": "stream",
     "text": [
      " 20%|██        | 1/5 [00:06<00:24,  6.22s/it]"
     ]
    },
    {
     "name": "stdout",
     "output_type": "stream",
     "text": [
      "cold_start_recall...\n"
     ]
    },
    {
     "name": "stderr",
     "output_type": "stream",
     "text": [
      " 40%|████      | 2/5 [00:11<00:17,  5.95s/it]"
     ]
    },
    {
     "name": "stdout",
     "output_type": "stream",
     "text": [
      "embedding_sim_recall...\n"
     ]
    },
    {
     "name": "stderr",
     "output_type": "stream",
     "text": [
      " 60%|██████    | 3/5 [00:16<00:11,  5.76s/it]"
     ]
    },
    {
     "name": "stdout",
     "output_type": "stream",
     "text": [
      "youtubednn_recall...\n"
     ]
    },
    {
     "name": "stderr",
     "output_type": "stream",
     "text": [
      " 80%|████████  | 4/5 [00:20<00:05,  5.05s/it]"
     ]
    },
    {
     "name": "stdout",
     "output_type": "stream",
     "text": [
      "youtubednn_usercf_recall...\n"
     ]
    },
    {
     "name": "stderr",
     "output_type": "stream",
     "text": [
      "100%|██████████| 5/5 [00:25<00:00,  5.19s/it]\n"
     ]
    }
   ],
   "source": [
    "final_recall_items_dict_rank = combine_recall_results(multi_item_recall_dict, weight_dict, topk=50)"
   ]
  }
 ],
 "metadata": {
  "kernelspec": {
   "display_name": "Python 3",
   "language": "python",
   "name": "python3"
  },
  "language_info": {
   "codemirror_mode": {
    "name": "ipython",
    "version": 3
   },
   "file_extension": ".py",
   "mimetype": "text/x-python",
   "name": "python",
   "nbconvert_exporter": "python",
   "pygments_lexer": "ipython3",
   "version": "3.8.3"
  }
 },
 "nbformat": 4,
 "nbformat_minor": 4
}
